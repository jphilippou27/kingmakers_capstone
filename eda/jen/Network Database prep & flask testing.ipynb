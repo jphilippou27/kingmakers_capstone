{
 "cells": [
  {
   "cell_type": "markdown",
   "metadata": {},
   "source": [
    "# Make Network Viz"
   ]
  },
  {
   "cell_type": "markdown",
   "metadata": {},
   "source": [
    " Pull data from hdfs/hive"
   ]
  },
  {
   "cell_type": "code",
   "execution_count": 1,
   "metadata": {},
   "outputs": [],
   "source": [
    "import pyspark \n",
    "sc = pyspark.sql.SparkSession.Builder()\\\n",
    "        .master('yarn')\\\n",
    "        .appName('hive-test')\\\n",
    "        .enableHiveSupport()\\\n",
    "        .getOrCreate()"
   ]
  },
  {
   "cell_type": "code",
   "execution_count": 2,
   "metadata": {},
   "outputs": [
    {
     "data": {
      "text/html": [
       "\n",
       "            <div>\n",
       "                <p><b>SparkSession - hive</b></p>\n",
       "                \n",
       "        <div>\n",
       "            <p><b>SparkContext</b></p>\n",
       "\n",
       "            <p><a href=\"http://cap1:4041\">Spark UI</a></p>\n",
       "\n",
       "            <dl>\n",
       "              <dt>Version</dt>\n",
       "                <dd><code>v2.3.2</code></dd>\n",
       "              <dt>Master</dt>\n",
       "                <dd><code>yarn</code></dd>\n",
       "              <dt>AppName</dt>\n",
       "                <dd><code>hive-test</code></dd>\n",
       "            </dl>\n",
       "        </div>\n",
       "        \n",
       "            </div>\n",
       "        "
      ],
      "text/plain": [
       "<pyspark.sql.session.SparkSession at 0x7f54381a4ef0>"
      ]
     },
     "execution_count": 2,
     "metadata": {},
     "output_type": "execute_result"
    }
   ],
   "source": [
    "sc"
   ]
  },
  {
   "cell_type": "markdown",
   "metadata": {},
   "source": [
    "# Individuals"
   ]
  },
  {
   "cell_type": "code",
   "execution_count": 4,
   "metadata": {},
   "outputs": [
    {
     "name": "stdout",
     "output_type": "stream",
     "text": [
      "+-----+-------------------+------------+-------------+---------+--------------------+------+--------+----------+------+------+--------+-----+-----+---------+----+---------+---------+------+------------------+--------------------+--------------------+------+\n",
      "|Cycle|         FECTransID|   ContribID|      Contrib|  RecipID|             Orgname|UltOrg|RealCode|      Date|Amount|Street|    City|State|  Zip|RecipCode|Type|   CmteID|  OtherID|Gender|         Microfilm|          Occupation|            Employer|Source|\n",
      "+-----+-------------------+------------+-------------+---------+--------------------+------+--------+----------+------+------+--------+-----+-----+---------+----+---------+---------+------+------------------+--------------------+--------------------+------+\n",
      "| 2016|4081720161312405629|p0002929586 |CORMIER, KATE|N00000528|Community Resourc...|      |   Y4000|2016-05-03|    27|      |HATFIELD|   MA|01038|       DI| 15E|C00577130|C00401224|     F|201608159022288094|AUTISM SUPPORT BR...|COMMUNITY RESOURC...|      |\n",
      "+-----+-------------------+------------+-------------+---------+--------------------+------+--------+----------+------+------+--------+-----+-----+---------+----+---------+---------+------+------------------+--------------------+--------------------+------+\n",
      "only showing top 1 row\n",
      "\n"
     ]
    }
   ],
   "source": [
    "sc.sql('SELECT * FROM pq_crp_indivs16').show(1)"
   ]
  },
  {
   "cell_type": "code",
   "execution_count": 5,
   "metadata": {},
   "outputs": [
    {
     "name": "stdout",
     "output_type": "stream",
     "text": [
      "+------------+-------------+---------+--------------------+------+------------+\n",
      "|   ContribID|      Contrib|  RecipID|             Orgname|Gender|contribution|\n",
      "+------------+-------------+---------+--------------------+------+------------+\n",
      "|p0003261456 |NORTON, AARON|N00000528|Northwestern Univ...|     M|          18|\n",
      "+------------+-------------+---------+--------------------+------+------------+\n",
      "only showing top 1 row\n",
      "\n"
     ]
    }
   ],
   "source": [
    "sc.sql('SELECT ContribID,  Contrib, RecipID, Orgname, Gender, SUM(Amount) as contribution FROM pq_crp_indivs16 GROUP BY ContribID,  Contrib, RecipID, Orgname, Gender').show(1)"
   ]
  },
  {
   "cell_type": "code",
   "execution_count": 25,
   "metadata": {},
   "outputs": [
    {
     "name": "stdout",
     "output_type": "stream",
     "text": [
      "+--------------------+--------------------+------+------------------+-----+-------------------+---------+\n",
      "|             Contrib|             Orgname|Gender|        FirstLastP|party|ge_winner_ind_guess|contr_amt|\n",
      "+--------------------+--------------------+------+------------------+-----+-------------------+---------+\n",
      "|   O'LEARY, JAYLEIGH|           Childcare|     F|Bernie Sanders (D)|    D|               null|      289|\n",
      "|    SANDOVAL, MARCUS|    Decline To State|     M|Bernie Sanders (D)|    D|               null|      336|\n",
      "|        MORAN, KEVIN|              Ingram|     M|Bernie Sanders (D)|    D|               null|      428|\n",
      "|       JOHNSON, LUKE|     Central Casting|     M|Bernie Sanders (D)|    D|               null|      100|\n",
      "|      PAUL, CRISTINA|  Harvard University|     F|Bernie Sanders (D)|    D|               null|       99|\n",
      "|  PEARSON, MICHAEL M|Dartmouth College...|     M|Bernie Sanders (D)|    D|               null|      479|\n",
      "|PETTEY, PATRICK J...|Allignment Govern...|     M|  Bill Johnson (R)|    R|                  W|      500|\n",
      "|        DAY, SPENCER|     Bank of America|     M|Bernie Sanders (D)|    D|               null|      575|\n",
      "|      DEADY, KRISTIN|   Temple University|     F|Bernie Sanders (D)|    D|               null|      242|\n",
      "|     DEANE, JENNIFER|          Unemployed|     F|Bernie Sanders (D)|    D|               null|       35|\n",
      "+--------------------+--------------------+------+------------------+-----+-------------------+---------+\n",
      "only showing top 10 rows\n",
      "\n"
     ]
    }
   ],
   "source": [
    "Individual_network_I = sc.sql('SELECT t1.Contrib, t1.Orgname, t1.Gender,\\\n",
    "                              t2.FirstLastP, t2.party, t3.ge_winner_ind_guess, SUM(t1.Amount) as contr_amt \\\n",
    "            FROM pq_crp_indivs16 t1\\\n",
    "            LEFT JOIN pq_crp_cands16 t2 \\\n",
    "            ON t1.RecipID= t2.CID  \\\n",
    "            LEFT JOIN pq_fec_elect t3 \\\n",
    "            ON (t2.feccandid = t3.fec_id) AND (t2.cycle = t3.cycle) \\\n",
    "            WHERE  t2.feccandid IS NOT NULL and t3.ge_winner_ind_guess IS NOT NULL\\\n",
    "            GROUP BY t1.ContribID,  t1.Contrib, t1.Orgname, t1.Gender, t2.FirstLastP, t2.party, t3.ge_winner_ind_guess')\n",
    "Individual_network_I.show(10)"
   ]
  },
  {
   "cell_type": "code",
   "execution_count": 4,
   "metadata": {},
   "outputs": [
    {
     "data": {
      "text/plain": [
       "2802843"
      ]
     },
     "execution_count": 4,
     "metadata": {},
     "output_type": "execute_result"
    }
   ],
   "source": [
    "Individual_network.count()"
   ]
  },
  {
   "cell_type": "code",
   "execution_count": 20,
   "metadata": {},
   "outputs": [
    {
     "data": {
      "text/plain": [
       "1517301"
      ]
     },
     "execution_count": 20,
     "metadata": {},
     "output_type": "execute_result"
    }
   ],
   "source": [
    "Individual_network_I.count()"
   ]
  },
  {
   "cell_type": "code",
   "execution_count": 26,
   "metadata": {},
   "outputs": [
    {
     "data": {
      "text/html": [
       "<div>\n",
       "<style scoped>\n",
       "    .dataframe tbody tr th:only-of-type {\n",
       "        vertical-align: middle;\n",
       "    }\n",
       "\n",
       "    .dataframe tbody tr th {\n",
       "        vertical-align: top;\n",
       "    }\n",
       "\n",
       "    .dataframe thead th {\n",
       "        text-align: right;\n",
       "    }\n",
       "</style>\n",
       "<table border=\"1\" class=\"dataframe\">\n",
       "  <thead>\n",
       "    <tr style=\"text-align: right;\">\n",
       "      <th></th>\n",
       "      <th>Contrib</th>\n",
       "      <th>Orgname</th>\n",
       "      <th>Gender</th>\n",
       "      <th>FirstLastP</th>\n",
       "      <th>party</th>\n",
       "      <th>ge_winner_ind_guess</th>\n",
       "      <th>contr_amt</th>\n",
       "    </tr>\n",
       "  </thead>\n",
       "  <tbody>\n",
       "    <tr>\n",
       "      <th>0</th>\n",
       "      <td>O'LEARY, JAYLEIGH</td>\n",
       "      <td>Childcare</td>\n",
       "      <td>F</td>\n",
       "      <td>Bernie Sanders (D)</td>\n",
       "      <td>D</td>\n",
       "      <td>null</td>\n",
       "      <td>289</td>\n",
       "    </tr>\n",
       "    <tr>\n",
       "      <th>1</th>\n",
       "      <td>SANDOVAL, MARCUS</td>\n",
       "      <td>Decline To State</td>\n",
       "      <td>M</td>\n",
       "      <td>Bernie Sanders (D)</td>\n",
       "      <td>D</td>\n",
       "      <td>null</td>\n",
       "      <td>336</td>\n",
       "    </tr>\n",
       "    <tr>\n",
       "      <th>2</th>\n",
       "      <td>MORAN, KEVIN</td>\n",
       "      <td>Ingram</td>\n",
       "      <td>M</td>\n",
       "      <td>Bernie Sanders (D)</td>\n",
       "      <td>D</td>\n",
       "      <td>null</td>\n",
       "      <td>428</td>\n",
       "    </tr>\n",
       "    <tr>\n",
       "      <th>3</th>\n",
       "      <td>JOHNSON, LUKE</td>\n",
       "      <td>Central Casting</td>\n",
       "      <td>M</td>\n",
       "      <td>Bernie Sanders (D)</td>\n",
       "      <td>D</td>\n",
       "      <td>null</td>\n",
       "      <td>100</td>\n",
       "    </tr>\n",
       "    <tr>\n",
       "      <th>4</th>\n",
       "      <td>PAUL, CRISTINA</td>\n",
       "      <td>Harvard University</td>\n",
       "      <td>F</td>\n",
       "      <td>Bernie Sanders (D)</td>\n",
       "      <td>D</td>\n",
       "      <td>null</td>\n",
       "      <td>99</td>\n",
       "    </tr>\n",
       "  </tbody>\n",
       "</table>\n",
       "</div>"
      ],
      "text/plain": [
       "             Contrib             Orgname Gender          FirstLastP party  \\\n",
       "0  O'LEARY, JAYLEIGH           Childcare      F  Bernie Sanders (D)     D   \n",
       "1   SANDOVAL, MARCUS    Decline To State      M  Bernie Sanders (D)     D   \n",
       "2       MORAN, KEVIN              Ingram      M  Bernie Sanders (D)     D   \n",
       "3      JOHNSON, LUKE     Central Casting      M  Bernie Sanders (D)     D   \n",
       "4     PAUL, CRISTINA  Harvard University      F  Bernie Sanders (D)     D   \n",
       "\n",
       "  ge_winner_ind_guess  contr_amt  \n",
       "0                null        289  \n",
       "1                null        336  \n",
       "2                null        428  \n",
       "3                null        100  \n",
       "4                null         99  "
      ]
     },
     "execution_count": 26,
     "metadata": {},
     "output_type": "execute_result"
    }
   ],
   "source": [
    "df_individual_network = Individual_network_I.toPandas()\n",
    "df_individual_network.head()"
   ]
  },
  {
   "cell_type": "code",
   "execution_count": 27,
   "metadata": {},
   "outputs": [
    {
     "data": {
      "text/plain": [
       "(1517301, 7)"
      ]
     },
     "execution_count": 27,
     "metadata": {},
     "output_type": "execute_result"
    }
   ],
   "source": [
    "df_individual_network.shape"
   ]
  },
  {
   "cell_type": "markdown",
   "metadata": {},
   "source": [
    "# Committees "
   ]
  },
  {
   "cell_type": "code",
   "execution_count": 9,
   "metadata": {},
   "outputs": [
    {
     "name": "stdout",
     "output_type": "stream",
     "text": [
      "+-----+-------------------+---------+---------+------+----------+--------+----+---+---------+\n",
      "|Cycle|           FECRecNo|    PACID|      CID|Amount|      Date|RealCode|Type| DI|FECCandID|\n",
      "+-----+-------------------+---------+---------+------+----------+--------+----+---+---------+\n",
      "| 2016|4102520161345215195|C00605212|N00033982|1700.0|2016-09-21|   J2200| 24K|  D|H2AZ08102|\n",
      "+-----+-------------------+---------+---------+------+----------+--------+----+---+---------+\n",
      "only showing top 1 row\n",
      "\n"
     ]
    }
   ],
   "source": [
    "sc.sql('SELECT * FROM pq_crp_pacs16').show(1)"
   ]
  },
  {
   "cell_type": "code",
   "execution_count": 18,
   "metadata": {},
   "outputs": [
    {
     "name": "stdout",
     "output_type": "stream",
     "text": [
      "+-----+---------+--------------+---------+--------------+---------+---------+---------+-----+--------+------+---------+-------+------+\n",
      "|Cycle|   CmteID|      PACShort|Affiliate|        Ultorg|  RecipID|RecipCode|FECCandID|Party|PrimCode|Source|Sensitive|Foreign|Active|\n",
      "+-----+---------+--------------+---------+--------------+---------+---------+---------+-----+--------+------+---------+-------+------+\n",
      "| 2016|C00000059|Hallmark Cards|         |Hallmark Cards|C00000059|       PB|         |     |   C1400| WebAM|        N|  false|     1|\n",
      "+-----+---------+--------------+---------+--------------+---------+---------+---------+-----+--------+------+---------+-------+------+\n",
      "only showing top 1 row\n",
      "\n"
     ]
    }
   ],
   "source": [
    "sc.sql('SELECT * FROM pq_crp_cmtes16').show(1)"
   ]
  },
  {
   "cell_type": "code",
   "execution_count": 134,
   "metadata": {},
   "outputs": [
    {
     "name": "stdout",
     "output_type": "stream",
     "text": [
      "+--------------------+--------------------+-----+-------------------+----+------------+\n",
      "|            pacshort|          FirstLastP|party|ge_winner_ind_guess|Type|contribution|\n",
      "+--------------------+--------------------+-----+-------------------+----+------------+\n",
      "|Minn-Dak Farmers ...|   Steven A King (R)|    R|               null| 24K|      1000.0|\n",
      "|Painters & Allied...|Richard Blumentha...|    D|                  W| 24K|      7500.0|\n",
      "|  Polaris Industries|     Kristi Noem (R)|    R|                  W| 24K|     14000.0|\n",
      "+--------------------+--------------------+-----+-------------------+----+------------+\n",
      "only showing top 3 rows\n",
      "\n"
     ]
    }
   ],
   "source": [
    "network_committee = sc.sql('SELECT t3.pacshort, t2.FirstLastP, t2.party, t4.ge_winner_ind_guess, t1.Type, SUM(t1.Amount) as contribution \\\n",
    "            FROM pq_crp_pacs16 t1 \\\n",
    "            LEFT JOIN pq_crp_cands16 t2 \\\n",
    "            ON t1.feccandid = t2.feccandid  \\\n",
    "            LEFT JOIN pq_crp_cmtes16 t3 \\\n",
    "            ON t1.PACID = t3.CmteID \\\n",
    "            LEFT JOIN pq_fec_elect t4 \\\n",
    "            ON t1.feccandid = t4.fec_id \\\n",
    "            WHERE t2.feccandid IS NOT NULL and t4.ge_winner_ind_guess IS NOT NULL \\\n",
    "            GROUP BY t1.PACID, t1.FECCandID, t3.pacshort, t2.FirstLastP, t2.party, t4.ge_winner_ind_guess, t1.Type')\n",
    "network_committee.show(3)"
   ]
  },
  {
   "cell_type": "code",
   "execution_count": 135,
   "metadata": {},
   "outputs": [
    {
     "data": {
      "text/html": [
       "<div>\n",
       "<style scoped>\n",
       "    .dataframe tbody tr th:only-of-type {\n",
       "        vertical-align: middle;\n",
       "    }\n",
       "\n",
       "    .dataframe tbody tr th {\n",
       "        vertical-align: top;\n",
       "    }\n",
       "\n",
       "    .dataframe thead th {\n",
       "        text-align: right;\n",
       "    }\n",
       "</style>\n",
       "<table border=\"1\" class=\"dataframe\">\n",
       "  <thead>\n",
       "    <tr style=\"text-align: right;\">\n",
       "      <th></th>\n",
       "      <th>pacshort</th>\n",
       "      <th>FirstLastP</th>\n",
       "      <th>party</th>\n",
       "      <th>ge_winner_ind_guess</th>\n",
       "      <th>Type</th>\n",
       "      <th>contribution</th>\n",
       "    </tr>\n",
       "  </thead>\n",
       "  <tbody>\n",
       "    <tr>\n",
       "      <th>0</th>\n",
       "      <td>Minn-Dak Farmers Co-Op</td>\n",
       "      <td>Steven A King (R)</td>\n",
       "      <td>R</td>\n",
       "      <td>null</td>\n",
       "      <td>24K</td>\n",
       "      <td>1000.0</td>\n",
       "    </tr>\n",
       "    <tr>\n",
       "      <th>1</th>\n",
       "      <td>Painters &amp; Allied Trades Union</td>\n",
       "      <td>Richard Blumenthal (D)</td>\n",
       "      <td>D</td>\n",
       "      <td>W</td>\n",
       "      <td>24K</td>\n",
       "      <td>7500.0</td>\n",
       "    </tr>\n",
       "    <tr>\n",
       "      <th>2</th>\n",
       "      <td>Polaris Industries</td>\n",
       "      <td>Kristi Noem (R)</td>\n",
       "      <td>R</td>\n",
       "      <td>W</td>\n",
       "      <td>24K</td>\n",
       "      <td>14000.0</td>\n",
       "    </tr>\n",
       "    <tr>\n",
       "      <th>3</th>\n",
       "      <td>American Physical Therapy Assn</td>\n",
       "      <td>Jim Langevin (D)</td>\n",
       "      <td>D</td>\n",
       "      <td>W</td>\n",
       "      <td>24K</td>\n",
       "      <td>21000.0</td>\n",
       "    </tr>\n",
       "    <tr>\n",
       "      <th>4</th>\n",
       "      <td>General Motors</td>\n",
       "      <td>Bradley Byrne (R)</td>\n",
       "      <td>R</td>\n",
       "      <td>null</td>\n",
       "      <td>24K</td>\n",
       "      <td>2500.0</td>\n",
       "    </tr>\n",
       "  </tbody>\n",
       "</table>\n",
       "</div>"
      ],
      "text/plain": [
       "                         pacshort              FirstLastP party  \\\n",
       "0          Minn-Dak Farmers Co-Op       Steven A King (R)     R   \n",
       "1  Painters & Allied Trades Union  Richard Blumenthal (D)     D   \n",
       "2              Polaris Industries         Kristi Noem (R)     R   \n",
       "3  American Physical Therapy Assn        Jim Langevin (D)     D   \n",
       "4                  General Motors       Bradley Byrne (R)     R   \n",
       "\n",
       "  ge_winner_ind_guess Type  contribution  \n",
       "0                null  24K        1000.0  \n",
       "1                   W  24K        7500.0  \n",
       "2                   W  24K       14000.0  \n",
       "3                   W  24K       21000.0  \n",
       "4                null  24K        2500.0  "
      ]
     },
     "execution_count": 135,
     "metadata": {},
     "output_type": "execute_result"
    }
   ],
   "source": [
    "df_committee_network = network_committee.toPandas()\n",
    "df_committee_network.head()"
   ]
  },
  {
   "cell_type": "markdown",
   "metadata": {},
   "source": [
    "# Industry"
   ]
  },
  {
   "cell_type": "markdown",
   "metadata": {},
   "source": [
    "Industry is the most comprehensive view because it merges the contributions from individuals and committees"
   ]
  },
  {
   "cell_type": "code",
   "execution_count": 86,
   "metadata": {
    "scrolled": true
   },
   "outputs": [
    {
     "name": "stdout",
     "output_type": "stream",
     "text": [
      "+-------------------+-----+--------------------+-------------------+---------+\n",
      "|         firstlastp|party|            Industry|ge_winner_ind_guess|contr_amt|\n",
      "+-------------------+-----+--------------------+-------------------+---------+\n",
      "|Gregory W Meeks (D)|    D|     Stock exchanges|                  W|  35000.0|\n",
      "|  Eric Swalwell (D)|    D|            Dentists|                  W|  17500.0|\n",
      "|  Jackie Speier (D)|    D|Other non-physici...|                  W|   4500.0|\n",
      "|   Peter Roskam (R)|    R|Farm organization...|                  W|   4477.0|\n",
      "|  Garret Graves (R)|    R|            Pro-Guns|                  W|      0.0|\n",
      "+-------------------+-----+--------------------+-------------------+---------+\n",
      "only showing top 5 rows\n",
      "\n"
     ]
    }
   ],
   "source": [
    "#just committees\n",
    "industry_viz = sc.sql('SELECT firstlastp, t2.party, Catname AS Industry, ge_winner_ind_guess, sum(amount) AS contr_amt\\\n",
    "       FROM pq_crp_cands16 t2 \\\n",
    "       LEFT JOIN pq_crp_pacs16 t1 \\\n",
    "       ON t1.feccandid= t2.feccandid \\\n",
    "       INNER JOIN pq_crp_industry_names t3 \\\n",
    "       ON t1.realcode = t3.Catcode \\\n",
    "       LEFT JOIN pq_us_legislators t4 \\\n",
    "       ON t1.cid = t4.opensecrets_id \\\n",
    "       LEFT JOIN pq_fec_elect t5 \\\n",
    "       ON (t1.feccandid = t5.fec_id) AND (t2.cycle = t5.cycle) \\\n",
    "       WHERE di == \"D\" AND \\\n",
    "       realcode NOT LIKE \"z9*%\"  AND \\\n",
    "       realcode NOT LIKE \"z4*%\" AND t2.cycle = 2016 AND  ge_winner_ind_guess IS NOT NULL\\\n",
    "       GROUP BY firstlastp, t2.party, catname,ge_winner_ind_guess  ')\n",
    "industry_viz.show(5)"
   ]
  },
  {
   "cell_type": "code",
   "execution_count": 113,
   "metadata": {},
   "outputs": [
    {
     "name": "stdout",
     "output_type": "stream",
     "text": [
      "+-----------------+-----+-------------------+---------+---------------+---------+\n",
      "|       firstlastp|party|ge_winner_ind_guess|RecipCode|       Industry|contr_amt|\n",
      "+-----------------+-----+-------------------+---------+---------------+---------+\n",
      "|Robert Derlet (D)|    D|               null|       DL|     Physicians|      650|\n",
      "|    Ro Khanna (D)|    D|                  W|       DW|Venture capital|   382600|\n",
      "+-----------------+-----+-------------------+---------+---------------+---------+\n",
      "only showing top 2 rows\n",
      "\n"
     ]
    }
   ],
   "source": [
    "#Just individuals\n",
    "industry_viz = sc.sql('SELECT t2.firstlastp, t2.party, t5.ge_winner_ind_guess, t4.RecipCode, t3.Catname AS Industry, sum(t4.amount) AS contr_amt \\\n",
    "       FROM pq_crp_cands16 t2 \\\n",
    "       LEFT JOIN pq_crp_indivs16 t4 \\\n",
    "       ON t2.CID = t4.RecipID \\\n",
    "       LEFT JOIN pq_crp_industry_names t3 \\\n",
    "       ON (t4.realcode = t3.catcode)\\\n",
    "       LEFT JOIN pq_fec_elect t5 \\\n",
    "       ON (t2.feccandid = t5.fec_id) AND (t4.cycle = t5.cycle)  \\\n",
    "       WHERE t4.realcode NOT LIKE \"z9*%\" and t4.realcode NOT LIKE \"z4*%\"\\\n",
    "        AND t2.cycle = 2016 AND  ge_winner_ind_guess IS NOT NULL \\\n",
    "       GROUP BY firstlastp, t2.party, t3.catname,t4.recipcode, ge_winner_ind_guess').show(2)"
   ]
  },
  {
   "cell_type": "code",
   "execution_count": 112,
   "metadata": {},
   "outputs": [
    {
     "name": "stdout",
     "output_type": "stream",
     "text": [
      "+---------+\n",
      "|RecipCode|\n",
      "+---------+\n",
      "|       RO|\n",
      "|       DC|\n",
      "|       3N|\n",
      "|     null|\n",
      "|       RI|\n",
      "|       DN|\n",
      "|       DL|\n",
      "|       RC|\n",
      "|       3L|\n",
      "|       DI|\n",
      "|       3I|\n",
      "|       RW|\n",
      "|       RL|\n",
      "|       UN|\n",
      "|       DO|\n",
      "|       3W|\n",
      "|       RN|\n",
      "|       RK|\n",
      "|       DW|\n",
      "+---------+\n",
      "\n"
     ]
    }
   ],
   "source": [
    "industry_viz = sc.sql('SELECT t4.RecipCode \\\n",
    "       FROM pq_crp_cands16 t2 \\\n",
    "       LEFT JOIN pq_crp_indivs16 t4 \\\n",
    "       ON t2.CID = t4.RecipID \\\n",
    "       LEFT JOIN pq_crp_industry_names t3 \\\n",
    "       ON (t4.realcode = t3.catcode)\\\n",
    "       LEFT JOIN pq_fec_elect t5 \\\n",
    "       ON (t2.feccandid = t5.fec_id) AND (t4.cycle = t5.cycle)  \\\n",
    "       GROUP BY t4.recipcode ').show()"
   ]
  },
  {
   "cell_type": "code",
   "execution_count": 130,
   "metadata": {
    "scrolled": true
   },
   "outputs": [
    {
     "name": "stdout",
     "output_type": "stream",
     "text": [
      "+--------------------+-----+-------------------+--------------------+---------+\n",
      "|          firstlastp|party|ge_winner_ind_guess|            Industry|contr_amt|\n",
      "+--------------------+-----+-------------------+--------------------+---------+\n",
      "|Catherine Cortez ...|    D|                  W|Transfer from int...|5737117.0|\n",
      "| Carlos Pesquera (3)|    3|               null|             Retired|  18560.0|\n",
      "|   Denise Juneau (D)|    D|               null|             Resorts|    229.0|\n",
      "|    Will Jawando (D)|    D|               null|Corporate lawyers...|   -200.0|\n",
      "|        Judy Chu (D)|    D|                  W|  Democratic/Liberal|   4300.0|\n",
      "+--------------------+-----+-------------------+--------------------+---------+\n",
      "only showing top 5 rows\n",
      "\n"
     ]
    }
   ],
   "source": [
    "industry_viz = sc.sql('select * from (\\\n",
    "       SELECT t2.firstlastp, t2.party, t5.ge_winner_ind_guess,  t3.Catname AS Industry, sum(t4.amount) AS contr_amt \\\n",
    "           FROM pq_crp_cands16 t2 \\\n",
    "           LEFT JOIN pq_crp_indivs16 t4 \\\n",
    "           ON t2.CID = t4.RecipID \\\n",
    "           LEFT JOIN pq_crp_industry_names t3 \\\n",
    "           ON (t4.realcode = t3.catcode)\\\n",
    "           LEFT JOIN pq_fec_elect t5 \\\n",
    "           ON (t2.feccandid = t5.fec_id) AND (t4.cycle = t5.cycle)  \\\n",
    "           WHERE t4.realcode NOT LIKE \"z9*%\" and t4.realcode NOT LIKE \"z4*%\"\\\n",
    "           AND t2.cycle = 2016 AND  ge_winner_ind_guess IS NOT NULL \\\n",
    "           GROUP BY firstlastp, t2.party, t3.catname, ge_winner_ind_guess \\\n",
    "       UNION ALL\\\n",
    "       SELECT t2.firstlastp, t2.party,t5.ge_winner_ind_guess, Catname AS Industry, sum(amount) AS contr_amt\\\n",
    "           FROM pq_crp_cands16 t2 \\\n",
    "           LEFT JOIN pq_crp_pacs16 t1 \\\n",
    "           ON t1.feccandid= t2.feccandid \\\n",
    "           INNER JOIN pq_crp_industry_names t3 \\\n",
    "           ON t1.realcode = t3.Catcode \\\n",
    "           LEFT JOIN pq_us_legislators t4 \\\n",
    "           ON t1.cid = t4.opensecrets_id \\\n",
    "           LEFT JOIN pq_fec_elect t5 \\\n",
    "           ON (t1.feccandid = t5.fec_id) AND (t2.cycle = t5.cycle) \\\n",
    "           WHERE di == \"D\" AND \\\n",
    "           t1.realcode NOT LIKE \"z9*%\"  AND\\\n",
    "           t1.realcode NOT LIKE \"z4*%\" AND t2.cycle = 2016 AND  t5.ge_winner_ind_guess IS NOT NULL \\\n",
    "           GROUP BY t2.firstlastp, t2.party, catname, t5.ge_winner_ind_guess) ')\n",
    "industry_viz.show(5)"
   ]
  },
  {
   "cell_type": "code",
   "execution_count": 131,
   "metadata": {},
   "outputs": [],
   "source": [
    "df_industry_viz = industry_viz.toPandas()"
   ]
  },
  {
   "cell_type": "code",
   "execution_count": 132,
   "metadata": {},
   "outputs": [
    {
     "data": {
      "text/html": [
       "<div>\n",
       "<style scoped>\n",
       "    .dataframe tbody tr th:only-of-type {\n",
       "        vertical-align: middle;\n",
       "    }\n",
       "\n",
       "    .dataframe tbody tr th {\n",
       "        vertical-align: top;\n",
       "    }\n",
       "\n",
       "    .dataframe thead th {\n",
       "        text-align: right;\n",
       "    }\n",
       "</style>\n",
       "<table border=\"1\" class=\"dataframe\">\n",
       "  <thead>\n",
       "    <tr style=\"text-align: right;\">\n",
       "      <th></th>\n",
       "      <th>firstlastp</th>\n",
       "      <th>party</th>\n",
       "      <th>ge_winner_ind_guess</th>\n",
       "      <th>Industry</th>\n",
       "      <th>contr_amt</th>\n",
       "    </tr>\n",
       "  </thead>\n",
       "  <tbody>\n",
       "    <tr>\n",
       "      <th>128245</th>\n",
       "      <td>Bill Flores (R)</td>\n",
       "      <td>R</td>\n",
       "      <td>W</td>\n",
       "      <td>Building operators and managers</td>\n",
       "      <td>5000.0</td>\n",
       "    </tr>\n",
       "    <tr>\n",
       "      <th>128246</th>\n",
       "      <td>Mike Crane (R)</td>\n",
       "      <td>R</td>\n",
       "      <td>null</td>\n",
       "      <td>Republican/Conservative</td>\n",
       "      <td>5000.0</td>\n",
       "    </tr>\n",
       "    <tr>\n",
       "      <th>128247</th>\n",
       "      <td>Tom O'Halleran (D)</td>\n",
       "      <td>D</td>\n",
       "      <td>W</td>\n",
       "      <td>Other unions</td>\n",
       "      <td>2500.0</td>\n",
       "    </tr>\n",
       "    <tr>\n",
       "      <th>128248</th>\n",
       "      <td>John Carter (R)</td>\n",
       "      <td>R</td>\n",
       "      <td>W</td>\n",
       "      <td>Food wholesalers</td>\n",
       "      <td>1000.0</td>\n",
       "    </tr>\n",
       "    <tr>\n",
       "      <th>128249</th>\n",
       "      <td>Carol Shea-Porter (D)</td>\n",
       "      <td>D</td>\n",
       "      <td>W</td>\n",
       "      <td>Defense policy, doves</td>\n",
       "      <td>10000.0</td>\n",
       "    </tr>\n",
       "  </tbody>\n",
       "</table>\n",
       "</div>"
      ],
      "text/plain": [
       "                   firstlastp party ge_winner_ind_guess  \\\n",
       "128245        Bill Flores (R)     R                   W   \n",
       "128246         Mike Crane (R)     R                null   \n",
       "128247     Tom O'Halleran (D)     D                   W   \n",
       "128248        John Carter (R)     R                   W   \n",
       "128249  Carol Shea-Porter (D)     D                   W   \n",
       "\n",
       "                               Industry  contr_amt  \n",
       "128245  Building operators and managers     5000.0  \n",
       "128246          Republican/Conservative     5000.0  \n",
       "128247                     Other unions     2500.0  \n",
       "128248                 Food wholesalers     1000.0  \n",
       "128249            Defense policy, doves    10000.0  "
      ]
     },
     "execution_count": 132,
     "metadata": {},
     "output_type": "execute_result"
    }
   ],
   "source": [
    "df_industry_viz.tail()"
   ]
  },
  {
   "cell_type": "markdown",
   "metadata": {},
   "source": [
    "# Postgresql"
   ]
  },
  {
   "cell_type": "markdown",
   "metadata": {},
   "source": [
    "Make connection to Postgresql to hold data --Thanks Matt for the tutorial here :)"
   ]
  },
  {
   "cell_type": "code",
   "execution_count": 7,
   "metadata": {},
   "outputs": [
    {
     "name": "stderr",
     "output_type": "stream",
     "text": [
      "/opt/anaconda3/lib/python3.7/site-packages/psycopg2/__init__.py:144: UserWarning: The psycopg2 wheel package will be renamed from release 2.8; in order to keep installing from binary please use \"pip install psycopg2-binary\" instead. For details see: <http://initd.org/psycopg/docs/install.html#binary-install-from-pypi>.\n",
      "  \"\"\")\n"
     ]
    }
   ],
   "source": [
    "import sqlite3\n",
    "import psycopg2\n",
    "from psycopg2.extras import execute_values\n",
    "import pandas as pd\n",
    "import base64\n",
    "import os\n",
    "import re\n",
    "import sys\n",
    "from IPython.display import display, HTML\n",
    "import time\n",
    "import tqdm\n",
    "\n",
    "USE_POSTGRES=True\n",
    "\n",
    "if not USE_POSTGRES:\n",
    "    import sqlite3\n",
    "if USE_POSTGRES:\n",
    "    import psycopg2\n",
    "    import psycopg2.extras\n",
    "from flask import Flask\n",
    "from flask import g\n",
    "\n",
    "app = Flask(__name__)\n",
    "DATABASE = \"/home/daniel/kingmakers_capstone/data/os.db\"\n",
    "CONNECTION_STR = \"/var/www/production/connection_str\"\n",
    "ROOT_CERT = \"/var/www/production/root.crt\"\n",
    "\n",
    "\n",
    "if USE_POSTGRES:\n",
    "    def get_db():\n",
    "        with open(CONNECTION_STR, 'r') as f:\n",
    "            conx = f.read().strip()\n",
    "        print(\"connecting to postgres...\")\n",
    "        db =  psycopg2.connect(conx,\n",
    "                                            sslrootcert=ROOT_CERT,\n",
    "                                            cursor_factory=psycopg2.extras.RealDictCursor)\n",
    "        return db    "
   ]
  },
  {
   "cell_type": "code",
   "execution_count": 8,
   "metadata": {},
   "outputs": [
    {
     "name": "stdout",
     "output_type": "stream",
     "text": [
      "connecting to postgres...\n"
     ]
    },
    {
     "ename": "OperationalError",
     "evalue": "server closed the connection unexpectedly\n\tThis probably means the server terminated abnormally\n\tbefore or while processing the request.\n",
     "output_type": "error",
     "traceback": [
      "\u001b[0;31m---------------------------------------------------------------------------\u001b[0m",
      "\u001b[0;31mOperationalError\u001b[0m                          Traceback (most recent call last)",
      "\u001b[0;32m<ipython-input-8-84f225b57f24>\u001b[0m in \u001b[0;36m<module>\u001b[0;34m()\u001b[0m\n\u001b[0;32m----> 1\u001b[0;31m \u001b[0mpg_conn_str\u001b[0m \u001b[0;34m=\u001b[0m \u001b[0mget_db\u001b[0m\u001b[0;34m(\u001b[0m\u001b[0;34m)\u001b[0m\u001b[0;34m\u001b[0m\u001b[0m\n\u001b[0m",
      "\u001b[0;32m<ipython-input-7-f3a54642b25d>\u001b[0m in \u001b[0;36mget_db\u001b[0;34m()\u001b[0m\n\u001b[1;32m     34\u001b[0m         db =  psycopg2.connect(conx,\n\u001b[1;32m     35\u001b[0m                                             \u001b[0msslrootcert\u001b[0m\u001b[0;34m=\u001b[0m\u001b[0mROOT_CERT\u001b[0m\u001b[0;34m,\u001b[0m\u001b[0;34m\u001b[0m\u001b[0m\n\u001b[0;32m---> 36\u001b[0;31m                                             cursor_factory=psycopg2.extras.RealDictCursor)\n\u001b[0m\u001b[1;32m     37\u001b[0m         \u001b[0;32mreturn\u001b[0m \u001b[0mdb\u001b[0m\u001b[0;34m\u001b[0m\u001b[0m\n",
      "\u001b[0;32m/opt/anaconda3/lib/python3.7/site-packages/psycopg2/__init__.py\u001b[0m in \u001b[0;36mconnect\u001b[0;34m(dsn, connection_factory, cursor_factory, **kwargs)\u001b[0m\n\u001b[1;32m    128\u001b[0m \u001b[0;34m\u001b[0m\u001b[0m\n\u001b[1;32m    129\u001b[0m     \u001b[0mdsn\u001b[0m \u001b[0;34m=\u001b[0m \u001b[0m_ext\u001b[0m\u001b[0;34m.\u001b[0m\u001b[0mmake_dsn\u001b[0m\u001b[0;34m(\u001b[0m\u001b[0mdsn\u001b[0m\u001b[0;34m,\u001b[0m \u001b[0;34m**\u001b[0m\u001b[0mkwargs\u001b[0m\u001b[0;34m)\u001b[0m\u001b[0;34m\u001b[0m\u001b[0m\n\u001b[0;32m--> 130\u001b[0;31m     \u001b[0mconn\u001b[0m \u001b[0;34m=\u001b[0m \u001b[0m_connect\u001b[0m\u001b[0;34m(\u001b[0m\u001b[0mdsn\u001b[0m\u001b[0;34m,\u001b[0m \u001b[0mconnection_factory\u001b[0m\u001b[0;34m=\u001b[0m\u001b[0mconnection_factory\u001b[0m\u001b[0;34m,\u001b[0m \u001b[0;34m**\u001b[0m\u001b[0mkwasync\u001b[0m\u001b[0;34m)\u001b[0m\u001b[0;34m\u001b[0m\u001b[0m\n\u001b[0m\u001b[1;32m    131\u001b[0m     \u001b[0;32mif\u001b[0m \u001b[0mcursor_factory\u001b[0m \u001b[0;32mis\u001b[0m \u001b[0;32mnot\u001b[0m \u001b[0;32mNone\u001b[0m\u001b[0;34m:\u001b[0m\u001b[0;34m\u001b[0m\u001b[0m\n\u001b[1;32m    132\u001b[0m         \u001b[0mconn\u001b[0m\u001b[0;34m.\u001b[0m\u001b[0mcursor_factory\u001b[0m \u001b[0;34m=\u001b[0m \u001b[0mcursor_factory\u001b[0m\u001b[0;34m\u001b[0m\u001b[0m\n",
      "\u001b[0;31mOperationalError\u001b[0m: server closed the connection unexpectedly\n\tThis probably means the server terminated abnormally\n\tbefore or while processing the request.\n"
     ]
    }
   ],
   "source": [
    "pg_conn_str = get_db()"
   ]
  },
  {
   "cell_type": "code",
   "execution_count": 143,
   "metadata": {},
   "outputs": [
    {
     "data": {
      "text/html": [
       "<div>\n",
       "<style scoped>\n",
       "    .dataframe tbody tr th:only-of-type {\n",
       "        vertical-align: middle;\n",
       "    }\n",
       "\n",
       "    .dataframe tbody tr th {\n",
       "        vertical-align: top;\n",
       "    }\n",
       "\n",
       "    .dataframe thead th {\n",
       "        text-align: right;\n",
       "    }\n",
       "</style>\n",
       "<table border=\"1\" class=\"dataframe\">\n",
       "  <thead>\n",
       "    <tr style=\"text-align: right;\">\n",
       "      <th></th>\n",
       "      <th>table_name</th>\n",
       "    </tr>\n",
       "  </thead>\n",
       "  <tbody>\n",
       "    <tr>\n",
       "      <th>0</th>\n",
       "      <td>cand</td>\n",
       "    </tr>\n",
       "    <tr>\n",
       "      <th>1</th>\n",
       "      <td>cmte</td>\n",
       "    </tr>\n",
       "    <tr>\n",
       "      <th>2</th>\n",
       "      <td>network_industry</td>\n",
       "    </tr>\n",
       "    <tr>\n",
       "      <th>3</th>\n",
       "      <td>expends</td>\n",
       "    </tr>\n",
       "    <tr>\n",
       "      <th>4</th>\n",
       "      <td>cands</td>\n",
       "    </tr>\n",
       "    <tr>\n",
       "      <th>5</th>\n",
       "      <td>indivs</td>\n",
       "    </tr>\n",
       "    <tr>\n",
       "      <th>6</th>\n",
       "      <td>pacs2cands</td>\n",
       "    </tr>\n",
       "    <tr>\n",
       "      <th>7</th>\n",
       "      <td>cmtes</td>\n",
       "    </tr>\n",
       "    <tr>\n",
       "      <th>8</th>\n",
       "      <td>pacs2pacs</td>\n",
       "    </tr>\n",
       "    <tr>\n",
       "      <th>9</th>\n",
       "      <td>industry</td>\n",
       "    </tr>\n",
       "    <tr>\n",
       "      <th>10</th>\n",
       "      <td>biggest_donors</td>\n",
       "    </tr>\n",
       "    <tr>\n",
       "      <th>11</th>\n",
       "      <td>pacs2pacs_recip</td>\n",
       "    </tr>\n",
       "    <tr>\n",
       "      <th>12</th>\n",
       "      <td>simple_pacs2pacs</td>\n",
       "    </tr>\n",
       "  </tbody>\n",
       "</table>\n",
       "</div>"
      ],
      "text/plain": [
       "          table_name\n",
       "0               cand\n",
       "1               cmte\n",
       "2   network_industry\n",
       "3            expends\n",
       "4              cands\n",
       "5             indivs\n",
       "6         pacs2cands\n",
       "7              cmtes\n",
       "8          pacs2pacs\n",
       "9           industry\n",
       "10    biggest_donors\n",
       "11   pacs2pacs_recip\n",
       "12  simple_pacs2pacs"
      ]
     },
     "execution_count": 143,
     "metadata": {},
     "output_type": "execute_result"
    }
   ],
   "source": [
    "pd.read_sql(\"SELECT table_name FROM information_schema.tables WHERE table_schema = 'public';\", pg_conn_str)"
   ]
  },
  {
   "cell_type": "markdown",
   "metadata": {},
   "source": [
    "# Individuals"
   ]
  },
  {
   "cell_type": "markdown",
   "metadata": {},
   "source": [
    "Make table schema for postgresql"
   ]
  },
  {
   "cell_type": "code",
   "execution_count": 139,
   "metadata": {},
   "outputs": [
    {
     "data": {
      "text/plain": [
       "'CREATE TABLE network_individ (         contr_amt DOUBLE PRECISION ,         firstlastp  VARCHAR(90),         party VARCHAR(2),         Gender VARCHAR(2),         Contrib VARCHAR(90),         Orgname VARCHAR(90),         ge_winner_ind_guess VARCHAR(15))'"
      ]
     },
     "execution_count": 139,
     "metadata": {},
     "output_type": "execute_result"
    }
   ],
   "source": [
    "network_individ = str('CREATE TABLE network_individ ( \\\n",
    "        contr_amt DOUBLE PRECISION , \\\n",
    "        firstlastp  VARCHAR(90), \\\n",
    "        party VARCHAR(2), \\\n",
    "        Gender VARCHAR(2), \\\n",
    "        Contrib VARCHAR(90), \\\n",
    "        Orgname VARCHAR(90), \\\n",
    "        ge_winner_ind_guess VARCHAR(15))')\n",
    "network_individ"
   ]
  },
  {
   "cell_type": "code",
   "execution_count": 137,
   "metadata": {},
   "outputs": [
    {
     "name": "stdout",
     "output_type": "stream",
     "text": [
      "Contrib,Orgname,Gender,FirstLastP,party,ge_winner_ind_guess,contr_amt\n"
     ]
    }
   ],
   "source": [
    "tbl_row_df = list(df_individual_network.columns.values)\n",
    "cols = ','.join(tbl_row_df)\n",
    "print(cols)"
   ]
  },
  {
   "cell_type": "markdown",
   "metadata": {},
   "source": [
    "Migrate data"
   ]
  },
  {
   "cell_type": "code",
   "execution_count": 146,
   "metadata": {},
   "outputs": [
    {
     "name": "stdout",
     "output_type": "stream",
     "text": [
      "CREATE TABLE network_industry (         contr_amt DOUBLE PRECISION ,         feccandid VARCHAR(15),         bioguide_id VARCHAR(20),         firstlastp  VARCHAR(90),         party VARCHAR(2),         Industry VARCHAR(50),         ge_winner_ind_guess VARCHAR(15))\n",
      "contr_amt,feccandid,bioguide_id,firstlastp,party,Industry,ge_winner_ind_guess\n",
      "inserted rows in 4326.45ms\n"
     ]
    }
   ],
   "source": [
    "tbl = 'network_individ'\n",
    "\n",
    "pg_create_table = network_individ\n",
    "print(pg_create_table)\n",
    "\n",
    "with pg_conn_str.cursor() as pgcur:\n",
    "    pgcur.execute(f'DROP TABLE IF EXISTS {tbl}')\n",
    "    pgcur.execute(pg_create_table)\n",
    "    \n",
    "    start_time = time.time()\n",
    "    \n",
    "    tbl_row_df = list(df_individual_network.columns.values)\n",
    "    cols = ','.join(tbl_row_df)\n",
    "    print(cols)\n",
    "\n",
    "    vals =  df_individual_network.values #.iloc[1:6,1:10]\n",
    "    execute_values(pgcur,\n",
    "                   f\"\"\"INSERT INTO {tbl}({cols}) VALUES %s\"\"\", vals ) #,page_size=1000)\n",
    "\n",
    "    end_time = time.time()\n",
    "    print(f'inserted rows in {round((end_time - start_time)*1000, 2)}ms')\n",
    "pg_conn_str.commit()"
   ]
  },
  {
   "cell_type": "code",
   "execution_count": 147,
   "metadata": {},
   "outputs": [
    {
     "data": {
      "text/html": [
       "<div>\n",
       "<style scoped>\n",
       "    .dataframe tbody tr th:only-of-type {\n",
       "        vertical-align: middle;\n",
       "    }\n",
       "\n",
       "    .dataframe tbody tr th {\n",
       "        vertical-align: top;\n",
       "    }\n",
       "\n",
       "    .dataframe thead th {\n",
       "        text-align: right;\n",
       "    }\n",
       "</style>\n",
       "<table border=\"1\" class=\"dataframe\">\n",
       "  <thead>\n",
       "    <tr style=\"text-align: right;\">\n",
       "      <th></th>\n",
       "      <th>table_name</th>\n",
       "    </tr>\n",
       "  </thead>\n",
       "  <tbody>\n",
       "    <tr>\n",
       "      <th>0</th>\n",
       "      <td>network_industry</td>\n",
       "    </tr>\n",
       "    <tr>\n",
       "      <th>1</th>\n",
       "      <td>cand</td>\n",
       "    </tr>\n",
       "    <tr>\n",
       "      <th>2</th>\n",
       "      <td>cmte</td>\n",
       "    </tr>\n",
       "    <tr>\n",
       "      <th>3</th>\n",
       "      <td>expends</td>\n",
       "    </tr>\n",
       "    <tr>\n",
       "      <th>4</th>\n",
       "      <td>cands</td>\n",
       "    </tr>\n",
       "    <tr>\n",
       "      <th>5</th>\n",
       "      <td>indivs</td>\n",
       "    </tr>\n",
       "    <tr>\n",
       "      <th>6</th>\n",
       "      <td>pacs2cands</td>\n",
       "    </tr>\n",
       "    <tr>\n",
       "      <th>7</th>\n",
       "      <td>cmtes</td>\n",
       "    </tr>\n",
       "    <tr>\n",
       "      <th>8</th>\n",
       "      <td>pacs2pacs</td>\n",
       "    </tr>\n",
       "    <tr>\n",
       "      <th>9</th>\n",
       "      <td>industry</td>\n",
       "    </tr>\n",
       "    <tr>\n",
       "      <th>10</th>\n",
       "      <td>biggest_donors</td>\n",
       "    </tr>\n",
       "    <tr>\n",
       "      <th>11</th>\n",
       "      <td>pacs2pacs_recip</td>\n",
       "    </tr>\n",
       "    <tr>\n",
       "      <th>12</th>\n",
       "      <td>simple_pacs2pacs</td>\n",
       "    </tr>\n",
       "  </tbody>\n",
       "</table>\n",
       "</div>"
      ],
      "text/plain": [
       "          table_name\n",
       "0   network_industry\n",
       "1               cand\n",
       "2               cmte\n",
       "3            expends\n",
       "4              cands\n",
       "5             indivs\n",
       "6         pacs2cands\n",
       "7              cmtes\n",
       "8          pacs2pacs\n",
       "9           industry\n",
       "10    biggest_donors\n",
       "11   pacs2pacs_recip\n",
       "12  simple_pacs2pacs"
      ]
     },
     "execution_count": 147,
     "metadata": {},
     "output_type": "execute_result"
    }
   ],
   "source": [
    "pd.read_sql(\"SELECT table_name FROM information_schema.tables WHERE table_schema = 'public';\", pg_conn_str)"
   ]
  },
  {
   "cell_type": "markdown",
   "metadata": {},
   "source": [
    "# Industry"
   ]
  },
  {
   "cell_type": "code",
   "execution_count": 140,
   "metadata": {},
   "outputs": [
    {
     "data": {
      "text/plain": [
       "'CREATE TABLE network_industry (         contr_amt DOUBLE PRECISION ,         firstlastp  VARCHAR(90),         party VARCHAR(2),         Industry VARCHAR(50),         ge_winner_ind_guess VARCHAR(15))'"
      ]
     },
     "execution_count": 140,
     "metadata": {},
     "output_type": "execute_result"
    }
   ],
   "source": [
    "network_industry = str('CREATE TABLE network_industry ( \\\n",
    "        contr_amt DOUBLE PRECISION , \\\n",
    "        firstlastp  VARCHAR(90), \\\n",
    "        party VARCHAR(2), \\\n",
    "        Industry VARCHAR(50), \\\n",
    "        ge_winner_ind_guess VARCHAR(15))')\n",
    "network_industry"
   ]
  },
  {
   "cell_type": "code",
   "execution_count": 141,
   "metadata": {},
   "outputs": [
    {
     "name": "stdout",
     "output_type": "stream",
     "text": [
      "firstlastp,party,ge_winner_ind_guess,Industry,contr_amt\n"
     ]
    }
   ],
   "source": [
    "tbl_row_df = list(df_industry_viz.columns.values)\n",
    "cols = ','.join(tbl_row_df)\n",
    "print(cols)"
   ]
  },
  {
   "cell_type": "code",
   "execution_count": 146,
   "metadata": {},
   "outputs": [
    {
     "name": "stdout",
     "output_type": "stream",
     "text": [
      "CREATE TABLE network_industry (         contr_amt DOUBLE PRECISION ,         feccandid VARCHAR(15),         bioguide_id VARCHAR(20),         firstlastp  VARCHAR(90),         party VARCHAR(2),         Industry VARCHAR(50),         ge_winner_ind_guess VARCHAR(15))\n",
      "contr_amt,feccandid,bioguide_id,firstlastp,party,Industry,ge_winner_ind_guess\n",
      "inserted rows in 4326.45ms\n"
     ]
    }
   ],
   "source": [
    "tbl = 'network_industry'\n",
    "\n",
    "pg_create_table = network_industry\n",
    "print(pg_create_table)\n",
    "\n",
    "with pg_conn_str.cursor() as pgcur:\n",
    "    pgcur.execute(f'DROP TABLE IF EXISTS {tbl}')\n",
    "    pgcur.execute(pg_create_table)\n",
    "    \n",
    "    start_time = time.time()\n",
    "    \n",
    "    tbl_row_df = list(df_industry_viz.columns.values)\n",
    "    cols = ','.join(tbl_row_df)\n",
    "    print(cols)\n",
    "\n",
    "    vals =  df_industry_viz.values #.iloc[1:6,1:10]\n",
    "    execute_values(pgcur,\n",
    "                   f\"\"\"INSERT INTO {tbl}({cols}) VALUES %s\"\"\", vals ) #,page_size=1000)\n",
    "\n",
    "    end_time = time.time()\n",
    "    print(f'inserted rows in {round((end_time - start_time)*1000, 2)}ms')\n",
    "pg_conn_str.commit()"
   ]
  },
  {
   "cell_type": "code",
   "execution_count": 147,
   "metadata": {},
   "outputs": [
    {
     "data": {
      "text/html": [
       "<div>\n",
       "<style scoped>\n",
       "    .dataframe tbody tr th:only-of-type {\n",
       "        vertical-align: middle;\n",
       "    }\n",
       "\n",
       "    .dataframe tbody tr th {\n",
       "        vertical-align: top;\n",
       "    }\n",
       "\n",
       "    .dataframe thead th {\n",
       "        text-align: right;\n",
       "    }\n",
       "</style>\n",
       "<table border=\"1\" class=\"dataframe\">\n",
       "  <thead>\n",
       "    <tr style=\"text-align: right;\">\n",
       "      <th></th>\n",
       "      <th>table_name</th>\n",
       "    </tr>\n",
       "  </thead>\n",
       "  <tbody>\n",
       "    <tr>\n",
       "      <th>0</th>\n",
       "      <td>network_industry</td>\n",
       "    </tr>\n",
       "    <tr>\n",
       "      <th>1</th>\n",
       "      <td>cand</td>\n",
       "    </tr>\n",
       "    <tr>\n",
       "      <th>2</th>\n",
       "      <td>cmte</td>\n",
       "    </tr>\n",
       "    <tr>\n",
       "      <th>3</th>\n",
       "      <td>expends</td>\n",
       "    </tr>\n",
       "    <tr>\n",
       "      <th>4</th>\n",
       "      <td>cands</td>\n",
       "    </tr>\n",
       "    <tr>\n",
       "      <th>5</th>\n",
       "      <td>indivs</td>\n",
       "    </tr>\n",
       "    <tr>\n",
       "      <th>6</th>\n",
       "      <td>pacs2cands</td>\n",
       "    </tr>\n",
       "    <tr>\n",
       "      <th>7</th>\n",
       "      <td>cmtes</td>\n",
       "    </tr>\n",
       "    <tr>\n",
       "      <th>8</th>\n",
       "      <td>pacs2pacs</td>\n",
       "    </tr>\n",
       "    <tr>\n",
       "      <th>9</th>\n",
       "      <td>industry</td>\n",
       "    </tr>\n",
       "    <tr>\n",
       "      <th>10</th>\n",
       "      <td>biggest_donors</td>\n",
       "    </tr>\n",
       "    <tr>\n",
       "      <th>11</th>\n",
       "      <td>pacs2pacs_recip</td>\n",
       "    </tr>\n",
       "    <tr>\n",
       "      <th>12</th>\n",
       "      <td>simple_pacs2pacs</td>\n",
       "    </tr>\n",
       "  </tbody>\n",
       "</table>\n",
       "</div>"
      ],
      "text/plain": [
       "          table_name\n",
       "0   network_industry\n",
       "1               cand\n",
       "2               cmte\n",
       "3            expends\n",
       "4              cands\n",
       "5             indivs\n",
       "6         pacs2cands\n",
       "7              cmtes\n",
       "8          pacs2pacs\n",
       "9           industry\n",
       "10    biggest_donors\n",
       "11   pacs2pacs_recip\n",
       "12  simple_pacs2pacs"
      ]
     },
     "execution_count": 147,
     "metadata": {},
     "output_type": "execute_result"
    }
   ],
   "source": [
    "pd.read_sql(\"SELECT table_name FROM information_schema.tables WHERE table_schema = 'public';\", pg_conn_str)"
   ]
  },
  {
   "cell_type": "markdown",
   "metadata": {},
   "source": [
    "# committee"
   ]
  },
  {
   "cell_type": "code",
   "execution_count": 142,
   "metadata": {},
   "outputs": [
    {
     "data": {
      "text/plain": [
       "'CREATE TABLE committee_network  (         contr_amt DOUBLE PRECISION ,         firstlastp  VARCHAR(90),         party VARCHAR(2),         pacshort VARCHAR(50),         type VARCHAR(10),         ge_winner_ind_guess VARCHAR(15))'"
      ]
     },
     "execution_count": 142,
     "metadata": {},
     "output_type": "execute_result"
    }
   ],
   "source": [
    "committee_network = str('CREATE TABLE committee_network  ( \\\n",
    "        contr_amt DOUBLE PRECISION , \\\n",
    "        firstlastp  VARCHAR(90), \\\n",
    "        party VARCHAR(2), \\\n",
    "        pacshort VARCHAR(50), \\\n",
    "        type VARCHAR(10), \\\n",
    "        ge_winner_ind_guess VARCHAR(15))')\n",
    "committee_network "
   ]
  },
  {
   "cell_type": "code",
   "execution_count": 143,
   "metadata": {},
   "outputs": [
    {
     "name": "stdout",
     "output_type": "stream",
     "text": [
      "pacshort,FirstLastP,party,ge_winner_ind_guess,Type,contribution\n"
     ]
    }
   ],
   "source": [
    "tbl_row_df = list(df_committee_network.columns.values)\n",
    "cols = ','.join(tbl_row_df)\n",
    "print(cols)"
   ]
  },
  {
   "cell_type": "code",
   "execution_count": 146,
   "metadata": {},
   "outputs": [
    {
     "name": "stdout",
     "output_type": "stream",
     "text": [
      "CREATE TABLE network_industry (         contr_amt DOUBLE PRECISION ,         feccandid VARCHAR(15),         bioguide_id VARCHAR(20),         firstlastp  VARCHAR(90),         party VARCHAR(2),         Industry VARCHAR(50),         ge_winner_ind_guess VARCHAR(15))\n",
      "contr_amt,feccandid,bioguide_id,firstlastp,party,Industry,ge_winner_ind_guess\n",
      "inserted rows in 4326.45ms\n"
     ]
    }
   ],
   "source": [
    "tbl = 'committee_network'\n",
    "\n",
    "pg_create_table = committee_network \n",
    "print(pg_create_table)\n",
    "\n",
    "with pg_conn_str.cursor() as pgcur:\n",
    "    pgcur.execute(f'DROP TABLE IF EXISTS {tbl}')\n",
    "    pgcur.execute(pg_create_table)\n",
    "    \n",
    "    start_time = time.time()\n",
    "    \n",
    "    tbl_row_df = list(df_committee_network.values)\n",
    "    cols = ','.join(tbl_row_df)\n",
    "    print(cols)\n",
    "\n",
    "    vals =  df_committee_network.values #.iloc[1:6,1:10]\n",
    "    execute_values(pgcur,\n",
    "                   f\"\"\"INSERT INTO {tbl}({cols}) VALUES %s\"\"\", vals ) #,page_size=1000)\n",
    "\n",
    "    end_time = time.time()\n",
    "    print(f'inserted rows in {round((end_time - start_time)*1000, 2)}ms')\n",
    "pg_conn_str.commit()"
   ]
  },
  {
   "cell_type": "code",
   "execution_count": 147,
   "metadata": {},
   "outputs": [
    {
     "data": {
      "text/html": [
       "<div>\n",
       "<style scoped>\n",
       "    .dataframe tbody tr th:only-of-type {\n",
       "        vertical-align: middle;\n",
       "    }\n",
       "\n",
       "    .dataframe tbody tr th {\n",
       "        vertical-align: top;\n",
       "    }\n",
       "\n",
       "    .dataframe thead th {\n",
       "        text-align: right;\n",
       "    }\n",
       "</style>\n",
       "<table border=\"1\" class=\"dataframe\">\n",
       "  <thead>\n",
       "    <tr style=\"text-align: right;\">\n",
       "      <th></th>\n",
       "      <th>table_name</th>\n",
       "    </tr>\n",
       "  </thead>\n",
       "  <tbody>\n",
       "    <tr>\n",
       "      <th>0</th>\n",
       "      <td>network_industry</td>\n",
       "    </tr>\n",
       "    <tr>\n",
       "      <th>1</th>\n",
       "      <td>cand</td>\n",
       "    </tr>\n",
       "    <tr>\n",
       "      <th>2</th>\n",
       "      <td>cmte</td>\n",
       "    </tr>\n",
       "    <tr>\n",
       "      <th>3</th>\n",
       "      <td>expends</td>\n",
       "    </tr>\n",
       "    <tr>\n",
       "      <th>4</th>\n",
       "      <td>cands</td>\n",
       "    </tr>\n",
       "    <tr>\n",
       "      <th>5</th>\n",
       "      <td>indivs</td>\n",
       "    </tr>\n",
       "    <tr>\n",
       "      <th>6</th>\n",
       "      <td>pacs2cands</td>\n",
       "    </tr>\n",
       "    <tr>\n",
       "      <th>7</th>\n",
       "      <td>cmtes</td>\n",
       "    </tr>\n",
       "    <tr>\n",
       "      <th>8</th>\n",
       "      <td>pacs2pacs</td>\n",
       "    </tr>\n",
       "    <tr>\n",
       "      <th>9</th>\n",
       "      <td>industry</td>\n",
       "    </tr>\n",
       "    <tr>\n",
       "      <th>10</th>\n",
       "      <td>biggest_donors</td>\n",
       "    </tr>\n",
       "    <tr>\n",
       "      <th>11</th>\n",
       "      <td>pacs2pacs_recip</td>\n",
       "    </tr>\n",
       "    <tr>\n",
       "      <th>12</th>\n",
       "      <td>simple_pacs2pacs</td>\n",
       "    </tr>\n",
       "  </tbody>\n",
       "</table>\n",
       "</div>"
      ],
      "text/plain": [
       "          table_name\n",
       "0   network_industry\n",
       "1               cand\n",
       "2               cmte\n",
       "3            expends\n",
       "4              cands\n",
       "5             indivs\n",
       "6         pacs2cands\n",
       "7              cmtes\n",
       "8          pacs2pacs\n",
       "9           industry\n",
       "10    biggest_donors\n",
       "11   pacs2pacs_recip\n",
       "12  simple_pacs2pacs"
      ]
     },
     "execution_count": 147,
     "metadata": {},
     "output_type": "execute_result"
    }
   ],
   "source": [
    "pd.read_sql(\"SELECT table_name FROM information_schema.tables WHERE table_schema = 'public';\", pg_conn_str)"
   ]
  }
 ],
 "metadata": {
  "kernelspec": {
   "display_name": "Python 3",
   "language": "python",
   "name": "python3"
  },
  "language_info": {
   "codemirror_mode": {
    "name": "ipython",
    "version": 3
   },
   "file_extension": ".py",
   "mimetype": "text/x-python",
   "name": "python",
   "nbconvert_exporter": "python",
   "pygments_lexer": "ipython3",
   "version": "3.7.0"
  }
 },
 "nbformat": 4,
 "nbformat_minor": 2
}
