{
 "cells": [
  {
   "cell_type": "markdown",
   "metadata": {},
   "source": [
    "# EDA - preping the industry data"
   ]
  },
  {
   "cell_type": "code",
   "execution_count": 1,
   "metadata": {},
   "outputs": [],
   "source": [
    "import pyspark \n",
    "sc = pyspark.sql.SparkSession.Builder()\\\n",
    "        .master('yarn')\\\n",
    "        .appName('hive-test')\\\n",
    "        .enableHiveSupport()\\\n",
    "        .getOrCreate()"
   ]
  },
  {
   "cell_type": "code",
   "execution_count": 2,
   "metadata": {},
   "outputs": [
    {
     "data": {
      "text/html": [
       "\n",
       "            <div>\n",
       "                <p><b>SparkSession - hive</b></p>\n",
       "                \n",
       "        <div>\n",
       "            <p><b>SparkContext</b></p>\n",
       "\n",
       "            <p><a href=\"http://cap1:4040\">Spark UI</a></p>\n",
       "\n",
       "            <dl>\n",
       "              <dt>Version</dt>\n",
       "                <dd><code>v2.3.2</code></dd>\n",
       "              <dt>Master</dt>\n",
       "                <dd><code>yarn</code></dd>\n",
       "              <dt>AppName</dt>\n",
       "                <dd><code>hive-test</code></dd>\n",
       "            </dl>\n",
       "        </div>\n",
       "        \n",
       "            </div>\n",
       "        "
      ],
      "text/plain": [
       "<pyspark.sql.session.SparkSession at 0x7f22686e6ef0>"
      ]
     },
     "execution_count": 2,
     "metadata": {},
     "output_type": "execute_result"
    }
   ],
   "source": [
    "sc"
   ]
  },
  {
   "cell_type": "code",
   "execution_count": 3,
   "metadata": {},
   "outputs": [
    {
     "data": {
      "text/plain": [
       "[Row(database='default', tableName='pac_spending', isTemporary=False),\n",
       " Row(database='default', tableName='pac_spending_by_type', isTemporary=False),\n",
       " Row(database='default', tableName='pq_crp_cands18', isTemporary=False),\n",
       " Row(database='default', tableName='pq_crp_cmtes18', isTemporary=False),\n",
       " Row(database='default', tableName='pq_crp_expends18', isTemporary=False),\n",
       " Row(database='default', tableName='pq_crp_indivs18', isTemporary=False),\n",
       " Row(database='default', tableName='pq_crp_industry_names', isTemporary=False),\n",
       " Row(database='default', tableName='pq_crp_pac_other18', isTemporary=False),\n",
       " Row(database='default', tableName='pq_crp_pacs18', isTemporary=False),\n",
       " Row(database='default', tableName='pq_pp_bills', isTemporary=False),\n",
       " Row(database='default', tableName='pq_pp_sponsors', isTemporary=False),\n",
       " Row(database='default', tableName='pq_pp_titles', isTemporary=False),\n",
       " Row(database='default', tableName='pq_us_fec_ids', isTemporary=False),\n",
       " Row(database='default', tableName='pq_us_legislators', isTemporary=False)]"
      ]
     },
     "execution_count": 3,
     "metadata": {},
     "output_type": "execute_result"
    }
   ],
   "source": [
    "sc.sql('SHOW TABLES').collect()"
   ]
  },
  {
   "cell_type": "code",
   "execution_count": 7,
   "metadata": {},
   "outputs": [
    {
     "name": "stdout",
     "output_type": "stream",
     "text": [
      "+-----+---------+---------+--------------------+-----+------------+----------+--------+---------+------+---------+------+\n",
      "|cycle|feccandid|      cid|          firstlastp|party|distidrunfor|distidcurr|currcand|cyclecand|crpico|recipcode|nopacs|\n",
      "+-----+---------+---------+--------------------+-----+------------+----------+--------+---------+------+---------+------+\n",
      "| 2018|H6FL08221|N00028542|       D J Mauro (I)|    I|        FL08|          |        |         |      |       3N|      |\n",
      "| 2018|H6NC09200|N00035491|     Mark Harris (R)|    R|        NC09|          |        |         |     O|       RO|      |\n",
      "| 2018|H4NE01163|N00035619| Dennis Crawford (D)|    D|        NE01|          |        |        Y|     C|       DL|      |\n",
      "| 2018|H0IN01127|N00041294| Arturas Kerelis (D)|    D|        IN01|          |        |         |      |       DN|      |\n",
      "| 2018|H8AL02171|N00041295|     Barry Moore (R)|    R|        AL02|          |        |        Y|     C|       RL|      |\n",
      "| 2018|H8AL04078|N00041296|      Mike Moses (R)|    R|        AL04|          |        |        Y|     C|       RN|      |\n",
      "| 2018|H8AL04086|N00041297|  Rick Neighbors (D)|    D|        AL04|          |        |        Y|     C|       DL|      |\n",
      "| 2018|H8AL05208|N00041298|Clayton Hinchman (R)|    R|        AL05|          |        |        Y|     C|       RL|      |\n",
      "| 2018|H8AR02134|N00041299|    Paul Spencer (D)|    D|        AR02|          |        |        Y|     C|       DL|      |\n",
      "| 2018|H8AR03074|N00041300|     Josh Mahony (D)|    D|        AR03|          |       Y|        Y|     C|       DC|      |\n",
      "+-----+---------+---------+--------------------+-----+------------+----------+--------+---------+------+---------+------+\n",
      "\n"
     ]
    }
   ],
   "source": [
    "sc.sql('SELECT * FROM pq_crp_cands18').limit(10).show()"
   ]
  },
  {
   "cell_type": "markdown",
   "metadata": {},
   "source": [
    "Does the individual table not have industry??"
   ]
  },
  {
   "cell_type": "code",
   "execution_count": 48,
   "metadata": {},
   "outputs": [
    {
     "name": "stdout",
     "output_type": "stream",
     "text": [
      "+-----+-------------------+------------+-------------------+---------+-------+------+--------+----------+------+------+---------+-----+-----+---------+----+---------+---------+------+------------------+------------+------------+------+\n",
      "|cycle|         fectransid|   contribid|            contrib|  recipid|orgname|ultorg|realcode|      date|amount|street|     city|state|  zip|recipcode|type|   cmteid|  otherid|gender|         microfilm|  occupation|    employer|source|\n",
      "+-----+-------------------+------------+-------------------+---------+-------+------+--------+----------+------+------+---------+-----+-----+---------+----+---------+---------+------+------------------+------------+------------+------+\n",
      "| 2018|4021520181504779816|p0003541768 |WUTHRICH, STEPHANIE|C00603084|       |      |   J1200|2017-11-08|     5|      |  ELKHART|   IN|46514|       PI| 15E|C00603084|C00401224|     F|201801319091098155|NOT EMPLOYED|        NONE| P/PAC|\n",
      "| 2018|4021520181504779818|p0003541768 |WUTHRICH, STEPHANIE|C00603084|       |      |   J1200|2017-11-08|    10|      |  ELKHART|   IN|46514|       PI| 15E|C00603084|C00401224|     F|201801319091098155|NOT EMPLOYED|        NONE| P/PAC|\n",
      "| 2018|4021520181504779906|U0000003641 |        YORKIN, PEG|C00603084|       |      |   J1200|2017-07-04|    50|      |   MALIBU|   CA|90265|       PI| 15E|C00603084|C00401224|     F|201801319091098185|        NONE|     RETIRED| P/PAC|\n",
      "| 2018|4021520181504779918|U0000003641 |        YORKIN, PEG|C00603084|       |      |   J1200|2017-07-06|    50|      |   MALIBU|   CA|90265|       PI| 15E|C00603084|C00401224|     F|201801319091098189|        NONE|     RETIRED| P/PAC|\n",
      "| 2018|4021520181504779956|p0003071674 |        YOUNG, ILSE|C00603084|       |      |   J1200|2017-09-11|    50|      |CHAPPAQUA|   NY|10514|       PI| 15E|C00603084|C00401224|     F|201801319091098201|NOT EMPLOYED|NOT EMPLOYED| P/PAC|\n",
      "+-----+-------------------+------------+-------------------+---------+-------+------+--------+----------+------+------+---------+-----+-----+---------+----+---------+---------+------+------------------+------------+------------+------+\n",
      "\n"
     ]
    }
   ],
   "source": [
    "sc.sql('SELECT * FROM pq_crp_indivs18').limit(5).show()"
   ]
  },
  {
   "cell_type": "code",
   "execution_count": 51,
   "metadata": {},
   "outputs": [
    {
     "data": {
      "text/plain": [
       "470"
      ]
     },
     "execution_count": 51,
     "metadata": {},
     "output_type": "execute_result"
    }
   ],
   "source": [
    "sc.sql('SELECT realcode, sum(amount), count(contribid) FROM pq_crp_indivs18 GROUP BY realcode ').count()"
   ]
  },
  {
   "cell_type": "code",
   "execution_count": 55,
   "metadata": {},
   "outputs": [
    {
     "data": {
      "text/plain": [
       "[Row(realcode='Z9500', money=307821522, count(contribid)=2563962),\n",
       " Row(realcode='Y4000', money=227928460, count(contribid)=571205),\n",
       " Row(realcode='X1200', money=186889529, count(contribid)=972393),\n",
       " Row(realcode='K1000', money=94909387, count(contribid)=161371),\n",
       " Row(realcode='F2700', money=65099756, count(contribid)=4112),\n",
       " Row(realcode='F2600', money=57948077, count(contribid)=14944),\n",
       " Row(realcode='J1200', money=55168158, count(contribid)=1102926),\n",
       " Row(realcode='Y1000', money=49244720, count(contribid)=279555),\n",
       " Row(realcode='F2100', money=49068817, count(contribid)=48934),\n",
       " Row(realcode='Z9000', money=48915983, count(contribid)=10148),\n",
       " Row(realcode='F4000', money=46599518, count(contribid)=39289),\n",
       " Row(realcode='J1100', money=40848862, count(contribid)=71784),\n",
       " Row(realcode='F4100', money=38014293, count(contribid)=15586),\n",
       " Row(realcode='LB100', money=34695187, count(contribid)=208341),\n",
       " Row(realcode='JE300', money=33903445, count(contribid)=8861),\n",
       " Row(realcode='K2000', money=32030999, count(contribid)=30104),\n",
       " Row(realcode='X4100', money=28263651, count(contribid)=6182),\n",
       " Row(realcode='G4700', money=27238362, count(contribid)=311),\n",
       " Row(realcode='H5100', money=26697179, count(contribid)=156087),\n",
       " Row(realcode='J7400', money=26358106, count(contribid)=129842),\n",
       " Row(realcode='Z9600', money=25227664, count(contribid)=8799),\n",
       " Row(realcode='F7000', money=24416497, count(contribid)=11053),\n",
       " Row(realcode='H1100', money=23864218, count(contribid)=59116),\n",
       " Row(realcode='H1130', money=20615937, count(contribid)=58756),\n",
       " Row(realcode='F4200', money=20158249, count(contribid)=38184),\n",
       " Row(realcode='F3100', money=19557617, count(contribid)=89973),\n",
       " Row(realcode='F1100', money=19421756, count(contribid)=119942),\n",
       " Row(realcode='F5100', money=18796777, count(contribid)=37795),\n",
       " Row(realcode='C1100', money=18353330, count(contribid)=41063),\n",
       " Row(realcode='F2500', money=17505936, count(contribid)=6104),\n",
       " Row(realcode='G0000', money=16164523, count(contribid)=50708),\n",
       " Row(realcode='X4110', money=15754802, count(contribid)=1654),\n",
       " Row(realcode='Y2000', money=15445827, count(contribid)=82268),\n",
       " Row(realcode='E1160', money=15244058, count(contribid)=66643),\n",
       " Row(realcode='M2300', money=14364161, count(contribid)=86885),\n",
       " Row(realcode='H2100', money=14296362, count(contribid)=42125),\n",
       " Row(realcode='E1120', money=13876585, count(contribid)=19020),\n",
       " Row(realcode='H4300', money=13626394, count(contribid)=129233),\n",
       " Row(realcode='G5200', money=13288686, count(contribid)=29199),\n",
       " Row(realcode='K1100', money=12482833, count(contribid)=25220),\n",
       " Row(realcode='E1150', money=12270522, count(contribid)=13535),\n",
       " Row(realcode='G6550', money=12253153, count(contribid)=2939),\n",
       " Row(realcode='J9000', money=11928554, count(contribid)=273011),\n",
       " Row(realcode='F4500', money=11450670, count(contribid)=9171),\n",
       " Row(realcode='K1200', money=11374524, count(contribid)=21475),\n",
       " Row(realcode='C5120', money=11098830, count(contribid)=33986),\n",
       " Row(realcode='G6500', money=10626771, count(contribid)=11627),\n",
       " Row(realcode='F2300', money=10503712, count(contribid)=11951),\n",
       " Row(realcode='D2000', money=10403390, count(contribid)=132084),\n",
       " Row(realcode='E1600', money=10332514, count(contribid)=67310),\n",
       " Row(realcode='F3300', money=9889028, count(contribid)=74534),\n",
       " Row(realcode='G2900', money=9665243, count(contribid)=15472),\n",
       " Row(realcode='T2300', money=9608397, count(contribid)=7800),\n",
       " Row(realcode='X3000', money=9380454, count(contribid)=52998),\n",
       " Row(realcode='J5100', money=9108730, count(contribid)=10392),\n",
       " Row(realcode='LC150', money=8972311, count(contribid)=41878),\n",
       " Row(realcode='B4000', money=8290582, count(contribid)=37060),\n",
       " Row(realcode='B1500', money=8153298, count(contribid)=13060),\n",
       " Row(realcode='C4500', money=8058762, count(contribid)=81941),\n",
       " Row(realcode='G2850', money=8047702, count(contribid)=6159),\n",
       " Row(realcode='B1000', money=7883239, count(contribid)=12417),\n",
       " Row(realcode='G5270', money=7819151, count(contribid)=8476),\n",
       " Row(realcode='F3200', money=7697785, count(contribid)=67288),\n",
       " Row(realcode='J7500', money=7674792, count(contribid)=136420),\n",
       " Row(realcode='G6400', money=7656243, count(contribid)=2213),\n",
       " Row(realcode='L1300', money=7535190, count(contribid)=12777),\n",
       " Row(realcode='E1620', money=7469471, count(contribid)=58529),\n",
       " Row(realcode='H3700', money=7161835, count(contribid)=62316),\n",
       " Row(realcode='E1110', money=6822720, count(contribid)=28542),\n",
       " Row(realcode='T5100', money=6806612, count(contribid)=59829),\n",
       " Row(realcode='T9100', money=6754138, count(contribid)=10320),\n",
       " Row(realcode='B2000', money=6632166, count(contribid)=12487),\n",
       " Row(realcode='A1000', money=6508016, count(contribid)=13630),\n",
       " Row(realcode='D3000', money=6466924, count(contribid)=60595),\n",
       " Row(realcode='C2400', money=6397258, count(contribid)=10833),\n",
       " Row(realcode='A1200', money=6288995, count(contribid)=8440),\n",
       " Row(realcode='F5000', money=6269160, count(contribid)=7139),\n",
       " Row(realcode='C2100', money=6080429, count(contribid)=14499),\n",
       " Row(realcode='B5100', money=5994302, count(contribid)=10102),\n",
       " Row(realcode='H4100', money=5967523, count(contribid)=22573),\n",
       " Row(realcode='F1400', money=5722300, count(contribid)=22927),\n",
       " Row(realcode='LT100', money=5707744, count(contribid)=67729),\n",
       " Row(realcode='G2500', money=5657575, count(contribid)=3145),\n",
       " Row(realcode='F4600', money=5527107, count(contribid)=8187),\n",
       " Row(realcode='E1140', money=5439054, count(contribid)=31844),\n",
       " Row(realcode='H2200', money=5406181, count(contribid)=9281),\n",
       " Row(realcode='B6000', money=5298386, count(contribid)=7613),\n",
       " Row(realcode='G5210', money=5255430, count(contribid)=5739),\n",
       " Row(realcode='H4500', money=5171587, count(contribid)=19913),\n",
       " Row(realcode='L1200', money=5154100, count(contribid)=29437),\n",
       " Row(realcode='F2110', money=5130506, count(contribid)=6357),\n",
       " Row(realcode='C4100', money=5068432, count(contribid)=53717),\n",
       " Row(realcode='F3400', money=5018075, count(contribid)=33824),\n",
       " Row(realcode='C2300', money=4905269, count(contribid)=2714),\n",
       " Row(realcode='H3000', money=4841025, count(contribid)=6419),\n",
       " Row(realcode='C5110', money=4822725, count(contribid)=20602),\n",
       " Row(realcode='A3000', money=4691905, count(contribid)=7051),\n",
       " Row(realcode='G2820', money=4642945, count(contribid)=5986),\n",
       " Row(realcode='T1100', money=4575158, count(contribid)=29655),\n",
       " Row(realcode='H1110', money=4547626, count(contribid)=27288),\n",
       " Row(realcode='E1210', money=4515091, count(contribid)=3963),\n",
       " Row(realcode='C5130', money=4499339, count(contribid)=11731),\n",
       " Row(realcode='X4000', money=4496398, count(contribid)=4056),\n",
       " Row(realcode='H1400', money=4463949, count(contribid)=11771),\n",
       " Row(realcode='E1500', money=4460260, count(contribid)=9503),\n",
       " Row(realcode='M1000', money=4420228, count(contribid)=29125),\n",
       " Row(realcode='C6000', money=4412153, count(contribid)=3579),\n",
       " Row(realcode='C2000', money=4341842, count(contribid)=8143),\n",
       " Row(realcode='T3100', money=4318106, count(contribid)=7053),\n",
       " Row(realcode='E1100', money=4205297, count(contribid)=6803),\n",
       " Row(realcode='F1000', money=4066316, count(contribid)=6969),\n",
       " Row(realcode='X0000', money=3881308, count(contribid)=13779),\n",
       " Row(realcode='F0000', money=3702744, count(contribid)=4716),\n",
       " Row(realcode='T2310', money=3683975, count(contribid)=3968),\n",
       " Row(realcode='A1300', money=3618496, count(contribid)=23354),\n",
       " Row(realcode='LM100', money=3605287, count(contribid)=25411),\n",
       " Row(realcode='C5000', money=3560315, count(contribid)=9246),\n",
       " Row(realcode='A2300', money=3478558, count(contribid)=1033),\n",
       " Row(realcode='M3300', money=3473790, count(contribid)=2705),\n",
       " Row(realcode='T2100', money=3465374, count(contribid)=59819),\n",
       " Row(realcode='H4400', money=3437314, count(contribid)=31595),\n",
       " Row(realcode='X3500', money=3426888, count(contribid)=29386),\n",
       " Row(realcode='M2100', money=3398754, count(contribid)=5935),\n",
       " Row(realcode='A1400', money=3284458, count(contribid)=3698),\n",
       " Row(realcode='T2200', money=3248315, count(contribid)=6778),\n",
       " Row(realcode='F1200', money=3134328, count(contribid)=1070),\n",
       " Row(realcode='H3200', money=3119101, count(contribid)=10497),\n",
       " Row(realcode='F2000', money=3110903, count(contribid)=9268),\n",
       " Row(realcode='B4200', money=3072202, count(contribid)=10656),\n",
       " Row(realcode='C5400', money=3012169, count(contribid)=3099),\n",
       " Row(realcode='F5500', money=2998930, count(contribid)=3395),\n",
       " Row(realcode='C6200', money=2952558, count(contribid)=2911),\n",
       " Row(realcode='J6200', money=2924589, count(contribid)=13471),\n",
       " Row(realcode='C6300', money=2906991, count(contribid)=10884),\n",
       " Row(realcode='z9600', money=2892670, count(contribid)=8227),\n",
       " Row(realcode='G4800', money=2883808, count(contribid)=595),\n",
       " Row(realcode='G2100', money=2865644, count(contribid)=6272),\n",
       " Row(realcode='A4000', money=2848923, count(contribid)=10228),\n",
       " Row(realcode='G2000', money=2847916, count(contribid)=759),\n",
       " Row(realcode='C5200', money=2845915, count(contribid)=3266),\n",
       " Row(realcode='E1700', money=2843416, count(contribid)=632),\n",
       " Row(realcode='T2500', money=2834553, count(contribid)=9803),\n",
       " Row(realcode='A5000', money=2813395, count(contribid)=5938),\n",
       " Row(realcode='A2000', money=2736573, count(contribid)=6101),\n",
       " Row(realcode='G2400', money=2714052, count(contribid)=14021),\n",
       " Row(realcode='H1120', money=2688377, count(contribid)=7480),\n",
       " Row(realcode='G4300', money=2683293, count(contribid)=22509),\n",
       " Row(realcode='E1000', money=2631175, count(contribid)=3435),\n",
       " Row(realcode='G5260', money=2597576, count(contribid)=1668),\n",
       " Row(realcode='C2600', money=2550610, count(contribid)=9594),\n",
       " Row(realcode='F4300', money=2549818, count(contribid)=4103),\n",
       " Row(realcode='M3100', money=2453718, count(contribid)=2067),\n",
       " Row(realcode='B3000', money=2429984, count(contribid)=4889),\n",
       " Row(realcode='G4900', money=2375916, count(contribid)=13601),\n",
       " Row(realcode='G2810', money=2369282, count(contribid)=9628),\n",
       " Row(realcode='J7150', money=2309536, count(contribid)=3300),\n",
       " Row(realcode='F1420', money=2304355, count(contribid)=4459),\n",
       " Row(realcode='L1400', money=2289116, count(contribid)=24701),\n",
       " Row(realcode='G5000', money=2248139, count(contribid)=10155),\n",
       " Row(realcode='H5300', money=2248072, count(contribid)=4624),\n",
       " Row(realcode='T7100', money=2205929, count(contribid)=21630),\n",
       " Row(realcode='LC100', money=2181160, count(contribid)=16824),\n",
       " Row(realcode='T6200', money=2163276, count(contribid)=6923),\n",
       " Row(realcode='E1170', money=2138419, count(contribid)=1340),\n",
       " Row(realcode='L1100', money=2134996, count(contribid)=10823),\n",
       " Row(realcode='J7300', money=2082147, count(contribid)=33886),\n",
       " Row(realcode='B3200', money=2079812, count(contribid)=2608),\n",
       " Row(realcode='G5240', money=2055142, count(contribid)=5602),\n",
       " Row(realcode='F2200', money=2022007, count(contribid)=2602),\n",
       " Row(realcode='C4000', money=2002415, count(contribid)=1225),\n",
       " Row(realcode='G4100', money=2001189, count(contribid)=1892),\n",
       " Row(realcode='H0000', money=1994753, count(contribid)=5568),\n",
       " Row(realcode='G5250', money=1965962, count(contribid)=4274),\n",
       " Row(realcode='X5000', money=1908811, count(contribid)=8650),\n",
       " Row(realcode='H1710', money=1888143, count(contribid)=14525),\n",
       " Row(realcode='G4600', money=1861477, count(contribid)=4405),\n",
       " Row(realcode='C4300', money=1850738, count(contribid)=16512),\n",
       " Row(realcode='X7000', money=1812847, count(contribid)=12297),\n",
       " Row(realcode='F1300', money=1772051, count(contribid)=19866),\n",
       " Row(realcode='C6400', money=1768501, count(contribid)=10053),\n",
       " Row(realcode='E3000', money=1761267, count(contribid)=7394),\n",
       " Row(realcode='H5000', money=1736714, count(contribid)=6446),\n",
       " Row(realcode='A4100', money=1680355, count(contribid)=2244),\n",
       " Row(realcode='B5000', money=1675082, count(contribid)=465),\n",
       " Row(realcode='X3100', money=1648662, count(contribid)=3099),\n",
       " Row(realcode='M2000', money=1628361, count(contribid)=2815),\n",
       " Row(realcode='B4400', money=1626880, count(contribid)=6701),\n",
       " Row(realcode='G6100', money=1602118, count(contribid)=797),\n",
       " Row(realcode='C2700', money=1586972, count(contribid)=538),\n",
       " Row(realcode='A5200', money=1570883, count(contribid)=8857),\n",
       " Row(realcode='M1500', money=1541368, count(contribid)=5134),\n",
       " Row(realcode='C2200', money=1540628, count(contribid)=4563),\n",
       " Row(realcode='B5200', money=1537946, count(contribid)=894),\n",
       " Row(realcode='E0000', money=1537476, count(contribid)=149),\n",
       " Row(realcode='X4200', money=1532519, count(contribid)=3883),\n",
       " Row(realcode='H1700', money=1487460, count(contribid)=11108),\n",
       " Row(realcode='T9300', money=1465612, count(contribid)=2078),\n",
       " Row(realcode='D9000', money=1447637, count(contribid)=7542),\n",
       " Row(realcode='G7000', money=1434966, count(contribid)=5121),\n",
       " Row(realcode='T6100', money=1432083, count(contribid)=868),\n",
       " Row(realcode='M5000', money=1431875, count(contribid)=1276),\n",
       " Row(realcode='H2000', money=1399940, count(contribid)=2118),\n",
       " Row(realcode='C6100', money=1395025, count(contribid)=527),\n",
       " Row(realcode='G4000', money=1392650, count(contribid)=2943),\n",
       " Row(realcode='A3100', money=1391017, count(contribid)=1278),\n",
       " Row(realcode='F5300', money=1384415, count(contribid)=7023),\n",
       " Row(realcode='J6100', money=1380734, count(contribid)=9168),\n",
       " Row(realcode='L1500', money=1376051, count(contribid)=32508),\n",
       " Row(realcode='G4500', money=1361125, count(contribid)=34124),\n",
       " Row(realcode='H6000', money=1355231, count(contribid)=5872),\n",
       " Row(realcode='G2600', money=1354234, count(contribid)=13110),\n",
       " Row(realcode='H4600', money=1338935, count(contribid)=15592),\n",
       " Row(realcode='A1600', money=1306292, count(contribid)=1756),\n",
       " Row(realcode='B5400', money=1250175, count(contribid)=595),\n",
       " Row(realcode='B0500', money=1213273, count(contribid)=2422),\n",
       " Row(realcode='G1000', money=1204284, count(contribid)=1157),\n",
       " Row(realcode='H3900', money=1190502, count(contribid)=2821),\n",
       " Row(realcode='F2400', money=1175257, count(contribid)=842),\n",
       " Row(realcode='E1320', money=1162669, count(contribid)=5721),\n",
       " Row(realcode='F4700', money=1140618, count(contribid)=1491),\n",
       " Row(realcode='E1610', money=1134078, count(contribid)=7420),\n",
       " Row(realcode='C2900', money=1131845, count(contribid)=2080),\n",
       " Row(realcode='H1750', money=1075419, count(contribid)=4367),\n",
       " Row(realcode='H5150', money=1074678, count(contribid)=6483),\n",
       " Row(realcode='G1100', money=1048186, count(contribid)=1028),\n",
       " Row(realcode='C4600', money=1045814, count(contribid)=9576),\n",
       " Row(realcode='F5200', money=1037595, count(contribid)=7623),\n",
       " Row(realcode='E1200', money=1036088, count(contribid)=761),\n",
       " Row(realcode='M8000', money=1008068, count(contribid)=1168),\n",
       " Row(realcode='A1100', money=993602, count(contribid)=1632),\n",
       " Row(realcode='A1500', money=972329, count(contribid)=1293),\n",
       " Row(realcode='M3200', money=960348, count(contribid)=830),\n",
       " Row(realcode='B3400', money=957218, count(contribid)=2647),\n",
       " Row(realcode='E1240', money=944050, count(contribid)=349),\n",
       " Row(realcode='X3200', money=927937, count(contribid)=4574),\n",
       " Row(realcode='A8000', money=918628, count(contribid)=1150),\n",
       " Row(realcode='T9000', money=903168, count(contribid)=1719),\n",
       " Row(realcode='H3800', money=897833, count(contribid)=669),\n",
       " Row(realcode='JH100', money=891912, count(contribid)=904),\n",
       " Row(realcode='J7700', money=888342, count(contribid)=271),\n",
       " Row(realcode='L5000', money=881698, count(contribid)=2989),\n",
       " Row(realcode='M0000', money=880390, count(contribid)=2814),\n",
       " Row(realcode='C4400', money=875570, count(contribid)=3515),\n",
       " Row(realcode='J2200', money=862248, count(contribid)=488),\n",
       " Row(realcode='G5290', money=860950, count(contribid)=1766),\n",
       " Row(realcode='G2200', money=854865, count(contribid)=1317),\n",
       " Row(realcode='B3600', money=826732, count(contribid)=3048),\n",
       " Row(realcode='H3100', money=822466, count(contribid)=3023),\n",
       " Row(realcode='F3000', money=817276, count(contribid)=3408),\n",
       " Row(realcode='M7000', money=813883, count(contribid)=770),\n",
       " Row(realcode='E1300', money=812262, count(contribid)=5840),\n",
       " Row(realcode='G2700', money=808216, count(contribid)=1248),\n",
       " Row(realcode='G2300', money=800019, count(contribid)=3643),\n",
       " Row(realcode='H5170', money=764608, count(contribid)=2196),\n",
       " Row(realcode='T1700', money=757862, count(contribid)=1464),\n",
       " Row(realcode='M7100', money=753426, count(contribid)=1825),\n",
       " Row(realcode='M2200', money=753119, count(contribid)=1382),\n",
       " Row(realcode='C6500', money=751845, count(contribid)=1114),\n",
       " Row(realcode='M2400', money=747251, count(contribid)=760),\n",
       " Row(realcode='A4200', money=747208, count(contribid)=11816),\n",
       " Row(realcode='H4000', money=741309, count(contribid)=11705),\n",
       " Row(realcode='A4500', money=738531, count(contribid)=3211),\n",
       " Row(realcode='T9400', money=738282, count(contribid)=2031),\n",
       " Row(realcode='J1000', money=736700, count(contribid)=261),\n",
       " Row(realcode='G5800', money=725284, count(contribid)=2718),\n",
       " Row(realcode='T2000', money=711637, count(contribid)=254),\n",
       " Row(realcode='M1300', money=710958, count(contribid)=2247),\n",
       " Row(realcode='C1300', money=706829, count(contribid)=1304),\n",
       " Row(realcode='T1000', money=691491, count(contribid)=213),\n",
       " Row(realcode='E1630', money=685115, count(contribid)=8997),\n",
       " Row(realcode='G1200', money=661728, count(contribid)=2095),\n",
       " Row(realcode='H3400', money=657868, count(contribid)=1495),\n",
       " Row(realcode='T3200', money=657827, count(contribid)=3323),\n",
       " Row(realcode='M9000', money=654960, count(contribid)=1698),\n",
       " Row(realcode='D5000', money=654558, count(contribid)=4972),\n",
       " Row(realcode='LT500', money=652767, count(contribid)=5942),\n",
       " Row(realcode='T1300', money=649517, count(contribid)=2578),\n",
       " Row(realcode='T1600', money=648802, count(contribid)=1043),\n",
       " Row(realcode='M4100', money=643642, count(contribid)=782),\n",
       " Row(realcode='G3000', money=640185, count(contribid)=485),\n",
       " Row(realcode='E1220', money=631040, count(contribid)=3251),\n",
       " Row(realcode='G4400', money=626445, count(contribid)=408),\n",
       " Row(realcode='G5280', money=626106, count(contribid)=2376),\n",
       " Row(realcode='D4000', money=613074, count(contribid)=1673),\n",
       " Row(realcode='Z9999', money=610000, count(contribid)=5),\n",
       " Row(realcode='E5000', money=609785, count(contribid)=7909),\n",
       " Row(realcode='T6250', money=601474, count(contribid)=412),\n",
       " Row(realcode='C5100', money=595719, count(contribid)=2913),\n",
       " Row(realcode='M5100', money=576271, count(contribid)=244),\n",
       " Row(realcode='A6000', money=564057, count(contribid)=5137),\n",
       " Row(realcode='G5300', money=563588, count(contribid)=1548),\n",
       " Row(realcode='A0000', money=558548, count(contribid)=1488),\n",
       " Row(realcode='C0000', money=553114, count(contribid)=768),\n",
       " Row(realcode='G5400', money=552074, count(contribid)=4239),\n",
       " Row(realcode='LT300', money=551449, count(contribid)=23726),\n",
       " Row(realcode='G2350', money=550738, count(contribid)=1982),\n",
       " Row(realcode='M1600', money=550399, count(contribid)=2119),\n",
       " Row(realcode='B5300', money=548601, count(contribid)=243),\n",
       " Row(realcode='A3500', money=548258, count(contribid)=665),\n",
       " Row(realcode='E2000', money=546680, count(contribid)=1058),\n",
       " Row(realcode='LG100', money=545503, count(contribid)=7200),\n",
       " Row(realcode='F1410', money=544184, count(contribid)=2890),\n",
       " Row(realcode='LG400', money=543860, count(contribid)=2798),\n",
       " Row(realcode='T1200', money=529329, count(contribid)=1783),\n",
       " Row(realcode='G5230', money=523822, count(contribid)=1089),\n",
       " Row(realcode='M7300', money=522475, count(contribid)=593),\n",
       " Row(realcode='M3400', money=517980, count(contribid)=584),\n",
       " Row(realcode='G2910', money=515836, count(contribid)=1166),\n",
       " Row(realcode='T5300', money=514458, count(contribid)=369),\n",
       " Row(realcode='M2250', money=494480, count(contribid)=168),\n",
       " Row(realcode='JD200', money=486190, count(contribid)=2161),\n",
       " Row(realcode='H5200', money=484037, count(contribid)=612),\n",
       " Row(realcode='LG300', money=476816, count(contribid)=6902),\n",
       " Row(realcode='J7600', money=470499, count(contribid)=216),\n",
       " Row(realcode='T1400', money=468156, count(contribid)=1919),\n",
       " Row(realcode='T7000', money=468025, count(contribid)=450),\n",
       " Row(realcode='G2800', money=451568, count(contribid)=900),\n",
       " Row(realcode='B5500', money=434132, count(contribid)=119),\n",
       " Row(realcode='E4100', money=428219, count(contribid)=701),\n",
       " Row(realcode='Y3000', money=420715, count(contribid)=837),\n",
       " Row(realcode='J7120', money=412412, count(contribid)=540),\n",
       " Row(realcode='M3000', money=411389, count(contribid)=182),\n",
       " Row(realcode='G6000', money=408051, count(contribid)=353),\n",
       " Row(realcode='M6000', money=390187, count(contribid)=347),\n",
       " Row(realcode='T2400', money=387478, count(contribid)=1152),\n",
       " Row(realcode='J7000', money=373170, count(contribid)=306),\n",
       " Row(realcode='T8300', money=371829, count(contribid)=1568),\n",
       " Row(realcode='H4200', money=370644, count(contribid)=394),\n",
       " Row(realcode='M3600', money=365570, count(contribid)=165),\n",
       " Row(realcode='H1500', money=359209, count(contribid)=2428),\n",
       " Row(realcode='J2300', money=356734, count(contribid)=149),\n",
       " Row(realcode='Z9700', money=355156, count(contribid)=58),\n",
       " Row(realcode='M4000', money=350333, count(contribid)=319),\n",
       " Row(realcode='Z4100', money=327074, count(contribid)=47),\n",
       " Row(realcode='C2800', money=325084, count(contribid)=1046),\n",
       " Row(realcode='J5000', money=319392, count(contribid)=277),\n",
       " Row(realcode='T0000', money=314076, count(contribid)=700),\n",
       " Row(realcode='L0000', money=304974, count(contribid)=858),\n",
       " Row(realcode='T8100', money=300565, count(contribid)=648),\n",
       " Row(realcode='G5100', money=298704, count(contribid)=2511),\n",
       " Row(realcode='M5300', money=298358, count(contribid)=249),\n",
       " Row(realcode='T5200', money=296708, count(contribid)=3079),\n",
       " Row(realcode='T7200', money=295740, count(contribid)=278),\n",
       " Row(realcode='T1500', money=290841, count(contribid)=1671),\n",
       " Row(realcode='G4200', money=283793, count(contribid)=6126),\n",
       " Row(realcode='A4300', money=279627, count(contribid)=3354),\n",
       " Row(realcode='E1190', money=276427, count(contribid)=418),\n",
       " Row(realcode='f2300', money=272969, count(contribid)=49),\n",
       " Row(realcode='LM150', money=272667, count(contribid)=4836),\n",
       " Row(realcode='E1230', money=269100, count(contribid)=19),\n",
       " Row(realcode='Z5200', money=268784, count(contribid)=105),\n",
       " Row(realcode='K0000', money=265823, count(contribid)=872),\n",
       " Row(realcode='J7510', money=259025, count(contribid)=100),\n",
       " Row(realcode='G5700', money=257086, count(contribid)=424),\n",
       " Row(realcode='M4300', money=256709, count(contribid)=1130),\n",
       " Row(realcode='Z9100', money=256067, count(contribid)=15),\n",
       " Row(realcode='T4100', money=255305, count(contribid)=382),\n",
       " Row(realcode='H4700', money=253738, count(contribid)=54),\n",
       " Row(realcode='LT400', money=243572, count(contribid)=4342),\n",
       " Row(realcode='M7200', money=240544, count(contribid)=894),\n",
       " Row(realcode='G5500', money=236005, count(contribid)=637),\n",
       " Row(realcode='G2840', money=223069, count(contribid)=170),\n",
       " Row(realcode='A6500', money=216216, count(contribid)=587),\n",
       " Row(realcode='J5200', money=209876, count(contribid)=115),\n",
       " Row(realcode='J2400', money=201040, count(contribid)=15),\n",
       " Row(realcode='T3000', money=194162, count(contribid)=284),\n",
       " Row(realcode='G2860', money=193899, count(contribid)=90),\n",
       " Row(realcode='A3300', money=191805, count(contribid)=191),\n",
       " Row(realcode='Z4200', money=191770, count(contribid)=28),\n",
       " Row(realcode='G3500', money=185064, count(contribid)=253),\n",
       " Row(realcode='H1000', money=182975, count(contribid)=292),\n",
       " Row(realcode='LT000', money=179581, count(contribid)=5167),\n",
       " Row(realcode='E4200', money=175112, count(contribid)=121),\n",
       " Row(realcode='T8000', money=164791, count(contribid)=39),\n",
       " Row(realcode='JW100', money=164450, count(contribid)=56),\n",
       " Row(realcode='X3700', money=163040, count(contribid)=2336),\n",
       " Row(realcode='H2300', money=158500, count(contribid)=15),\n",
       " Row(realcode='C1000', money=154747, count(contribid)=161),\n",
       " Row(realcode='Y0000', money=154059, count(contribid)=158),\n",
       " Row(realcode='M4200', money=152672, count(contribid)=1728),\n",
       " Row(realcode='T6000', money=145899, count(contribid)=612),\n",
       " Row(realcode='J1110', money=144692, count(contribid)=246),\n",
       " Row(realcode='LH100', money=142234, count(contribid)=614),\n",
       " Row(realcode='G5220', money=140459, count(contribid)=204),\n",
       " Row(realcode='E1180', money=139763, count(contribid)=34),\n",
       " Row(realcode='D6000', money=136020, count(contribid)=1158),\n",
       " Row(realcode='T4200', money=130460, count(contribid)=604),\n",
       " Row(realcode='T8200', money=129410, count(contribid)=58),\n",
       " Row(realcode='D8000', money=127530, count(contribid)=85),\n",
       " Row(realcode='M1400', money=124917, count(contribid)=434),\n",
       " Row(realcode='c2400', money=121509, count(contribid)=169),\n",
       " Row(realcode='C1400', money=116029, count(contribid)=592),\n",
       " Row(realcode='B0000', money=109808, count(contribid)=290),\n",
       " Row(realcode='B4300', money=108143, count(contribid)=480),\n",
       " Row(realcode='LG000', money=99526, count(contribid)=2857),\n",
       " Row(realcode='M1100', money=98645, count(contribid)=121),\n",
       " Row(realcode='X8000', money=95930, count(contribid)=271),\n",
       " Row(realcode='G5600', money=94047, count(contribid)=204),\n",
       " Row(realcode='T5000', money=92933, count(contribid)=788),\n",
       " Row(realcode='C5300', money=90185, count(contribid)=28),\n",
       " Row(realcode='J2500', money=87351, count(contribid)=100),\n",
       " Row(realcode='C4200', money=86450, count(contribid)=303),\n",
       " Row(realcode='M3500', money=79499, count(contribid)=344),\n",
       " Row(realcode='M1700', money=77934, count(contribid)=146),\n",
       " Row(realcode='J7200', money=76886, count(contribid)=458),\n",
       " Row(realcode='C5140', money=75905, count(contribid)=146),\n",
       " Row(realcode='g0000', money=74700, count(contribid)=17),\n",
       " Row(realcode='Z1200', money=73764, count(contribid)=57),\n",
       " Row(realcode='T4000', money=72867, count(contribid)=391),\n",
       " Row(realcode='J2100', money=71843, count(contribid)=54),\n",
       " Row(realcode='J9100', money=67300, count(contribid)=31),\n",
       " Row(realcode='G6700', money=58758, count(contribid)=702),\n",
       " Row(realcode='LE200', money=57369, count(contribid)=514),\n",
       " Row(realcode='M9100', money=53969, count(contribid)=94),\n",
       " Row(realcode='X1400', money=52790, count(contribid)=18),\n",
       " Row(realcode='f4500', money=50000, count(contribid)=1),\n",
       " Row(realcode='G6800', money=49610, count(contribid)=59),\n",
       " Row(realcode='k2000', money=47462, count(contribid)=29),\n",
       " Row(realcode='G1300', money=46608, count(contribid)=54),\n",
       " Row(realcode='JD100', money=43783, count(contribid)=146),\n",
       " Row(realcode='J1300', money=43704, count(contribid)=152),\n",
       " Row(realcode='D0000', money=42962, count(contribid)=94),\n",
       " Row(realcode='Z1100', money=42550, count(contribid)=20),\n",
       " Row(realcode='LT600', money=37968, count(contribid)=371),\n",
       " Row(realcode='B1200', money=37428, count(contribid)=57),\n",
       " Row(realcode='J5400', money=35050, count(contribid)=51),\n",
       " Row(realcode='A3200', money=34654, count(contribid)=72),\n",
       " Row(realcode='G4850', money=34380, count(contribid)=33),\n",
       " Row(realcode='G2110', money=31748, count(contribid)=19),\n",
       " Row(realcode='H3300', money=31730, count(contribid)=161),\n",
       " Row(realcode='g2100', money=30800, count(contribid)=10),\n",
       " Row(realcode='M5200', money=30390, count(contribid)=76),\n",
       " Row(realcode='LA100', money=22374, count(contribid)=38),\n",
       " Row(realcode='F5700', money=20000, count(contribid)=1),\n",
       " Row(realcode='LE100', money=17734, count(contribid)=108),\n",
       " Row(realcode='J4000', money=17050, count(contribid)=17),\n",
       " Row(realcode='J8000', money=16665, count(contribid)=8),\n",
       " Row(realcode='T8400', money=16403, count(contribid)=33),\n",
       " Row(realcode='LG200', money=12447, count(contribid)=454),\n",
       " Row(realcode='Z5100', money=11130, count(contribid)=6),\n",
       " Row(realcode='k1100', money=10933, count(contribid)=6),\n",
       " Row(realcode='f1400', money=10800, count(contribid)=4),\n",
       " Row(realcode='f5000', money=10800, count(contribid)=4),\n",
       " Row(realcode='b4000', money=10000, count(contribid)=1),\n",
       " Row(realcode='J5300', money=9588, count(contribid)=6),\n",
       " Row(realcode='E4000', money=8150, count(contribid)=8),\n",
       " Row(realcode='f5500', money=7275, count(contribid)=10),\n",
       " Row(realcode='F4400', money=5852, count(contribid)=16),\n",
       " Row(realcode='E1130', money=5400, count(contribid)=2),\n",
       " Row(realcode='M9300', money=5395, count(contribid)=10),\n",
       " Row(realcode='H3500', money=5039, count(contribid)=118),\n",
       " Row(realcode='Lb100', money=5000, count(contribid)=1),\n",
       " Row(realcode='B2400', money=4488, count(contribid)=13),\n",
       " Row(realcode='J1020', money=4037, count(contribid)=7),\n",
       " Row(realcode='x4000', money=4000, count(contribid)=13),\n",
       " Row(realcode='c5130', money=3511, count(contribid)=65),\n",
       " Row(realcode='j1200', money=3178, count(contribid)=23),\n",
       " Row(realcode='M9200', money=2834, count(contribid)=7),\n",
       " Row(realcode='e1500', money=1750, count(contribid)=4),\n",
       " Row(realcode='J3000', money=1745, count(contribid)=8),\n",
       " Row(realcode='j7000', money=1550, count(contribid)=3),\n",
       " Row(realcode='K3200', money=1000, count(contribid)=2),\n",
       " Row(realcode='J!200', money=1000, count(contribid)=1),\n",
       " Row(realcode='c2000', money=826, count(contribid)=5),\n",
       " Row(realcode='65270', money=500, count(contribid)=1),\n",
       " Row(realcode='Z5300', money=495, count(contribid)=1),\n",
       " Row(realcode='X9000', money=475, count(contribid)=2),\n",
       " Row(realcode='g5200', money=300, count(contribid)=3),\n",
       " Row(realcode='c5110', money=100, count(contribid)=4),\n",
       " Row(realcode=None, money=None, count(contribid)=2)]"
      ]
     },
     "execution_count": 55,
     "metadata": {},
     "output_type": "execute_result"
    }
   ],
   "source": [
    "sc.sql('SELECT realcode, sum(amount) AS money, count(contribid) FROM pq_crp_indivs18 GROUP BY realcode ORDER BY money DESC').collect()"
   ]
  },
  {
   "cell_type": "markdown",
   "metadata": {},
   "source": [
    "^Looks like all individuals have an industry, which is impressive given the number of blanks. Maybe one of the codes is unknown. Haven't found a translation table yet for realcodes "
   ]
  },
  {
   "cell_type": "code",
   "execution_count": null,
   "metadata": {},
   "outputs": [],
   "source": [
    "criteria for filter individuals:\n",
    "    \n",
    "Realcode not like Z9* (these are noncontributions)\n",
    "Limit types to 10, 11, 15, 15E, 15J, 22Y\n",
    "Remember that Type 10 is soft money before 2004 and Levin Funds or outside spending 2004+\n",
    "RecipID like N* limits to candidates\n",
    "Source <> P/PAC excludes contributions to PACs other than leadership PACs\n",
    "\n",
    "****MUST COME BACK TO AND JOIN WITH PAC CANDIDATE CONTRIBUTIONS****"
   ]
  },
  {
   "cell_type": "code",
   "execution_count": 42,
   "metadata": {},
   "outputs": [
    {
     "name": "stdout",
     "output_type": "stream",
     "text": [
      "+-----+---------+--------------------+--------------------+--------------------+---------+---------+---------+-----+--------+------+---------+-------+------+\n",
      "|cycle|   cmteid|            pacshort|           affiliate|              ultorg|  recipid|recipcode|feccandid|party|primcode|source|sensitive|foreign|active|\n",
      "+-----+---------+--------------------+--------------------+--------------------+---------+---------+---------+-----+--------+------+---------+-------+------+\n",
      "| 2018|C00000018|                    |                    |                    |C00000018|         |H8TX22313|     |        |      |         |  false|     0|\n",
      "| 2018|C00000059|      Hallmark Cards|                    |      Hallmark Cards|C00000059|       PB|         |     |   C1400| WebAM|        n|  false|     1|\n",
      "| 2018|C00000422|American Medical ...|American Medical ...|American Medical ...|C00000422|       PB|         |     |   H1100| AFP88|        n|  false|     1|\n",
      "| 2018|C00000489| Teamsters Local 886|     Teamsters Union|     Teamsters Union|C00000489|       PL|         |     |   LT300|  Name|        N|  false|     1|\n",
      "| 2018|C00000547| Kansas Medical Assn|American Medical ...|American Medical ...|C00000547|       PB|         |     |   H1100|  Name|        n|  false|     0|\n",
      "| 2018|C00000638|Indiana Medical Assn|American Medical ...|American Medical ...|C00000638|       PB|         |     |   H1100| AFP88|        N|  false|     1|\n",
      "| 2018|C00000729|American Dental Assn|American Dental Assn|American Dental Assn|C00000729|       PB|         |     |   H1400| AFP88|        n|  false|     1|\n",
      "| 2018|C00000885|Painters & Allied...|Painters & Allied...|Painters & Allied...|C00000885|       PL|         |     |   LB100| AFP99|        N|  false|     1|\n",
      "| 2018|C00000901|National Assn of ...|National Assn of ...|National Assn of ...|C00000901|       PB|         |     |   B2000| AFP88|        n|  false|     1|\n",
      "| 2018|C00000935|Democratic Congre...|Democratic Congre...|Democratic Congre...|C00000935|       DP|         |    D|   Z5200|  Rept|        n|  false|     1|\n",
      "+-----+---------+--------------------+--------------------+--------------------+---------+---------+---------+-----+--------+------+---------+-------+------+\n",
      "\n"
     ]
    }
   ],
   "source": [
    "sc.sql('SELECT * FROM pq_crp_cmtes18').limit(10).show()"
   ]
  },
  {
   "cell_type": "code",
   "execution_count": 12,
   "metadata": {},
   "outputs": [
    {
     "data": {
      "text/plain": [
       "408"
      ]
     },
     "execution_count": 12,
     "metadata": {},
     "output_type": "execute_result"
    }
   ],
   "source": [
    "sc.sql('SELECT primcode FROM pq_crp_cmtes18 GROUP BY primcode').count()"
   ]
  },
  {
   "cell_type": "code",
   "execution_count": 15,
   "metadata": {},
   "outputs": [
    {
     "name": "stdout",
     "output_type": "stream",
     "text": [
      "+--------+\n",
      "|primcode|\n",
      "+--------+\n",
      "|   C2100|\n",
      "|   C1100|\n",
      "|   T3100|\n",
      "|   L1300|\n",
      "|   T9000|\n",
      "|   j7000|\n",
      "|   J9000|\n",
      "|   J1000|\n",
      "|   M2400|\n",
      "|   G6700|\n",
      "+--------+\n",
      "only showing top 10 rows\n",
      "\n"
     ]
    }
   ],
   "source": [
    "sc.sql('SELECT primcode FROM pq_crp_cmtes18 GROUP BY primcode').show(10)"
   ]
  },
  {
   "cell_type": "code",
   "execution_count": 16,
   "metadata": {},
   "outputs": [
    {
     "name": "stdout",
     "output_type": "stream",
     "text": [
      "+-----+-------+-------------+----------+---------+--------+--------------------+-------+------+----------+----------+-----+---------+---------+------+----+--------------------+-----+---------+-------+------+\n",
      "|Cycle|     ID|      TransID|CRPFilerid|Recipcode|Pacshort|        CRPRecipname|Expcode|Amount|      Date|      City|State|      Zip|CmteID_EF|Candid|Type|             Descrip|   PG|ElecOther|EntType|Source|\n",
      "+-----+-------+-------------+----------+---------+--------+--------------------+-------+------+----------+----------+-----+---------+---------+------+----+--------------------+-----+---------+-------+------+\n",
      "| 2018|8500179|SB23_86287240| C00401224|       PI| ActBlue|Progressive Turno...|    R50|   5.0|2017-07-05|NORTHBROOK|   IL|60065    |C00580068|      |    |Earmark Contribution|P2016|         |    PAC| @new2|\n",
      "+-----+-------+-------------+----------+---------+--------+--------------------+-------+------+----------+----------+-----+---------+---------+------+----+--------------------+-----+---------+-------+------+\n",
      "\n"
     ]
    }
   ],
   "source": [
    "sc.sql('SELECT * FROM pq_crp_expends18').limit(1).show()"
   ]
  },
  {
   "cell_type": "code",
   "execution_count": 18,
   "metadata": {},
   "outputs": [
    {
     "name": "stdout",
     "output_type": "stream",
     "text": [
      "+-----+-------------------+---------+---------+------+----------+--------+----+---+---------+\n",
      "|cycle|           fecrecno|    pacid|      cid|amount|      date|realcode|type| di|feccandid|\n",
      "+-----+-------------------+---------+---------+------+----------+--------+----+---+---------+\n",
      "| 2018|4031520181518958016|C00150797|N00035527|1000.0|2018-02-06|   K1200| 24K|  D|H4AR04048|\n",
      "| 2018|4021520181504727622|C00343459|N00028152|5000.0|2017-12-27|   H1130| 24K|  D|H6CA22125|\n",
      "| 2018|4062120181570992000|C00005249|N00035509|3000.0|2018-05-18|   F3300| 24K|  D|H4IA03115|\n",
      "| 2018|4121120171484669562|C00449165|N00003689|1000.0|2017-11-08|   M3100| 24K|  D|H8OH01043|\n",
      "| 2018|4101220171458221652|C00171843|N00002408|5000.0|2017-09-21|   F3400| 24K|  D|H2SC02042|\n",
      "| 2018|4051820181565917536|C00035675|N00031933|1000.0|2018-04-23|   H4300| 24K|  D|H0MA10082|\n",
      "| 2018|4072420171429498467|C00035451|N00034584|2000.0|2017-06-27|   LT100| 24K|  D|S2ME00158|\n",
      "| 2018|4112020171465723593|C00033779|N00035346|1000.0|2017-10-24|   F4100| 24K|  D|H4GA01039|\n",
      "| 2018|4042720181530493912|C00502906|N00033518|1500.0|2018-03-22|   C6200| 24K|  D|H2GA09150|\n",
      "| 2018|4022220181514504696|C00542431|N00003105|5000.0|2018-01-08|   J1100| 24K|  D|S8TN00337|\n",
      "+-----+-------------------+---------+---------+------+----------+--------+----+---+---------+\n",
      "\n"
     ]
    }
   ],
   "source": [
    "sc.sql('SELECT * FROM pq_crp_pacs18').limit(10).show()"
   ]
  },
  {
   "cell_type": "code",
   "execution_count": 20,
   "metadata": {},
   "outputs": [
    {
     "data": {
      "text/plain": [
       "191318"
      ]
     },
     "execution_count": 20,
     "metadata": {},
     "output_type": "execute_result"
    }
   ],
   "source": [
    "sc.sql('SELECT * FROM pq_crp_pacs18').count()"
   ]
  },
  {
   "cell_type": "code",
   "execution_count": null,
   "metadata": {},
   "outputs": [],
   "source": [
    "need to joing the  pq_crp_pacs18 to the candidate table to get party detail. I think realcode and primcode are the same thing...\n",
    "-To calculate direct contributions to candidates, you limit to DI = D"
   ]
  },
  {
   "cell_type": "code",
   "execution_count": 28,
   "metadata": {},
   "outputs": [
    {
     "name": "stdout",
     "output_type": "stream",
     "text": [
      "+------------+\n",
      "| sum(amount)|\n",
      "+------------+\n",
      "|3.21276746E8|\n",
      "+------------+\n",
      "\n"
     ]
    }
   ],
   "source": [
    "sc.sql('SELECT sum(amount) FROM pq_crp_pacs18 where di == \"D\"').limit(10).show()"
   ]
  },
  {
   "cell_type": "code",
   "execution_count": null,
   "metadata": {},
   "outputs": [],
   "source": [
    "Need industry names!"
   ]
  },
  {
   "cell_type": "code",
   "execution_count": 113,
   "metadata": {},
   "outputs": [
    {
     "data": {
      "text/html": [
       "<div>\n",
       "<style scoped>\n",
       "    .dataframe tbody tr th:only-of-type {\n",
       "        vertical-align: middle;\n",
       "    }\n",
       "\n",
       "    .dataframe tbody tr th {\n",
       "        vertical-align: top;\n",
       "    }\n",
       "\n",
       "    .dataframe thead th {\n",
       "        text-align: right;\n",
       "    }\n",
       "</style>\n",
       "<table border=\"1\" class=\"dataframe\">\n",
       "  <thead>\n",
       "    <tr style=\"text-align: right;\">\n",
       "      <th></th>\n",
       "      <th>Catcode</th>\n",
       "      <th>Catname</th>\n",
       "      <th>Catorder</th>\n",
       "      <th>Industry</th>\n",
       "      <th>Sector</th>\n",
       "      <th>Sector Long</th>\n",
       "    </tr>\n",
       "  </thead>\n",
       "  <tbody>\n",
       "    <tr>\n",
       "      <th>1</th>\n",
       "      <td>A0000</td>\n",
       "      <td>Agriculture</td>\n",
       "      <td>A11</td>\n",
       "      <td>Misc Agriculture</td>\n",
       "      <td>Agribusiness</td>\n",
       "      <td>Agribusiness</td>\n",
       "    </tr>\n",
       "    <tr>\n",
       "      <th>2</th>\n",
       "      <td>A1000</td>\n",
       "      <td>Crop production &amp; basic processing</td>\n",
       "      <td>A01</td>\n",
       "      <td>Crop Production &amp; Basic Processing</td>\n",
       "      <td>Agribusiness</td>\n",
       "      <td>Agribusiness</td>\n",
       "    </tr>\n",
       "    <tr>\n",
       "      <th>3</th>\n",
       "      <td>A1100</td>\n",
       "      <td>Cotton</td>\n",
       "      <td>A01</td>\n",
       "      <td>Crop Production &amp; Basic Processing</td>\n",
       "      <td>Agribusiness</td>\n",
       "      <td>Agribusiness</td>\n",
       "    </tr>\n",
       "    <tr>\n",
       "      <th>4</th>\n",
       "      <td>A1200</td>\n",
       "      <td>Sugar cane &amp; sugar beets</td>\n",
       "      <td>A01</td>\n",
       "      <td>Crop Production &amp; Basic Processing</td>\n",
       "      <td>Agribusiness</td>\n",
       "      <td>Agribusiness</td>\n",
       "    </tr>\n",
       "    <tr>\n",
       "      <th>5</th>\n",
       "      <td>A1300</td>\n",
       "      <td>Tobacco &amp; Tobacco products</td>\n",
       "      <td>A02</td>\n",
       "      <td>Tobacco</td>\n",
       "      <td>Agribusiness</td>\n",
       "      <td>Agribusiness</td>\n",
       "    </tr>\n",
       "  </tbody>\n",
       "</table>\n",
       "</div>"
      ],
      "text/plain": [
       "  Catcode                             Catname Catorder  \\\n",
       "1   A0000                         Agriculture      A11   \n",
       "2   A1000  Crop production & basic processing      A01   \n",
       "3   A1100                              Cotton      A01   \n",
       "4   A1200            Sugar cane & sugar beets      A01   \n",
       "5   A1300          Tobacco & Tobacco products      A02   \n",
       "\n",
       "                             Industry        Sector   Sector Long  \n",
       "1                    Misc Agriculture  Agribusiness  Agribusiness  \n",
       "2  Crop Production & Basic Processing  Agribusiness  Agribusiness  \n",
       "3  Crop Production & Basic Processing  Agribusiness  Agribusiness  \n",
       "4  Crop Production & Basic Processing  Agribusiness  Agribusiness  \n",
       "5                             Tobacco  Agribusiness  Agribusiness  "
      ]
     },
     "execution_count": 113,
     "metadata": {},
     "output_type": "execute_result"
    }
   ],
   "source": [
    "import re\n",
    "import pandas as pd\n",
    "#crp_industry_names = ast.literal_eval(open(\"crp_industry_names.txt\", \"r\").read\n",
    "                                      \n",
    "crp_industry_names = open(\"crp_industry_names.txt\", \"r\").read()#.split('\\t')\n",
    "crp_industry_names\n",
    "crp_industry_names = crp_industry_names.splitlines()\n",
    "\n",
    "\n",
    "crp_industry_names = [re.split(r'\\t+',x) for x in crp_industry_names]\n",
    "crp_industry_names =pd.DataFrame(crp_industry_names)\n",
    "\n",
    "crp_industry_names.columns=(\"Catcode\",\"Catname\",\"Catorder\",\"Industry\",\"Sector\",\"Sector Long\")\n",
    "crp_industry_names= crp_industry_names[1:]\n",
    "crp_industry_names.head()"
   ]
  },
  {
   "cell_type": "code",
   "execution_count": 9,
   "metadata": {},
   "outputs": [
    {
     "name": "stdout",
     "output_type": "stream",
     "text": [
      "+--------------------+\n",
      "|              sector|\n",
      "+--------------------+\n",
      "|               Labor|\n",
      "|          Party Cmte|\n",
      "|Finance/Insur/Rea...|\n",
      "|Joint Candidate C...|\n",
      "|Communic/Electronics|\n",
      "| Lawyers & Lobbyists|\n",
      "|Ideology/Single-I...|\n",
      "|    Non-contribution|\n",
      "|              Health|\n",
      "|             Unknown|\n",
      "|       Misc Business|\n",
      "|               Other|\n",
      "|        Construction|\n",
      "|           Candidate|\n",
      "|        Agribusiness|\n",
      "| Energy/Nat Resource|\n",
      "|             Defense|\n",
      "|      Transportation|\n",
      "+--------------------+\n",
      "\n"
     ]
    }
   ],
   "source": [
    "sc.sql('SELECT sector FROM pq_crp_industry_names GROUP BY Sector').show()"
   ]
  },
  {
   "cell_type": "code",
   "execution_count": 11,
   "metadata": {},
   "outputs": [
    {
     "data": {
      "text/plain": [
       "103"
      ]
     },
     "execution_count": 11,
     "metadata": {},
     "output_type": "execute_result"
    }
   ],
   "source": [
    "sc.sql('SELECT industry FROM pq_crp_industry_names GROUP BY industry').count()"
   ]
  },
  {
   "cell_type": "code",
   "execution_count": 39,
   "metadata": {},
   "outputs": [
    {
     "name": "stdout",
     "output_type": "stream",
     "text": [
      "+---------+----------+-----------+------+--------+---------+----------+------+----+-----+--------+------------+-------------------+---+-------+-----+------------+-------+-------+--------+-------+----------+-----------+---------+--------------+------+--------+-----------+------------+--------------+------------------+--------+--------------------+\n",
      "|last_name|first_name|middle_name|suffix|nickname|full_name|  birthday|gender|type|state|district|senate_class|              party|url|address|phone|contact_form|rss_url|twitter|facebook|youtube|youtube_id|bioguide_id|thomas_id|opensecrets_id|lis_id|cspan_id|govtrack_id|votesmart_id|ballotpedia_id|washington_post_id|icpsr_id|        wikipedia_id|\n",
      "+---------+----------+-----------+------+--------+---------+----------+------+----+-----+--------+------------+-------------------+---+-------+-----+------------+-------+-------+--------+-------+----------+-----------+---------+--------------+------+--------+-----------+------------+--------------+------------------+--------+--------------------+\n",
      "|  Bassett|   Richard|           |      |        |         |1745-04-02|     M| sen|   DE|        |           2|Anti-Administration|   |       |     |            |       |       |        |       |          |    B000226|         |              |      |        |     401222|            |              |                  |     507|Richard Bassett (...|\n",
      "+---------+----------+-----------+------+--------+---------+----------+------+----+-----+--------+------------+-------------------+---+-------+-----+------------+-------+-------+--------+-------+----------+-----------+---------+--------------+------+--------+-----------+------------+--------------+------------------+--------+--------------------+\n",
      "\n"
     ]
    }
   ],
   "source": [
    "sc.sql('SELECT * FROM pq_us_legislators').limit(1).show()"
   ]
  },
  {
   "cell_type": "code",
   "execution_count": 43,
   "metadata": {},
   "outputs": [
    {
     "ename": "NameError",
     "evalue": "name 'pq_us_legislators' is not defined",
     "output_type": "error",
     "traceback": [
      "\u001b[0;31m---------------------------------------------------------------------------\u001b[0m",
      "\u001b[0;31mNameError\u001b[0m                                 Traceback (most recent call last)",
      "\u001b[0;32m<ipython-input-43-242521feaa6c>\u001b[0m in \u001b[0;36m<module>\u001b[0;34m()\u001b[0m\n\u001b[0;32m----> 1\u001b[0;31m \u001b[0mpq_us_legislators\u001b[0m\u001b[0;34m.\u001b[0m\u001b[0mdtypes\u001b[0m\u001b[0;34m\u001b[0m\u001b[0m\n\u001b[0m",
      "\u001b[0;31mNameError\u001b[0m: name 'pq_us_legislators' is not defined"
     ]
    }
   ],
   "source": [
    "pq_us_legislators.dtypes"
   ]
  },
  {
   "cell_type": "code",
   "execution_count": 46,
   "metadata": {},
   "outputs": [
    {
     "name": "stdout",
     "output_type": "stream",
     "text": [
      "+---------+---------+------+----------+--------+----+---+---------+--------------------+-----+--------------------+--------------------+-----------+\n",
      "|    pacid|      cid|amount|      date|realcode|type| di|feccandid|          firstlastp|party|            Industry|              Sector|bioguide_id|\n",
      "+---------+---------+------+----------+--------+----+---+---------+--------------------+-----+--------------------+--------------------+-----------+\n",
      "|C00150797|N00035527|1000.0|2018-02-06|   K1200| 24K|  D|H4AR04048| Bruce Westerman (R)|    R|   Lawyers/Law Firms| Lawyers & Lobbyists|    W000821|\n",
      "|C00343459|N00028152|5000.0|2017-12-27|   H1130| 24K|  D|H6CA22125|  Kevin McCarthy (R)|    R|Health Professionals|              Health|    M001165|\n",
      "|C00005249|N00035509|3000.0|2018-05-18|   F3300| 24K|  D|H4IA03115|     David Young (R)|    R|           Insurance|Finance/Insur/Rea...|    Y000066|\n",
      "|C00449165|N00003689|1000.0|2017-11-08|   M3100| 24K|  D|H8OH01043|    Steve Chabot (R)|    R|Misc Manufacturin...|       Misc Business|    C000266|\n",
      "|C00171843|N00002408|5000.0|2017-09-21|   F3400| 24K|  D|H2SC02042| James E Clyburn (D)|    D|           Insurance|Finance/Insur/Rea...|    C000537|\n",
      "|C00035675|N00031933|1000.0|2018-04-23|   H4300| 24K|  D|H0MA10082|    Bill Keating (D)|    D|Pharmaceuticals/H...|              Health|    K000375|\n",
      "|C00035451|N00034584|2000.0|2017-06-27|   LT100| 24K|  D|S2ME00158|  Bruce Poliquin (R)|    R|Transportation Un...|               Labor|    P000611|\n",
      "|C00033779|N00035346|1000.0|2017-10-24|   F4100| 24K|  D|H4GA01039|    Buddy Carter (R)|    R|         Real Estate|Finance/Insur/Rea...|    C001103|\n",
      "|C00502906|N00033518|1500.0|2018-03-22|   C6200| 24K|  D|H2GA09150|    Doug Collins (R)|    R|            Internet|Communic/Electronics|    C001093|\n",
      "|C00542431|N00003105|5000.0|2018-01-08|   J1100| 24K|  D|S8TN00337|Marsha Blackburn (R)|    R|Republican/Conser...|Ideology/Single-I...|    B001243|\n",
      "+---------+---------+------+----------+--------+----+---+---------+--------------------+-----+--------------------+--------------------+-----------+\n",
      "\n"
     ]
    }
   ],
   "source": [
    "sc.sql('SELECT pacid,t2.cid, amount, date, realcode,t1.type, di,t1.feccandid,firstlastp, t2.party, t3.Industry, t3.Sector, t4.bioguide_id  \\\n",
    "       FROM pq_crp_pacs18 t1 \\\n",
    "       INNER JOIN pq_crp_cands18 t2 \\\n",
    "       ON t1.feccandid= t2.feccandid \\\n",
    "       INNER JOIN pq_crp_industry_names t3 \\\n",
    "       ON t1.realcode = t3.Catcode \\\n",
    "       LEFT JOIN pq_us_legislators t4 \\\n",
    "       ON t2.cid = t4.opensecrets_id \\\n",
    "       WHERE di == \"D\" AND \\\n",
    "       realcode NOT LIKE \"z9*%\" AND \\\n",
    "       realcode NOT LIKE \"z4*%\"').limit(10).show()\n",
    "\n",
    "#realcode is industry, this filters out transfers and joint fund raising committees"
   ]
  },
  {
   "cell_type": "markdown",
   "metadata": {},
   "source": [
    "## Create Links"
   ]
  },
  {
   "cell_type": "code",
   "execution_count": 49,
   "metadata": {},
   "outputs": [
    {
     "name": "stdout",
     "output_type": "stream",
     "text": [
      "+-----------+---------+-----------+------------------+-----+--------------------+\n",
      "|sum(amount)|feccandid|bioguide_id|        firstlastp|party|            Industry|\n",
      "+-----------+---------+-----------+------------------+-----+--------------------+\n",
      "|    66500.0|H6TX02079|    B001291|   Brian Babin (R)|    R|       Air Transport|\n",
      "|    20000.0|H4WI04183|    M001160|    Gwen Moore (D)|    D|    Commercial Banks|\n",
      "|    16000.0|H8OH05036|    L000566|Robert E Latta (R)|    R|Chemical & Relate...|\n",
      "|   117100.0|S6UT00063|    H000338| Orrin G Hatch (R)|    R|Pharmaceuticals/H...|\n",
      "|    12000.0|H6AK00045|    Y000033|     Don Young (R)|    R|Crop Production &...|\n",
      "|    35250.0|H2CA08164|    C001094|     Paul Cook (R)|    R|Building Material...|\n",
      "|    14000.0|H0VA02118|    T000477|Scott W Taylor (R)|    R|           Oil & Gas|\n",
      "|     2000.0|H2OH17109|    R000577|      Tim Ryan (D)|    D|Health Services/HMOs|\n",
      "|    11000.0|H8NY29032|    C001092| Chris Collins (R)|    R|               Dairy|\n",
      "|     8500.0|H4MA06090|    M001196|  Seth Moulton (D)|    D|Misc Manufacturin...|\n",
      "+-----------+---------+-----------+------------------+-----+--------------------+\n",
      "\n"
     ]
    }
   ],
   "source": [
    "sc.sql('SELECT sum(amount) ,feccandid, bioguide_id, firstlastp, party, Industry \\\n",
    "FROM (SELECT pacid,t2.cid, amount, date, realcode, t1.type, di,t1.feccandid,firstlastp, t2.party, t3.Industry, t3.Sector, t4.bioguide_id \\\n",
    "       FROM pq_crp_pacs18 t1 \\\n",
    "       INNER JOIN pq_crp_cands18 t2 \\\n",
    "       ON t1.feccandid= t2.feccandid \\\n",
    "       INNER JOIN pq_crp_industry_names t3 \\\n",
    "       ON t1.realcode = t3.Catcode \\\n",
    "       LEFT JOIN pq_us_legislators t4 \\\n",
    "       ON t1.cid = t4.opensecrets_id \\\n",
    "       WHERE di == \"D\" AND \\\n",
    "       realcode NOT LIKE \"z9*%\" AND \\\n",
    "       realcode NOT LIKE \"z4*%\") sub \\\n",
    "       GROUP BY feccandid,firstlastp,bioguide_id, party, Industry ').limit(10).show()"
   ]
  },
  {
   "cell_type": "code",
   "execution_count": 51,
   "metadata": {},
   "outputs": [],
   "source": [
    "industry_viz = (sc.sql('SELECT sum(amount) ,feccandid, bioguide_id, firstlastp, party, Industry \\\n",
    "FROM (SELECT pacid,t2.cid, amount, date, realcode, t1.type, di,t1.feccandid,firstlastp, t2.party, t3.Industry, t3.Sector, t4.bioguide_id \\\n",
    "       FROM pq_crp_pacs18 t1 \\\n",
    "       INNER JOIN pq_crp_cands18 t2 \\\n",
    "       ON t1.feccandid= t2.feccandid \\\n",
    "       INNER JOIN pq_crp_industry_names t3 \\\n",
    "       ON t1.realcode = t3.Catcode \\\n",
    "       LEFT JOIN pq_us_legislators t4 \\\n",
    "       ON t1.cid = t4.opensecrets_id \\\n",
    "       WHERE di == \"D\" AND \\\n",
    "       realcode NOT LIKE \"z9*%\" AND \\\n",
    "       realcode NOT LIKE \"z4*%\") sub \\\n",
    "       GROUP BY feccandid,firstlastp,bioguide_id, party, Industry '))"
   ]
  },
  {
   "cell_type": "code",
   "execution_count": 61,
   "metadata": {},
   "outputs": [
    {
     "ename": "AttributeError",
     "evalue": "'DataFrame' object has no attribute 'flatMap'",
     "output_type": "error",
     "traceback": [
      "\u001b[0;31m---------------------------------------------------------------------------\u001b[0m",
      "\u001b[0;31mAttributeError\u001b[0m                            Traceback (most recent call last)",
      "\u001b[0;32m<ipython-input-61-bd12a7dae601>\u001b[0m in \u001b[0;36m<module>\u001b[0;34m()\u001b[0m\n\u001b[0;32m----> 1\u001b[0;31m \u001b[0msc\u001b[0m\u001b[0;34m.\u001b[0m\u001b[0msql\u001b[0m\u001b[0;34m(\u001b[0m\u001b[0;34m'SELECT sum(amount) as contribution ,feccandid, bioguide_id, firstlastp, party, Industry FROM (SELECT pacid,t2.cid, amount, date, realcode, t1.type, di,t1.feccandid,firstlastp, t2.party, t3.Industry, t3.Sector, t4.bioguide_id        FROM pq_crp_pacs18 t1        INNER JOIN pq_crp_cands18 t2        ON t1.feccandid= t2.feccandid        INNER JOIN pq_crp_industry_names t3        ON t1.realcode = t3.Catcode        LEFT JOIN pq_us_legislators t4        ON t1.cid = t4.opensecrets_id        WHERE di == \"D\" AND        realcode NOT LIKE \"z9*%\" AND        realcode NOT LIKE \"z4*%\") sub        GROUP BY feccandid,firstlastp,bioguide_id, party, Industry '\u001b[0m\u001b[0;34m)\u001b[0m\u001b[0;34m.\u001b[0m\u001b[0mflatMap\u001b[0m\u001b[0;34m(\u001b[0m\u001b[0;32mlambda\u001b[0m \u001b[0mrow\u001b[0m\u001b[0;34m:\u001b[0m \u001b[0;34m{\u001b[0m\u001b[0;34m\"source\"\u001b[0m\u001b[0;34m:\u001b[0m \u001b[0mrow\u001b[0m\u001b[0;34m[\u001b[0m\u001b[0;34m'Industry'\u001b[0m\u001b[0;34m]\u001b[0m\u001b[0;34m,\u001b[0m \u001b[0;34m\"target\"\u001b[0m\u001b[0;34m:\u001b[0m \u001b[0mrow\u001b[0m\u001b[0;34m[\u001b[0m\u001b[0;34m'feccandid'\u001b[0m\u001b[0;34m]\u001b[0m\u001b[0;34m,\u001b[0m \u001b[0;34m\"value\"\u001b[0m\u001b[0;34m:\u001b[0m \u001b[0mrow\u001b[0m\u001b[0;34m[\u001b[0m\u001b[0;34m'contribution'\u001b[0m\u001b[0;34m]\u001b[0m\u001b[0;34m}\u001b[0m\u001b[0;34m)\u001b[0m\u001b[0;34m.\u001b[0m\u001b[0mcollect\u001b[0m\u001b[0;34m(\u001b[0m\u001b[0;34m)\u001b[0m\u001b[0;34m\u001b[0m\u001b[0m\n\u001b[0m",
      "\u001b[0;32m/opt/anaconda3/lib/python3.7/site-packages/pyspark/sql/dataframe.py\u001b[0m in \u001b[0;36m__getattr__\u001b[0;34m(self, name)\u001b[0m\n\u001b[1;32m   1180\u001b[0m         \u001b[0;32mif\u001b[0m \u001b[0mname\u001b[0m \u001b[0;32mnot\u001b[0m \u001b[0;32min\u001b[0m \u001b[0mself\u001b[0m\u001b[0;34m.\u001b[0m\u001b[0mcolumns\u001b[0m\u001b[0;34m:\u001b[0m\u001b[0;34m\u001b[0m\u001b[0m\n\u001b[1;32m   1181\u001b[0m             raise AttributeError(\n\u001b[0;32m-> 1182\u001b[0;31m                 \"'%s' object has no attribute '%s'\" % (self.__class__.__name__, name))\n\u001b[0m\u001b[1;32m   1183\u001b[0m         \u001b[0mjc\u001b[0m \u001b[0;34m=\u001b[0m \u001b[0mself\u001b[0m\u001b[0;34m.\u001b[0m\u001b[0m_jdf\u001b[0m\u001b[0;34m.\u001b[0m\u001b[0mapply\u001b[0m\u001b[0;34m(\u001b[0m\u001b[0mname\u001b[0m\u001b[0;34m)\u001b[0m\u001b[0;34m\u001b[0m\u001b[0m\n\u001b[1;32m   1184\u001b[0m         \u001b[0;32mreturn\u001b[0m \u001b[0mColumn\u001b[0m\u001b[0;34m(\u001b[0m\u001b[0mjc\u001b[0m\u001b[0;34m)\u001b[0m\u001b[0;34m\u001b[0m\u001b[0m\n",
      "\u001b[0;31mAttributeError\u001b[0m: 'DataFrame' object has no attribute 'flatMap'"
     ]
    }
   ],
   "source": [
    "sc.sql('SELECT sum(amount) as contribution ,feccandid, bioguide_id, firstlastp, party, Industry \\\n",
    "FROM (SELECT pacid,t2.cid, amount, date, realcode, t1.type, di,t1.feccandid,firstlastp, t2.party, t3.Industry, t3.Sector, t4.bioguide_id \\\n",
    "       FROM pq_crp_pacs18 t1 \\\n",
    "       INNER JOIN pq_crp_cands18 t2 \\\n",
    "       ON t1.feccandid= t2.feccandid \\\n",
    "       INNER JOIN pq_crp_industry_names t3 \\\n",
    "       ON t1.realcode = t3.Catcode \\\n",
    "       LEFT JOIN pq_us_legislators t4 \\\n",
    "       ON t1.cid = t4.opensecrets_id \\\n",
    "       WHERE di == \"D\" AND \\\n",
    "       realcode NOT LIKE \"z9*%\" AND \\\n",
    "       realcode NOT LIKE \"z4*%\") sub \\\n",
    "       GROUP BY feccandid,firstlastp,bioguide_id, party, Industry ').flatMap(lambda row: {\"source\": row['Industry'], \"target\": row['feccandid'], \"value\": row['contribution']}).collect()"
   ]
  },
  {
   "cell_type": "code",
   "execution_count": 24,
   "metadata": {},
   "outputs": [
    {
     "data": {
      "text/plain": [
       "pyspark.sql.dataframe.DataFrame"
      ]
     },
     "execution_count": 24,
     "metadata": {},
     "output_type": "execute_result"
    }
   ],
   "source": [
    "type(industry_viz)"
   ]
  },
  {
   "cell_type": "code",
   "execution_count": 25,
   "metadata": {},
   "outputs": [
    {
     "ename": "TypeError",
     "evalue": "data is already a DataFrame",
     "output_type": "error",
     "traceback": [
      "\u001b[0;31m---------------------------------------------------------------------------\u001b[0m",
      "\u001b[0;31mTypeError\u001b[0m                                 Traceback (most recent call last)",
      "\u001b[0;32m<ipython-input-25-4fb42a705b94>\u001b[0m in \u001b[0;36m<module>\u001b[0;34m()\u001b[0m\n\u001b[1;32m      2\u001b[0m \u001b[0msqlContext\u001b[0m\u001b[0;34m=\u001b[0m \u001b[0mHiveContext\u001b[0m\u001b[0;34m(\u001b[0m\u001b[0msc\u001b[0m\u001b[0;34m)\u001b[0m\u001b[0;34m\u001b[0m\u001b[0m\n\u001b[1;32m      3\u001b[0m \u001b[0;34m\u001b[0m\u001b[0m\n\u001b[0;32m----> 4\u001b[0;31m \u001b[0mindustry_viz_data\u001b[0m \u001b[0;34m=\u001b[0m \u001b[0msqlContext\u001b[0m\u001b[0;34m.\u001b[0m\u001b[0mcreateDataFrame\u001b[0m\u001b[0;34m(\u001b[0m\u001b[0mindustry_viz\u001b[0m\u001b[0;34m)\u001b[0m\u001b[0;34m\u001b[0m\u001b[0m\n\u001b[0m",
      "\u001b[0;32m/opt/anaconda3/lib/python3.7/site-packages/pyspark/sql/context.py\u001b[0m in \u001b[0;36mcreateDataFrame\u001b[0;34m(self, data, schema, samplingRatio, verifySchema)\u001b[0m\n\u001b[1;32m    300\u001b[0m         \u001b[0mPy4JJavaError\u001b[0m\u001b[0;34m:\u001b[0m \u001b[0;34m...\u001b[0m\u001b[0;34m\u001b[0m\u001b[0m\n\u001b[1;32m    301\u001b[0m         \"\"\"\n\u001b[0;32m--> 302\u001b[0;31m         \u001b[0;32mreturn\u001b[0m \u001b[0mself\u001b[0m\u001b[0;34m.\u001b[0m\u001b[0msparkSession\u001b[0m\u001b[0;34m.\u001b[0m\u001b[0mcreateDataFrame\u001b[0m\u001b[0;34m(\u001b[0m\u001b[0mdata\u001b[0m\u001b[0;34m,\u001b[0m \u001b[0mschema\u001b[0m\u001b[0;34m,\u001b[0m \u001b[0msamplingRatio\u001b[0m\u001b[0;34m,\u001b[0m \u001b[0mverifySchema\u001b[0m\u001b[0;34m)\u001b[0m\u001b[0;34m\u001b[0m\u001b[0m\n\u001b[0m\u001b[1;32m    303\u001b[0m \u001b[0;34m\u001b[0m\u001b[0m\n\u001b[1;32m    304\u001b[0m     \u001b[0;34m@\u001b[0m\u001b[0msince\u001b[0m\u001b[0;34m(\u001b[0m\u001b[0;36m1.3\u001b[0m\u001b[0;34m)\u001b[0m\u001b[0;34m\u001b[0m\u001b[0m\n",
      "\u001b[0;32m/opt/anaconda3/lib/python3.7/site-packages/pyspark/sql/session.py\u001b[0m in \u001b[0;36mcreateDataFrame\u001b[0;34m(self, data, schema, samplingRatio, verifySchema)\u001b[0m\n\u001b[1;32m    629\u001b[0m         \"\"\"\n\u001b[1;32m    630\u001b[0m         \u001b[0;32mif\u001b[0m \u001b[0misinstance\u001b[0m\u001b[0;34m(\u001b[0m\u001b[0mdata\u001b[0m\u001b[0;34m,\u001b[0m \u001b[0mDataFrame\u001b[0m\u001b[0;34m)\u001b[0m\u001b[0;34m:\u001b[0m\u001b[0;34m\u001b[0m\u001b[0m\n\u001b[0;32m--> 631\u001b[0;31m             \u001b[0;32mraise\u001b[0m \u001b[0mTypeError\u001b[0m\u001b[0;34m(\u001b[0m\u001b[0;34m\"data is already a DataFrame\"\u001b[0m\u001b[0;34m)\u001b[0m\u001b[0;34m\u001b[0m\u001b[0m\n\u001b[0m\u001b[1;32m    632\u001b[0m \u001b[0;34m\u001b[0m\u001b[0m\n\u001b[1;32m    633\u001b[0m         \u001b[0;32mif\u001b[0m \u001b[0misinstance\u001b[0m\u001b[0;34m(\u001b[0m\u001b[0mschema\u001b[0m\u001b[0;34m,\u001b[0m \u001b[0mbasestring\u001b[0m\u001b[0;34m)\u001b[0m\u001b[0;34m:\u001b[0m\u001b[0;34m\u001b[0m\u001b[0m\n",
      "\u001b[0;31mTypeError\u001b[0m: data is already a DataFrame"
     ]
    }
   ],
   "source": [
    "from pyspark.sql import HiveContext\n",
    "sqlContext= HiveContext(sc)\n",
    "\n",
    "industry_viz_data = sqlContext.createDataFrame(industry_viz)"
   ]
  },
  {
   "cell_type": "code",
   "execution_count": 30,
   "metadata": {},
   "outputs": [
    {
     "data": {
      "text/plain": [
       "Column<b'cid'>"
      ]
     },
     "execution_count": 30,
     "metadata": {},
     "output_type": "execute_result"
    }
   ],
   "source": [
    "industry_viz[1]"
   ]
  },
  {
   "cell_type": "markdown",
   "metadata": {},
   "source": [
    "Transforming into format needed for network viz"
   ]
  },
  {
   "cell_type": "code",
   "execution_count": 33,
   "metadata": {},
   "outputs": [
    {
     "ename": "AnalysisException",
     "evalue": "'Table or view not found: industry_viz; line 1 pos 65'",
     "output_type": "error",
     "traceback": [
      "\u001b[0;31m---------------------------------------------------------------------------\u001b[0m",
      "\u001b[0;31mPy4JJavaError\u001b[0m                             Traceback (most recent call last)",
      "\u001b[0;32m/opt/anaconda3/lib/python3.7/site-packages/pyspark/sql/utils.py\u001b[0m in \u001b[0;36mdeco\u001b[0;34m(*a, **kw)\u001b[0m\n\u001b[1;32m     62\u001b[0m         \u001b[0;32mtry\u001b[0m\u001b[0;34m:\u001b[0m\u001b[0;34m\u001b[0m\u001b[0m\n\u001b[0;32m---> 63\u001b[0;31m             \u001b[0;32mreturn\u001b[0m \u001b[0mf\u001b[0m\u001b[0;34m(\u001b[0m\u001b[0;34m*\u001b[0m\u001b[0ma\u001b[0m\u001b[0;34m,\u001b[0m \u001b[0;34m**\u001b[0m\u001b[0mkw\u001b[0m\u001b[0;34m)\u001b[0m\u001b[0;34m\u001b[0m\u001b[0m\n\u001b[0m\u001b[1;32m     64\u001b[0m         \u001b[0;32mexcept\u001b[0m \u001b[0mpy4j\u001b[0m\u001b[0;34m.\u001b[0m\u001b[0mprotocol\u001b[0m\u001b[0;34m.\u001b[0m\u001b[0mPy4JJavaError\u001b[0m \u001b[0;32mas\u001b[0m \u001b[0me\u001b[0m\u001b[0;34m:\u001b[0m\u001b[0;34m\u001b[0m\u001b[0m\n",
      "\u001b[0;32m/opt/anaconda3/lib/python3.7/site-packages/py4j/protocol.py\u001b[0m in \u001b[0;36mget_return_value\u001b[0;34m(answer, gateway_client, target_id, name)\u001b[0m\n\u001b[1;32m    327\u001b[0m                     \u001b[0;34m\"An error occurred while calling {0}{1}{2}.\\n\"\u001b[0m\u001b[0;34m.\u001b[0m\u001b[0;34m\u001b[0m\u001b[0m\n\u001b[0;32m--> 328\u001b[0;31m                     format(target_id, \".\", name), value)\n\u001b[0m\u001b[1;32m    329\u001b[0m             \u001b[0;32melse\u001b[0m\u001b[0;34m:\u001b[0m\u001b[0;34m\u001b[0m\u001b[0m\n",
      "\u001b[0;31mPy4JJavaError\u001b[0m: An error occurred while calling o33.sql.\n: org.apache.spark.sql.AnalysisException: Table or view not found: industry_viz; line 1 pos 65\n\tat org.apache.spark.sql.catalyst.analysis.package$AnalysisErrorAt.failAnalysis(package.scala:47)\n\tat org.apache.spark.sql.catalyst.analysis.Analyzer$ResolveRelations$.org$apache$spark$sql$catalyst$analysis$Analyzer$ResolveRelations$$lookupTableFromCatalog(Analyzer.scala:665)\n\tat org.apache.spark.sql.catalyst.analysis.Analyzer$ResolveRelations$.resolveRelation(Analyzer.scala:617)\n\tat org.apache.spark.sql.catalyst.analysis.Analyzer$ResolveRelations$$anonfun$apply$8.applyOrElse(Analyzer.scala:647)\n\tat org.apache.spark.sql.catalyst.analysis.Analyzer$ResolveRelations$$anonfun$apply$8.applyOrElse(Analyzer.scala:640)\n\tat org.apache.spark.sql.catalyst.trees.TreeNode$$anonfun$transformUp$1.apply(TreeNode.scala:289)\n\tat org.apache.spark.sql.catalyst.trees.TreeNode$$anonfun$transformUp$1.apply(TreeNode.scala:289)\n\tat org.apache.spark.sql.catalyst.trees.CurrentOrigin$.withOrigin(TreeNode.scala:70)\n\tat org.apache.spark.sql.catalyst.trees.TreeNode.transformUp(TreeNode.scala:288)\n\tat org.apache.spark.sql.catalyst.trees.TreeNode$$anonfun$3.apply(TreeNode.scala:286)\n\tat org.apache.spark.sql.catalyst.trees.TreeNode$$anonfun$3.apply(TreeNode.scala:286)\n\tat org.apache.spark.sql.catalyst.trees.TreeNode$$anonfun$4.apply(TreeNode.scala:306)\n\tat org.apache.spark.sql.catalyst.trees.TreeNode.mapProductIterator(TreeNode.scala:187)\n\tat org.apache.spark.sql.catalyst.trees.TreeNode.mapChildren(TreeNode.scala:304)\n\tat org.apache.spark.sql.catalyst.trees.TreeNode.transformUp(TreeNode.scala:286)\n\tat org.apache.spark.sql.catalyst.analysis.Analyzer$ResolveRelations$.apply(Analyzer.scala:640)\n\tat org.apache.spark.sql.catalyst.analysis.Analyzer$ResolveRelations$.apply(Analyzer.scala:586)\n\tat org.apache.spark.sql.catalyst.rules.RuleExecutor$$anonfun$execute$1$$anonfun$apply$1.apply(RuleExecutor.scala:87)\n\tat org.apache.spark.sql.catalyst.rules.RuleExecutor$$anonfun$execute$1$$anonfun$apply$1.apply(RuleExecutor.scala:84)\n\tat scala.collection.LinearSeqOptimized$class.foldLeft(LinearSeqOptimized.scala:124)\n\tat scala.collection.immutable.List.foldLeft(List.scala:84)\n\tat org.apache.spark.sql.catalyst.rules.RuleExecutor$$anonfun$execute$1.apply(RuleExecutor.scala:84)\n\tat org.apache.spark.sql.catalyst.rules.RuleExecutor$$anonfun$execute$1.apply(RuleExecutor.scala:76)\n\tat scala.collection.immutable.List.foreach(List.scala:381)\n\tat org.apache.spark.sql.catalyst.rules.RuleExecutor.execute(RuleExecutor.scala:76)\n\tat org.apache.spark.sql.catalyst.analysis.Analyzer.org$apache$spark$sql$catalyst$analysis$Analyzer$$executeSameContext(Analyzer.scala:124)\n\tat org.apache.spark.sql.catalyst.analysis.Analyzer.execute(Analyzer.scala:118)\n\tat org.apache.spark.sql.catalyst.analysis.Analyzer.executeAndCheck(Analyzer.scala:103)\n\tat org.apache.spark.sql.execution.QueryExecution.analyzed$lzycompute(QueryExecution.scala:57)\n\tat org.apache.spark.sql.execution.QueryExecution.analyzed(QueryExecution.scala:55)\n\tat org.apache.spark.sql.execution.QueryExecution.assertAnalyzed(QueryExecution.scala:47)\n\tat org.apache.spark.sql.Dataset$.ofRows(Dataset.scala:74)\n\tat org.apache.spark.sql.SparkSession.sql(SparkSession.scala:642)\n\tat sun.reflect.NativeMethodAccessorImpl.invoke0(Native Method)\n\tat sun.reflect.NativeMethodAccessorImpl.invoke(NativeMethodAccessorImpl.java:62)\n\tat sun.reflect.DelegatingMethodAccessorImpl.invoke(DelegatingMethodAccessorImpl.java:43)\n\tat java.lang.reflect.Method.invoke(Method.java:498)\n\tat py4j.reflection.MethodInvoker.invoke(MethodInvoker.java:244)\n\tat py4j.reflection.ReflectionEngine.invoke(ReflectionEngine.java:357)\n\tat py4j.Gateway.invoke(Gateway.java:282)\n\tat py4j.commands.AbstractCommand.invokeMethod(AbstractCommand.java:132)\n\tat py4j.commands.CallCommand.execute(CallCommand.java:79)\n\tat py4j.GatewayConnection.run(GatewayConnection.java:238)\n\tat java.lang.Thread.run(Thread.java:748)\nCaused by: org.apache.spark.sql.catalyst.analysis.NoSuchTableException: Table or view 'industry_viz' not found in database 'default';\n\tat org.apache.spark.sql.hive.client.HiveClient$$anonfun$getTable$1.apply(HiveClient.scala:81)\n\tat org.apache.spark.sql.hive.client.HiveClient$$anonfun$getTable$1.apply(HiveClient.scala:81)\n\tat scala.Option.getOrElse(Option.scala:121)\n\tat org.apache.spark.sql.hive.client.HiveClient$class.getTable(HiveClient.scala:81)\n\tat org.apache.spark.sql.hive.client.HiveClientImpl.getTable(HiveClientImpl.scala:83)\n\tat org.apache.spark.sql.hive.HiveExternalCatalog$$anonfun$getRawTable$1.apply(HiveExternalCatalog.scala:118)\n\tat org.apache.spark.sql.hive.HiveExternalCatalog$$anonfun$getRawTable$1.apply(HiveExternalCatalog.scala:118)\n\tat org.apache.spark.sql.hive.HiveExternalCatalog.withClient(HiveExternalCatalog.scala:97)\n\tat org.apache.spark.sql.hive.HiveExternalCatalog.getRawTable(HiveExternalCatalog.scala:117)\n\tat org.apache.spark.sql.hive.HiveExternalCatalog$$anonfun$getTable$1.apply(HiveExternalCatalog.scala:684)\n\tat org.apache.spark.sql.hive.HiveExternalCatalog$$anonfun$getTable$1.apply(HiveExternalCatalog.scala:684)\n\tat org.apache.spark.sql.hive.HiveExternalCatalog.withClient(HiveExternalCatalog.scala:97)\n\tat org.apache.spark.sql.hive.HiveExternalCatalog.getTable(HiveExternalCatalog.scala:683)\n\tat org.apache.spark.sql.catalyst.catalog.SessionCatalog.lookupRelation(SessionCatalog.scala:669)\n\tat org.apache.spark.sql.catalyst.analysis.Analyzer$ResolveRelations$.org$apache$spark$sql$catalyst$analysis$Analyzer$ResolveRelations$$lookupTableFromCatalog(Analyzer.scala:662)\n\t... 42 more\n",
      "\nDuring handling of the above exception, another exception occurred:\n",
      "\u001b[0;31mAnalysisException\u001b[0m                         Traceback (most recent call last)",
      "\u001b[0;32m<ipython-input-33-7cff7613e845>\u001b[0m in \u001b[0;36m<module>\u001b[0;34m()\u001b[0m\n\u001b[0;32m----> 1\u001b[0;31m \u001b[0msc\u001b[0m\u001b[0;34m.\u001b[0m\u001b[0msql\u001b[0m\u001b[0;34m(\u001b[0m\u001b[0;34m'SELECT amount ,feccandid,firstlastp, party, Industry        FROM industry_viz'\u001b[0m\u001b[0;34m)\u001b[0m\u001b[0;34m.\u001b[0m\u001b[0mlimit\u001b[0m\u001b[0;34m(\u001b[0m\u001b[0;36m10\u001b[0m\u001b[0;34m)\u001b[0m\u001b[0;34m\u001b[0m\u001b[0m\n\u001b[0m",
      "\u001b[0;32m/opt/anaconda3/lib/python3.7/site-packages/pyspark/sql/session.py\u001b[0m in \u001b[0;36msql\u001b[0;34m(self, sqlQuery)\u001b[0m\n\u001b[1;32m    708\u001b[0m         \u001b[0;34m[\u001b[0m\u001b[0mRow\u001b[0m\u001b[0;34m(\u001b[0m\u001b[0mf1\u001b[0m\u001b[0;34m=\u001b[0m\u001b[0;36m1\u001b[0m\u001b[0;34m,\u001b[0m \u001b[0mf2\u001b[0m\u001b[0;34m=\u001b[0m\u001b[0;34mu'row1'\u001b[0m\u001b[0;34m)\u001b[0m\u001b[0;34m,\u001b[0m \u001b[0mRow\u001b[0m\u001b[0;34m(\u001b[0m\u001b[0mf1\u001b[0m\u001b[0;34m=\u001b[0m\u001b[0;36m2\u001b[0m\u001b[0;34m,\u001b[0m \u001b[0mf2\u001b[0m\u001b[0;34m=\u001b[0m\u001b[0;34mu'row2'\u001b[0m\u001b[0;34m)\u001b[0m\u001b[0;34m,\u001b[0m \u001b[0mRow\u001b[0m\u001b[0;34m(\u001b[0m\u001b[0mf1\u001b[0m\u001b[0;34m=\u001b[0m\u001b[0;36m3\u001b[0m\u001b[0;34m,\u001b[0m \u001b[0mf2\u001b[0m\u001b[0;34m=\u001b[0m\u001b[0;34mu'row3'\u001b[0m\u001b[0;34m)\u001b[0m\u001b[0;34m]\u001b[0m\u001b[0;34m\u001b[0m\u001b[0m\n\u001b[1;32m    709\u001b[0m         \"\"\"\n\u001b[0;32m--> 710\u001b[0;31m         \u001b[0;32mreturn\u001b[0m \u001b[0mDataFrame\u001b[0m\u001b[0;34m(\u001b[0m\u001b[0mself\u001b[0m\u001b[0;34m.\u001b[0m\u001b[0m_jsparkSession\u001b[0m\u001b[0;34m.\u001b[0m\u001b[0msql\u001b[0m\u001b[0;34m(\u001b[0m\u001b[0msqlQuery\u001b[0m\u001b[0;34m)\u001b[0m\u001b[0;34m,\u001b[0m \u001b[0mself\u001b[0m\u001b[0;34m.\u001b[0m\u001b[0m_wrapped\u001b[0m\u001b[0;34m)\u001b[0m\u001b[0;34m\u001b[0m\u001b[0m\n\u001b[0m\u001b[1;32m    711\u001b[0m \u001b[0;34m\u001b[0m\u001b[0m\n\u001b[1;32m    712\u001b[0m     \u001b[0;34m@\u001b[0m\u001b[0msince\u001b[0m\u001b[0;34m(\u001b[0m\u001b[0;36m2.0\u001b[0m\u001b[0;34m)\u001b[0m\u001b[0;34m\u001b[0m\u001b[0m\n",
      "\u001b[0;32m/opt/anaconda3/lib/python3.7/site-packages/py4j/java_gateway.py\u001b[0m in \u001b[0;36m__call__\u001b[0;34m(self, *args)\u001b[0m\n\u001b[1;32m   1255\u001b[0m         \u001b[0manswer\u001b[0m \u001b[0;34m=\u001b[0m \u001b[0mself\u001b[0m\u001b[0;34m.\u001b[0m\u001b[0mgateway_client\u001b[0m\u001b[0;34m.\u001b[0m\u001b[0msend_command\u001b[0m\u001b[0;34m(\u001b[0m\u001b[0mcommand\u001b[0m\u001b[0;34m)\u001b[0m\u001b[0;34m\u001b[0m\u001b[0m\n\u001b[1;32m   1256\u001b[0m         return_value = get_return_value(\n\u001b[0;32m-> 1257\u001b[0;31m             answer, self.gateway_client, self.target_id, self.name)\n\u001b[0m\u001b[1;32m   1258\u001b[0m \u001b[0;34m\u001b[0m\u001b[0m\n\u001b[1;32m   1259\u001b[0m         \u001b[0;32mfor\u001b[0m \u001b[0mtemp_arg\u001b[0m \u001b[0;32min\u001b[0m \u001b[0mtemp_args\u001b[0m\u001b[0;34m:\u001b[0m\u001b[0;34m\u001b[0m\u001b[0m\n",
      "\u001b[0;32m/opt/anaconda3/lib/python3.7/site-packages/pyspark/sql/utils.py\u001b[0m in \u001b[0;36mdeco\u001b[0;34m(*a, **kw)\u001b[0m\n\u001b[1;32m     67\u001b[0m                                              e.java_exception.getStackTrace()))\n\u001b[1;32m     68\u001b[0m             \u001b[0;32mif\u001b[0m \u001b[0ms\u001b[0m\u001b[0;34m.\u001b[0m\u001b[0mstartswith\u001b[0m\u001b[0;34m(\u001b[0m\u001b[0;34m'org.apache.spark.sql.AnalysisException: '\u001b[0m\u001b[0;34m)\u001b[0m\u001b[0;34m:\u001b[0m\u001b[0;34m\u001b[0m\u001b[0m\n\u001b[0;32m---> 69\u001b[0;31m                 \u001b[0;32mraise\u001b[0m \u001b[0mAnalysisException\u001b[0m\u001b[0;34m(\u001b[0m\u001b[0ms\u001b[0m\u001b[0;34m.\u001b[0m\u001b[0msplit\u001b[0m\u001b[0;34m(\u001b[0m\u001b[0;34m': '\u001b[0m\u001b[0;34m,\u001b[0m \u001b[0;36m1\u001b[0m\u001b[0;34m)\u001b[0m\u001b[0;34m[\u001b[0m\u001b[0;36m1\u001b[0m\u001b[0;34m]\u001b[0m\u001b[0;34m,\u001b[0m \u001b[0mstackTrace\u001b[0m\u001b[0;34m)\u001b[0m\u001b[0;34m\u001b[0m\u001b[0m\n\u001b[0m\u001b[1;32m     70\u001b[0m             \u001b[0;32mif\u001b[0m \u001b[0ms\u001b[0m\u001b[0;34m.\u001b[0m\u001b[0mstartswith\u001b[0m\u001b[0;34m(\u001b[0m\u001b[0;34m'org.apache.spark.sql.catalyst.analysis'\u001b[0m\u001b[0;34m)\u001b[0m\u001b[0;34m:\u001b[0m\u001b[0;34m\u001b[0m\u001b[0m\n\u001b[1;32m     71\u001b[0m                 \u001b[0;32mraise\u001b[0m \u001b[0mAnalysisException\u001b[0m\u001b[0;34m(\u001b[0m\u001b[0ms\u001b[0m\u001b[0;34m.\u001b[0m\u001b[0msplit\u001b[0m\u001b[0;34m(\u001b[0m\u001b[0;34m': '\u001b[0m\u001b[0;34m,\u001b[0m \u001b[0;36m1\u001b[0m\u001b[0;34m)\u001b[0m\u001b[0;34m[\u001b[0m\u001b[0;36m1\u001b[0m\u001b[0;34m]\u001b[0m\u001b[0;34m,\u001b[0m \u001b[0mstackTrace\u001b[0m\u001b[0;34m)\u001b[0m\u001b[0;34m\u001b[0m\u001b[0m\n",
      "\u001b[0;31mAnalysisException\u001b[0m: 'Table or view not found: industry_viz; line 1 pos 65'"
     ]
    }
   ],
   "source": [
    "sc.sql('SELECT amount ,feccandid,firstlastp, party, Industry \\\n",
    "       FROM industry_viz').limit(10)"
   ]
  },
  {
   "cell_type": "code",
   "execution_count": null,
   "metadata": {},
   "outputs": [],
   "source": [
    "grouped_src_dst = src_dst.groupby(['CMTE_ID', 'CAND_ID','STATE'])['TRANSACTION_AMT'].sum().reset_index()\n",
    "#grouped_src_dst['TRANSACTION_AMT'].agg(np.sum)\n",
    "grouped_src_dst.head()"
   ]
  },
  {
   "cell_type": "code",
   "execution_count": 63,
   "metadata": {},
   "outputs": [],
   "source": [
    "industry_viz_data = industry_viz.toPandas()"
   ]
  },
  {
   "cell_type": "code",
   "execution_count": 64,
   "metadata": {},
   "outputs": [
    {
     "data": {
      "text/html": [
       "<div>\n",
       "<style scoped>\n",
       "    .dataframe tbody tr th:only-of-type {\n",
       "        vertical-align: middle;\n",
       "    }\n",
       "\n",
       "    .dataframe tbody tr th {\n",
       "        vertical-align: top;\n",
       "    }\n",
       "\n",
       "    .dataframe thead th {\n",
       "        text-align: right;\n",
       "    }\n",
       "</style>\n",
       "<table border=\"1\" class=\"dataframe\">\n",
       "  <thead>\n",
       "    <tr style=\"text-align: right;\">\n",
       "      <th></th>\n",
       "      <th>sum(amount)</th>\n",
       "      <th>feccandid</th>\n",
       "      <th>bioguide_id</th>\n",
       "      <th>firstlastp</th>\n",
       "      <th>party</th>\n",
       "      <th>Industry</th>\n",
       "    </tr>\n",
       "  </thead>\n",
       "  <tbody>\n",
       "    <tr>\n",
       "      <th>0</th>\n",
       "      <td>66500.0</td>\n",
       "      <td>H6TX02079</td>\n",
       "      <td>B001291</td>\n",
       "      <td>Brian Babin (R)</td>\n",
       "      <td>R</td>\n",
       "      <td>Air Transport</td>\n",
       "    </tr>\n",
       "    <tr>\n",
       "      <th>1</th>\n",
       "      <td>20000.0</td>\n",
       "      <td>H4WI04183</td>\n",
       "      <td>M001160</td>\n",
       "      <td>Gwen Moore (D)</td>\n",
       "      <td>D</td>\n",
       "      <td>Commercial Banks</td>\n",
       "    </tr>\n",
       "    <tr>\n",
       "      <th>2</th>\n",
       "      <td>16000.0</td>\n",
       "      <td>H8OH05036</td>\n",
       "      <td>L000566</td>\n",
       "      <td>Robert E Latta (R)</td>\n",
       "      <td>R</td>\n",
       "      <td>Chemical &amp; Related Manufacturing</td>\n",
       "    </tr>\n",
       "    <tr>\n",
       "      <th>3</th>\n",
       "      <td>117100.0</td>\n",
       "      <td>S6UT00063</td>\n",
       "      <td>H000338</td>\n",
       "      <td>Orrin G Hatch (R)</td>\n",
       "      <td>R</td>\n",
       "      <td>Pharmaceuticals/Health Products</td>\n",
       "    </tr>\n",
       "    <tr>\n",
       "      <th>4</th>\n",
       "      <td>12000.0</td>\n",
       "      <td>H6AK00045</td>\n",
       "      <td>Y000033</td>\n",
       "      <td>Don Young (R)</td>\n",
       "      <td>R</td>\n",
       "      <td>Crop Production &amp; Basic Processing</td>\n",
       "    </tr>\n",
       "  </tbody>\n",
       "</table>\n",
       "</div>"
      ],
      "text/plain": [
       "   sum(amount)  feccandid bioguide_id          firstlastp party  \\\n",
       "0      66500.0  H6TX02079     B001291     Brian Babin (R)     R   \n",
       "1      20000.0  H4WI04183     M001160      Gwen Moore (D)     D   \n",
       "2      16000.0  H8OH05036     L000566  Robert E Latta (R)     R   \n",
       "3     117100.0  S6UT00063     H000338   Orrin G Hatch (R)     R   \n",
       "4      12000.0  H6AK00045     Y000033       Don Young (R)     R   \n",
       "\n",
       "                             Industry  \n",
       "0                       Air Transport  \n",
       "1                    Commercial Banks  \n",
       "2    Chemical & Related Manufacturing  \n",
       "3     Pharmaceuticals/Health Products  \n",
       "4  Crop Production & Basic Processing  "
      ]
     },
     "execution_count": 64,
     "metadata": {},
     "output_type": "execute_result"
    }
   ],
   "source": [
    "industry_viz_data.head()"
   ]
  },
  {
   "cell_type": "code",
   "execution_count": 68,
   "metadata": {},
   "outputs": [],
   "source": [
    "links_list = list(industry_viz_data.apply(lambda row: {\"source\": row['Industry'], \"target\": row['firstlastp'], \"value\": row['sum(amount)']}, axis=1))"
   ]
  },
  {
   "cell_type": "code",
   "execution_count": 69,
   "metadata": {},
   "outputs": [
    {
     "data": {
      "text/plain": [
       "[{'source': 'Commercial Banks', 'target': 'Gwen Moore (D)', 'value': 20000.0},\n",
       " {'source': 'Chemical & Related Manufacturing',\n",
       "  'target': 'Robert E Latta (R)',\n",
       "  'value': 16000.0},\n",
       " {'source': 'Pharmaceuticals/Health Products',\n",
       "  'target': 'Orrin G Hatch (R)',\n",
       "  'value': 117100.0},\n",
       " {'source': 'Crop Production & Basic Processing',\n",
       "  'target': 'Don Young (R)',\n",
       "  'value': 12000.0},\n",
       " {'source': 'Building Materials & Equipment',\n",
       "  'target': 'Paul Cook (R)',\n",
       "  'value': 35250.0},\n",
       " {'source': 'Oil & Gas', 'target': 'Scott W Taylor (R)', 'value': 14000.0},\n",
       " {'source': 'Health Services/HMOs', 'target': 'Tim Ryan (D)', 'value': 2000.0},\n",
       " {'source': 'Dairy', 'target': 'Chris Collins (R)', 'value': 11000.0},\n",
       " {'source': 'Misc Manufacturing & Distributing',\n",
       "  'target': 'Seth Moulton (D)',\n",
       "  'value': 8500.0}]"
      ]
     },
     "execution_count": 69,
     "metadata": {},
     "output_type": "execute_result"
    }
   ],
   "source": [
    "links_list[1:10]"
   ]
  },
  {
   "cell_type": "markdown",
   "metadata": {},
   "source": [
    "## Making Nodes"
   ]
  },
  {
   "cell_type": "code",
   "execution_count": 96,
   "metadata": {},
   "outputs": [
    {
     "data": {
      "text/html": [
       "<div>\n",
       "<style scoped>\n",
       "    .dataframe tbody tr th:only-of-type {\n",
       "        vertical-align: middle;\n",
       "    }\n",
       "\n",
       "    .dataframe tbody tr th {\n",
       "        vertical-align: top;\n",
       "    }\n",
       "\n",
       "    .dataframe thead th {\n",
       "        text-align: right;\n",
       "    }\n",
       "</style>\n",
       "<table border=\"1\" class=\"dataframe\">\n",
       "  <thead>\n",
       "    <tr style=\"text-align: right;\">\n",
       "      <th></th>\n",
       "      <th>firstlastp</th>\n",
       "      <th>party</th>\n",
       "      <th>bioguide_id</th>\n",
       "    </tr>\n",
       "  </thead>\n",
       "  <tbody>\n",
       "    <tr>\n",
       "      <th>0</th>\n",
       "      <td>Air Transport</td>\n",
       "      <td>Industry</td>\n",
       "      <td>flower</td>\n",
       "    </tr>\n",
       "    <tr>\n",
       "      <th>1</th>\n",
       "      <td>Commercial Banks</td>\n",
       "      <td>Industry</td>\n",
       "      <td>flower</td>\n",
       "    </tr>\n",
       "    <tr>\n",
       "      <th>2</th>\n",
       "      <td>Chemical &amp; Related Manufacturing</td>\n",
       "      <td>Industry</td>\n",
       "      <td>flower</td>\n",
       "    </tr>\n",
       "    <tr>\n",
       "      <th>3</th>\n",
       "      <td>Pharmaceuticals/Health Products</td>\n",
       "      <td>Industry</td>\n",
       "      <td>flower</td>\n",
       "    </tr>\n",
       "    <tr>\n",
       "      <th>4</th>\n",
       "      <td>Crop Production &amp; Basic Processing</td>\n",
       "      <td>Industry</td>\n",
       "      <td>flower</td>\n",
       "    </tr>\n",
       "  </tbody>\n",
       "</table>\n",
       "</div>"
      ],
      "text/plain": [
       "                           firstlastp     party bioguide_id\n",
       "0                       Air Transport  Industry      flower\n",
       "1                    Commercial Banks  Industry      flower\n",
       "2    Chemical & Related Manufacturing  Industry      flower\n",
       "3     Pharmaceuticals/Health Products  Industry      flower\n",
       "4  Crop Production & Basic Processing  Industry      flower"
      ]
     },
     "execution_count": 96,
     "metadata": {},
     "output_type": "execute_result"
    }
   ],
   "source": [
    "import pandas as pd\n",
    "df_nodes_I = pd.DataFrame(industry_viz_data.Industry.unique())\n",
    "df_nodes_I[\"party\"] = \"Industry\"\n",
    "df_nodes_I['bioguide_id'] = 'flower'\n",
    "df_nodes_I.columns = ['firstlastp' if x== 0 else x for x in df_nodes_P.columns]\n",
    "df_nodes_I.head()"
   ]
  },
  {
   "cell_type": "code",
   "execution_count": 97,
   "metadata": {},
   "outputs": [
    {
     "data": {
      "text/html": [
       "<div>\n",
       "<style scoped>\n",
       "    .dataframe tbody tr th:only-of-type {\n",
       "        vertical-align: middle;\n",
       "    }\n",
       "\n",
       "    .dataframe tbody tr th {\n",
       "        vertical-align: top;\n",
       "    }\n",
       "\n",
       "    .dataframe thead th {\n",
       "        text-align: right;\n",
       "    }\n",
       "</style>\n",
       "<table border=\"1\" class=\"dataframe\">\n",
       "  <thead>\n",
       "    <tr style=\"text-align: right;\">\n",
       "      <th></th>\n",
       "      <th>firstlastp</th>\n",
       "      <th>party</th>\n",
       "      <th>bioguide_id</th>\n",
       "    </tr>\n",
       "  </thead>\n",
       "  <tbody>\n",
       "    <tr>\n",
       "      <th>0</th>\n",
       "      <td>Brian Babin (R)</td>\n",
       "      <td>R</td>\n",
       "      <td>B001291</td>\n",
       "    </tr>\n",
       "    <tr>\n",
       "      <th>1</th>\n",
       "      <td>Gwen Moore (D)</td>\n",
       "      <td>D</td>\n",
       "      <td>M001160</td>\n",
       "    </tr>\n",
       "    <tr>\n",
       "      <th>2</th>\n",
       "      <td>Robert E Latta (R)</td>\n",
       "      <td>R</td>\n",
       "      <td>L000566</td>\n",
       "    </tr>\n",
       "    <tr>\n",
       "      <th>3</th>\n",
       "      <td>Orrin G Hatch (R)</td>\n",
       "      <td>R</td>\n",
       "      <td>H000338</td>\n",
       "    </tr>\n",
       "    <tr>\n",
       "      <th>4</th>\n",
       "      <td>Don Young (R)</td>\n",
       "      <td>R</td>\n",
       "      <td>Y000033</td>\n",
       "    </tr>\n",
       "  </tbody>\n",
       "</table>\n",
       "</div>"
      ],
      "text/plain": [
       "           firstlastp party bioguide_id\n",
       "0     Brian Babin (R)     R     B001291\n",
       "1      Gwen Moore (D)     D     M001160\n",
       "2  Robert E Latta (R)     R     L000566\n",
       "3   Orrin G Hatch (R)     R     H000338\n",
       "4       Don Young (R)     R     Y000033"
      ]
     },
     "execution_count": 97,
     "metadata": {},
     "output_type": "execute_result"
    }
   ],
   "source": [
    "df_nodes_P = industry_viz_data[['firstlastp', 'party', 'bioguide_id']]\n",
    "df_nodes_P.head()"
   ]
  },
  {
   "cell_type": "code",
   "execution_count": 103,
   "metadata": {},
   "outputs": [
    {
     "data": {
      "text/plain": [
       "array(['B001291', 'M001160', 'L000566', 'H000338', 'Y000033', 'C001094',\n",
       "       'T000477', 'R000577', 'C001092', 'M001196', 'T000250', 'P000592',\n",
       "       'M001199', 'C001112', 'G000579', 'G000583', 'C001053', 'R000570',\n",
       "       'A000373', 'I000055', 'N000015', 'R000395', 'S001187', 'S001196',\n",
       "       'C001077', 'W000795', 'G000551', 'C001035', 'L000551', 'W000820',\n",
       "       'R000601', 'R000307', 'M000312', 'R000591', 'K000384', 'H001074',\n",
       "       'C001063', 'K000188', 'D000612', 'H001046', 'P000595', 'W000437',\n",
       "       'H001068', 'M001170', 'S001194', 'R000486', 'F000464', 'R000595',\n",
       "       'D000096', 'S001198', 'F000459', 'R000575', 'B001298', 'R000576',\n",
       "       'J000299', 'H001077', 'S001190', 'R000487', 'G000555', 'F000062',\n",
       "       'B001243', 'B001227', 'M001158', 'D000607', 'B001287', 'P000611',\n",
       "       'C001068', 'S001199', 'P000604', 'G000386', 'S001197', 'R000593',\n",
       "       'J000297', 'K000383', 'K000379', 'J000298', 'M001189', 'M001159',\n",
       "       'E000297', 'B001236', 'G000359', 'S001176', 'T000238', 'J000289',\n",
       "       'G000552', 'F000460', 'M001179', 'L000573', 'B001267', 'C001051',\n",
       "       None, 'H001058', 'C001103', 'D000619', 'F000450', 'C001095',\n",
       "       'K000367', 'K000376', 'M001187', 'V000081', 'J000300', 'D000624',\n",
       "       'W000798', 'M001193', 'C001107', 'P000608', 'A000371', 'K000392',\n",
       "       'F000466', 'M001156', 'A000055', 'E000294', 'W000810', 'G000558',\n",
       "       'A000369', 'K000362', 'J000294', 'F000455', 'W000808', 'C001080',\n",
       "       'D000191', 'A000374', 'S001183', 'T000472', 'M001201', 'B001260',\n",
       "       'V000129', 'J000032', 'M000639', 'S001191', 'P000258', 'W000822',\n",
       "       'S001200', 'B001270', 'C000141', 'C001059', 'C001070', 'L000562',\n",
       "       'W000800', 'R000609', 'C001071', 'S000051', 'D000618', 'L000560',\n",
       "       'J000290', 'L000583', 'J000292', 'B000575', 'K000393', 'K000385',\n",
       "       'E000296', 'C001067', 'U000031', 'G000559', 'H001071', 'M001166',\n",
       "       'C001108', 'H001069', 'K000380', 'H001067', 'R000583', 'C000127',\n",
       "       'H001041', 'R000586', 'S001192', 'B001303', 'G000289', 'B001295',\n",
       "       'L000587', 'D000604', 'P000609', 'F000449', 'N000189', 'B001297',\n",
       "       'B001250', 'H001056', 'J000288', 'C001069', 'M001183', 'B001245',\n",
       "       'L000557', 'L000589', 'A000375', 'L000575', 'G000577', 'M001165',\n",
       "       'B001277', 'W000812', 'L000582', 'G000581', 'D000628', 'P000149',\n",
       "       'T000467', 'L000570', 'S000033', 'B000944', 'Y000065', 'C001105',\n",
       "       'C000537', 'C001047', 'P000593', 'B001293', 'R000604', 'D000197',\n",
       "       'F000444', 'Y000063', 'L000563', 'J000255', 'B001289', 'C001048',\n",
       "       'M001157', 'D000482', 'P000605', 'P000612', 'C001111', 'R000603',\n",
       "       'D000598', 'N000181', 'D000625', 'C001087', 'V000132', 'A000370',\n",
       "       'D000620', 'A000360', 'S001154', 'T000461', 'C001098', 'K000391',\n",
       "       'C001091', 'G000580', 'K000381', 'C001038', 'B001300', 'S000522',\n",
       "       'B001292', 'L000581', 'S001189', 'B000574', 'K000378', 'L000397',\n",
       "       'H001047', 'S000364', 'B001275', 'T000462', 'L000578', 'G000546',\n",
       "       'H001048', 'P000588', 'P000096', 'R000592', 'A000372', 'C001075',\n",
       "       'J000126', 'D000600', 'B000490', 'S000185', 'S000480', 'F000457',\n",
       "       'D000621', 'D000626', 'K000210', 'E000215', 'L000491', 'S001202',\n",
       "       'S001170', 'C001109', 'H001079', 'R000608', 'B001301', 'M001200',\n",
       "       'H001075', 'H001038', 'B000755', 'W000797', 'N000188', 'M001185',\n",
       "       'W000802', 'L000564', 'G000574', 'N000032', 'W000816', 'F000451',\n",
       "       'G000563', 'V000130', 'S001201', 'E000293', 'M000355', 'B001282',\n",
       "       'R000588', 'L000579', 'P000449', 'S001203', 'L000569', 'S000510',\n",
       "       'G000560', 'S001181', 'C001097', 'H001045', 'R000580', 'K000009',\n",
       "       'C000266', 'B001285', 'M001184', 'D000616', 'S001180', 'F000454',\n",
       "       'C000754', 'C001106', 'S000320', 'L000567', 'K000388', 'D000533',\n",
       "       'P000606', 'L000480', 'G000585', 'G000377', 'P000613', 'B001281',\n",
       "       'C000984', 'T000470', 'W000809', 'B000911', 'S001156', 'D000627',\n",
       "       'G000584', 'M001180', 'P000594', 'C001084', 'M001111', 'T000469',\n",
       "       'J000295', 'H001065', 'H001064', 'H001073', 'D000614', 'H001072',\n",
       "       'G000566', 'E000298', 'M001181', 'L000586', 'L000287', 'B001230',\n",
       "       'T000193', 'S000248', 'E000288', 'C001093', 'V000131', 'W000815',\n",
       "       'R000605', 'R000584', 'S001165', 'M001177', 'Y000064', 'B000213',\n",
       "       'F000461', 'O000170', 'C001088', 'S001148', 'B001290', 'C001113',\n",
       "       'P000601', 'Z000017', 'R000515', 'W000791', 'S000250', 'Y000066',\n",
       "       'C001078', 'E000179', 'H000874', 'M001202', 'C001090', 'I000024',\n",
       "       'S000770', 'O000168', 'R000606', 'R000582', 'M001190', 'V000108',\n",
       "       'H001078', 'R000122', 'M001195', 'R000599', 'B001305', 'K000382',\n",
       "       'L000584', 'L000174', 'S001193', 'W000806', 'S001195', 'I000056',\n",
       "       'C000059', 'H001053', 'H001059', 'M000934', 'T000474', 'Q000023',\n",
       "       'B001302', 'P000034', 'M001169', 'C001056', 'W000821', 'N000147',\n",
       "       'D000610', 'D000623', 'M001197', 'E000295', 'G000562', 'P000523',\n",
       "       'W000819', 'G000576', 'S001184', 'M001163', 'O000171', 'S001157',\n",
       "       'T000465', 'F000458', 'S000148', 'G000571', 'S001172', 'D000216',\n",
       "       'L000559', 'W000805', 'U000039', 'N000190', 'L000263', 'C001061',\n",
       "       'G000569', 'C001114', 'C000714', 'F000445', 'B001257', 'R000598',\n",
       "       'C001049', 'B001251', 'R000607', 'B001261', 'P000610', 'B001284',\n",
       "       'M000087', 'F000462', 'J000293', 'G000410', 'N000180', 'L000565',\n",
       "       'D000617', 'C001062', 'K000387', 'F000465', 'T000464', 'R000585',\n",
       "       'H001042', 'S001145', 'D000615', 'R000578', 'P000599', 'C001101',\n",
       "       'N000002', 'C001072', 'K000386', 'T000460', 'N000184', 'T000463',\n",
       "       'M001176', 'C001096', 'G000578', 'H001036', 'W000804', 'P000603',\n",
       "       'B001278', 'C001110', 'C000880', 'L000574', 'T000476', 'C000174',\n",
       "       'F000463', 'B001288', 'M000133', 'L000576', 'W000814', 'T000478',\n",
       "       'C000567', 'D000399', 'K000375', 'B001304', 'B001294', 'S000583',\n",
       "       'C001037', 'M001194', 'S001185', 'S001175', 'R000597', 'M001198',\n",
       "       'W000779', 'L000585', 'G000582', 'M001137', 'G000553', 'K000390',\n",
       "       'T000468', 'B001296', 'H001076', 'L000577', 'M000702', 'M000689',\n",
       "       'B001248', 'B001135', 'P000607', 'H001050', 'H001052', 'C001066',\n",
       "       'H001066', 'B001306', 'M001153', 'B001273', 'B001274', 'N000127',\n",
       "       'F000372', 'B001269', 'L000554', 'P000197', 'H001034', 'V000128',\n",
       "       'H000324', 'W000799', 'G000568', 'S001177', 'T000475', 'K000368',\n",
       "       'H001061', 'B001286', 'M001143', 'S000244', 'H001070', 'N000179',\n",
       "       'W000813', 'M001188', 'W000187', 'G000565', 'S001150', 'R000602',\n",
       "       'C001115', 'D000622', 'B001299', 'D000563', 'S001141', 'Z000018',\n",
       "       'K000389', 'C000286', 'F000448', 'M000933', 'W000817', 'S000344',\n",
       "       'B001283', 'R000409', 'G000575', 'Y000062', 'E000285', 'S001168',\n",
       "       'D000613', 'L000580', 'S000059', 'C001041', 'G000535', 'B000220',\n",
       "       'A000368', 'R000146', 'M001182', 'P000598', 'N000182', 'B000287',\n",
       "       'L000588', 'F000061', 'P000597', 'P000373', 'R000596', 'E000291',\n",
       "       'R000053', 'G000573', 'T000473', 'B001233', 'R000600', 'H001051',\n",
       "       'B001252', 'C001083', 'B001255', 'H001030', 'A000367', 'G000564',\n",
       "       'S001188', 'H000206', 'S001179', 'N000185', 'M001144', 'D000611',\n",
       "       'R000587', 'R000581', 'M001178', 'C000071', 'C001102', 'G000549',\n",
       "       'L000553', 'S000030', 'T000266', 'L000571', 'P000602', 'B000657',\n",
       "       'P000591', 'B001256', 'W000215', 'V000127', 'B001271', 'G000570',\n",
       "       'J000296', 'B001254', 'B001234', 'S000749', 'H001057'],\n",
       "      dtype=object)"
      ]
     },
     "execution_count": 103,
     "metadata": {},
     "output_type": "execute_result"
    }
   ],
   "source": [
    "df_nodes_P['bioguide_id'].unique()"
   ]
  },
  {
   "cell_type": "code",
   "execution_count": 98,
   "metadata": {},
   "outputs": [
    {
     "data": {
      "text/html": [
       "<div>\n",
       "<style scoped>\n",
       "    .dataframe tbody tr th:only-of-type {\n",
       "        vertical-align: middle;\n",
       "    }\n",
       "\n",
       "    .dataframe tbody tr th {\n",
       "        vertical-align: top;\n",
       "    }\n",
       "\n",
       "    .dataframe thead th {\n",
       "        text-align: right;\n",
       "    }\n",
       "</style>\n",
       "<table border=\"1\" class=\"dataframe\">\n",
       "  <thead>\n",
       "    <tr style=\"text-align: right;\">\n",
       "      <th></th>\n",
       "      <th>firstlastp</th>\n",
       "      <th>party</th>\n",
       "      <th>bioguide_id</th>\n",
       "    </tr>\n",
       "  </thead>\n",
       "  <tbody>\n",
       "    <tr>\n",
       "      <th>0</th>\n",
       "      <td>Brian Babin (R)</td>\n",
       "      <td>R</td>\n",
       "      <td>B001291</td>\n",
       "    </tr>\n",
       "    <tr>\n",
       "      <th>1</th>\n",
       "      <td>Gwen Moore (D)</td>\n",
       "      <td>D</td>\n",
       "      <td>M001160</td>\n",
       "    </tr>\n",
       "    <tr>\n",
       "      <th>2</th>\n",
       "      <td>Robert E Latta (R)</td>\n",
       "      <td>R</td>\n",
       "      <td>L000566</td>\n",
       "    </tr>\n",
       "    <tr>\n",
       "      <th>3</th>\n",
       "      <td>Orrin G Hatch (R)</td>\n",
       "      <td>R</td>\n",
       "      <td>H000338</td>\n",
       "    </tr>\n",
       "    <tr>\n",
       "      <th>4</th>\n",
       "      <td>Don Young (R)</td>\n",
       "      <td>R</td>\n",
       "      <td>Y000033</td>\n",
       "    </tr>\n",
       "  </tbody>\n",
       "</table>\n",
       "</div>"
      ],
      "text/plain": [
       "           firstlastp party bioguide_id\n",
       "0     Brian Babin (R)     R     B001291\n",
       "1      Gwen Moore (D)     D     M001160\n",
       "2  Robert E Latta (R)     R     L000566\n",
       "3   Orrin G Hatch (R)     R     H000338\n",
       "4       Don Young (R)     R     Y000033"
      ]
     },
     "execution_count": 98,
     "metadata": {},
     "output_type": "execute_result"
    }
   ],
   "source": [
    "df_nodes = pd.concat([df_nodes_P,df_nodes_I])\n",
    "df_nodes.head()"
   ]
  },
  {
   "cell_type": "code",
   "execution_count": 101,
   "metadata": {},
   "outputs": [
    {
     "data": {
      "text/plain": [
       "(27818, 3)"
      ]
     },
     "execution_count": 101,
     "metadata": {},
     "output_type": "execute_result"
    }
   ],
   "source": [
    "df_nodes.shape"
   ]
  },
  {
   "cell_type": "code",
   "execution_count": 104,
   "metadata": {},
   "outputs": [],
   "source": [
    "node_list = list(df_nodes.apply(lambda row: {\"name\": row['firstlastp'], \"group\": row['party'], \"pic_id\": row['bioguide_id']}, axis=1))"
   ]
  },
  {
   "cell_type": "code",
   "execution_count": 106,
   "metadata": {},
   "outputs": [
    {
     "data": {
      "text/plain": [
       "[{'name': 'Misc Agriculture', 'group': 'Industry', 'pic_id': 'flower'},\n",
       " {'name': 'Marijuana', 'group': 'Industry', 'pic_id': 'flower'},\n",
       " {'name': 'Joint Candidate Cmte', 'group': 'Industry', 'pic_id': 'flower'},\n",
       " {'name': 'Civil Servants/Public Officials',\n",
       "  'group': 'Industry',\n",
       "  'pic_id': 'flower'},\n",
       " {'name': 'Other', 'group': 'Industry', 'pic_id': 'flower'}]"
      ]
     },
     "execution_count": 106,
     "metadata": {},
     "output_type": "execute_result"
    }
   ],
   "source": [
    "len(node_list)\n",
    "node_list[-5:]"
   ]
  },
  {
   "cell_type": "markdown",
   "metadata": {},
   "source": [
    "### Merging Nodes and Links and exporting"
   ]
  },
  {
   "cell_type": "code",
   "execution_count": 107,
   "metadata": {},
   "outputs": [
    {
     "data": {
      "text/plain": [
       "dict_keys(['nodes', 'links'])"
      ]
     },
     "execution_count": 107,
     "metadata": {},
     "output_type": "execute_result"
    }
   ],
   "source": [
    "json_prep = {\"nodes\":node_list, \"links\":links_list}\n",
    "json_prep.keys()"
   ]
  },
  {
   "cell_type": "code",
   "execution_count": 110,
   "metadata": {},
   "outputs": [],
   "source": [
    "import json\n",
    "json_dump = json.dumps(json_prep, indent=1, sort_keys=True)\n",
    "filename_out = 'industry_try1.json'\n",
    "json_out = open(filename_out,'w')\n",
    "json_out.write(json_dump)\n",
    "json_out.close()"
   ]
  },
  {
   "cell_type": "code",
   "execution_count": null,
   "metadata": {},
   "outputs": [],
   "source": []
  }
 ],
 "metadata": {
  "kernelspec": {
   "display_name": "Python 3",
   "language": "python",
   "name": "python3"
  },
  "language_info": {
   "codemirror_mode": {
    "name": "ipython",
    "version": 3
   },
   "file_extension": ".py",
   "mimetype": "text/x-python",
   "name": "python",
   "nbconvert_exporter": "python",
   "pygments_lexer": "ipython3",
   "version": "3.7.0"
  }
 },
 "nbformat": 4,
 "nbformat_minor": 2
}
