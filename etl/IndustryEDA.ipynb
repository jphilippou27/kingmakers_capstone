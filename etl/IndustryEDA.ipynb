{
 "cells": [
  {
   "cell_type": "markdown",
   "metadata": {},
   "source": [
    "# EDA - preping the industry data"
   ]
  },
  {
   "cell_type": "code",
   "execution_count": 41,
   "metadata": {},
   "outputs": [],
   "source": [
    "import os.path as osp"
   ]
  },
  {
   "cell_type": "code",
   "execution_count": 1,
   "metadata": {},
   "outputs": [],
   "source": [
    "import pyspark \n",
    "sc = pyspark.sql.SparkSession.Builder()\\\n",
    "        .master('yarn')\\\n",
    "        .config('spark.executor.instances', '1')\\\n",
    "        .appName('hive-matt')\\\n",
    "        .enableHiveSupport()\\\n",
    "        .getOrCreate()"
   ]
  },
  {
   "cell_type": "code",
   "execution_count": 2,
   "metadata": {},
   "outputs": [
    {
     "data": {
      "text/html": [
       "\n",
       "            <div>\n",
       "                <p><b>SparkSession - hive</b></p>\n",
       "                \n",
       "        <div>\n",
       "            <p><b>SparkContext</b></p>\n",
       "\n",
       "            <p><a href=\"http://cap1:4042\">Spark UI</a></p>\n",
       "\n",
       "            <dl>\n",
       "              <dt>Version</dt>\n",
       "                <dd><code>v2.3.2</code></dd>\n",
       "              <dt>Master</dt>\n",
       "                <dd><code>yarn</code></dd>\n",
       "              <dt>AppName</dt>\n",
       "                <dd><code>hive-matt</code></dd>\n",
       "            </dl>\n",
       "        </div>\n",
       "        \n",
       "            </div>\n",
       "        "
      ],
      "text/plain": [
       "<pyspark.sql.session.SparkSession at 0x7f4004547358>"
      ]
     },
     "execution_count": 2,
     "metadata": {},
     "output_type": "execute_result"
    }
   ],
   "source": [
    "sc"
   ]
  },
  {
   "cell_type": "code",
   "execution_count": 3,
   "metadata": {},
   "outputs": [
    {
     "data": {
      "text/plain": [
       "[Row(database='default', tableName='pac_spending', isTemporary=False),\n",
       " Row(database='default', tableName='pac_spending_by_type', isTemporary=False),\n",
       " Row(database='default', tableName='pq_crp_cands18', isTemporary=False),\n",
       " Row(database='default', tableName='pq_crp_cmtes18', isTemporary=False),\n",
       " Row(database='default', tableName='pq_crp_expends18', isTemporary=False),\n",
       " Row(database='default', tableName='pq_crp_indivs18', isTemporary=False),\n",
       " Row(database='default', tableName='pq_crp_pac_other18', isTemporary=False),\n",
       " Row(database='default', tableName='pq_crp_pacs18', isTemporary=False),\n",
       " Row(database='default', tableName='pq_pp_bills', isTemporary=False),\n",
       " Row(database='default', tableName='pq_pp_sponsors', isTemporary=False),\n",
       " Row(database='default', tableName='pq_pp_titles', isTemporary=False)]"
      ]
     },
     "execution_count": 3,
     "metadata": {},
     "output_type": "execute_result"
    }
   ],
   "source": [
    "sc.sql('SHOW TABLES').collect()"
   ]
  },
  {
   "cell_type": "code",
   "execution_count": 4,
   "metadata": {},
   "outputs": [
    {
     "name": "stdout",
     "output_type": "stream",
     "text": [
      "+-----+---------+---------+--------------------+-----+------------+----------+--------+---------+------+---------+------+\n",
      "|cycle|feccandid|      cid|          firstlastp|party|distidrunfor|distidcurr|currcand|cyclecand|crpico|recipcode|nopacs|\n",
      "+-----+---------+---------+--------------------+-----+------------+----------+--------+---------+------+---------+------+\n",
      "| 2018|H6FL08221|N00028542|       D J Mauro (I)|    I|        FL08|          |        |         |      |       3N|      |\n",
      "| 2018|H6NC09200|N00035491|     Mark Harris (R)|    R|        NC09|          |        |         |     O|       RO|      |\n",
      "| 2018|H4NE01163|N00035619| Dennis Crawford (D)|    D|        NE01|          |        |        Y|     C|       DL|      |\n",
      "| 2018|H0IN01127|N00041294| Arturas Kerelis (D)|    D|        IN01|          |        |         |      |       DN|      |\n",
      "| 2018|H8AL02171|N00041295|     Barry Moore (R)|    R|        AL02|          |        |        Y|     C|       RL|      |\n",
      "| 2018|H8AL04078|N00041296|      Mike Moses (R)|    R|        AL04|          |        |        Y|     C|       RN|      |\n",
      "| 2018|H8AL04086|N00041297|  Rick Neighbors (D)|    D|        AL04|          |        |        Y|     C|       DL|      |\n",
      "| 2018|H8AL05208|N00041298|Clayton Hinchman (R)|    R|        AL05|          |        |        Y|     C|       RL|      |\n",
      "| 2018|H8AR02134|N00041299|    Paul Spencer (D)|    D|        AR02|          |        |        Y|     C|       DL|      |\n",
      "| 2018|H8AR03074|N00041300|     Josh Mahony (D)|    D|        AR03|          |       Y|        Y|     C|       DC|      |\n",
      "+-----+---------+---------+--------------------+-----+------------+----------+--------+---------+------+---------+------+\n",
      "\n"
     ]
    }
   ],
   "source": [
    "sc.sql('SELECT * FROM pq_crp_cands18').limit(10).show()"
   ]
  },
  {
   "cell_type": "markdown",
   "metadata": {},
   "source": [
    "Does the individual table not have industry??"
   ]
  },
  {
   "cell_type": "code",
   "execution_count": 5,
   "metadata": {},
   "outputs": [
    {
     "name": "stdout",
     "output_type": "stream",
     "text": [
      "+-----+-------------------+------------+------------------+---------+-------------------+------+--------+----------+------+------+---------------+-----+-----+---------+----+---------+---------+------+------------------+------------+-------------------+------+\n",
      "|cycle|         fectransid|   contribid|           contrib|  recipid|            orgname|ultorg|realcode|      date|amount|street|           city|state|  zip|recipcode|type|   cmteid|  otherid|gender|         microfilm|  occupation|           employer|source|\n",
      "+-----+-------------------+------------+------------------+---------+-------------------+------+--------+----------+------+------+---------------+-----+-----+---------+----+---------+---------+------+------------------+------------+-------------------+------+\n",
      "| 2018|2103020171461527012|j1002215457 |   SCHULTZ, ANDREW|N00027522| 2 Building Lbj Ltd|      |   Y4000|2017-07-14|  2000|      |        ROWLETT|   TX|75030|       RI| 15 |C00494229|         |     M|201710200200354160|    INVESTOR|2 BUILDING LBJ LTD.|      |\n",
      "| 2018|2103020171461527415|h30017558621|LANDENWICH, JOSEPH|N00027522| Kindred Healthcare|      |   H2100|2017-08-25|   625|      |     LOUISVILLE|   KY|40205|       RI| 15J|C00494229|         |     M|                  |    ATTORNEY| KINDRED HEALTHCARE| PAC  |\n",
      "| 2018|2103020171461527427|Y0000032011L|     BATES, GORDON|N00027522|Bates Capitol Group|      |   K2000|2017-08-29|  1000|      |       PROSPECT|   KY|40059|       RI| 15J|C00494229|         |     M|                  |    ATTORNEY|BATES CAPITOL GROUP| WebCS|\n",
      "| 2018|2103020171461527547|p0004908949@|      ARNOLD, LYNN|N00029016|         Unemployed|      |   Y1000|2017-08-16|    25|      |ROCHESTER HILLS|   MI|48309|       DI| 15E|C00570960|C00401224|     F|201710170200317763|NOT EMPLOYED|                N/A| Gen  |\n",
      "| 2018|2103020171461527568|j1002221461 |  ASKIN, SEYMOUR R|N00029016|            Retired|      |   X1200|2017-09-13|   400|      |      GREENWICH|   CT|06831|       DI| 15 |C00570960|         |     M|201710170200317770|     RETIRED|                N/A| Gen  |\n",
      "+-----+-------------------+------------+------------------+---------+-------------------+------+--------+----------+------+------+---------------+-----+-----+---------+----+---------+---------+------+------------------+------------+-------------------+------+\n",
      "\n"
     ]
    }
   ],
   "source": [
    "sc.sql('SELECT * FROM pq_crp_indivs18').limit(5).show()"
   ]
  },
  {
   "cell_type": "code",
   "execution_count": 6,
   "metadata": {},
   "outputs": [
    {
     "data": {
      "text/plain": [
       "470"
      ]
     },
     "execution_count": 6,
     "metadata": {},
     "output_type": "execute_result"
    }
   ],
   "source": [
    "sc.sql('SELECT realcode, sum(amount), count(contribid) FROM pq_crp_indivs18 GROUP BY realcode ').count()"
   ]
  },
  {
   "cell_type": "code",
   "execution_count": 7,
   "metadata": {},
   "outputs": [
    {
     "data": {
      "text/plain": [
       "[Row(realcode='Z9500', money=307821522, count(contribid)=2563962),\n",
       " Row(realcode='Y4000', money=227928460, count(contribid)=571205),\n",
       " Row(realcode='X1200', money=186889529, count(contribid)=972393),\n",
       " Row(realcode='K1000', money=94909387, count(contribid)=161371),\n",
       " Row(realcode='F2700', money=65099756, count(contribid)=4112),\n",
       " Row(realcode='F2600', money=57948077, count(contribid)=14944),\n",
       " Row(realcode='J1200', money=55168158, count(contribid)=1102926),\n",
       " Row(realcode='Y1000', money=49244720, count(contribid)=279555),\n",
       " Row(realcode='F2100', money=49068817, count(contribid)=48934),\n",
       " Row(realcode='Z9000', money=48915983, count(contribid)=10148),\n",
       " Row(realcode='F4000', money=46599518, count(contribid)=39289),\n",
       " Row(realcode='J1100', money=40848862, count(contribid)=71784),\n",
       " Row(realcode='F4100', money=38014293, count(contribid)=15586),\n",
       " Row(realcode='LB100', money=34695187, count(contribid)=208341),\n",
       " Row(realcode='JE300', money=33903445, count(contribid)=8861),\n",
       " Row(realcode='K2000', money=32030999, count(contribid)=30104),\n",
       " Row(realcode='X4100', money=28263651, count(contribid)=6182),\n",
       " Row(realcode='G4700', money=27238362, count(contribid)=311),\n",
       " Row(realcode='H5100', money=26697179, count(contribid)=156087),\n",
       " Row(realcode='J7400', money=26358106, count(contribid)=129842),\n",
       " Row(realcode='Z9600', money=25227664, count(contribid)=8799),\n",
       " Row(realcode='F7000', money=24416497, count(contribid)=11053),\n",
       " Row(realcode='H1100', money=23864218, count(contribid)=59116),\n",
       " Row(realcode='H1130', money=20615937, count(contribid)=58756),\n",
       " Row(realcode='F4200', money=20158249, count(contribid)=38184),\n",
       " Row(realcode='F3100', money=19557617, count(contribid)=89973),\n",
       " Row(realcode='F1100', money=19421756, count(contribid)=119942),\n",
       " Row(realcode='F5100', money=18796777, count(contribid)=37795),\n",
       " Row(realcode='C1100', money=18353330, count(contribid)=41063),\n",
       " Row(realcode='F2500', money=17505936, count(contribid)=6104),\n",
       " Row(realcode='G0000', money=16164523, count(contribid)=50708),\n",
       " Row(realcode='X4110', money=15754802, count(contribid)=1654),\n",
       " Row(realcode='Y2000', money=15445827, count(contribid)=82268),\n",
       " Row(realcode='E1160', money=15244058, count(contribid)=66643),\n",
       " Row(realcode='M2300', money=14364161, count(contribid)=86885),\n",
       " Row(realcode='H2100', money=14296362, count(contribid)=42125),\n",
       " Row(realcode='E1120', money=13876585, count(contribid)=19020),\n",
       " Row(realcode='H4300', money=13626394, count(contribid)=129233),\n",
       " Row(realcode='G5200', money=13288686, count(contribid)=29199),\n",
       " Row(realcode='K1100', money=12482833, count(contribid)=25220),\n",
       " Row(realcode='E1150', money=12270522, count(contribid)=13535),\n",
       " Row(realcode='G6550', money=12253153, count(contribid)=2939),\n",
       " Row(realcode='J9000', money=11928554, count(contribid)=273011),\n",
       " Row(realcode='F4500', money=11450670, count(contribid)=9171),\n",
       " Row(realcode='K1200', money=11374524, count(contribid)=21475),\n",
       " Row(realcode='C5120', money=11098830, count(contribid)=33986),\n",
       " Row(realcode='G6500', money=10626771, count(contribid)=11627),\n",
       " Row(realcode='F2300', money=10503712, count(contribid)=11951),\n",
       " Row(realcode='D2000', money=10403390, count(contribid)=132084),\n",
       " Row(realcode='E1600', money=10332514, count(contribid)=67310),\n",
       " Row(realcode='F3300', money=9889028, count(contribid)=74534),\n",
       " Row(realcode='G2900', money=9665243, count(contribid)=15472),\n",
       " Row(realcode='T2300', money=9608397, count(contribid)=7800),\n",
       " Row(realcode='X3000', money=9380454, count(contribid)=52998),\n",
       " Row(realcode='J5100', money=9108730, count(contribid)=10392),\n",
       " Row(realcode='LC150', money=8972311, count(contribid)=41878),\n",
       " Row(realcode='B4000', money=8290582, count(contribid)=37060),\n",
       " Row(realcode='B1500', money=8153298, count(contribid)=13060),\n",
       " Row(realcode='C4500', money=8058762, count(contribid)=81941),\n",
       " Row(realcode='G2850', money=8047702, count(contribid)=6159),\n",
       " Row(realcode='B1000', money=7883239, count(contribid)=12417),\n",
       " Row(realcode='G5270', money=7819151, count(contribid)=8476),\n",
       " Row(realcode='F3200', money=7697785, count(contribid)=67288),\n",
       " Row(realcode='J7500', money=7674792, count(contribid)=136420),\n",
       " Row(realcode='G6400', money=7656243, count(contribid)=2213),\n",
       " Row(realcode='L1300', money=7535190, count(contribid)=12777),\n",
       " Row(realcode='E1620', money=7469471, count(contribid)=58529),\n",
       " Row(realcode='H3700', money=7161835, count(contribid)=62316),\n",
       " Row(realcode='E1110', money=6822720, count(contribid)=28542),\n",
       " Row(realcode='T5100', money=6806612, count(contribid)=59829),\n",
       " Row(realcode='T9100', money=6754138, count(contribid)=10320),\n",
       " Row(realcode='B2000', money=6632166, count(contribid)=12487),\n",
       " Row(realcode='A1000', money=6508016, count(contribid)=13630),\n",
       " Row(realcode='D3000', money=6466924, count(contribid)=60595),\n",
       " Row(realcode='C2400', money=6397258, count(contribid)=10833),\n",
       " Row(realcode='A1200', money=6288995, count(contribid)=8440),\n",
       " Row(realcode='F5000', money=6269160, count(contribid)=7139),\n",
       " Row(realcode='C2100', money=6080429, count(contribid)=14499),\n",
       " Row(realcode='B5100', money=5994302, count(contribid)=10102),\n",
       " Row(realcode='H4100', money=5967523, count(contribid)=22573),\n",
       " Row(realcode='F1400', money=5722300, count(contribid)=22927),\n",
       " Row(realcode='LT100', money=5707744, count(contribid)=67729),\n",
       " Row(realcode='G2500', money=5657575, count(contribid)=3145),\n",
       " Row(realcode='F4600', money=5527107, count(contribid)=8187),\n",
       " Row(realcode='E1140', money=5439054, count(contribid)=31844),\n",
       " Row(realcode='H2200', money=5406181, count(contribid)=9281),\n",
       " Row(realcode='B6000', money=5298386, count(contribid)=7613),\n",
       " Row(realcode='G5210', money=5255430, count(contribid)=5739),\n",
       " Row(realcode='H4500', money=5171587, count(contribid)=19913),\n",
       " Row(realcode='L1200', money=5154100, count(contribid)=29437),\n",
       " Row(realcode='F2110', money=5130506, count(contribid)=6357),\n",
       " Row(realcode='C4100', money=5068432, count(contribid)=53717),\n",
       " Row(realcode='F3400', money=5018075, count(contribid)=33824),\n",
       " Row(realcode='C2300', money=4905269, count(contribid)=2714),\n",
       " Row(realcode='H3000', money=4841025, count(contribid)=6419),\n",
       " Row(realcode='C5110', money=4822725, count(contribid)=20602),\n",
       " Row(realcode='A3000', money=4691905, count(contribid)=7051),\n",
       " Row(realcode='G2820', money=4642945, count(contribid)=5986),\n",
       " Row(realcode='T1100', money=4575158, count(contribid)=29655),\n",
       " Row(realcode='H1110', money=4547626, count(contribid)=27288),\n",
       " Row(realcode='E1210', money=4515091, count(contribid)=3963),\n",
       " Row(realcode='C5130', money=4499339, count(contribid)=11731),\n",
       " Row(realcode='X4000', money=4496398, count(contribid)=4056),\n",
       " Row(realcode='H1400', money=4463949, count(contribid)=11771),\n",
       " Row(realcode='E1500', money=4460260, count(contribid)=9503),\n",
       " Row(realcode='M1000', money=4420228, count(contribid)=29125),\n",
       " Row(realcode='C6000', money=4412153, count(contribid)=3579),\n",
       " Row(realcode='C2000', money=4341842, count(contribid)=8143),\n",
       " Row(realcode='T3100', money=4318106, count(contribid)=7053),\n",
       " Row(realcode='E1100', money=4205297, count(contribid)=6803),\n",
       " Row(realcode='F1000', money=4066316, count(contribid)=6969),\n",
       " Row(realcode='X0000', money=3881308, count(contribid)=13779),\n",
       " Row(realcode='F0000', money=3702744, count(contribid)=4716),\n",
       " Row(realcode='T2310', money=3683975, count(contribid)=3968),\n",
       " Row(realcode='A1300', money=3618496, count(contribid)=23354),\n",
       " Row(realcode='LM100', money=3605287, count(contribid)=25411),\n",
       " Row(realcode='C5000', money=3560315, count(contribid)=9246),\n",
       " Row(realcode='A2300', money=3478558, count(contribid)=1033),\n",
       " Row(realcode='M3300', money=3473790, count(contribid)=2705),\n",
       " Row(realcode='T2100', money=3465374, count(contribid)=59819),\n",
       " Row(realcode='H4400', money=3437314, count(contribid)=31595),\n",
       " Row(realcode='X3500', money=3426888, count(contribid)=29386),\n",
       " Row(realcode='M2100', money=3398754, count(contribid)=5935),\n",
       " Row(realcode='A1400', money=3284458, count(contribid)=3698),\n",
       " Row(realcode='T2200', money=3248315, count(contribid)=6778),\n",
       " Row(realcode='F1200', money=3134328, count(contribid)=1070),\n",
       " Row(realcode='H3200', money=3119101, count(contribid)=10497),\n",
       " Row(realcode='F2000', money=3110903, count(contribid)=9268),\n",
       " Row(realcode='B4200', money=3072202, count(contribid)=10656),\n",
       " Row(realcode='C5400', money=3012169, count(contribid)=3099),\n",
       " Row(realcode='F5500', money=2998930, count(contribid)=3395),\n",
       " Row(realcode='C6200', money=2952558, count(contribid)=2911),\n",
       " Row(realcode='J6200', money=2924589, count(contribid)=13471),\n",
       " Row(realcode='C6300', money=2906991, count(contribid)=10884),\n",
       " Row(realcode='z9600', money=2892670, count(contribid)=8227),\n",
       " Row(realcode='G4800', money=2883808, count(contribid)=595),\n",
       " Row(realcode='G2100', money=2865644, count(contribid)=6272),\n",
       " Row(realcode='A4000', money=2848923, count(contribid)=10228),\n",
       " Row(realcode='G2000', money=2847916, count(contribid)=759),\n",
       " Row(realcode='C5200', money=2845915, count(contribid)=3266),\n",
       " Row(realcode='E1700', money=2843416, count(contribid)=632),\n",
       " Row(realcode='T2500', money=2834553, count(contribid)=9803),\n",
       " Row(realcode='A5000', money=2813395, count(contribid)=5938),\n",
       " Row(realcode='A2000', money=2736573, count(contribid)=6101),\n",
       " Row(realcode='G2400', money=2714052, count(contribid)=14021),\n",
       " Row(realcode='H1120', money=2688377, count(contribid)=7480),\n",
       " Row(realcode='G4300', money=2683293, count(contribid)=22509),\n",
       " Row(realcode='E1000', money=2631175, count(contribid)=3435),\n",
       " Row(realcode='G5260', money=2597576, count(contribid)=1668),\n",
       " Row(realcode='C2600', money=2550610, count(contribid)=9594),\n",
       " Row(realcode='F4300', money=2549818, count(contribid)=4103),\n",
       " Row(realcode='M3100', money=2453718, count(contribid)=2067),\n",
       " Row(realcode='B3000', money=2429984, count(contribid)=4889),\n",
       " Row(realcode='G4900', money=2375916, count(contribid)=13601),\n",
       " Row(realcode='G2810', money=2369282, count(contribid)=9628),\n",
       " Row(realcode='J7150', money=2309536, count(contribid)=3300),\n",
       " Row(realcode='F1420', money=2304355, count(contribid)=4459),\n",
       " Row(realcode='L1400', money=2289116, count(contribid)=24701),\n",
       " Row(realcode='G5000', money=2248139, count(contribid)=10155),\n",
       " Row(realcode='H5300', money=2248072, count(contribid)=4624),\n",
       " Row(realcode='T7100', money=2205929, count(contribid)=21630),\n",
       " Row(realcode='LC100', money=2181160, count(contribid)=16824),\n",
       " Row(realcode='T6200', money=2163276, count(contribid)=6923),\n",
       " Row(realcode='E1170', money=2138419, count(contribid)=1340),\n",
       " Row(realcode='L1100', money=2134996, count(contribid)=10823),\n",
       " Row(realcode='J7300', money=2082147, count(contribid)=33886),\n",
       " Row(realcode='B3200', money=2079812, count(contribid)=2608),\n",
       " Row(realcode='G5240', money=2055142, count(contribid)=5602),\n",
       " Row(realcode='F2200', money=2022007, count(contribid)=2602),\n",
       " Row(realcode='C4000', money=2002415, count(contribid)=1225),\n",
       " Row(realcode='G4100', money=2001189, count(contribid)=1892),\n",
       " Row(realcode='H0000', money=1994753, count(contribid)=5568),\n",
       " Row(realcode='G5250', money=1965962, count(contribid)=4274),\n",
       " Row(realcode='X5000', money=1908811, count(contribid)=8650),\n",
       " Row(realcode='H1710', money=1888143, count(contribid)=14525),\n",
       " Row(realcode='G4600', money=1861477, count(contribid)=4405),\n",
       " Row(realcode='C4300', money=1850738, count(contribid)=16512),\n",
       " Row(realcode='X7000', money=1812847, count(contribid)=12297),\n",
       " Row(realcode='F1300', money=1772051, count(contribid)=19866),\n",
       " Row(realcode='C6400', money=1768501, count(contribid)=10053),\n",
       " Row(realcode='E3000', money=1761267, count(contribid)=7394),\n",
       " Row(realcode='H5000', money=1736714, count(contribid)=6446),\n",
       " Row(realcode='A4100', money=1680355, count(contribid)=2244),\n",
       " Row(realcode='B5000', money=1675082, count(contribid)=465),\n",
       " Row(realcode='X3100', money=1648662, count(contribid)=3099),\n",
       " Row(realcode='M2000', money=1628361, count(contribid)=2815),\n",
       " Row(realcode='B4400', money=1626880, count(contribid)=6701),\n",
       " Row(realcode='G6100', money=1602118, count(contribid)=797),\n",
       " Row(realcode='C2700', money=1586972, count(contribid)=538),\n",
       " Row(realcode='A5200', money=1570883, count(contribid)=8857),\n",
       " Row(realcode='M1500', money=1541368, count(contribid)=5134),\n",
       " Row(realcode='C2200', money=1540628, count(contribid)=4563),\n",
       " Row(realcode='B5200', money=1537946, count(contribid)=894),\n",
       " Row(realcode='E0000', money=1537476, count(contribid)=149),\n",
       " Row(realcode='X4200', money=1532519, count(contribid)=3883),\n",
       " Row(realcode='H1700', money=1487460, count(contribid)=11108),\n",
       " Row(realcode='T9300', money=1465612, count(contribid)=2078),\n",
       " Row(realcode='D9000', money=1447637, count(contribid)=7542),\n",
       " Row(realcode='G7000', money=1434966, count(contribid)=5121),\n",
       " Row(realcode='T6100', money=1432083, count(contribid)=868),\n",
       " Row(realcode='M5000', money=1431875, count(contribid)=1276),\n",
       " Row(realcode='H2000', money=1399940, count(contribid)=2118),\n",
       " Row(realcode='C6100', money=1395025, count(contribid)=527),\n",
       " Row(realcode='G4000', money=1392650, count(contribid)=2943),\n",
       " Row(realcode='A3100', money=1391017, count(contribid)=1278),\n",
       " Row(realcode='F5300', money=1384415, count(contribid)=7023),\n",
       " Row(realcode='J6100', money=1380734, count(contribid)=9168),\n",
       " Row(realcode='L1500', money=1376051, count(contribid)=32508),\n",
       " Row(realcode='G4500', money=1361125, count(contribid)=34124),\n",
       " Row(realcode='H6000', money=1355231, count(contribid)=5872),\n",
       " Row(realcode='G2600', money=1354234, count(contribid)=13110),\n",
       " Row(realcode='H4600', money=1338935, count(contribid)=15592),\n",
       " Row(realcode='A1600', money=1306292, count(contribid)=1756),\n",
       " Row(realcode='B5400', money=1250175, count(contribid)=595),\n",
       " Row(realcode='B0500', money=1213273, count(contribid)=2422),\n",
       " Row(realcode='G1000', money=1204284, count(contribid)=1157),\n",
       " Row(realcode='H3900', money=1190502, count(contribid)=2821),\n",
       " Row(realcode='F2400', money=1175257, count(contribid)=842),\n",
       " Row(realcode='E1320', money=1162669, count(contribid)=5721),\n",
       " Row(realcode='F4700', money=1140618, count(contribid)=1491),\n",
       " Row(realcode='E1610', money=1134078, count(contribid)=7420),\n",
       " Row(realcode='C2900', money=1131845, count(contribid)=2080),\n",
       " Row(realcode='H1750', money=1075419, count(contribid)=4367),\n",
       " Row(realcode='H5150', money=1074678, count(contribid)=6483),\n",
       " Row(realcode='G1100', money=1048186, count(contribid)=1028),\n",
       " Row(realcode='C4600', money=1045814, count(contribid)=9576),\n",
       " Row(realcode='F5200', money=1037595, count(contribid)=7623),\n",
       " Row(realcode='E1200', money=1036088, count(contribid)=761),\n",
       " Row(realcode='M8000', money=1008068, count(contribid)=1168),\n",
       " Row(realcode='A1100', money=993602, count(contribid)=1632),\n",
       " Row(realcode='A1500', money=972329, count(contribid)=1293),\n",
       " Row(realcode='M3200', money=960348, count(contribid)=830),\n",
       " Row(realcode='B3400', money=957218, count(contribid)=2647),\n",
       " Row(realcode='E1240', money=944050, count(contribid)=349),\n",
       " Row(realcode='X3200', money=927937, count(contribid)=4574),\n",
       " Row(realcode='A8000', money=918628, count(contribid)=1150),\n",
       " Row(realcode='T9000', money=903168, count(contribid)=1719),\n",
       " Row(realcode='H3800', money=897833, count(contribid)=669),\n",
       " Row(realcode='JH100', money=891912, count(contribid)=904),\n",
       " Row(realcode='J7700', money=888342, count(contribid)=271),\n",
       " Row(realcode='L5000', money=881698, count(contribid)=2989),\n",
       " Row(realcode='M0000', money=880390, count(contribid)=2814),\n",
       " Row(realcode='C4400', money=875570, count(contribid)=3515),\n",
       " Row(realcode='J2200', money=862248, count(contribid)=488),\n",
       " Row(realcode='G5290', money=860950, count(contribid)=1766),\n",
       " Row(realcode='G2200', money=854865, count(contribid)=1317),\n",
       " Row(realcode='B3600', money=826732, count(contribid)=3048),\n",
       " Row(realcode='H3100', money=822466, count(contribid)=3023),\n",
       " Row(realcode='F3000', money=817276, count(contribid)=3408),\n",
       " Row(realcode='M7000', money=813883, count(contribid)=770),\n",
       " Row(realcode='E1300', money=812262, count(contribid)=5840),\n",
       " Row(realcode='G2700', money=808216, count(contribid)=1248),\n",
       " Row(realcode='G2300', money=800019, count(contribid)=3643),\n",
       " Row(realcode='H5170', money=764608, count(contribid)=2196),\n",
       " Row(realcode='T1700', money=757862, count(contribid)=1464),\n",
       " Row(realcode='M7100', money=753426, count(contribid)=1825),\n",
       " Row(realcode='M2200', money=753119, count(contribid)=1382),\n",
       " Row(realcode='C6500', money=751845, count(contribid)=1114),\n",
       " Row(realcode='M2400', money=747251, count(contribid)=760),\n",
       " Row(realcode='A4200', money=747208, count(contribid)=11816),\n",
       " Row(realcode='H4000', money=741309, count(contribid)=11705),\n",
       " Row(realcode='A4500', money=738531, count(contribid)=3211),\n",
       " Row(realcode='T9400', money=738282, count(contribid)=2031),\n",
       " Row(realcode='J1000', money=736700, count(contribid)=261),\n",
       " Row(realcode='G5800', money=725284, count(contribid)=2718),\n",
       " Row(realcode='T2000', money=711637, count(contribid)=254),\n",
       " Row(realcode='M1300', money=710958, count(contribid)=2247),\n",
       " Row(realcode='C1300', money=706829, count(contribid)=1304),\n",
       " Row(realcode='T1000', money=691491, count(contribid)=213),\n",
       " Row(realcode='E1630', money=685115, count(contribid)=8997),\n",
       " Row(realcode='G1200', money=661728, count(contribid)=2095),\n",
       " Row(realcode='H3400', money=657868, count(contribid)=1495),\n",
       " Row(realcode='T3200', money=657827, count(contribid)=3323),\n",
       " Row(realcode='M9000', money=654960, count(contribid)=1698),\n",
       " Row(realcode='D5000', money=654558, count(contribid)=4972),\n",
       " Row(realcode='LT500', money=652767, count(contribid)=5942),\n",
       " Row(realcode='T1300', money=649517, count(contribid)=2578),\n",
       " Row(realcode='T1600', money=648802, count(contribid)=1043),\n",
       " Row(realcode='M4100', money=643642, count(contribid)=782),\n",
       " Row(realcode='G3000', money=640185, count(contribid)=485),\n",
       " Row(realcode='E1220', money=631040, count(contribid)=3251),\n",
       " Row(realcode='G4400', money=626445, count(contribid)=408),\n",
       " Row(realcode='G5280', money=626106, count(contribid)=2376),\n",
       " Row(realcode='D4000', money=613074, count(contribid)=1673),\n",
       " Row(realcode='Z9999', money=610000, count(contribid)=5),\n",
       " Row(realcode='E5000', money=609785, count(contribid)=7909),\n",
       " Row(realcode='T6250', money=601474, count(contribid)=412),\n",
       " Row(realcode='C5100', money=595719, count(contribid)=2913),\n",
       " Row(realcode='M5100', money=576271, count(contribid)=244),\n",
       " Row(realcode='A6000', money=564057, count(contribid)=5137),\n",
       " Row(realcode='G5300', money=563588, count(contribid)=1548),\n",
       " Row(realcode='A0000', money=558548, count(contribid)=1488),\n",
       " Row(realcode='C0000', money=553114, count(contribid)=768),\n",
       " Row(realcode='G5400', money=552074, count(contribid)=4239),\n",
       " Row(realcode='LT300', money=551449, count(contribid)=23726),\n",
       " Row(realcode='G2350', money=550738, count(contribid)=1982),\n",
       " Row(realcode='M1600', money=550399, count(contribid)=2119),\n",
       " Row(realcode='B5300', money=548601, count(contribid)=243),\n",
       " Row(realcode='A3500', money=548258, count(contribid)=665),\n",
       " Row(realcode='E2000', money=546680, count(contribid)=1058),\n",
       " Row(realcode='LG100', money=545503, count(contribid)=7200),\n",
       " Row(realcode='F1410', money=544184, count(contribid)=2890),\n",
       " Row(realcode='LG400', money=543860, count(contribid)=2798),\n",
       " Row(realcode='T1200', money=529329, count(contribid)=1783),\n",
       " Row(realcode='G5230', money=523822, count(contribid)=1089),\n",
       " Row(realcode='M7300', money=522475, count(contribid)=593),\n",
       " Row(realcode='M3400', money=517980, count(contribid)=584),\n",
       " Row(realcode='G2910', money=515836, count(contribid)=1166),\n",
       " Row(realcode='T5300', money=514458, count(contribid)=369),\n",
       " Row(realcode='M2250', money=494480, count(contribid)=168),\n",
       " Row(realcode='JD200', money=486190, count(contribid)=2161),\n",
       " Row(realcode='H5200', money=484037, count(contribid)=612),\n",
       " Row(realcode='LG300', money=476816, count(contribid)=6902),\n",
       " Row(realcode='J7600', money=470499, count(contribid)=216),\n",
       " Row(realcode='T1400', money=468156, count(contribid)=1919),\n",
       " Row(realcode='T7000', money=468025, count(contribid)=450),\n",
       " Row(realcode='G2800', money=451568, count(contribid)=900),\n",
       " Row(realcode='B5500', money=434132, count(contribid)=119),\n",
       " Row(realcode='E4100', money=428219, count(contribid)=701),\n",
       " Row(realcode='Y3000', money=420715, count(contribid)=837),\n",
       " Row(realcode='J7120', money=412412, count(contribid)=540),\n",
       " Row(realcode='M3000', money=411389, count(contribid)=182),\n",
       " Row(realcode='G6000', money=408051, count(contribid)=353),\n",
       " Row(realcode='M6000', money=390187, count(contribid)=347),\n",
       " Row(realcode='T2400', money=387478, count(contribid)=1152),\n",
       " Row(realcode='J7000', money=373170, count(contribid)=306),\n",
       " Row(realcode='T8300', money=371829, count(contribid)=1568),\n",
       " Row(realcode='H4200', money=370644, count(contribid)=394),\n",
       " Row(realcode='M3600', money=365570, count(contribid)=165),\n",
       " Row(realcode='H1500', money=359209, count(contribid)=2428),\n",
       " Row(realcode='J2300', money=356734, count(contribid)=149),\n",
       " Row(realcode='Z9700', money=355156, count(contribid)=58),\n",
       " Row(realcode='M4000', money=350333, count(contribid)=319),\n",
       " Row(realcode='Z4100', money=327074, count(contribid)=47),\n",
       " Row(realcode='C2800', money=325084, count(contribid)=1046),\n",
       " Row(realcode='J5000', money=319392, count(contribid)=277),\n",
       " Row(realcode='T0000', money=314076, count(contribid)=700),\n",
       " Row(realcode='L0000', money=304974, count(contribid)=858),\n",
       " Row(realcode='T8100', money=300565, count(contribid)=648),\n",
       " Row(realcode='G5100', money=298704, count(contribid)=2511),\n",
       " Row(realcode='M5300', money=298358, count(contribid)=249),\n",
       " Row(realcode='T5200', money=296708, count(contribid)=3079),\n",
       " Row(realcode='T7200', money=295740, count(contribid)=278),\n",
       " Row(realcode='T1500', money=290841, count(contribid)=1671),\n",
       " Row(realcode='G4200', money=283793, count(contribid)=6126),\n",
       " Row(realcode='A4300', money=279627, count(contribid)=3354),\n",
       " Row(realcode='E1190', money=276427, count(contribid)=418),\n",
       " Row(realcode='f2300', money=272969, count(contribid)=49),\n",
       " Row(realcode='LM150', money=272667, count(contribid)=4836),\n",
       " Row(realcode='E1230', money=269100, count(contribid)=19),\n",
       " Row(realcode='Z5200', money=268784, count(contribid)=105),\n",
       " Row(realcode='K0000', money=265823, count(contribid)=872),\n",
       " Row(realcode='J7510', money=259025, count(contribid)=100),\n",
       " Row(realcode='G5700', money=257086, count(contribid)=424),\n",
       " Row(realcode='M4300', money=256709, count(contribid)=1130),\n",
       " Row(realcode='Z9100', money=256067, count(contribid)=15),\n",
       " Row(realcode='T4100', money=255305, count(contribid)=382),\n",
       " Row(realcode='H4700', money=253738, count(contribid)=54),\n",
       " Row(realcode='LT400', money=243572, count(contribid)=4342),\n",
       " Row(realcode='M7200', money=240544, count(contribid)=894),\n",
       " Row(realcode='G5500', money=236005, count(contribid)=637),\n",
       " Row(realcode='G2840', money=223069, count(contribid)=170),\n",
       " Row(realcode='A6500', money=216216, count(contribid)=587),\n",
       " Row(realcode='J5200', money=209876, count(contribid)=115),\n",
       " Row(realcode='J2400', money=201040, count(contribid)=15),\n",
       " Row(realcode='T3000', money=194162, count(contribid)=284),\n",
       " Row(realcode='G2860', money=193899, count(contribid)=90),\n",
       " Row(realcode='A3300', money=191805, count(contribid)=191),\n",
       " Row(realcode='Z4200', money=191770, count(contribid)=28),\n",
       " Row(realcode='G3500', money=185064, count(contribid)=253),\n",
       " Row(realcode='H1000', money=182975, count(contribid)=292),\n",
       " Row(realcode='LT000', money=179581, count(contribid)=5167),\n",
       " Row(realcode='E4200', money=175112, count(contribid)=121),\n",
       " Row(realcode='T8000', money=164791, count(contribid)=39),\n",
       " Row(realcode='JW100', money=164450, count(contribid)=56),\n",
       " Row(realcode='X3700', money=163040, count(contribid)=2336),\n",
       " Row(realcode='H2300', money=158500, count(contribid)=15),\n",
       " Row(realcode='C1000', money=154747, count(contribid)=161),\n",
       " Row(realcode='Y0000', money=154059, count(contribid)=158),\n",
       " Row(realcode='M4200', money=152672, count(contribid)=1728),\n",
       " Row(realcode='T6000', money=145899, count(contribid)=612),\n",
       " Row(realcode='J1110', money=144692, count(contribid)=246),\n",
       " Row(realcode='LH100', money=142234, count(contribid)=614),\n",
       " Row(realcode='G5220', money=140459, count(contribid)=204),\n",
       " Row(realcode='E1180', money=139763, count(contribid)=34),\n",
       " Row(realcode='D6000', money=136020, count(contribid)=1158),\n",
       " Row(realcode='T4200', money=130460, count(contribid)=604),\n",
       " Row(realcode='T8200', money=129410, count(contribid)=58),\n",
       " Row(realcode='D8000', money=127530, count(contribid)=85),\n",
       " Row(realcode='M1400', money=124917, count(contribid)=434),\n",
       " Row(realcode='c2400', money=121509, count(contribid)=169),\n",
       " Row(realcode='C1400', money=116029, count(contribid)=592),\n",
       " Row(realcode='B0000', money=109808, count(contribid)=290),\n",
       " Row(realcode='B4300', money=108143, count(contribid)=480),\n",
       " Row(realcode='LG000', money=99526, count(contribid)=2857),\n",
       " Row(realcode='M1100', money=98645, count(contribid)=121),\n",
       " Row(realcode='X8000', money=95930, count(contribid)=271),\n",
       " Row(realcode='G5600', money=94047, count(contribid)=204),\n",
       " Row(realcode='T5000', money=92933, count(contribid)=788),\n",
       " Row(realcode='C5300', money=90185, count(contribid)=28),\n",
       " Row(realcode='J2500', money=87351, count(contribid)=100),\n",
       " Row(realcode='C4200', money=86450, count(contribid)=303),\n",
       " Row(realcode='M3500', money=79499, count(contribid)=344),\n",
       " Row(realcode='M1700', money=77934, count(contribid)=146),\n",
       " Row(realcode='J7200', money=76886, count(contribid)=458),\n",
       " Row(realcode='C5140', money=75905, count(contribid)=146),\n",
       " Row(realcode='g0000', money=74700, count(contribid)=17),\n",
       " Row(realcode='Z1200', money=73764, count(contribid)=57),\n",
       " Row(realcode='T4000', money=72867, count(contribid)=391),\n",
       " Row(realcode='J2100', money=71843, count(contribid)=54),\n",
       " Row(realcode='J9100', money=67300, count(contribid)=31),\n",
       " Row(realcode='G6700', money=58758, count(contribid)=702),\n",
       " Row(realcode='LE200', money=57369, count(contribid)=514),\n",
       " Row(realcode='M9100', money=53969, count(contribid)=94),\n",
       " Row(realcode='X1400', money=52790, count(contribid)=18),\n",
       " Row(realcode='f4500', money=50000, count(contribid)=1),\n",
       " Row(realcode='G6800', money=49610, count(contribid)=59),\n",
       " Row(realcode='k2000', money=47462, count(contribid)=29),\n",
       " Row(realcode='G1300', money=46608, count(contribid)=54),\n",
       " Row(realcode='JD100', money=43783, count(contribid)=146),\n",
       " Row(realcode='J1300', money=43704, count(contribid)=152),\n",
       " Row(realcode='D0000', money=42962, count(contribid)=94),\n",
       " Row(realcode='Z1100', money=42550, count(contribid)=20),\n",
       " Row(realcode='LT600', money=37968, count(contribid)=371),\n",
       " Row(realcode='B1200', money=37428, count(contribid)=57),\n",
       " Row(realcode='J5400', money=35050, count(contribid)=51),\n",
       " Row(realcode='A3200', money=34654, count(contribid)=72),\n",
       " Row(realcode='G4850', money=34380, count(contribid)=33),\n",
       " Row(realcode='G2110', money=31748, count(contribid)=19),\n",
       " Row(realcode='H3300', money=31730, count(contribid)=161),\n",
       " Row(realcode='g2100', money=30800, count(contribid)=10),\n",
       " Row(realcode='M5200', money=30390, count(contribid)=76),\n",
       " Row(realcode='LA100', money=22374, count(contribid)=38),\n",
       " Row(realcode='F5700', money=20000, count(contribid)=1),\n",
       " Row(realcode='LE100', money=17734, count(contribid)=108),\n",
       " Row(realcode='J4000', money=17050, count(contribid)=17),\n",
       " Row(realcode='J8000', money=16665, count(contribid)=8),\n",
       " Row(realcode='T8400', money=16403, count(contribid)=33),\n",
       " Row(realcode='LG200', money=12447, count(contribid)=454),\n",
       " Row(realcode='Z5100', money=11130, count(contribid)=6),\n",
       " Row(realcode='k1100', money=10933, count(contribid)=6),\n",
       " Row(realcode='f1400', money=10800, count(contribid)=4),\n",
       " Row(realcode='f5000', money=10800, count(contribid)=4),\n",
       " Row(realcode='b4000', money=10000, count(contribid)=1),\n",
       " Row(realcode='J5300', money=9588, count(contribid)=6),\n",
       " Row(realcode='E4000', money=8150, count(contribid)=8),\n",
       " Row(realcode='f5500', money=7275, count(contribid)=10),\n",
       " Row(realcode='F4400', money=5852, count(contribid)=16),\n",
       " Row(realcode='E1130', money=5400, count(contribid)=2),\n",
       " Row(realcode='M9300', money=5395, count(contribid)=10),\n",
       " Row(realcode='H3500', money=5039, count(contribid)=118),\n",
       " Row(realcode='Lb100', money=5000, count(contribid)=1),\n",
       " Row(realcode='B2400', money=4488, count(contribid)=13),\n",
       " Row(realcode='J1020', money=4037, count(contribid)=7),\n",
       " Row(realcode='x4000', money=4000, count(contribid)=13),\n",
       " Row(realcode='c5130', money=3511, count(contribid)=65),\n",
       " Row(realcode='j1200', money=3178, count(contribid)=23),\n",
       " Row(realcode='M9200', money=2834, count(contribid)=7),\n",
       " Row(realcode='e1500', money=1750, count(contribid)=4),\n",
       " Row(realcode='J3000', money=1745, count(contribid)=8),\n",
       " Row(realcode='j7000', money=1550, count(contribid)=3),\n",
       " Row(realcode='J!200', money=1000, count(contribid)=1),\n",
       " Row(realcode='K3200', money=1000, count(contribid)=2),\n",
       " Row(realcode='c2000', money=826, count(contribid)=5),\n",
       " Row(realcode='65270', money=500, count(contribid)=1),\n",
       " Row(realcode='Z5300', money=495, count(contribid)=1),\n",
       " Row(realcode='X9000', money=475, count(contribid)=2),\n",
       " Row(realcode='g5200', money=300, count(contribid)=3),\n",
       " Row(realcode='c5110', money=100, count(contribid)=4),\n",
       " Row(realcode=None, money=None, count(contribid)=2)]"
      ]
     },
     "execution_count": 7,
     "metadata": {},
     "output_type": "execute_result"
    }
   ],
   "source": [
    "sc.sql('SELECT realcode, sum(amount) AS money, count(contribid) FROM pq_crp_indivs18 GROUP BY realcode ORDER BY money DESC').collect()"
   ]
  },
  {
   "cell_type": "markdown",
   "metadata": {},
   "source": [
    "^Looks like all individuals have an industry, which is impressive given the number of blanks. Maybe one of the codes is unknown. Haven't found a translation table yet for realcodes "
   ]
  },
  {
   "cell_type": "markdown",
   "metadata": {},
   "source": [
    "criteria for filter individuals:\n",
    "    \n",
    "* Realcode not like Z9* (these are noncontributions)\n",
    "* Limit types to 10, 11, 15, 15E, 15J, 22Y\n",
    "* Remember that Type 10 is soft money before 2004 and Levin Funds or outside spending 2004+\n",
    "* RecipID like N* limits to candidates\n",
    "* Source <> P/PAC excludes contributions to PACs other than leadership PACs\n",
    "\n",
    "****MUST COME BACK TO AND JOIN WITH PAC CANDIDATE CONTRIBUTIONS****"
   ]
  },
  {
   "cell_type": "code",
   "execution_count": 8,
   "metadata": {},
   "outputs": [
    {
     "name": "stdout",
     "output_type": "stream",
     "text": [
      "+-----+---------+--------------------+--------------------+--------------------+---------+---------+---------+-----+--------+------+---------+-------+------+\n",
      "|cycle|   cmteid|            pacshort|           affiliate|              ultorg|  recipid|recipcode|feccandid|party|primcode|source|sensitive|foreign|active|\n",
      "+-----+---------+--------------------+--------------------+--------------------+---------+---------+---------+-----+--------+------+---------+-------+------+\n",
      "| 2018|C00000018|                    |                    |                    |C00000018|         |H8TX22313|     |        |      |         |  false|     0|\n",
      "| 2018|C00000059|      Hallmark Cards|                    |      Hallmark Cards|C00000059|       PB|         |     |   C1400| WebAM|        n|  false|     1|\n",
      "| 2018|C00000422|American Medical ...|American Medical ...|American Medical ...|C00000422|       PB|         |     |   H1100| AFP88|        n|  false|     1|\n",
      "| 2018|C00000489| Teamsters Local 886|     Teamsters Union|     Teamsters Union|C00000489|       PL|         |     |   LT300|  Name|        N|  false|     1|\n",
      "| 2018|C00000547| Kansas Medical Assn|American Medical ...|American Medical ...|C00000547|       PB|         |     |   H1100|  Name|        n|  false|     0|\n",
      "| 2018|C00000638|Indiana Medical Assn|American Medical ...|American Medical ...|C00000638|       PB|         |     |   H1100| AFP88|        N|  false|     1|\n",
      "| 2018|C00000729|American Dental Assn|American Dental Assn|American Dental Assn|C00000729|       PB|         |     |   H1400| AFP88|        n|  false|     1|\n",
      "| 2018|C00000885|Painters & Allied...|Painters & Allied...|Painters & Allied...|C00000885|       PL|         |     |   LB100| AFP99|        N|  false|     1|\n",
      "| 2018|C00000901|National Assn of ...|National Assn of ...|National Assn of ...|C00000901|       PB|         |     |   B2000| AFP88|        n|  false|     1|\n",
      "| 2018|C00000935|Democratic Congre...|Democratic Congre...|Democratic Congre...|C00000935|       DP|         |    D|   Z5200|  Rept|        n|  false|     1|\n",
      "+-----+---------+--------------------+--------------------+--------------------+---------+---------+---------+-----+--------+------+---------+-------+------+\n",
      "\n"
     ]
    }
   ],
   "source": [
    "sc.sql('SELECT * FROM pq_crp_cmtes18').limit(10).show()"
   ]
  },
  {
   "cell_type": "code",
   "execution_count": 9,
   "metadata": {},
   "outputs": [
    {
     "data": {
      "text/plain": [
       "408"
      ]
     },
     "execution_count": 9,
     "metadata": {},
     "output_type": "execute_result"
    }
   ],
   "source": [
    "sc.sql('SELECT primcode FROM pq_crp_cmtes18 GROUP BY primcode').count()"
   ]
  },
  {
   "cell_type": "code",
   "execution_count": 10,
   "metadata": {},
   "outputs": [
    {
     "name": "stdout",
     "output_type": "stream",
     "text": [
      "+--------+\n",
      "|primcode|\n",
      "+--------+\n",
      "|   C2100|\n",
      "|   C1100|\n",
      "|   T3100|\n",
      "|   L1300|\n",
      "|   T9000|\n",
      "|   j7000|\n",
      "|   J9000|\n",
      "|   J1000|\n",
      "|   M2400|\n",
      "|   G6700|\n",
      "+--------+\n",
      "only showing top 10 rows\n",
      "\n"
     ]
    }
   ],
   "source": [
    "sc.sql('SELECT primcode FROM pq_crp_cmtes18 GROUP BY primcode').show(10)"
   ]
  },
  {
   "cell_type": "code",
   "execution_count": 11,
   "metadata": {},
   "outputs": [
    {
     "name": "stdout",
     "output_type": "stream",
     "text": [
      "+-----+---+-----------------+----------+---------+--------------------+-------------+-------+------+----------+-----------+-----+---------+---------+------+----+------------------+-----+---------+-------+------+\n",
      "|Cycle| ID|          TransID|CRPFilerid|Recipcode|            Pacshort| CRPRecipname|Expcode|Amount|      Date|       City|State|      Zip|CmteID_EF|Candid|Type|           Descrip|   PG|ElecOther|EntType|Source|\n",
      "+-----+---+-----------------+----------+---------+--------------------+-------------+-------+------+----------+-----------+-----+---------+---------+------+----+------------------+-----+---------+-------+------+\n",
      "| 2018|  1|SB21B-11865-10000| C00460147|       DP|DNC/Travel Offset...|W Los Angeles|    F30| 554.0|2017-01-18|Los Angeles|   CA|90024    |         |      |    |Lodging & Catering|     |         |    ORG|  @new|\n",
      "+-----+---+-----------------+----------+---------+--------------------+-------------+-------+------+----------+-----------+-----+---------+---------+------+----+------------------+-----+---------+-------+------+\n",
      "\n"
     ]
    }
   ],
   "source": [
    "sc.sql('SELECT * FROM pq_crp_expends18').limit(1).show()"
   ]
  },
  {
   "cell_type": "code",
   "execution_count": 12,
   "metadata": {},
   "outputs": [
    {
     "name": "stdout",
     "output_type": "stream",
     "text": [
      "+-----+-------------------+---------+---------+------+----------+--------+----+---+---------+\n",
      "|cycle|           fecrecno|    pacid|      cid|amount|      date|realcode|type| di|feccandid|\n",
      "+-----+-------------------+---------+---------+------+----------+--------+----+---+---------+\n",
      "| 2018|4031520181518958016|C00150797|N00035527|1000.0|2018-02-06|   K1200| 24K|  D|H4AR04048|\n",
      "| 2018|4021520181504727622|C00343459|N00028152|5000.0|2017-12-27|   H1130| 24K|  D|H6CA22125|\n",
      "| 2018|4062120181570992000|C00005249|N00035509|3000.0|2018-05-18|   F3300| 24K|  D|H4IA03115|\n",
      "| 2018|4121120171484669562|C00449165|N00003689|1000.0|2017-11-08|   M3100| 24K|  D|H8OH01043|\n",
      "| 2018|4101220171458221652|C00171843|N00002408|5000.0|2017-09-21|   F3400| 24K|  D|H2SC02042|\n",
      "| 2018|4051820181565917536|C00035675|N00031933|1000.0|2018-04-23|   H4300| 24K|  D|H0MA10082|\n",
      "| 2018|4072420171429498467|C00035451|N00034584|2000.0|2017-06-27|   LT100| 24K|  D|S2ME00158|\n",
      "| 2018|4112020171465723593|C00033779|N00035346|1000.0|2017-10-24|   F4100| 24K|  D|H4GA01039|\n",
      "| 2018|4042720181530493912|C00502906|N00033518|1500.0|2018-03-22|   C6200| 24K|  D|H2GA09150|\n",
      "| 2018|4022220181514504696|C00542431|N00003105|5000.0|2018-01-08|   J1100| 24K|  D|S8TN00337|\n",
      "+-----+-------------------+---------+---------+------+----------+--------+----+---+---------+\n",
      "\n"
     ]
    }
   ],
   "source": [
    "sc.sql('SELECT * FROM pq_crp_pacs18').limit(10).show()"
   ]
  },
  {
   "cell_type": "code",
   "execution_count": 13,
   "metadata": {},
   "outputs": [
    {
     "data": {
      "text/plain": [
       "191318"
      ]
     },
     "execution_count": 13,
     "metadata": {},
     "output_type": "execute_result"
    }
   ],
   "source": [
    "sc.sql('SELECT * FROM pq_crp_pacs18').count()"
   ]
  },
  {
   "cell_type": "markdown",
   "metadata": {},
   "source": [
    "need to joing the  pq_crp_pacs18 to the candidate table to get party detail. I think realcode and primcode are the same thing...\n",
    "* To calculate direct contributions to candidates, you limit to DI = D"
   ]
  },
  {
   "cell_type": "code",
   "execution_count": 15,
   "metadata": {},
   "outputs": [
    {
     "name": "stdout",
     "output_type": "stream",
     "text": [
      "+------------+\n",
      "| sum(amount)|\n",
      "+------------+\n",
      "|3.21276746E8|\n",
      "+------------+\n",
      "\n"
     ]
    }
   ],
   "source": [
    "sc.sql('SELECT sum(amount) FROM pq_crp_pacs18 where di == \"D\"').limit(10).show()"
   ]
  },
  {
   "cell_type": "code",
   "execution_count": 16,
   "metadata": {},
   "outputs": [
    {
     "name": "stdout",
     "output_type": "stream",
     "text": [
      "+---------+---------+------+----------+--------+----+---+---------+--------------------+-----+\n",
      "|    pacid|      cid|amount|      date|realcode|type| di|feccandid|          firstlastp|party|\n",
      "+---------+---------+------+----------+--------+----+---+---------+--------------------+-----+\n",
      "|C00150797|N00035527|1000.0|2018-02-06|   K1200| 24K|  D|H4AR04048| Bruce Westerman (R)|    R|\n",
      "|C00343459|N00028152|5000.0|2017-12-27|   H1130| 24K|  D|H6CA22125|  Kevin McCarthy (R)|    R|\n",
      "|C00005249|N00035509|3000.0|2018-05-18|   F3300| 24K|  D|H4IA03115|     David Young (R)|    R|\n",
      "|C00449165|N00003689|1000.0|2017-11-08|   M3100| 24K|  D|H8OH01043|    Steve Chabot (R)|    R|\n",
      "|C00171843|N00002408|5000.0|2017-09-21|   F3400| 24K|  D|H2SC02042| James E Clyburn (D)|    D|\n",
      "|C00035675|N00031933|1000.0|2018-04-23|   H4300| 24K|  D|H0MA10082|    Bill Keating (D)|    D|\n",
      "|C00035451|N00034584|2000.0|2017-06-27|   LT100| 24K|  D|S2ME00158|  Bruce Poliquin (R)|    R|\n",
      "|C00033779|N00035346|1000.0|2017-10-24|   F4100| 24K|  D|H4GA01039|    Buddy Carter (R)|    R|\n",
      "|C00502906|N00033518|1500.0|2018-03-22|   C6200| 24K|  D|H2GA09150|    Doug Collins (R)|    R|\n",
      "|C00542431|N00003105|5000.0|2018-01-08|   J1100| 24K|  D|S8TN00337|Marsha Blackburn (R)|    R|\n",
      "+---------+---------+------+----------+--------+----+---+---------+--------------------+-----+\n",
      "\n"
     ]
    }
   ],
   "source": [
    "sc.sql('SELECT pacid,t2.cid, amount, date, realcode,type, di,t1.feccandid,firstlastp,party \\\n",
    "       FROM pq_crp_pacs18 t1 \\\n",
    "       INNER JOIN pq_crp_cands18 t2 \\\n",
    "       ON t1.feccandid= t2.feccandid \\\n",
    "       WHERE di == \"D\" AND \\\n",
    "       realcode NOT LIKE \"z9*%\" AND \\\n",
    "       realcode NOT LIKE \"z4*%\"').limit(10).show()\n",
    "\n",
    "#realcode is industry, this filters out transfers and joint fund raising committees"
   ]
  },
  {
   "cell_type": "markdown",
   "metadata": {},
   "source": [
    "Need industry names!"
   ]
  },
  {
   "cell_type": "code",
   "execution_count": 19,
   "metadata": {},
   "outputs": [
    {
     "data": {
      "text/html": [
       "<div>\n",
       "<style scoped>\n",
       "    .dataframe tbody tr th:only-of-type {\n",
       "        vertical-align: middle;\n",
       "    }\n",
       "\n",
       "    .dataframe tbody tr th {\n",
       "        vertical-align: top;\n",
       "    }\n",
       "\n",
       "    .dataframe thead th {\n",
       "        text-align: right;\n",
       "    }\n",
       "</style>\n",
       "<table border=\"1\" class=\"dataframe\">\n",
       "  <thead>\n",
       "    <tr style=\"text-align: right;\">\n",
       "      <th></th>\n",
       "      <th>Catcode</th>\n",
       "      <th>Catname</th>\n",
       "      <th>Catorder</th>\n",
       "      <th>Industry</th>\n",
       "      <th>Sector</th>\n",
       "      <th>Sector Long</th>\n",
       "    </tr>\n",
       "  </thead>\n",
       "  <tbody>\n",
       "    <tr>\n",
       "      <th>1</th>\n",
       "      <td>A0000</td>\n",
       "      <td>Agriculture</td>\n",
       "      <td>A11</td>\n",
       "      <td>Misc Agriculture</td>\n",
       "      <td>Agribusiness</td>\n",
       "      <td>Agribusiness</td>\n",
       "    </tr>\n",
       "    <tr>\n",
       "      <th>2</th>\n",
       "      <td>A1000</td>\n",
       "      <td>Crop production &amp; basic processing</td>\n",
       "      <td>A01</td>\n",
       "      <td>Crop Production &amp; Basic Processing</td>\n",
       "      <td>Agribusiness</td>\n",
       "      <td>Agribusiness</td>\n",
       "    </tr>\n",
       "    <tr>\n",
       "      <th>3</th>\n",
       "      <td>A1100</td>\n",
       "      <td>Cotton</td>\n",
       "      <td>A01</td>\n",
       "      <td>Crop Production &amp; Basic Processing</td>\n",
       "      <td>Agribusiness</td>\n",
       "      <td>Agribusiness</td>\n",
       "    </tr>\n",
       "    <tr>\n",
       "      <th>4</th>\n",
       "      <td>A1200</td>\n",
       "      <td>Sugar cane &amp; sugar beets</td>\n",
       "      <td>A01</td>\n",
       "      <td>Crop Production &amp; Basic Processing</td>\n",
       "      <td>Agribusiness</td>\n",
       "      <td>Agribusiness</td>\n",
       "    </tr>\n",
       "    <tr>\n",
       "      <th>5</th>\n",
       "      <td>A1300</td>\n",
       "      <td>Tobacco &amp; Tobacco products</td>\n",
       "      <td>A02</td>\n",
       "      <td>Tobacco</td>\n",
       "      <td>Agribusiness</td>\n",
       "      <td>Agribusiness</td>\n",
       "    </tr>\n",
       "  </tbody>\n",
       "</table>\n",
       "</div>"
      ],
      "text/plain": [
       "  Catcode                             Catname Catorder  \\\n",
       "1   A0000                         Agriculture      A11   \n",
       "2   A1000  Crop production & basic processing      A01   \n",
       "3   A1100                              Cotton      A01   \n",
       "4   A1200            Sugar cane & sugar beets      A01   \n",
       "5   A1300          Tobacco & Tobacco products      A02   \n",
       "\n",
       "                             Industry        Sector   Sector Long  \n",
       "1                    Misc Agriculture  Agribusiness  Agribusiness  \n",
       "2  Crop Production & Basic Processing  Agribusiness  Agribusiness  \n",
       "3  Crop Production & Basic Processing  Agribusiness  Agribusiness  \n",
       "4  Crop Production & Basic Processing  Agribusiness  Agribusiness  \n",
       "5                             Tobacco  Agribusiness  Agribusiness  "
      ]
     },
     "execution_count": 19,
     "metadata": {},
     "output_type": "execute_result"
    }
   ],
   "source": [
    "import re\n",
    "import pandas as pd\n",
    "#crp_industry_names = ast.literal_eval(open(\"crp_industry_names.txt\", \"r\").read\n",
    "                                      \n",
    "crp_industry_names = open(\"crp_industry_names.txt\", \"r\").read()#.split('\\t')\n",
    "crp_industry_names\n",
    "crp_industry_names = crp_industry_names.splitlines()\n",
    "\n",
    "\n",
    "crp_industry_names = [re.split(r'\\t+',x) for x in crp_industry_names]\n",
    "crp_industry_names =pd.DataFrame(crp_industry_names)\n",
    "\n",
    "crp_industry_names.columns=(\"Catcode\",\"Catname\",\"Catorder\",\"Industry\",\"Sector\",\"Sector Long\")\n",
    "crp_industry_names= crp_industry_names[1:]\n",
    "crp_industry_names.head()"
   ]
  },
  {
   "cell_type": "code",
   "execution_count": 20,
   "metadata": {},
   "outputs": [
    {
     "ename": "AttributeError",
     "evalue": "'SparkSession' object has no attribute 'broadcast'",
     "output_type": "error",
     "traceback": [
      "\u001b[0;31m---------------------------------------------------------------------------\u001b[0m",
      "\u001b[0;31mAttributeError\u001b[0m                            Traceback (most recent call last)",
      "\u001b[0;32m<ipython-input-20-b0d51c0fa1ab>\u001b[0m in \u001b[0;36m<module>\u001b[0;34m()\u001b[0m\n\u001b[0;32m----> 1\u001b[0;31m \u001b[0mind_names\u001b[0m \u001b[0;34m=\u001b[0m \u001b[0msc\u001b[0m\u001b[0;34m.\u001b[0m\u001b[0mbroadcast\u001b[0m\u001b[0;34m(\u001b[0m\u001b[0mcrp_industry_names\u001b[0m\u001b[0;34m)\u001b[0m\u001b[0;34m\u001b[0m\u001b[0m\n\u001b[0m",
      "\u001b[0;31mAttributeError\u001b[0m: 'SparkSession' object has no attribute 'broadcast'"
     ]
    }
   ],
   "source": [
    "ind_names = sc.broadcast(crp_industry_names)"
   ]
  },
  {
   "cell_type": "code",
   "execution_count": 21,
   "metadata": {},
   "outputs": [],
   "source": [
    "from pyspark.sql import SQLContext\n",
    "sqlCtx = SQLContext(sc)\n",
    "crp_industry_names = sqlCtx.createDataFrame(data = crp_industry_names)"
   ]
  },
  {
   "cell_type": "code",
   "execution_count": 22,
   "metadata": {},
   "outputs": [
    {
     "data": {
      "text/plain": [
       "DataFrame[Catcode: string, Catname: string, Catorder: string, Industry: string, Sector: string, Sector Long: string]"
      ]
     },
     "execution_count": 22,
     "metadata": {},
     "output_type": "execute_result"
    }
   ],
   "source": [
    "crp_industry_names"
   ]
  },
  {
   "cell_type": "code",
   "execution_count": 35,
   "metadata": {},
   "outputs": [],
   "source": [
    "import pyspark\n",
    "from pyspark.sql.types import StringType, IntegerType, StructType, StructField, FloatType, BooleanType, DateType\n",
    "import time\n",
    "import datetime\n",
    "\n",
    "\n",
    "IndnamesSchemaStr = [\n",
    "'''Catcode\n",
    "Unique indentifier for each industry. Same is Prim_code or realcode\n",
    "Text (5)\n",
    "CRP''',\n",
    "\n",
    "'''Catname\n",
    "Name for each industry\n",
    "Text (9)\n",
    "FEC''',\n",
    "\n",
    "'''Catorder\n",
    "Grouping similar industries together with a code, NOT an abbreviation of Catcode\n",
    "Text (3)\n",
    "CRP''',\n",
    "\n",
    "'''Industry\n",
    "Not really a one to one with any level of NAICS\n",
    "Text (25)\n",
    "CRP''',\n",
    "    \n",
    "'''Sector\n",
    "A level up from Industry \n",
    "Text (15)\n",
    "CRP''',\n",
    "\n",
    "'''SectorLong\n",
    "A level up from Industry \n",
    "Text (40)\n",
    "CRP''' \n",
    "]\n",
    "\n",
    "def now():\n",
    "    return datetime.datetime.fromtimestamp(time.time()).strftime('%Y-%m-%d %H:%M:%S.%f')"
   ]
  },
  {
   "cell_type": "code",
   "execution_count": 36,
   "metadata": {},
   "outputs": [
    {
     "data": {
      "text/html": [
       "<div>\n",
       "<style scoped>\n",
       "    .dataframe tbody tr th:only-of-type {\n",
       "        vertical-align: middle;\n",
       "    }\n",
       "\n",
       "    .dataframe tbody tr th {\n",
       "        vertical-align: top;\n",
       "    }\n",
       "\n",
       "    .dataframe thead th {\n",
       "        text-align: right;\n",
       "    }\n",
       "</style>\n",
       "<table border=\"1\" class=\"dataframe\">\n",
       "  <thead>\n",
       "    <tr style=\"text-align: right;\">\n",
       "      <th></th>\n",
       "      <th>Catcode</th>\n",
       "      <th>Catname</th>\n",
       "      <th>Catorder</th>\n",
       "      <th>Industry</th>\n",
       "      <th>Sector</th>\n",
       "      <th>SectorLong</th>\n",
       "    </tr>\n",
       "  </thead>\n",
       "  <tbody>\n",
       "    <tr>\n",
       "      <th>0</th>\n",
       "      <td>A0000</td>\n",
       "      <td>Agriculture</td>\n",
       "      <td>A11</td>\n",
       "      <td>Misc Agriculture</td>\n",
       "      <td>Agribusiness</td>\n",
       "      <td>Agribusiness</td>\n",
       "    </tr>\n",
       "    <tr>\n",
       "      <th>1</th>\n",
       "      <td>A1000</td>\n",
       "      <td>Crop production &amp; basic processing</td>\n",
       "      <td>A01</td>\n",
       "      <td>Crop Production &amp; Basic Processing</td>\n",
       "      <td>Agribusiness</td>\n",
       "      <td>Agribusiness</td>\n",
       "    </tr>\n",
       "    <tr>\n",
       "      <th>2</th>\n",
       "      <td>A1100</td>\n",
       "      <td>Cotton</td>\n",
       "      <td>A01</td>\n",
       "      <td>Crop Production &amp; Basic Processing</td>\n",
       "      <td>Agribusiness</td>\n",
       "      <td>Agribusiness</td>\n",
       "    </tr>\n",
       "  </tbody>\n",
       "</table>\n",
       "</div>"
      ],
      "text/plain": [
       "  Catcode                             Catname Catorder  \\\n",
       "0   A0000                         Agriculture      A11   \n",
       "1   A1000  Crop production & basic processing      A01   \n",
       "2   A1100                              Cotton      A01   \n",
       "\n",
       "                             Industry        Sector    SectorLong  \n",
       "0                    Misc Agriculture  Agribusiness  Agribusiness  \n",
       "1  Crop Production & Basic Processing  Agribusiness  Agribusiness  \n",
       "2  Crop Production & Basic Processing  Agribusiness  Agribusiness  "
      ]
     },
     "execution_count": 36,
     "metadata": {},
     "output_type": "execute_result"
    }
   ],
   "source": [
    "from open_secrets_schema import Schema\n",
    "cands18Schema = Schema(IndnamesSchemaStr)\n",
    "cands18 = pd.read_csv('crp_industry_names.txt', quotechar='\"', delimiter='\\t', \n",
    "                      parse_dates=cands18Schema.get_dt_colnames(), infer_datetime_format=True,\n",
    "                      header=0, dtype=cands18Schema.get_pandas_schema(), names=cands18Schema.column_names)\n",
    "\n",
    "cands18.head(3)"
   ]
  },
  {
   "cell_type": "code",
   "execution_count": 37,
   "metadata": {},
   "outputs": [
    {
     "name": "stdout",
     "output_type": "stream",
     "text": [
      "2018-10-20 16:09:27,114 WARN util.NativeCodeLoader: Unable to load native-hadoop library for your platform... using builtin-java classes where applicable\n",
      "Found 2 items\n",
      "drwxrwxrwx   - matt supergroup          0 2018-10-18 05:33 /staging/bills\n",
      "drwxr-xr-x   - matt supergroup          0 2018-10-20 16:03 /staging/industry_names\n"
     ]
    }
   ],
   "source": [
    "!hdfs dfs -ls /staging"
   ]
  },
  {
   "cell_type": "code",
   "execution_count": 38,
   "metadata": {},
   "outputs": [
    {
     "name": "stdout",
     "output_type": "stream",
     "text": [
      "2018-10-20 16:09:38,073 WARN util.NativeCodeLoader: Unable to load native-hadoop library for your platform... using builtin-java classes where applicable\n",
      "Deleted /staging/industry_names\n"
     ]
    }
   ],
   "source": [
    "!hdfs dfs -rm -r -f /staging/industry_names"
   ]
  },
  {
   "cell_type": "code",
   "execution_count": 32,
   "metadata": {},
   "outputs": [
    {
     "name": "stdout",
     "output_type": "stream",
     "text": [
      "2018-10-20 16:03:11,532 WARN util.NativeCodeLoader: Unable to load native-hadoop library for your platform... using builtin-java classes where applicable\r\n"
     ]
    }
   ],
   "source": [
    "#!hdfs dfs -mkdir -p /staging/industry_names"
   ]
  },
  {
   "cell_type": "code",
   "execution_count": 33,
   "metadata": {},
   "outputs": [],
   "source": [
    "#sc.sql('CREATE TABLE industry_names (Catcode STRING, Catname STRING, Catorder STRING, Industry STRING, Sector STRING, Sector_Long STRING)')"
   ]
  },
  {
   "cell_type": "code",
   "execution_count": 34,
   "metadata": {},
   "outputs": [],
   "source": [
    "#import findspark\n",
    "#findspark.init()\n",
    "#import pyspark\n",
    "#from pyspark.sql import HiveContext\n",
    "#\n",
    "#sqlCtx= HiveContext(sc)\n",
    "#\n",
    "#spark_df = sqlCtx.read.format('com.databricks.spark.csv').options(header='true', inferschema='true').load(\"./data/documents_topics.csv\")\n",
    "#spark_df.registerTempTable(\"my_table\")\n",
    "#\n",
    "#sqlCtx.sql(\"CREATE TABLE my_table_2 AS SELECT * from my_table\")"
   ]
  },
  {
   "cell_type": "code",
   "execution_count": 77,
   "metadata": {},
   "outputs": [
    {
     "name": "stdout",
     "output_type": "stream",
     "text": [
      "Catcode\tCatname\tCatorder\tIndustry\tSector\tSector Long\r",
      "\r\n",
      "A0000\tAgriculture\tA11\tMisc Agriculture\tAgribusiness\tAgribusiness\r",
      "\r\n"
     ]
    }
   ],
   "source": [
    "!head -n 2 crp_industry_names.txt"
   ]
  },
  {
   "cell_type": "markdown",
   "metadata": {},
   "source": [
    "Remove header with `tail -n +2 {filename}`"
   ]
  },
  {
   "cell_type": "code",
   "execution_count": 78,
   "metadata": {},
   "outputs": [],
   "source": [
    "!tail -n +2 crp_industry_names.txt > crp_industry_names_noheader.txt"
   ]
  },
  {
   "cell_type": "code",
   "execution_count": 79,
   "metadata": {},
   "outputs": [],
   "source": [
    "def etl_text_file(text_file_path, schema_str, table_name, data_source_name, column_datetime_formats=None,\n",
    "                  csv_quotechar='|', csv_delimiter=','):\n",
    "    schema = Schema(schema_str)\n",
    "    schema.register_column_datetime_formats(column_datetime_formats)\n",
    "    textFileName = osp.split(text_file_path)[1]\n",
    "    stagingFolder = f'/staging/{table_name}'\n",
    "    !hdfs dfs -rm -r -f {stagingFolder}/{textFileName}\n",
    "    !hdfs dfs -mkdir -p {stagingFolder}\n",
    "    !hdfs dfs -put {text_file_path} {stagingFolder}/{textFileName}\n",
    "    !hdfs dfs -chmod -R 777 {stagingFolder}\n",
    "    with open(f'{table_name}.sql', 'w') as f:\n",
    "        f.write(schema.hive_ddl(tableName=table_name, externalTableLocation=stagingFolder,\n",
    "                                csv_quotechar=csv_quotechar, csv_delimiter=csv_delimiter))\n",
    "    !/opt/anaconda3/bin/beeline -u jdbc:hive2://cap1:10000 -n matt -p anything -f {table_name}.sql\n",
    "    \n",
    "    # Convert to the proper schema and write as parquet\n",
    "    finalTableName = f'pq_{data_source_name}_{table_name}'\n",
    "    !hdfs dfs -chmod -R 777 '/user/hive/warehouse'\n",
    "    with open(f'{finalTableName}.sql', 'w') as f:\n",
    "        f.write(schema.hive_ddl_parquet(tableName=finalTableName, originalTableName=table_name))\n",
    "    !/opt/anaconda3/bin/beeline -u jdbc:hive2://cap1:10000 -n matt -p anything -f {finalTableName}.sql\n",
    "    \n",
    "    # clean up -- drop the intermediate (text file) table and delete staged data from HDFS\n",
    "    sc.sql(f'DROP TABLE {table_name}')\n",
    "    !hdfs dfs -rm -r -f {stagingFolder}\n",
    "    \n",
    "    print('done')"
   ]
  },
  {
   "cell_type": "code",
   "execution_count": 80,
   "metadata": {},
   "outputs": [
    {
     "name": "stdout",
     "output_type": "stream",
     "text": [
      "2018-10-20 17:33:09,080 WARN util.NativeCodeLoader: Unable to load native-hadoop library for your platform... using builtin-java classes where applicable\n",
      "2018-10-20 17:33:11,115 WARN util.NativeCodeLoader: Unable to load native-hadoop library for your platform... using builtin-java classes where applicable\n",
      "2018-10-20 17:33:13,148 WARN util.NativeCodeLoader: Unable to load native-hadoop library for your platform... using builtin-java classes where applicable\n",
      "2018-10-20 17:33:15,389 WARN util.NativeCodeLoader: Unable to load native-hadoop library for your platform... using builtin-java classes where applicable\n",
      "Connecting to jdbc:hive2://cap1:10000\n",
      "2018-10-20 17:33:17 INFO  Utils:310 - Supplied authorities: cap1:10000\n",
      "2018-10-20 17:33:17 INFO  Utils:397 - Resolved authority: cap1:10000\n",
      "2018-10-20 17:33:17 INFO  HiveConnection:203 - Will try to open client transport with JDBC Uri: jdbc:hive2://cap1:10000\n",
      "Connected to: Spark SQL (version 2.3.2)\n",
      "Driver: Hive JDBC (version 1.2.1.spark2)\n",
      "Transaction isolation: TRANSACTION_REPEATABLE_READ\n",
      "0: jdbc:hive2://cap1:10000> \n",
      "0: jdbc:hive2://cap1:10000> DROP TABLE IF EXISTS industry_names;\n",
      "+---------+--+\n",
      "| Result  |\n",
      "+---------+--+\n",
      "+---------+--+\n",
      "No rows selected (0.111 seconds)\n",
      "0: jdbc:hive2://cap1:10000>         \n",
      "0: jdbc:hive2://cap1:10000> CREATE EXTERNAL TABLE industry_names\n",
      "0: jdbc:hive2://cap1:10000> (\n",
      "P',ch industry. Same is Prim_code or realcode, orig-datatype Text (5), source CR \n",
      ", orig-datatype Text (9), source FEC',me` STRING COMMENT 'Name for each industry \n",
      "(3), source CRP',ith a code, NOT an abbreviaTRING COMMENT 'Grouping similar indu tion of Catcode, orig-datatype Text  \n",
      "ne with any level of NAICS, orig-datatype Text (25), source CRP',ally a one to o \n",
      "y , orig-datatype Text (15), source CRP',STRING COMMENT 'A level up from Industr \n",
      "ustry , orig-datatype Text (40), source CRP' STRING COMMENT 'A level up from Ind \n",
      "0: jdbc:hive2://cap1:10000> )\n",
      "6.774943 from /staging/industry_names'uto-generated schema at 2018-10-20 17:33:1 \n",
      "CSVSerde'ive2://cap1:10000> ROW FORMAT SERDE 'org.apache.hadoop.hive.serde2.Open \n",
      "0: jdbc:hive2://cap1:10000> WITH SERDEPROPERTIES (\n",
      "0: jdbc:hive2://cap1:10000>    \"separatorChar\" = \"\\t\",\n",
      "0: jdbc:hive2://cap1:10000>    \"quoteChar\"     = \"\\\"\"\n",
      "0: jdbc:hive2://cap1:10000> )\n",
      "0: jdbc:hive2://cap1:10000> STORED AS TEXTFILE\n",
      "0: jdbc:hive2://cap1:10000> LOCATION '/staging/industry_names';\n",
      "+---------+--+\n",
      "| Result  |\n",
      "+---------+--+\n",
      "+---------+--+\n",
      "No rows selected (0.039 seconds)\n",
      "0: jdbc:hive2://cap1:10000> \n",
      "0: jdbc:hive2://cap1:10000> \n",
      "Closing: 0: jdbc:hive2://cap1:10000\n",
      "2018-10-20 17:33:18,843 WARN util.NativeCodeLoader: Unable to load native-hadoop library for your platform... using builtin-java classes where applicable\n",
      "chmod: changing permissions of '/user/hive/warehouse/pq_crp_expends18/part-00000-bf89b388-7d7c-4f11-8565-523fa2d65537-c000': Permission denied. user=matt is not the owner of inode=/user/hive/warehouse/pq_crp_expends18/part-00000-bf89b388-7d7c-4f11-8565-523fa2d65537-c000\n",
      "chmod: changing permissions of '/user/hive/warehouse/pq_crp_expends18/part-00001-bf89b388-7d7c-4f11-8565-523fa2d65537-c000': Permission denied. user=matt is not the owner of inode=/user/hive/warehouse/pq_crp_expends18/part-00001-bf89b388-7d7c-4f11-8565-523fa2d65537-c000\n",
      "chmod: changing permissions of '/user/hive/warehouse/pq_crp_expends18/part-00002-bf89b388-7d7c-4f11-8565-523fa2d65537-c000': Permission denied. user=matt is not the owner of inode=/user/hive/warehouse/pq_crp_expends18/part-00002-bf89b388-7d7c-4f11-8565-523fa2d65537-c000\n",
      "chmod: changing permissions of '/user/hive/warehouse/pq_crp_expends18/part-00003-bf89b388-7d7c-4f11-8565-523fa2d65537-c000': Permission denied. user=matt is not the owner of inode=/user/hive/warehouse/pq_crp_expends18/part-00003-bf89b388-7d7c-4f11-8565-523fa2d65537-c000\n",
      "chmod: changing permissions of '/user/hive/warehouse/pq_crp_expends18/part-00004-bf89b388-7d7c-4f11-8565-523fa2d65537-c000': Permission denied. user=matt is not the owner of inode=/user/hive/warehouse/pq_crp_expends18/part-00004-bf89b388-7d7c-4f11-8565-523fa2d65537-c000\n",
      "chmod: changing permissions of '/user/hive/warehouse/pq_crp_expends18/part-00005-bf89b388-7d7c-4f11-8565-523fa2d65537-c000': Permission denied. user=matt is not the owner of inode=/user/hive/warehouse/pq_crp_expends18/part-00005-bf89b388-7d7c-4f11-8565-523fa2d65537-c000\n",
      "chmod: changing permissions of '/user/hive/warehouse/pq_crp_expends18/part-00006-bf89b388-7d7c-4f11-8565-523fa2d65537-c000': Permission denied. user=matt is not the owner of inode=/user/hive/warehouse/pq_crp_expends18/part-00006-bf89b388-7d7c-4f11-8565-523fa2d65537-c000\n",
      "chmod: changing permissions of '/user/hive/warehouse/pq_crp_expends18/part-00007-bf89b388-7d7c-4f11-8565-523fa2d65537-c000': Permission denied. user=matt is not the owner of inode=/user/hive/warehouse/pq_crp_expends18/part-00007-bf89b388-7d7c-4f11-8565-523fa2d65537-c000\n",
      "chmod: changing permissions of '/user/hive/warehouse/pq_crp_expends18/part-00008-bf89b388-7d7c-4f11-8565-523fa2d65537-c000': Permission denied. user=matt is not the owner of inode=/user/hive/warehouse/pq_crp_expends18/part-00008-bf89b388-7d7c-4f11-8565-523fa2d65537-c000\n",
      "chmod: changing permissions of '/user/hive/warehouse/pq_crp_expends18/part-00009-bf89b388-7d7c-4f11-8565-523fa2d65537-c000': Permission denied. user=matt is not the owner of inode=/user/hive/warehouse/pq_crp_expends18/part-00009-bf89b388-7d7c-4f11-8565-523fa2d65537-c000\n",
      "chmod: changing permissions of '/user/hive/warehouse/pq_crp_expends18/part-00010-bf89b388-7d7c-4f11-8565-523fa2d65537-c000': Permission denied. user=matt is not the owner of inode=/user/hive/warehouse/pq_crp_expends18/part-00010-bf89b388-7d7c-4f11-8565-523fa2d65537-c000\n",
      "chmod: changing permissions of '/user/hive/warehouse/pq_crp_expends18/part-00011-bf89b388-7d7c-4f11-8565-523fa2d65537-c000': Permission denied. user=matt is not the owner of inode=/user/hive/warehouse/pq_crp_expends18/part-00011-bf89b388-7d7c-4f11-8565-523fa2d65537-c000\n",
      "chmod: changing permissions of '/user/hive/warehouse/pq_crp_expends18/part-00012-bf89b388-7d7c-4f11-8565-523fa2d65537-c000': Permission denied. user=matt is not the owner of inode=/user/hive/warehouse/pq_crp_expends18/part-00012-bf89b388-7d7c-4f11-8565-523fa2d65537-c000\n",
      "chmod: changing permissions of '/user/hive/warehouse/pq_crp_expends18/part-00013-bf89b388-7d7c-4f11-8565-523fa2d65537-c000': Permission denied. user=matt is not the owner of inode=/user/hive/warehouse/pq_crp_expends18/part-00013-bf89b388-7d7c-4f11-8565-523fa2d65537-c000\n",
      "chmod: changing permissions of '/user/hive/warehouse/pq_crp_expends18/part-00014-bf89b388-7d7c-4f11-8565-523fa2d65537-c000': Permission denied. user=matt is not the owner of inode=/user/hive/warehouse/pq_crp_expends18/part-00014-bf89b388-7d7c-4f11-8565-523fa2d65537-c000\n",
      "chmod: changing permissions of '/user/hive/warehouse/pq_crp_expends18/part-00015-bf89b388-7d7c-4f11-8565-523fa2d65537-c000': Permission denied. user=matt is not the owner of inode=/user/hive/warehouse/pq_crp_expends18/part-00015-bf89b388-7d7c-4f11-8565-523fa2d65537-c000\n",
      "chmod: changing permissions of '/user/hive/warehouse/pq_crp_expends18/part-00016-bf89b388-7d7c-4f11-8565-523fa2d65537-c000': Permission denied. user=matt is not the owner of inode=/user/hive/warehouse/pq_crp_expends18/part-00016-bf89b388-7d7c-4f11-8565-523fa2d65537-c000\n",
      "chmod: changing permissions of '/user/hive/warehouse/pq_crp_expends18/part-00017-bf89b388-7d7c-4f11-8565-523fa2d65537-c000': Permission denied. user=matt is not the owner of inode=/user/hive/warehouse/pq_crp_expends18/part-00017-bf89b388-7d7c-4f11-8565-523fa2d65537-c000\n",
      "chmod: changing permissions of '/user/hive/warehouse/pq_crp_expends18/part-00018-bf89b388-7d7c-4f11-8565-523fa2d65537-c000': Permission denied. user=matt is not the owner of inode=/user/hive/warehouse/pq_crp_expends18/part-00018-bf89b388-7d7c-4f11-8565-523fa2d65537-c000\n",
      "chmod: changing permissions of '/user/hive/warehouse/pq_crp_expends18/part-00019-bf89b388-7d7c-4f11-8565-523fa2d65537-c000': Permission denied. user=matt is not the owner of inode=/user/hive/warehouse/pq_crp_expends18/part-00019-bf89b388-7d7c-4f11-8565-523fa2d65537-c000\n",
      "chmod: changing permissions of '/user/hive/warehouse/pq_crp_expends18/part-00020-bf89b388-7d7c-4f11-8565-523fa2d65537-c000': Permission denied. user=matt is not the owner of inode=/user/hive/warehouse/pq_crp_expends18/part-00020-bf89b388-7d7c-4f11-8565-523fa2d65537-c000\n",
      "chmod: changing permissions of '/user/hive/warehouse/pq_crp_expends18/part-00021-bf89b388-7d7c-4f11-8565-523fa2d65537-c000': Permission denied. user=matt is not the owner of inode=/user/hive/warehouse/pq_crp_expends18/part-00021-bf89b388-7d7c-4f11-8565-523fa2d65537-c000\n",
      "chmod: changing permissions of '/user/hive/warehouse/pq_crp_expends18/part-00022-bf89b388-7d7c-4f11-8565-523fa2d65537-c000': Permission denied. user=matt is not the owner of inode=/user/hive/warehouse/pq_crp_expends18/part-00022-bf89b388-7d7c-4f11-8565-523fa2d65537-c000\n",
      "chmod: changing permissions of '/user/hive/warehouse/pq_crp_expends18/part-00023-bf89b388-7d7c-4f11-8565-523fa2d65537-c000': Permission denied. user=matt is not the owner of inode=/user/hive/warehouse/pq_crp_expends18/part-00023-bf89b388-7d7c-4f11-8565-523fa2d65537-c000\n",
      "chmod: changing permissions of '/user/hive/warehouse/pq_crp_expends18/part-00024-bf89b388-7d7c-4f11-8565-523fa2d65537-c000': Permission denied. user=matt is not the owner of inode=/user/hive/warehouse/pq_crp_expends18/part-00024-bf89b388-7d7c-4f11-8565-523fa2d65537-c000\n"
     ]
    },
    {
     "name": "stdout",
     "output_type": "stream",
     "text": [
      "Connecting to jdbc:hive2://cap1:10000\n",
      "2018-10-20 17:33:21 INFO  Utils:310 - Supplied authorities: cap1:10000\n",
      "2018-10-20 17:33:21 INFO  Utils:397 - Resolved authority: cap1:10000\n",
      "2018-10-20 17:33:21 INFO  HiveConnection:203 - Will try to open client transport with JDBC Uri: jdbc:hive2://cap1:10000\n",
      "Connected to: Spark SQL (version 2.3.2)\n",
      "Driver: Hive JDBC (version 1.2.1.spark2)\n",
      "Transaction isolation: TRANSACTION_REPEATABLE_READ\n",
      "0: jdbc:hive2://cap1:10000> \n",
      "0: jdbc:hive2://cap1:10000> DROP TABLE IF EXISTS pq_crp_industry_names;\n",
      "+---------+--+\n",
      "| Result  |\n",
      "+---------+--+\n",
      "+---------+--+\n",
      "No rows selected (0.112 seconds)\n",
      "0: jdbc:hive2://cap1:10000>         \n",
      "0: jdbc:hive2://cap1:10000> CREATE TABLE pq_crp_industry_names \n",
      "0.273595 from industry_names' MMENT 'Auto-generated schema at 2018-10-20 17:33:2 \n",
      "0: jdbc:hive2://cap1:10000> STORED AS PARQUET \n",
      "0: jdbc:hive2://cap1:10000> AS SELECT\n",
      "0: jdbc:hive2://cap1:10000>     `Catcode` AS `Catcode`,\n",
      "0: jdbc:hive2://cap1:10000>     `Catname` AS `Catname`,\n",
      "0: jdbc:hive2://cap1:10000>     `Catorder` AS `Catorder`,\n",
      "0: jdbc:hive2://cap1:10000>     `Industry` AS `Industry`,\n",
      "0: jdbc:hive2://cap1:10000>     `Sector` AS `Sector`,\n",
      "0: jdbc:hive2://cap1:10000>     `SectorLong` AS `SectorLong`\n",
      "0: jdbc:hive2://cap1:10000> FROM industry_names;\n",
      "Error: org.apache.spark.sql.AnalysisException: org.apache.hadoop.hive.ql.metadata.HiveException: Unable to move source hdfs://cap1/user/hive/warehouse/pq_crp_industry_names/.hive-staging_hive_2018-10-20_17-33-21_532_4325660232294995707-6/-ext-10000/part-00000-c036a413-7869-42b4-ba11-55650507e2b2-c000 to destination hdfs://cap1/user/hive/warehouse/pq_crp_industry_names/part-00000-c036a413-7869-42b4-ba11-55650507e2b2-c000; (state=,code=0)\n",
      "\n",
      "Closing: 0: jdbc:hive2://cap1:10000\n",
      "2018-10-20 17:33:22,679 WARN util.NativeCodeLoader: Unable to load native-hadoop library for your platform... using builtin-java classes where applicable\n",
      "Deleted /staging/industry_names\n",
      "done\n"
     ]
    }
   ],
   "source": [
    "etl_text_file(text_file_path='crp_industry_names_noheader.txt',\n",
    "              schema_str=IndnamesSchemaStr,\n",
    "              table_name='industry_names',\n",
    "              data_source_name='crp',\n",
    "              csv_quotechar='\\\\\"',\n",
    "              csv_delimiter='\\\\t')"
   ]
  },
  {
   "cell_type": "markdown",
   "metadata": {},
   "source": [
    "OK, we get a \"filesystem closed\" exception around that point in the logs. no idea why. but we can use Spark to load in the data, so we will do that."
   ]
  },
  {
   "cell_type": "code",
   "execution_count": 81,
   "metadata": {},
   "outputs": [
    {
     "name": "stdout",
     "output_type": "stream",
     "text": [
      "2018-10-20 17:57:27,634 WARN util.NativeCodeLoader: Unable to load native-hadoop library for your platform... using builtin-java classes where applicable\r\n"
     ]
    }
   ],
   "source": [
    "!hdfs dfs -mkdir -p /staging/industry_names"
   ]
  },
  {
   "cell_type": "code",
   "execution_count": 82,
   "metadata": {},
   "outputs": [
    {
     "name": "stdout",
     "output_type": "stream",
     "text": [
      "2018-10-20 18:04:04,563 WARN util.NativeCodeLoader: Unable to load native-hadoop library for your platform... using builtin-java classes where applicable\r\n"
     ]
    }
   ],
   "source": [
    "!hdfs dfs -put crp_industry_names_noheader.txt /staging/industry_names/crp_industry_names_noheader.txt"
   ]
  },
  {
   "cell_type": "code",
   "execution_count": 83,
   "metadata": {},
   "outputs": [
    {
     "name": "stdout",
     "output_type": "stream",
     "text": [
      "Connecting to jdbc:hive2://cap1:10000\n",
      "2018-10-20 18:04:32 INFO  Utils:310 - Supplied authorities: cap1:10000\n",
      "2018-10-20 18:04:32 INFO  Utils:397 - Resolved authority: cap1:10000\n",
      "2018-10-20 18:04:32 INFO  HiveConnection:203 - Will try to open client transport with JDBC Uri: jdbc:hive2://cap1:10000\n",
      "Connected to: Spark SQL (version 2.3.2)\n",
      "Driver: Hive JDBC (version 1.2.1.spark2)\n",
      "Transaction isolation: TRANSACTION_REPEATABLE_READ\n",
      "0: jdbc:hive2://cap1:10000> \n",
      "0: jdbc:hive2://cap1:10000> DROP TABLE IF EXISTS industry_names;\n",
      "+---------+--+\n",
      "| Result  |\n",
      "+---------+--+\n",
      "+---------+--+\n",
      "No rows selected (0.113 seconds)\n",
      "0: jdbc:hive2://cap1:10000>         \n",
      "0: jdbc:hive2://cap1:10000> CREATE EXTERNAL TABLE industry_names\n",
      "0: jdbc:hive2://cap1:10000> (\n",
      "P',ch industry. Same is Prim_code or realcode, orig-datatype Text (5), source CR \n",
      ", orig-datatype Text (9), source FEC',me` STRING COMMENT 'Name for each industry \n",
      "(3), source CRP',ith a code, NOT an abbreviation of Catcode, orig-datatype Text  \n",
      "ne with any level of NAICS, orig-datatype Text (25), source CRP',ally a one to o \n",
      "y , orig-datatype Text (15), source CRP',STRING COMMENT 'A level up from Industr \n",
      "ustry , orig-datatype Text (40), source CRP' STRING COMMENT 'A level up from Ind \n",
      "0: jdbc:hive2://cap1:10000> )\n",
      "6.774943 from /staging/industry_names'uto-generated schema at 2018-10-20 17:33:1 \n",
      "CSVSerde'ive2://cap1:10000> ROW FORMAT SERDE 'org.apache.hadoop.hive.serde2.Open \n",
      "0: jdbc:hive2://cap1:10000> WITH SERDEPROPERTIES (\n",
      "0: jdbc:hive2://cap1:10000>    \"separatorChar\" = \"\\t\",\n",
      "0: jdbc:hive2://cap1:10000>    \"quoteChar\"     = \"\\\"\"\n",
      "0: jdbc:hive2://cap1:10000> )\n",
      "0: jdbc:hive2://cap1:10000> STORED AS TEXTFILE\n",
      "0: jdbc:hive2://cap1:10000> LOCATION '/staging/industry_names';\n",
      "+---------+--+\n",
      "| Result  |\n",
      "+---------+--+\n",
      "+---------+--+\n",
      "No rows selected (0.061 seconds)\n",
      "0: jdbc:hive2://cap1:10000> \n",
      "0: jdbc:hive2://cap1:10000> \n",
      "Closing: 0: jdbc:hive2://cap1:10000\n"
     ]
    }
   ],
   "source": [
    "!beeline -u jdbc:hive2://cap1:10000 -n matt -p anything -f industry_names.sql"
   ]
  },
  {
   "cell_type": "code",
   "execution_count": 86,
   "metadata": {},
   "outputs": [],
   "source": [
    "schema = Schema(IndnamesSchemaStr)"
   ]
  },
  {
   "cell_type": "code",
   "execution_count": 84,
   "metadata": {},
   "outputs": [],
   "source": [
    "df = sc.sql('SELECT * FROM industry_names')"
   ]
  },
  {
   "cell_type": "markdown",
   "metadata": {},
   "source": [
    "apply schema"
   ]
  },
  {
   "cell_type": "code",
   "execution_count": 90,
   "metadata": {},
   "outputs": [],
   "source": [
    "newDF = sc.createDataFrame(df.rdd, schema=schema.get_spark_dtypes())"
   ]
  },
  {
   "cell_type": "code",
   "execution_count": 91,
   "metadata": {},
   "outputs": [
    {
     "name": "stdout",
     "output_type": "stream",
     "text": [
      "+-------+--------------------+--------+--------------------+------------+------------+\n",
      "|Catcode|             Catname|Catorder|            Industry|      Sector|  SectorLong|\n",
      "+-------+--------------------+--------+--------------------+------------+------------+\n",
      "|  A0000|         Agriculture|     A11|    Misc Agriculture|Agribusiness|Agribusiness|\n",
      "|  A1000|Crop production &...|     A01|Crop Production &...|Agribusiness|Agribusiness|\n",
      "+-------+--------------------+--------+--------------------+------------+------------+\n",
      "only showing top 2 rows\n",
      "\n"
     ]
    }
   ],
   "source": [
    "newDF.show(2)"
   ]
  },
  {
   "cell_type": "code",
   "execution_count": 92,
   "metadata": {},
   "outputs": [
    {
     "data": {
      "text/plain": [
       "StructType(List(StructField(Catcode,StringType,true),StructField(Catname,StringType,true),StructField(Catorder,StringType,true),StructField(Industry,StringType,true),StructField(Sector,StringType,true),StructField(SectorLong,StringType,true)))"
      ]
     },
     "execution_count": 92,
     "metadata": {},
     "output_type": "execute_result"
    }
   ],
   "source": [
    "newDF.schema"
   ]
  },
  {
   "cell_type": "markdown",
   "metadata": {},
   "source": [
    "save to Hive"
   ]
  },
  {
   "cell_type": "code",
   "execution_count": 93,
   "metadata": {},
   "outputs": [],
   "source": [
    "newDF.write.saveAsTable('pq_crp_industry_names', format='parquet', mode='overwrite')"
   ]
  },
  {
   "cell_type": "markdown",
   "metadata": {},
   "source": [
    "update comments using the latter part of the 'pq_crp_industry_names.sql' file written by the `Schema` object"
   ]
  },
  {
   "cell_type": "code",
   "execution_count": 96,
   "metadata": {},
   "outputs": [
    {
     "name": "stdout",
     "output_type": "stream",
     "text": [
      "\r\n",
      "ALTER TABLE pq_crp_industry_names CHANGE `Catcode` `Catcode` STRING COMMENT 'Unique indentifier for each industry. Same is Prim_code or realcode';\r\n",
      "ALTER TABLE pq_crp_industry_names CHANGE `Catname` `Catname` STRING COMMENT 'Name for each industry';\r\n",
      "ALTER TABLE pq_crp_industry_names CHANGE `Catorder` `Catorder` STRING COMMENT 'Grouping similar industries together with a code, NOT an abbreviation of Catcode';\r\n",
      "ALTER TABLE pq_crp_industry_names CHANGE `Industry` `Industry` STRING COMMENT 'Not really a one to one with any level of NAICS';\r\n",
      "ALTER TABLE pq_crp_industry_names CHANGE `Sector` `Sector` STRING COMMENT 'A level up from Industry ';\r\n",
      "ALTER TABLE pq_crp_industry_names CHANGE `SectorLong` `SectorLong` STRING COMMENT 'A level up from Industry ';\r\n"
     ]
    }
   ],
   "source": [
    "%cat pq_crp_industry_names.sql | tail -n 7"
   ]
  },
  {
   "cell_type": "code",
   "execution_count": 97,
   "metadata": {},
   "outputs": [],
   "source": [
    "%cat pq_crp_industry_names.sql | tail -n 7 > pq_crp_industry_names_comments.sql"
   ]
  },
  {
   "cell_type": "code",
   "execution_count": 98,
   "metadata": {},
   "outputs": [
    {
     "name": "stdout",
     "output_type": "stream",
     "text": [
      "Connecting to jdbc:hive2://cap1:10000\n",
      "2018-10-20 18:09:31 INFO  Utils:310 - Supplied authorities: cap1:10000\n",
      "2018-10-20 18:09:31 INFO  Utils:397 - Resolved authority: cap1:10000\n",
      "2018-10-20 18:09:31 INFO  HiveConnection:203 - Will try to open client transport with JDBC Uri: jdbc:hive2://cap1:10000\n",
      "Connected to: Spark SQL (version 2.3.2)\n",
      "Driver: Hive JDBC (version 1.2.1.spark2)\n",
      "Transaction isolation: TRANSACTION_REPEATABLE_READ\n",
      "0: jdbc:hive2://cap1:10000> \n",
      " or realcode';G COMMENT 'Unique indentifier for each industry. Same is Prim_code \n",
      "+---------+--+\n",
      "| Result  |\n",
      "+---------+--+\n",
      "+---------+--+\n",
      "No rows selected (0.276 seconds)\n",
      "Catname` STRING COMMENT 'Name for each industry';dustry_names CHANGE `Catname` ` \n",
      "+---------+--+\n",
      "| Result  |\n",
      "+---------+--+\n",
      "+---------+--+\n",
      "No rows selected (0.103 seconds)\n",
      " an abbreviation of Catcode';ouping similar industries together with a code, NOT \n",
      "+---------+--+\n",
      "| Result  |\n",
      "+---------+--+\n",
      "+---------+--+\n",
      "No rows selected (0.094 seconds)\n",
      "`Industry` STRING COMMENT 'Not really a one to one with any level of NAICS';ry`  \n",
      "+---------+--+\n",
      "| Result  |\n",
      "+---------+--+\n",
      "+---------+--+\n",
      "No rows selected (0.094 seconds)\n",
      "ector` STRING COMMENT 'A level up from Industry ';ustry_names CHANGE `Sector` `S \n",
      "+---------+--+\n",
      "| Result  |\n",
      "+---------+--+\n",
      "+---------+--+\n",
      "No rows selected (0.097 seconds)\n",
      "` `SectorLong` STRING COMMENT 'A level up from Industry ';mes CHANGE `SectorLong \n",
      "+---------+--+\n",
      "| Result  |\n",
      "+---------+--+\n",
      "+---------+--+\n",
      "No rows selected (0.091 seconds)\n",
      "0: jdbc:hive2://cap1:10000> \n",
      "Closing: 0: jdbc:hive2://cap1:10000\n"
     ]
    }
   ],
   "source": [
    "!beeline -u jdbc:hive2://cap1:10000 -n matt -p anything -f pq_crp_industry_names_comments.sql"
   ]
  },
  {
   "cell_type": "code",
   "execution_count": 102,
   "metadata": {},
   "outputs": [
    {
     "name": "stdout",
     "output_type": "stream",
     "text": [
      "Connecting to jdbc:hive2://cap1:10000\n",
      "2018-10-20 18:10:23 INFO  Utils:310 - Supplied authorities: cap1:10000\n",
      "2018-10-20 18:10:23 INFO  Utils:397 - Resolved authority: cap1:10000\n",
      "2018-10-20 18:10:23 INFO  HiveConnection:203 - Will try to open client transport with JDBC Uri: jdbc:hive2://cap1:10000\n",
      "Connected to: Spark SQL (version 2.3.2)\n",
      "Driver: Hive JDBC (version 1.2.1.spark2)\n",
      "Transaction isolation: TRANSACTION_REPEATABLE_READ\n",
      "+-------------+------------+-----------------------------------------------------------------------------------+--+\n",
      "|  col_name   | data_type  |                                      comment                                      |\n",
      "+-------------+------------+-----------------------------------------------------------------------------------+--+\n",
      "| Catcode     | string     | Unique indentifier for each industry. Same is Prim_code or realcode               |\n",
      "| Catname     | string     | Name for each industry                                                            |\n",
      "| Catorder    | string     | Grouping similar industries together with a code, NOT an abbreviation of Catcode  |\n",
      "| Industry    | string     | Not really a one to one with any level of NAICS                                   |\n",
      "| Sector      | string     | A level up from Industry                                                          |\n",
      "| SectorLong  | string     | A level up from Industry                                                          |\n",
      "+-------------+------------+-----------------------------------------------------------------------------------+--+\n",
      "6 rows selected (0.14 seconds)\n",
      "Beeline version 1.2.1.spark2 by Apache Hive\n",
      "Closing: 0: jdbc:hive2://cap1:10000\n"
     ]
    }
   ],
   "source": [
    "!beeline -u jdbc:hive2://cap1:10000 -n matt -p anything -e 'DESCRIBE pq_crp_industry_names;'"
   ]
  },
  {
   "cell_type": "markdown",
   "metadata": {},
   "source": [
    "clean up"
   ]
  },
  {
   "cell_type": "code",
   "execution_count": 103,
   "metadata": {},
   "outputs": [
    {
     "name": "stdout",
     "output_type": "stream",
     "text": [
      "2018-10-20 18:14:10,739 WARN util.NativeCodeLoader: Unable to load native-hadoop library for your platform... using builtin-java classes where applicable\n",
      "Deleted /staging/industry_names\n",
      "Connecting to jdbc:hive2://cap1:10000\n",
      "2018-10-20 18:14:12 INFO  Utils:310 - Supplied authorities: cap1:10000\n",
      "2018-10-20 18:14:12 INFO  Utils:397 - Resolved authority: cap1:10000\n",
      "2018-10-20 18:14:12 INFO  HiveConnection:203 - Will try to open client transport with JDBC Uri: jdbc:hive2://cap1:10000\n",
      "Connected to: Spark SQL (version 2.3.2)\n",
      "Driver: Hive JDBC (version 1.2.1.spark2)\n",
      "Transaction isolation: TRANSACTION_REPEATABLE_READ\n",
      "+---------+--+\n",
      "| Result  |\n",
      "+---------+--+\n",
      "+---------+--+\n",
      "No rows selected (0.202 seconds)\n",
      "Beeline version 1.2.1.spark2 by Apache Hive\n",
      "Closing: 0: jdbc:hive2://cap1:10000\n"
     ]
    }
   ],
   "source": [
    "!hdfs dfs -rm -r -f /staging/industry_names\n",
    "!beeline -u jdbc:hive2://cap1:10000 -n matt -p anything -e 'DROP TABLE industry_names;'"
   ]
  },
  {
   "cell_type": "markdown",
   "metadata": {},
   "source": [
    "verify all data got written:"
   ]
  },
  {
   "cell_type": "code",
   "execution_count": 134,
   "metadata": {},
   "outputs": [
    {
     "data": {
      "text/plain": [
       "[Row(count(1)=459)]"
      ]
     },
     "execution_count": 134,
     "metadata": {},
     "output_type": "execute_result"
    }
   ],
   "source": [
    "sc.sql('SELECT COUNT(*) FROM pq_crp_industry_names').collect()"
   ]
  },
  {
   "cell_type": "code",
   "execution_count": 135,
   "metadata": {},
   "outputs": [
    {
     "name": "stdout",
     "output_type": "stream",
     "text": [
      "459\r\n"
     ]
    }
   ],
   "source": [
    "!cat crp_industry_names.txt | wc -l"
   ]
  },
  {
   "cell_type": "code",
   "execution_count": 89,
   "metadata": {},
   "outputs": [],
   "source": [
    "#!hdfs dfs -mkdir -p //cap1/user/jennifer/industry"
   ]
  },
  {
   "cell_type": "code",
   "execution_count": null,
   "metadata": {},
   "outputs": [],
   "source": []
  },
  {
   "cell_type": "code",
   "execution_count": 44,
   "metadata": {},
   "outputs": [],
   "source": [
    "#crp_industry_names.to_parquet('//cap1/user/jennifer/df.parquet.gzip', compression='gzip')"
   ]
  },
  {
   "cell_type": "code",
   "execution_count": 45,
   "metadata": {},
   "outputs": [],
   "source": [
    "#from pyspark.sql import HiveContext\n",
    "#\n",
    "#sqlCtx= HiveContext(sc)\n",
    "#\n",
    "#df = sqlCtx.sql(\"SELECT * FROM parquet.`//cap1/user/jennifer/df.parquet`\")"
   ]
  },
  {
   "cell_type": "code",
   "execution_count": null,
   "metadata": {},
   "outputs": [],
   "source": []
  }
 ],
 "metadata": {
  "kernelspec": {
   "display_name": "Python 3",
   "language": "python",
   "name": "python3"
  },
  "language_info": {
   "codemirror_mode": {
    "name": "ipython",
    "version": 3
   },
   "file_extension": ".py",
   "mimetype": "text/x-python",
   "name": "python",
   "nbconvert_exporter": "python",
   "pygments_lexer": "ipython3",
   "version": "3.7.0"
  }
 },
 "nbformat": 4,
 "nbformat_minor": 2
}
