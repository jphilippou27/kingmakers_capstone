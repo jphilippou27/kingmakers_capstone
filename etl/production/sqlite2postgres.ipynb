{
 "cells": [
  {
   "cell_type": "markdown",
   "metadata": {},
   "source": [
    "# Upload sqlite3 database dumb from Hive to IBM Postgres PaaS"
   ]
  },
  {
   "cell_type": "markdown",
   "metadata": {},
   "source": [
    "Inputs required, but not included in notebook for security:\n",
    "- [connection string](/home/matt/etl/production/connection_str)__[*]__\n",
    "- [ssl certificate](/home/matt/etl/production/root.crt)__[*]__\n",
    "- [sqlite database dump](/home/matt/etl/production/os.db)\n",
    "\n",
    "__[*]__ = required by web app for connection"
   ]
  },
  {
   "cell_type": "code",
   "execution_count": 1,
   "metadata": {},
   "outputs": [
    {
     "name": "stderr",
     "output_type": "stream",
     "text": [
      "/opt/anaconda3/lib/python3.7/site-packages/psycopg2/__init__.py:144: UserWarning: The psycopg2 wheel package will be renamed from release 2.8; in order to keep installing from binary please use \"pip install psycopg2-binary\" instead. For details see: <http://initd.org/psycopg/docs/install.html#binary-install-from-pypi>.\n",
      "  \"\"\")\n"
     ]
    }
   ],
   "source": [
    "import sqlite3\n",
    "import psycopg2\n",
    "from psycopg2.extras import execute_values\n",
    "import pandas as pd\n",
    "import base64\n",
    "import os\n",
    "import re\n",
    "import sys\n",
    "from IPython.display import display, HTML\n",
    "import time\n",
    "import tqdm"
   ]
  },
  {
   "cell_type": "code",
   "execution_count": 2,
   "metadata": {},
   "outputs": [],
   "source": [
    "pg_conn_str = open('connection_str').read().strip()"
   ]
  },
  {
   "cell_type": "code",
   "execution_count": 3,
   "metadata": {},
   "outputs": [],
   "source": [
    "sqlite_db_file = 'os.db'"
   ]
  },
  {
   "cell_type": "markdown",
   "metadata": {},
   "source": [
    "## Connect to sqlite3"
   ]
  },
  {
   "cell_type": "code",
   "execution_count": 4,
   "metadata": {},
   "outputs": [],
   "source": [
    "sqlite_db_con = sqlite3.connect(sqlite_db_file)"
   ]
  },
  {
   "cell_type": "code",
   "execution_count": 5,
   "metadata": {},
   "outputs": [],
   "source": [
    "sqlite_db_schema = pd.read_sql('SELECT * FROM sqlite_master', sqlite_db_con)"
   ]
  },
  {
   "cell_type": "code",
   "execution_count": 6,
   "metadata": {},
   "outputs": [
    {
     "data": {
      "text/html": [
       "<div>\n",
       "<style scoped>\n",
       "    .dataframe tbody tr th:only-of-type {\n",
       "        vertical-align: middle;\n",
       "    }\n",
       "\n",
       "    .dataframe tbody tr th {\n",
       "        vertical-align: top;\n",
       "    }\n",
       "\n",
       "    .dataframe thead th {\n",
       "        text-align: right;\n",
       "    }\n",
       "</style>\n",
       "<table border=\"1\" class=\"dataframe\">\n",
       "  <thead>\n",
       "    <tr style=\"text-align: right;\">\n",
       "      <th></th>\n",
       "      <th>type</th>\n",
       "      <th>name</th>\n",
       "      <th>tbl_name</th>\n",
       "      <th>rootpage</th>\n",
       "      <th>sql</th>\n",
       "    </tr>\n",
       "  </thead>\n",
       "  <tbody>\n",
       "    <tr>\n",
       "      <th>0</th>\n",
       "      <td>table</td>\n",
       "      <td>expends</td>\n",
       "      <td>expends</td>\n",
       "      <td>2</td>\n",
       "      <td>CREATE TABLE expends (\\n        cycle TEXT(4),...</td>\n",
       "    </tr>\n",
       "    <tr>\n",
       "      <th>1</th>\n",
       "      <td>table</td>\n",
       "      <td>cands</td>\n",
       "      <td>cands</td>\n",
       "      <td>692616</td>\n",
       "      <td>CREATE TABLE cands (\\n        cycle TEXT(4), \\...</td>\n",
       "    </tr>\n",
       "    <tr>\n",
       "      <th>2</th>\n",
       "      <td>table</td>\n",
       "      <td>indivs</td>\n",
       "      <td>indivs</td>\n",
       "      <td>692748</td>\n",
       "      <td>CREATE TABLE indivs (\\n        cycle TEXT(4), ...</td>\n",
       "    </tr>\n",
       "    <tr>\n",
       "      <th>3</th>\n",
       "      <td>table</td>\n",
       "      <td>pacs2cands</td>\n",
       "      <td>pacs2cands</td>\n",
       "      <td>1230481</td>\n",
       "      <td>CREATE TABLE pacs2cands (\\n        cycle TEXT(...</td>\n",
       "    </tr>\n",
       "    <tr>\n",
       "      <th>4</th>\n",
       "      <td>table</td>\n",
       "      <td>cmtes</td>\n",
       "      <td>cmtes</td>\n",
       "      <td>1234645</td>\n",
       "      <td>CREATE TABLE cmtes (\\n        cycle TEXT(4), \\...</td>\n",
       "    </tr>\n",
       "    <tr>\n",
       "      <th>5</th>\n",
       "      <td>table</td>\n",
       "      <td>pacs2pacs</td>\n",
       "      <td>pacs2pacs</td>\n",
       "      <td>1230480</td>\n",
       "      <td>CREATE TABLE pacs2pacs (\\n        cycle TEXT(4...</td>\n",
       "    </tr>\n",
       "    <tr>\n",
       "      <th>6</th>\n",
       "      <td>table</td>\n",
       "      <td>industry</td>\n",
       "      <td>industry</td>\n",
       "      <td>1240755</td>\n",
       "      <td>CREATE TABLE industry (\\n        code TEXT(50)...</td>\n",
       "    </tr>\n",
       "    <tr>\n",
       "      <th>7</th>\n",
       "      <td>table</td>\n",
       "      <td>biggest_donors</td>\n",
       "      <td>biggest_donors</td>\n",
       "      <td>1240765</td>\n",
       "      <td>CREATE TABLE biggest_donors (donor text, donor...</td>\n",
       "    </tr>\n",
       "    <tr>\n",
       "      <th>8</th>\n",
       "      <td>table</td>\n",
       "      <td>pacs2pacs_recip</td>\n",
       "      <td>pacs2pacs_recip</td>\n",
       "      <td>1240782</td>\n",
       "      <td>CREATE TABLE pacs2pacs_recip (donor_id text, d...</td>\n",
       "    </tr>\n",
       "    <tr>\n",
       "      <th>9</th>\n",
       "      <td>table</td>\n",
       "      <td>simple_pacs2pacs</td>\n",
       "      <td>simple_pacs2pacs</td>\n",
       "      <td>1240783</td>\n",
       "      <td>CREATE TABLE simple_pacs2pacs (donor_id text(9...</td>\n",
       "    </tr>\n",
       "  </tbody>\n",
       "</table>\n",
       "</div>"
      ],
      "text/plain": [
       "    type              name          tbl_name  rootpage  \\\n",
       "0  table           expends           expends         2   \n",
       "1  table             cands             cands    692616   \n",
       "2  table            indivs            indivs    692748   \n",
       "3  table        pacs2cands        pacs2cands   1230481   \n",
       "4  table             cmtes             cmtes   1234645   \n",
       "5  table         pacs2pacs         pacs2pacs   1230480   \n",
       "6  table          industry          industry   1240755   \n",
       "7  table    biggest_donors    biggest_donors   1240765   \n",
       "8  table   pacs2pacs_recip   pacs2pacs_recip   1240782   \n",
       "9  table  simple_pacs2pacs  simple_pacs2pacs   1240783   \n",
       "\n",
       "                                                 sql  \n",
       "0  CREATE TABLE expends (\\n        cycle TEXT(4),...  \n",
       "1  CREATE TABLE cands (\\n        cycle TEXT(4), \\...  \n",
       "2  CREATE TABLE indivs (\\n        cycle TEXT(4), ...  \n",
       "3  CREATE TABLE pacs2cands (\\n        cycle TEXT(...  \n",
       "4  CREATE TABLE cmtes (\\n        cycle TEXT(4), \\...  \n",
       "5  CREATE TABLE pacs2pacs (\\n        cycle TEXT(4...  \n",
       "6  CREATE TABLE industry (\\n        code TEXT(50)...  \n",
       "7  CREATE TABLE biggest_donors (donor text, donor...  \n",
       "8  CREATE TABLE pacs2pacs_recip (donor_id text, d...  \n",
       "9  CREATE TABLE simple_pacs2pacs (donor_id text(9...  "
      ]
     },
     "execution_count": 6,
     "metadata": {},
     "output_type": "execute_result"
    }
   ],
   "source": [
    "sqlite_db_schema"
   ]
  },
  {
   "cell_type": "markdown",
   "metadata": {},
   "source": [
    "## Connect to IBM PostgreSQL"
   ]
  },
  {
   "cell_type": "markdown",
   "metadata": {},
   "source": [
    "#### Decode SSL cert, store in ~/.postgres/root.crt"
   ]
  },
  {
   "cell_type": "code",
   "execution_count": 7,
   "metadata": {},
   "outputs": [],
   "source": [
    "if 'HOME' not in os.environ:\n",
    "    whoiam = !whoami\n",
    "    whoiam = whoiam[0]\n",
    "    home = f'/home/{whoiam}' if whoiam != 'root' else '/root'\n",
    "else:\n",
    "    home = os.environ['HOME']"
   ]
  },
  {
   "cell_type": "code",
   "execution_count": 8,
   "metadata": {},
   "outputs": [],
   "source": [
    "pgdir = os.path.join(home, '.postgresql')"
   ]
  },
  {
   "cell_type": "code",
   "execution_count": 9,
   "metadata": {},
   "outputs": [
    {
     "name": "stdout",
     "output_type": "stream",
     "text": [
      "/home/matt/.postgresql\n"
     ]
    }
   ],
   "source": [
    "print(pgdir)"
   ]
  },
  {
   "cell_type": "code",
   "execution_count": 10,
   "metadata": {},
   "outputs": [],
   "source": [
    "os.makedirs(pgdir, exist_ok=True)"
   ]
  },
  {
   "cell_type": "code",
   "execution_count": 11,
   "metadata": {},
   "outputs": [],
   "source": [
    "# translate IBM base64-encoded root cert info to regular string, store in ~/.postgres/root.crt\n",
    "with open(os.path.join(pgdir, 'root.crt'), 'wb') as f:\n",
    "    with open('root.crt', 'r') as r:\n",
    "        f.write(base64.standard_b64decode(r.read()))"
   ]
  },
  {
   "cell_type": "markdown",
   "metadata": {},
   "source": [
    "#### Test connection"
   ]
  },
  {
   "cell_type": "code",
   "execution_count": 12,
   "metadata": {},
   "outputs": [],
   "source": [
    "pg = psycopg2.connect(pg_conn_str)"
   ]
  },
  {
   "cell_type": "code",
   "execution_count": 13,
   "metadata": {},
   "outputs": [
    {
     "data": {
      "text/html": [
       "<div>\n",
       "<style scoped>\n",
       "    .dataframe tbody tr th:only-of-type {\n",
       "        vertical-align: middle;\n",
       "    }\n",
       "\n",
       "    .dataframe tbody tr th {\n",
       "        vertical-align: top;\n",
       "    }\n",
       "\n",
       "    .dataframe thead th {\n",
       "        text-align: right;\n",
       "    }\n",
       "</style>\n",
       "<table border=\"1\" class=\"dataframe\">\n",
       "  <thead>\n",
       "    <tr style=\"text-align: right;\">\n",
       "      <th></th>\n",
       "      <th>table_name</th>\n",
       "    </tr>\n",
       "  </thead>\n",
       "  <tbody>\n",
       "    <tr>\n",
       "      <th>0</th>\n",
       "      <td>expends</td>\n",
       "    </tr>\n",
       "    <tr>\n",
       "      <th>1</th>\n",
       "      <td>cands</td>\n",
       "    </tr>\n",
       "    <tr>\n",
       "      <th>2</th>\n",
       "      <td>indivs</td>\n",
       "    </tr>\n",
       "    <tr>\n",
       "      <th>3</th>\n",
       "      <td>pacs2cands</td>\n",
       "    </tr>\n",
       "    <tr>\n",
       "      <th>4</th>\n",
       "      <td>cmtes</td>\n",
       "    </tr>\n",
       "    <tr>\n",
       "      <th>5</th>\n",
       "      <td>pacs2pacs</td>\n",
       "    </tr>\n",
       "    <tr>\n",
       "      <th>6</th>\n",
       "      <td>industry</td>\n",
       "    </tr>\n",
       "    <tr>\n",
       "      <th>7</th>\n",
       "      <td>biggest_donors</td>\n",
       "    </tr>\n",
       "    <tr>\n",
       "      <th>8</th>\n",
       "      <td>pacs2pacs_recip</td>\n",
       "    </tr>\n",
       "    <tr>\n",
       "      <th>9</th>\n",
       "      <td>simple_pacs2pacs</td>\n",
       "    </tr>\n",
       "  </tbody>\n",
       "</table>\n",
       "</div>"
      ],
      "text/plain": [
       "         table_name\n",
       "0           expends\n",
       "1             cands\n",
       "2            indivs\n",
       "3        pacs2cands\n",
       "4             cmtes\n",
       "5         pacs2pacs\n",
       "6          industry\n",
       "7    biggest_donors\n",
       "8   pacs2pacs_recip\n",
       "9  simple_pacs2pacs"
      ]
     },
     "execution_count": 13,
     "metadata": {},
     "output_type": "execute_result"
    }
   ],
   "source": [
    "pd.read_sql(\"SELECT table_name FROM information_schema.tables WHERE table_schema = 'public';\", pg)"
   ]
  },
  {
   "cell_type": "markdown",
   "metadata": {},
   "source": [
    "## Sqlite3 schema -> Postgres schema"
   ]
  },
  {
   "cell_type": "code",
   "execution_count": 14,
   "metadata": {},
   "outputs": [
    {
     "data": {
      "text/html": [
       "<h4>expends</h2>"
      ],
      "text/plain": [
       "<IPython.core.display.HTML object>"
      ]
     },
     "metadata": {},
     "output_type": "display_data"
    },
    {
     "name": "stdout",
     "output_type": "stream",
     "text": [
      "CREATE TABLE expends (\n",
      "        cycle TEXT(4), \n",
      "        id INT, \n",
      "        trans_id TEXT(20), \n",
      "        filer_id TEXT(9), \n",
      "        recip_code TEXT(2), \n",
      "        pac_name TEXT(50), \n",
      "        recip_name TEXT(90),\n",
      "        exp_code TEXT(3),\n",
      "        amount REAL,\n",
      "        date TEXT(12),\n",
      "        city TEXT(30),\n",
      "        state TEXT(2),\n",
      "        zip TEXT(5),\n",
      "        alt_cmte_id TEXT(9),\n",
      "        cand_id TEXT(9),\n",
      "        trans_type TEXT(3),\n",
      "        description TEXT(100),\n",
      "        pg TEXT(5),\n",
      "        pg_other TEXT(20),\n",
      "        recip_type TEXT(3),\n",
      "        source TEXT(5)\n",
      "        )\n"
     ]
    },
    {
     "data": {
      "text/html": [
       "<h4>cands</h2>"
      ],
      "text/plain": [
       "<IPython.core.display.HTML object>"
      ]
     },
     "metadata": {},
     "output_type": "display_data"
    },
    {
     "name": "stdout",
     "output_type": "stream",
     "text": [
      "CREATE TABLE cands (\n",
      "        cycle TEXT(4), \n",
      "        fec_cand_id TEXT(9), \n",
      "        cand_id TEXT(9), \n",
      "        name TEXT(50), \n",
      "        party TEXT(1), \n",
      "        sought_office TEXT(4), \n",
      "        current_office TEXT(4), \n",
      "        curr_cand TEXT(1),\n",
      "        cycle_cand TEXT(1),\n",
      "        cpr_ico TEXT(1),\n",
      "        recip_code TEXT(2),\n",
      "        no_pacs TEXT(1))\n"
     ]
    },
    {
     "data": {
      "text/html": [
       "<h4>indivs</h2>"
      ],
      "text/plain": [
       "<IPython.core.display.HTML object>"
      ]
     },
     "metadata": {},
     "output_type": "display_data"
    },
    {
     "name": "stdout",
     "output_type": "stream",
     "text": [
      "CREATE TABLE indivs (\n",
      "        cycle TEXT(4), \n",
      "        fec_trans_id TEXT(19), \n",
      "        contrib_id TEXT(12), \n",
      "        name TEXT(50), \n",
      "        recip_id TEXT(9), \n",
      "        org TEXT(50), \n",
      "        parent_org TEXT(50), \n",
      "        industry TEXT(5),\n",
      "        date TEXT(12),\n",
      "        amount INT,\n",
      "        street TEXT(40),\n",
      "        city TEXT(30),\n",
      "        state TEXT(2),\n",
      "        zip TEXT(5),\n",
      "        recip_code TEXT(2),\n",
      "        trans_type TEXT(3),\n",
      "        committee_id TEXT(9),\n",
      "        other_id TEXT(9),\n",
      "        gender TEXT(1),\n",
      "        microfilm TEXT(11),\n",
      "        occupation TEXT(38),\n",
      "        employer TEXT(38),\n",
      "        source TEXT(5)\n",
      "        )\n"
     ]
    },
    {
     "data": {
      "text/html": [
       "<h4>pacs2cands</h2>"
      ],
      "text/plain": [
       "<IPython.core.display.HTML object>"
      ]
     },
     "metadata": {},
     "output_type": "display_data"
    },
    {
     "name": "stdout",
     "output_type": "stream",
     "text": [
      "CREATE TABLE pacs2cands (\n",
      "        cycle TEXT(4), \n",
      "        fec_rec_id TEXT(19), \n",
      "        pac_id TEXT(9), \n",
      "        cand_id TEXT(9), \n",
      "        amount INT,\n",
      "        date TEXT(12), \n",
      "        industry TEXT(5), \n",
      "        trans_type TEXT(3), \n",
      "        contrib_type TEXT(1),\n",
      "        fec_cand_id TEXT(9))\n"
     ]
    },
    {
     "data": {
      "text/html": [
       "<h4>cmtes</h2>"
      ],
      "text/plain": [
       "<IPython.core.display.HTML object>"
      ]
     },
     "metadata": {},
     "output_type": "display_data"
    },
    {
     "name": "stdout",
     "output_type": "stream",
     "text": [
      "CREATE TABLE cmtes (\n",
      "        cycle TEXT(4), \n",
      "        cmte_id TEXT(9), \n",
      "        name TEXT(50), \n",
      "        affiliate TEXT(50),\n",
      "        parent TEXT(50), \n",
      "        recip_id TEXT(9), \n",
      "        recip_code TEXT(2), \n",
      "        fec_cand_id TEXT(9), \n",
      "        party TEXT(1),\n",
      "        industry TEXT(5),\n",
      "        source TEXT(5), \n",
      "        sensitive TEXT(1),\n",
      "        foreign_owner INTEGER,\n",
      "        active_now INTEGER\n",
      "        )\n"
     ]
    },
    {
     "data": {
      "text/html": [
       "<h4>pacs2pacs</h2>"
      ],
      "text/plain": [
       "<IPython.core.display.HTML object>"
      ]
     },
     "metadata": {},
     "output_type": "display_data"
    },
    {
     "name": "stdout",
     "output_type": "stream",
     "text": [
      "CREATE TABLE pacs2pacs (\n",
      "        cycle TEXT(4), \n",
      "        fec_rec_id TEXT(19), \n",
      "        filer_id TEXT(9), \n",
      "        donor_cmte TEXT(50), \n",
      "        name TEXT(50), \n",
      "        city TEXT(30),\n",
      "        state TEXT(2),\n",
      "        zip TEXT(5),\n",
      "        occupation TEXT(38),\n",
      "        donor_industry TEXT(5),\n",
      "        date TEXT(12),\n",
      "        amount REAL, \n",
      "        recipient_id TEXT(9), \n",
      "        party TEXT(1),\n",
      "        cmte_id TEXT(9),\n",
      "        recip_code TEXT(2),\n",
      "        recip_industry TEXT(5), \n",
      "        ammended TEXT(1), \n",
      "        report_type TEXT(3), \n",
      "        pg TEXT(1),\n",
      "        microfilm TEXT(11),\n",
      "        trans_type TEXT(3),\n",
      "        donor_industry2 TEXT(5),\n",
      "        source TEXT(5))\n"
     ]
    },
    {
     "data": {
      "text/html": [
       "<h4>industry</h2>"
      ],
      "text/plain": [
       "<IPython.core.display.HTML object>"
      ]
     },
     "metadata": {},
     "output_type": "display_data"
    },
    {
     "name": "stdout",
     "output_type": "stream",
     "text": [
      "CREATE TABLE industry (\n",
      "        code TEXT(50), \n",
      "        name TEXT(50), \n",
      "        catorder TEXT(50), \n",
      "        sector TEXT(50), \n",
      "        sector_long TEXT(100)\n",
      "        )\n"
     ]
    },
    {
     "data": {
      "text/html": [
       "<h4>biggest_donors</h2>"
      ],
      "text/plain": [
       "<IPython.core.display.HTML object>"
      ]
     },
     "metadata": {},
     "output_type": "display_data"
    },
    {
     "name": "stdout",
     "output_type": "stream",
     "text": [
      "CREATE TABLE biggest_donors (donor text, donor_total int, recipient text, donation int)\n"
     ]
    },
    {
     "data": {
      "text/html": [
       "<h4>pacs2pacs_recip</h2>"
      ],
      "text/plain": [
       "<IPython.core.display.HTML object>"
      ]
     },
     "metadata": {},
     "output_type": "display_data"
    },
    {
     "name": "stdout",
     "output_type": "stream",
     "text": [
      "CREATE TABLE pacs2pacs_recip (donor_id text, donor_name text, state text, zip text, occupation text, donor_industry text, amount int, recip_id text, party text, recip_industry text )\n"
     ]
    },
    {
     "data": {
      "text/html": [
       "<h4>simple_pacs2pacs</h2>"
      ],
      "text/plain": [
       "<IPython.core.display.HTML object>"
      ]
     },
     "metadata": {},
     "output_type": "display_data"
    },
    {
     "name": "stdout",
     "output_type": "stream",
     "text": [
      "CREATE TABLE simple_pacs2pacs (donor_id text(9), donor_name text(50), state text, zip text, occupation text, donor_industry text, amount int, recip_id text, party text, recip_industry text, type text )\n"
     ]
    }
   ],
   "source": [
    "for _, row in sqlite_db_schema.iterrows():\n",
    "    display(HTML(f'<h4>{row.tbl_name}</h2>'))\n",
    "    print(row['sql'])"
   ]
  },
  {
   "cell_type": "code",
   "execution_count": 15,
   "metadata": {},
   "outputs": [],
   "source": [
    "pg_schema = sqlite_db_schema"
   ]
  },
  {
   "cell_type": "code",
   "execution_count": 16,
   "metadata": {},
   "outputs": [],
   "source": [
    "pg_schema['pg_sql'] = pg_schema['sql'].map(lambda x: re.sub(r'[Tt][Ee][Xx][Tt]\\(([0-9]+)\\)',\n",
    "                                                            r'VARCHAR(\\1)',\n",
    "                                                            x,\n",
    "                                                            flags=re.IGNORECASE))"
   ]
  },
  {
   "cell_type": "code",
   "execution_count": 17,
   "metadata": {},
   "outputs": [],
   "source": [
    "pg_schema['pg_sql'] = pg_schema['pg_sql'].map(lambda x: re.sub(r'(\\s)real([,\\)])',\n",
    "                                                               r'\\1DOUBLE PRECISION\\2',\n",
    "                                                               x,\n",
    "                                                               flags=re.IGNORECASE))"
   ]
  },
  {
   "cell_type": "code",
   "execution_count": 18,
   "metadata": {},
   "outputs": [],
   "source": [
    "pg_schema['pg_sql'] = pg_schema['pg_sql'].map(lambda x: re.sub(r'(\\s)int([,\\)])',\n",
    "                                                               r'\\1INTEGER\\2',\n",
    "                                                               x,\n",
    "                                                               flags=re.IGNORECASE))"
   ]
  },
  {
   "cell_type": "code",
   "execution_count": 19,
   "metadata": {},
   "outputs": [],
   "source": [
    "# fix zip\n",
    "pg_schema['pg_sql'] = pg_schema['pg_sql'].map(lambda x: re.sub(r'zip VARCHAR\\(5\\)',\n",
    "                                                               r'zip VARCHAR(9)',\n",
    "                                                               x,\n",
    "                                                               flags=re.IGNORECASE))"
   ]
  },
  {
   "cell_type": "code",
   "execution_count": 20,
   "metadata": {},
   "outputs": [],
   "source": [
    "# fix microfilm varchar width\n",
    "pg_schema['pg_sql'] = pg_schema['pg_sql'].map(lambda x: re.sub(r'microfilm VARCHAR\\([0-9]+\\)',\n",
    "                                                               r'microfilm VARCHAR(21)',\n",
    "                                                               x,\n",
    "                                                               flags=re.IGNORECASE))"
   ]
  },
  {
   "cell_type": "code",
   "execution_count": 21,
   "metadata": {},
   "outputs": [],
   "source": [
    "# fix source varchar width\n",
    "pg_schema['pg_sql'] = pg_schema['pg_sql'].map(lambda x: re.sub(r'source VARCHAR\\([0-9]+\\)',\n",
    "                                                               r'source VARCHAR(9)',\n",
    "                                                               x,\n",
    "                                                               flags=re.IGNORECASE))"
   ]
  },
  {
   "cell_type": "code",
   "execution_count": 22,
   "metadata": {},
   "outputs": [
    {
     "data": {
      "text/html": [
       "<h4>expends</h2>"
      ],
      "text/plain": [
       "<IPython.core.display.HTML object>"
      ]
     },
     "metadata": {},
     "output_type": "display_data"
    },
    {
     "name": "stdout",
     "output_type": "stream",
     "text": [
      "CREATE TABLE expends (\n",
      "        cycle VARCHAR(4), \n",
      "        id INTEGER, \n",
      "        trans_id VARCHAR(20), \n",
      "        filer_id VARCHAR(9), \n",
      "        recip_code VARCHAR(2), \n",
      "        pac_name VARCHAR(50), \n",
      "        recip_name VARCHAR(90),\n",
      "        exp_code VARCHAR(3),\n",
      "        amount DOUBLE PRECISION,\n",
      "        date VARCHAR(12),\n",
      "        city VARCHAR(30),\n",
      "        state VARCHAR(2),\n",
      "        zip VARCHAR(9),\n",
      "        alt_cmte_id VARCHAR(9),\n",
      "        cand_id VARCHAR(9),\n",
      "        trans_type VARCHAR(3),\n",
      "        description VARCHAR(100),\n",
      "        pg VARCHAR(5),\n",
      "        pg_other VARCHAR(20),\n",
      "        recip_type VARCHAR(3),\n",
      "        source VARCHAR(9)\n",
      "        )\n"
     ]
    },
    {
     "data": {
      "text/html": [
       "<h4>cands</h2>"
      ],
      "text/plain": [
       "<IPython.core.display.HTML object>"
      ]
     },
     "metadata": {},
     "output_type": "display_data"
    },
    {
     "name": "stdout",
     "output_type": "stream",
     "text": [
      "CREATE TABLE cands (\n",
      "        cycle VARCHAR(4), \n",
      "        fec_cand_id VARCHAR(9), \n",
      "        cand_id VARCHAR(9), \n",
      "        name VARCHAR(50), \n",
      "        party VARCHAR(1), \n",
      "        sought_office VARCHAR(4), \n",
      "        current_office VARCHAR(4), \n",
      "        curr_cand VARCHAR(1),\n",
      "        cycle_cand VARCHAR(1),\n",
      "        cpr_ico VARCHAR(1),\n",
      "        recip_code VARCHAR(2),\n",
      "        no_pacs VARCHAR(1))\n"
     ]
    },
    {
     "data": {
      "text/html": [
       "<h4>indivs</h2>"
      ],
      "text/plain": [
       "<IPython.core.display.HTML object>"
      ]
     },
     "metadata": {},
     "output_type": "display_data"
    },
    {
     "name": "stdout",
     "output_type": "stream",
     "text": [
      "CREATE TABLE indivs (\n",
      "        cycle VARCHAR(4), \n",
      "        fec_trans_id VARCHAR(19), \n",
      "        contrib_id VARCHAR(12), \n",
      "        name VARCHAR(50), \n",
      "        recip_id VARCHAR(9), \n",
      "        org VARCHAR(50), \n",
      "        parent_org VARCHAR(50), \n",
      "        industry VARCHAR(5),\n",
      "        date VARCHAR(12),\n",
      "        amount INTEGER,\n",
      "        street VARCHAR(40),\n",
      "        city VARCHAR(30),\n",
      "        state VARCHAR(2),\n",
      "        zip VARCHAR(9),\n",
      "        recip_code VARCHAR(2),\n",
      "        trans_type VARCHAR(3),\n",
      "        committee_id VARCHAR(9),\n",
      "        other_id VARCHAR(9),\n",
      "        gender VARCHAR(1),\n",
      "        microfilm VARCHAR(21),\n",
      "        occupation VARCHAR(38),\n",
      "        employer VARCHAR(38),\n",
      "        source VARCHAR(9)\n",
      "        )\n"
     ]
    },
    {
     "data": {
      "text/html": [
       "<h4>pacs2cands</h2>"
      ],
      "text/plain": [
       "<IPython.core.display.HTML object>"
      ]
     },
     "metadata": {},
     "output_type": "display_data"
    },
    {
     "name": "stdout",
     "output_type": "stream",
     "text": [
      "CREATE TABLE pacs2cands (\n",
      "        cycle VARCHAR(4), \n",
      "        fec_rec_id VARCHAR(19), \n",
      "        pac_id VARCHAR(9), \n",
      "        cand_id VARCHAR(9), \n",
      "        amount INTEGER,\n",
      "        date VARCHAR(12), \n",
      "        industry VARCHAR(5), \n",
      "        trans_type VARCHAR(3), \n",
      "        contrib_type VARCHAR(1),\n",
      "        fec_cand_id VARCHAR(9))\n"
     ]
    },
    {
     "data": {
      "text/html": [
       "<h4>cmtes</h2>"
      ],
      "text/plain": [
       "<IPython.core.display.HTML object>"
      ]
     },
     "metadata": {},
     "output_type": "display_data"
    },
    {
     "name": "stdout",
     "output_type": "stream",
     "text": [
      "CREATE TABLE cmtes (\n",
      "        cycle VARCHAR(4), \n",
      "        cmte_id VARCHAR(9), \n",
      "        name VARCHAR(50), \n",
      "        affiliate VARCHAR(50),\n",
      "        parent VARCHAR(50), \n",
      "        recip_id VARCHAR(9), \n",
      "        recip_code VARCHAR(2), \n",
      "        fec_cand_id VARCHAR(9), \n",
      "        party VARCHAR(1),\n",
      "        industry VARCHAR(5),\n",
      "        source VARCHAR(9), \n",
      "        sensitive VARCHAR(1),\n",
      "        foreign_owner INTEGER,\n",
      "        active_now INTEGER\n",
      "        )\n"
     ]
    },
    {
     "data": {
      "text/html": [
       "<h4>pacs2pacs</h2>"
      ],
      "text/plain": [
       "<IPython.core.display.HTML object>"
      ]
     },
     "metadata": {},
     "output_type": "display_data"
    },
    {
     "name": "stdout",
     "output_type": "stream",
     "text": [
      "CREATE TABLE pacs2pacs (\n",
      "        cycle VARCHAR(4), \n",
      "        fec_rec_id VARCHAR(19), \n",
      "        filer_id VARCHAR(9), \n",
      "        donor_cmte VARCHAR(50), \n",
      "        name VARCHAR(50), \n",
      "        city VARCHAR(30),\n",
      "        state VARCHAR(2),\n",
      "        zip VARCHAR(9),\n",
      "        occupation VARCHAR(38),\n",
      "        donor_industry VARCHAR(5),\n",
      "        date VARCHAR(12),\n",
      "        amount DOUBLE PRECISION, \n",
      "        recipient_id VARCHAR(9), \n",
      "        party VARCHAR(1),\n",
      "        cmte_id VARCHAR(9),\n",
      "        recip_code VARCHAR(2),\n",
      "        recip_industry VARCHAR(5), \n",
      "        ammended VARCHAR(1), \n",
      "        report_type VARCHAR(3), \n",
      "        pg VARCHAR(1),\n",
      "        microfilm VARCHAR(21),\n",
      "        trans_type VARCHAR(3),\n",
      "        donor_industry2 VARCHAR(5),\n",
      "        source VARCHAR(9))\n"
     ]
    },
    {
     "data": {
      "text/html": [
       "<h4>industry</h2>"
      ],
      "text/plain": [
       "<IPython.core.display.HTML object>"
      ]
     },
     "metadata": {},
     "output_type": "display_data"
    },
    {
     "name": "stdout",
     "output_type": "stream",
     "text": [
      "CREATE TABLE industry (\n",
      "        code VARCHAR(50), \n",
      "        name VARCHAR(50), \n",
      "        catorder VARCHAR(50), \n",
      "        sector VARCHAR(50), \n",
      "        sector_long VARCHAR(100)\n",
      "        )\n"
     ]
    },
    {
     "data": {
      "text/html": [
       "<h4>biggest_donors</h2>"
      ],
      "text/plain": [
       "<IPython.core.display.HTML object>"
      ]
     },
     "metadata": {},
     "output_type": "display_data"
    },
    {
     "name": "stdout",
     "output_type": "stream",
     "text": [
      "CREATE TABLE biggest_donors (donor text, donor_total INTEGER, recipient text, donation INTEGER)\n"
     ]
    },
    {
     "data": {
      "text/html": [
       "<h4>pacs2pacs_recip</h2>"
      ],
      "text/plain": [
       "<IPython.core.display.HTML object>"
      ]
     },
     "metadata": {},
     "output_type": "display_data"
    },
    {
     "name": "stdout",
     "output_type": "stream",
     "text": [
      "CREATE TABLE pacs2pacs_recip (donor_id text, donor_name text, state text, zip text, occupation text, donor_industry text, amount INTEGER, recip_id text, party text, recip_industry text )\n"
     ]
    },
    {
     "data": {
      "text/html": [
       "<h4>simple_pacs2pacs</h2>"
      ],
      "text/plain": [
       "<IPython.core.display.HTML object>"
      ]
     },
     "metadata": {},
     "output_type": "display_data"
    },
    {
     "name": "stdout",
     "output_type": "stream",
     "text": [
      "CREATE TABLE simple_pacs2pacs (donor_id VARCHAR(9), donor_name VARCHAR(50), state text, zip text, occupation text, donor_industry text, amount INTEGER, recip_id text, party text, recip_industry text, type text )\n"
     ]
    }
   ],
   "source": [
    "for _, row in sqlite_db_schema.iterrows():\n",
    "    display(HTML(f'<h4>{row.tbl_name}</h2>'))\n",
    "    print(row['pg_sql'])"
   ]
  },
  {
   "cell_type": "markdown",
   "metadata": {},
   "source": [
    "## Perform upload"
   ]
  },
  {
   "cell_type": "code",
   "execution_count": 24,
   "metadata": {
    "scrolled": true
   },
   "outputs": [
    {
     "data": {
      "application/vnd.jupyter.widget-view+json": {
       "model_id": "c3e6d7bce60441659d33a1a3d5576550",
       "version_major": 2,
       "version_minor": 0
      },
      "text/plain": [
       "HBox(children=(IntProgress(value=0, max=10), HTML(value='')))"
      ]
     },
     "metadata": {},
     "output_type": "display_data"
    },
    {
     "data": {
      "text/html": [
       "<h3>expends</h3>"
      ],
      "text/plain": [
       "<IPython.core.display.HTML object>"
      ]
     },
     "metadata": {},
     "output_type": "display_data"
    },
    {
     "name": "stdout",
     "output_type": "stream",
     "text": [
      "CREATE TABLE expends (\n",
      "        cycle VARCHAR(4), \n",
      "        id INTEGER, \n",
      "        trans_id VARCHAR(20), \n",
      "        filer_id VARCHAR(9), \n",
      "        recip_code VARCHAR(2), \n",
      "        pac_name VARCHAR(50), \n",
      "        recip_name VARCHAR(90),\n",
      "        exp_code VARCHAR(3),\n",
      "        amount DOUBLE PRECISION,\n",
      "        date VARCHAR(12),\n",
      "        city VARCHAR(30),\n",
      "        state VARCHAR(2),\n",
      "        zip VARCHAR(9),\n",
      "        alt_cmte_id VARCHAR(9),\n",
      "        cand_id VARCHAR(9),\n",
      "        trans_type VARCHAR(3),\n",
      "        description VARCHAR(100),\n",
      "        pg VARCHAR(5),\n",
      "        pg_other VARCHAR(20),\n",
      "        recip_type VARCHAR(3),\n",
      "        source VARCHAR(9)\n",
      "        )\n",
      "cycle,id,trans_id,filer_id,recip_code,pac_name,recip_name,exp_code,amount,date,city,state,zip,alt_cmte_id,cand_id,trans_type,description,pg,pg_other,recip_type,source\n",
      "inserted rows in 2059897.09ms\n"
     ]
    },
    {
     "data": {
      "text/html": [
       "<h3>cands</h3>"
      ],
      "text/plain": [
       "<IPython.core.display.HTML object>"
      ]
     },
     "metadata": {},
     "output_type": "display_data"
    },
    {
     "name": "stdout",
     "output_type": "stream",
     "text": [
      "CREATE TABLE cands (\n",
      "        cycle VARCHAR(4), \n",
      "        fec_cand_id VARCHAR(9), \n",
      "        cand_id VARCHAR(9), \n",
      "        name VARCHAR(50), \n",
      "        party VARCHAR(1), \n",
      "        sought_office VARCHAR(4), \n",
      "        current_office VARCHAR(4), \n",
      "        curr_cand VARCHAR(1),\n",
      "        cycle_cand VARCHAR(1),\n",
      "        cpr_ico VARCHAR(1),\n",
      "        recip_code VARCHAR(2),\n",
      "        no_pacs VARCHAR(1))\n",
      "cycle,fec_cand_id,cand_id,name,party,sought_office,current_office,curr_cand,cycle_cand,cpr_ico,recip_code,no_pacs\n",
      "inserted rows in 527.04ms\n"
     ]
    },
    {
     "data": {
      "text/html": [
       "<h3>indivs</h3>"
      ],
      "text/plain": [
       "<IPython.core.display.HTML object>"
      ]
     },
     "metadata": {},
     "output_type": "display_data"
    },
    {
     "name": "stdout",
     "output_type": "stream",
     "text": [
      "CREATE TABLE indivs (\n",
      "        cycle VARCHAR(4), \n",
      "        fec_trans_id VARCHAR(19), \n",
      "        contrib_id VARCHAR(12), \n",
      "        name VARCHAR(50), \n",
      "        recip_id VARCHAR(9), \n",
      "        org VARCHAR(50), \n",
      "        parent_org VARCHAR(50), \n",
      "        industry VARCHAR(5),\n",
      "        date VARCHAR(12),\n",
      "        amount INTEGER,\n",
      "        street VARCHAR(40),\n",
      "        city VARCHAR(30),\n",
      "        state VARCHAR(2),\n",
      "        zip VARCHAR(9),\n",
      "        recip_code VARCHAR(2),\n",
      "        trans_type VARCHAR(3),\n",
      "        committee_id VARCHAR(9),\n",
      "        other_id VARCHAR(9),\n",
      "        gender VARCHAR(1),\n",
      "        microfilm VARCHAR(21),\n",
      "        occupation VARCHAR(38),\n",
      "        employer VARCHAR(38),\n",
      "        source VARCHAR(9)\n",
      "        )\n",
      "cycle,fec_trans_id,contrib_id,name,recip_id,org,parent_org,industry,date,amount,street,city,state,zip,recip_code,trans_type,committee_id,other_id,gender,microfilm,occupation,employer,source\n",
      "inserted rows in 1482608.18ms\n"
     ]
    },
    {
     "data": {
      "text/html": [
       "<h3>pacs2cands</h3>"
      ],
      "text/plain": [
       "<IPython.core.display.HTML object>"
      ]
     },
     "metadata": {},
     "output_type": "display_data"
    },
    {
     "name": "stdout",
     "output_type": "stream",
     "text": [
      "CREATE TABLE pacs2cands (\n",
      "        cycle VARCHAR(4), \n",
      "        fec_rec_id VARCHAR(19), \n",
      "        pac_id VARCHAR(9), \n",
      "        cand_id VARCHAR(9), \n",
      "        amount INTEGER,\n",
      "        date VARCHAR(12), \n",
      "        industry VARCHAR(5), \n",
      "        trans_type VARCHAR(3), \n",
      "        contrib_type VARCHAR(1),\n",
      "        fec_cand_id VARCHAR(9))\n",
      "cycle,fec_rec_id,pac_id,cand_id,amount,date,industry,trans_type,contrib_type,fec_cand_id\n",
      "inserted rows in 10987.77ms\n"
     ]
    },
    {
     "data": {
      "text/html": [
       "<h3>cmtes</h3>"
      ],
      "text/plain": [
       "<IPython.core.display.HTML object>"
      ]
     },
     "metadata": {},
     "output_type": "display_data"
    },
    {
     "name": "stdout",
     "output_type": "stream",
     "text": [
      "CREATE TABLE cmtes (\n",
      "        cycle VARCHAR(4), \n",
      "        cmte_id VARCHAR(9), \n",
      "        name VARCHAR(50), \n",
      "        affiliate VARCHAR(50),\n",
      "        parent VARCHAR(50), \n",
      "        recip_id VARCHAR(9), \n",
      "        recip_code VARCHAR(2), \n",
      "        fec_cand_id VARCHAR(9), \n",
      "        party VARCHAR(1),\n",
      "        industry VARCHAR(5),\n",
      "        source VARCHAR(9), \n",
      "        sensitive VARCHAR(1),\n",
      "        foreign_owner INTEGER,\n",
      "        active_now INTEGER\n",
      "        )\n",
      "cycle,cmte_id,name,affiliate,parent,recip_id,recip_code,fec_cand_id,party,industry,source,sensitive,foreign_owner,active_now\n",
      "inserted rows in 1487.51ms\n"
     ]
    },
    {
     "data": {
      "text/html": [
       "<h3>pacs2pacs</h3>"
      ],
      "text/plain": [
       "<IPython.core.display.HTML object>"
      ]
     },
     "metadata": {},
     "output_type": "display_data"
    },
    {
     "name": "stdout",
     "output_type": "stream",
     "text": [
      "CREATE TABLE pacs2pacs (\n",
      "        cycle VARCHAR(4), \n",
      "        fec_rec_id VARCHAR(19), \n",
      "        filer_id VARCHAR(9), \n",
      "        donor_cmte VARCHAR(50), \n",
      "        name VARCHAR(50), \n",
      "        city VARCHAR(30),\n",
      "        state VARCHAR(2),\n",
      "        zip VARCHAR(9),\n",
      "        occupation VARCHAR(38),\n",
      "        donor_industry VARCHAR(5),\n",
      "        date VARCHAR(12),\n",
      "        amount DOUBLE PRECISION, \n",
      "        recipient_id VARCHAR(9), \n",
      "        party VARCHAR(1),\n",
      "        cmte_id VARCHAR(9),\n",
      "        recip_code VARCHAR(2),\n",
      "        recip_industry VARCHAR(5), \n",
      "        ammended VARCHAR(1), \n",
      "        report_type VARCHAR(3), \n",
      "        pg VARCHAR(1),\n",
      "        microfilm VARCHAR(21),\n",
      "        trans_type VARCHAR(3),\n",
      "        donor_industry2 VARCHAR(5),\n",
      "        source VARCHAR(9))\n",
      "cycle,fec_rec_id,filer_id,donor_cmte,name,city,state,zip,occupation,donor_industry,date,amount,recipient_id,party,cmte_id,recip_code,recip_industry,ammended,report_type,pg,microfilm,trans_type,donor_industry2,source\n",
      "inserted rows in 15527.09ms\n"
     ]
    },
    {
     "data": {
      "text/html": [
       "<h3>industry</h3>"
      ],
      "text/plain": [
       "<IPython.core.display.HTML object>"
      ]
     },
     "metadata": {},
     "output_type": "display_data"
    },
    {
     "name": "stdout",
     "output_type": "stream",
     "text": [
      "CREATE TABLE industry (\n",
      "        code VARCHAR(50), \n",
      "        name VARCHAR(50), \n",
      "        catorder VARCHAR(50), \n",
      "        sector VARCHAR(50), \n",
      "        sector_long VARCHAR(100)\n",
      "        )\n",
      "code,name,catorder,sector,sector_long\n",
      "inserted rows in 16.67ms\n"
     ]
    },
    {
     "data": {
      "text/html": [
       "<h3>biggest_donors</h3>"
      ],
      "text/plain": [
       "<IPython.core.display.HTML object>"
      ]
     },
     "metadata": {},
     "output_type": "display_data"
    },
    {
     "name": "stdout",
     "output_type": "stream",
     "text": [
      "CREATE TABLE biggest_donors (donor text, donor_total INTEGER, recipient text, donation INTEGER)\n",
      "donor,donor_total,recipient,donation\n",
      "inserted rows in 29.28ms\n"
     ]
    },
    {
     "data": {
      "text/html": [
       "<h3>pacs2pacs_recip</h3>"
      ],
      "text/plain": [
       "<IPython.core.display.HTML object>"
      ]
     },
     "metadata": {},
     "output_type": "display_data"
    },
    {
     "name": "stdout",
     "output_type": "stream",
     "text": [
      "CREATE TABLE pacs2pacs_recip (donor_id text, donor_name text, state text, zip text, occupation text, donor_industry text, amount INTEGER, recip_id text, party text, recip_industry text )\n",
      "donor_id,donor_name,state,zip,occupation,donor_industry,amount,recip_id,party,recip_industry\n",
      "inserted rows in 0.03ms\n"
     ]
    },
    {
     "data": {
      "text/html": [
       "<h3>simple_pacs2pacs</h3>"
      ],
      "text/plain": [
       "<IPython.core.display.HTML object>"
      ]
     },
     "metadata": {},
     "output_type": "display_data"
    },
    {
     "name": "stdout",
     "output_type": "stream",
     "text": [
      "CREATE TABLE simple_pacs2pacs (donor_id VARCHAR(9), donor_name VARCHAR(50), state text, zip text, occupation text, donor_industry text, amount INTEGER, recip_id text, party text, recip_industry text, type text )\n",
      "donor_id,donor_name,state,zip,occupation,donor_industry,amount,recip_id,party,recip_industry,type\n",
      "inserted rows in 3928.4ms\n",
      "\n"
     ]
    }
   ],
   "source": [
    "for _, row in tqdm.tqdm_notebook(sqlite_db_schema.iterrows(), total=len(sqlite_db_schema)):\n",
    "    tbl = row['tbl_name']\n",
    "    display(HTML(f'<h3>{tbl}</h3>'))\n",
    "    \n",
    "    pg_create_table = row['pg_sql']\n",
    "    print(pg_create_table)\n",
    "    \n",
    "    with pg.cursor() as pgcur:\n",
    "        pgcur.execute(f'DROP TABLE IF EXISTS {tbl}')\n",
    "        pgcur.execute(pg_create_table)\n",
    "\n",
    "        tbl_row_df = pd.read_sql(f'SELECT * FROM {tbl} LIMIT 1', sqlite_db_con)\n",
    "        cols = ','.join(tbl_row_df.columns)\n",
    "        print(cols)\n",
    "\n",
    "        vals = sqlite_db_con.execute(f'SELECT * FROM {tbl}')\n",
    "        start_time = time.time()\n",
    "        try:\n",
    "            execute_values(pgcur,\n",
    "                           f\"\"\"INSERT INTO {tbl}({cols}) VALUES %s\"\"\",\n",
    "                           vals,\n",
    "                           page_size=1000)\n",
    "        except Exception as e:\n",
    "            print(e, file=sys.stderr)\n",
    "            break\n",
    "\n",
    "        end_time = time.time()\n",
    "        print(f'inserted rows in {round((end_time - start_time)*1000, 2)}ms')\n",
    "    pg.commit()"
   ]
  },
  {
   "cell_type": "markdown",
   "metadata": {},
   "source": [
    "## Create indices"
   ]
  },
  {
   "cell_type": "code",
   "execution_count": 26,
   "metadata": {},
   "outputs": [],
   "source": [
    "indices = {\n",
    "    'expends': ['trans_id'],\n",
    "    'cands': ['cand_id', 'name'],\n",
    "    'expends': ['amount'],\n",
    "    'indivs': ['recip_id', 'industry'],\n",
    "    'cmtes': ['cmte_id'],\n",
    "    'pacs2cands': ['cand_id', 'pac_id', 'industry'],\n",
    "    'industry': ['code'],\n",
    "    'pacs2pacs': ['filer_id', 'donor_industry']\n",
    "}"
   ]
  },
  {
   "cell_type": "code",
   "execution_count": 29,
   "metadata": {},
   "outputs": [
    {
     "name": "stdout",
     "output_type": "stream",
     "text": [
      "CREATE INDEX expends_amount_index ON expends (amount);\n",
      "CREATE INDEX cands_cand_id_index ON cands (cand_id);\n",
      "CREATE INDEX cands_name_index ON cands (name);\n",
      "CREATE INDEX indivs_recip_id_index ON indivs (recip_id);\n",
      "CREATE INDEX indivs_industry_index ON indivs (industry);\n",
      "CREATE INDEX cmtes_cmte_id_index ON cmtes (cmte_id);\n",
      "CREATE INDEX pacs2cands_cand_id_index ON pacs2cands (cand_id);\n",
      "CREATE INDEX pacs2cands_pac_id_index ON pacs2cands (pac_id);\n",
      "CREATE INDEX pacs2cands_industry_index ON pacs2cands (industry);\n",
      "CREATE INDEX industry_code_index ON industry (code);\n",
      "CREATE INDEX pacs2pacs_filer_id_index ON pacs2pacs (filer_id);\n",
      "CREATE INDEX pacs2pacs_donor_industry_index ON pacs2pacs (donor_industry);\n"
     ]
    }
   ],
   "source": [
    "for key, val in indices.items():\n",
    "    for v in val:\n",
    "        with pg.cursor() as cur:\n",
    "            index_create_stmt = f'CREATE INDEX {key}_{v}_index ON {key} ({v});'\n",
    "            print(index_create_stmt)\n",
    "            cur.execute(index_create_stmt)\n",
    "pg.commit()"
   ]
  },
  {
   "cell_type": "code",
   "execution_count": null,
   "metadata": {},
   "outputs": [],
   "source": []
  }
 ],
 "metadata": {
  "kernelspec": {
   "display_name": "Python 3",
   "language": "python",
   "name": "python3"
  },
  "language_info": {
   "codemirror_mode": {
    "name": "ipython",
    "version": 3
   },
   "file_extension": ".py",
   "mimetype": "text/x-python",
   "name": "python",
   "nbconvert_exporter": "python",
   "pygments_lexer": "ipython3",
   "version": "3.7.0"
  }
 },
 "nbformat": 4,
 "nbformat_minor": 2
}
