{
 "cells": [
  {
   "cell_type": "code",
   "execution_count": 88,
   "metadata": {},
   "outputs": [],
   "source": [
    "import pandas as pd\n",
    "import numpy as np\n",
    "import nltk\n",
    "import pyspark\n",
    "import matplotlib.pyplot as plt\n",
    "import os.path as osp\n",
    "import os\n",
    "import shutil\n",
    "from IPython.display import display, HTML\n",
    "import json\n",
    "import sys\n",
    "import time\n",
    "\n",
    "%matplotlib notebook"
   ]
  },
  {
   "cell_type": "code",
   "execution_count": 8,
   "metadata": {},
   "outputs": [
    {
     "name": "stdout",
     "output_type": "stream",
     "text": [
      "Thu Oct 18 01:26:11 CDT 2018\n"
     ]
    }
   ],
   "source": [
    "!date"
   ]
  },
  {
   "cell_type": "code",
   "execution_count": 2,
   "metadata": {},
   "outputs": [
    {
     "name": "stdout",
     "output_type": "stream",
     "text": [
      "/opt/anaconda3/bin/beeline\n"
     ]
    }
   ],
   "source": [
    "!which beeline"
   ]
  },
  {
   "cell_type": "code",
   "execution_count": 3,
   "metadata": {},
   "outputs": [
    {
     "name": "stdout",
     "output_type": "stream",
     "text": [
      "matt\n"
     ]
    }
   ],
   "source": [
    "!whoami"
   ]
  },
  {
   "cell_type": "code",
   "execution_count": 4,
   "metadata": {},
   "outputs": [
    {
     "name": "stdout",
     "output_type": "stream",
     "text": [
      "/home/matt/etl\n"
     ]
    }
   ],
   "source": [
    "!pwd"
   ]
  },
  {
   "cell_type": "code",
   "execution_count": 5,
   "metadata": {},
   "outputs": [],
   "source": [
    "!mkdir -p bill-metadata\n",
    "os.chdir('/home/matt/etl/bill-metadata')"
   ]
  },
  {
   "cell_type": "code",
   "execution_count": 7,
   "metadata": {},
   "outputs": [
    {
     "data": {
      "text/html": [
       "<h2>wget -O bill-meta-93 https://s3.amazonaws.com/pp-projects-static/congress/bills/93.zip</h2>"
      ],
      "text/plain": [
       "<IPython.core.display.HTML object>"
      ]
     },
     "metadata": {},
     "output_type": "display_data"
    },
    {
     "name": "stdout",
     "output_type": "stream",
     "text": [
      "--2018-10-18 01:24:56--  https://s3.amazonaws.com/pp-projects-static/congress/bills/93.zip\n",
      "Resolving s3.amazonaws.com (s3.amazonaws.com)... 52.216.165.61\n",
      "Connecting to s3.amazonaws.com (s3.amazonaws.com)|52.216.165.61|:443... connected.\n",
      "HTTP request sent, awaiting response... 200 OK\n",
      "Length: 32788106 (31M) [application/x-www-form-urlencoded]\n",
      "Saving to: ‘bill-meta-93’\n",
      "\n",
      "100%[======================================>] 32,788,106  39.0MB/s   in 0.8s   \n",
      "\n",
      "2018-10-18 01:24:57 (39.0 MB/s) - ‘bill-meta-93’ saved [32788106/32788106]\n",
      "\n"
     ]
    },
    {
     "data": {
      "text/html": [
       "<h2>wget -O bill-meta-94 https://s3.amazonaws.com/pp-projects-static/congress/bills/94.zip</h2>"
      ],
      "text/plain": [
       "<IPython.core.display.HTML object>"
      ]
     },
     "metadata": {},
     "output_type": "display_data"
    },
    {
     "name": "stdout",
     "output_type": "stream",
     "text": [
      "--2018-10-18 01:24:57--  https://s3.amazonaws.com/pp-projects-static/congress/bills/94.zip\n",
      "Resolving s3.amazonaws.com (s3.amazonaws.com)... 52.216.165.61\n",
      "Connecting to s3.amazonaws.com (s3.amazonaws.com)|52.216.165.61|:443... connected.\n",
      "HTTP request sent, awaiting response... 200 OK\n",
      "Length: 30109157 (29M) [application/x-www-form-urlencoded]\n",
      "Saving to: ‘bill-meta-94’\n",
      "\n",
      "100%[======================================>] 30,109,157  36.6MB/s   in 0.8s   \n",
      "\n",
      "2018-10-18 01:24:58 (36.6 MB/s) - ‘bill-meta-94’ saved [30109157/30109157]\n",
      "\n"
     ]
    },
    {
     "data": {
      "text/html": [
       "<h2>wget -O bill-meta-95 https://s3.amazonaws.com/pp-projects-static/congress/bills/95.zip</h2>"
      ],
      "text/plain": [
       "<IPython.core.display.HTML object>"
      ]
     },
     "metadata": {},
     "output_type": "display_data"
    },
    {
     "name": "stdout",
     "output_type": "stream",
     "text": [
      "--2018-10-18 01:24:58--  https://s3.amazonaws.com/pp-projects-static/congress/bills/95.zip\n",
      "Resolving s3.amazonaws.com (s3.amazonaws.com)... 52.216.165.61\n",
      "Connecting to s3.amazonaws.com (s3.amazonaws.com)|52.216.165.61|:443... connected.\n",
      "HTTP request sent, awaiting response... 200 OK\n",
      "Length: 28153521 (27M) [application/x-www-form-urlencoded]\n",
      "Saving to: ‘bill-meta-95’\n",
      "\n",
      "100%[======================================>] 28,153,521  39.7MB/s   in 0.7s   \n",
      "\n",
      "2018-10-18 01:24:59 (39.7 MB/s) - ‘bill-meta-95’ saved [28153521/28153521]\n",
      "\n"
     ]
    },
    {
     "data": {
      "text/html": [
       "<h2>wget -O bill-meta-96 https://s3.amazonaws.com/pp-projects-static/congress/bills/96.zip</h2>"
      ],
      "text/plain": [
       "<IPython.core.display.HTML object>"
      ]
     },
     "metadata": {},
     "output_type": "display_data"
    },
    {
     "name": "stdout",
     "output_type": "stream",
     "text": [
      "--2018-10-18 01:24:59--  https://s3.amazonaws.com/pp-projects-static/congress/bills/96.zip\n",
      "Resolving s3.amazonaws.com (s3.amazonaws.com)... 52.216.96.253\n",
      "Connecting to s3.amazonaws.com (s3.amazonaws.com)|52.216.96.253|:443... connected.\n",
      "HTTP request sent, awaiting response... 200 OK\n",
      "Length: 20815250 (20M) [application/x-www-form-urlencoded]\n",
      "Saving to: ‘bill-meta-96’\n",
      "\n",
      "100%[======================================>] 20,815,250  35.7MB/s   in 0.6s   \n",
      "\n",
      "2018-10-18 01:25:00 (35.7 MB/s) - ‘bill-meta-96’ saved [20815250/20815250]\n",
      "\n"
     ]
    },
    {
     "data": {
      "text/html": [
       "<h2>wget -O bill-meta-97 https://s3.amazonaws.com/pp-projects-static/congress/bills/97.zip</h2>"
      ],
      "text/plain": [
       "<IPython.core.display.HTML object>"
      ]
     },
     "metadata": {},
     "output_type": "display_data"
    },
    {
     "name": "stdout",
     "output_type": "stream",
     "text": [
      "--2018-10-18 01:25:00--  https://s3.amazonaws.com/pp-projects-static/congress/bills/97.zip\n",
      "Resolving s3.amazonaws.com (s3.amazonaws.com)... 52.216.96.229\n",
      "Connecting to s3.amazonaws.com (s3.amazonaws.com)|52.216.96.229|:443... connected.\n",
      "HTTP request sent, awaiting response... 200 OK\n",
      "Length: 20613064 (20M) [application/x-www-form-urlencoded]\n",
      "Saving to: ‘bill-meta-97’\n",
      "\n",
      "100%[======================================>] 20,613,064  34.7MB/s   in 0.6s   \n",
      "\n",
      "2018-10-18 01:25:01 (34.7 MB/s) - ‘bill-meta-97’ saved [20613064/20613064]\n",
      "\n"
     ]
    },
    {
     "data": {
      "text/html": [
       "<h2>wget -O bill-meta-98 https://s3.amazonaws.com/pp-projects-static/congress/bills/98.zip</h2>"
      ],
      "text/plain": [
       "<IPython.core.display.HTML object>"
      ]
     },
     "metadata": {},
     "output_type": "display_data"
    },
    {
     "name": "stdout",
     "output_type": "stream",
     "text": [
      "--2018-10-18 01:25:01--  https://s3.amazonaws.com/pp-projects-static/congress/bills/98.zip\n",
      "Resolving s3.amazonaws.com (s3.amazonaws.com)... 52.216.21.5\n",
      "Connecting to s3.amazonaws.com (s3.amazonaws.com)|52.216.21.5|:443... connected.\n",
      "HTTP request sent, awaiting response... 200 OK\n",
      "Length: 21422027 (20M) [application/x-www-form-urlencoded]\n",
      "Saving to: ‘bill-meta-98’\n",
      "\n",
      "100%[======================================>] 21,422,027  26.0MB/s   in 0.8s   \n",
      "\n",
      "2018-10-18 01:25:02 (26.0 MB/s) - ‘bill-meta-98’ saved [21422027/21422027]\n",
      "\n"
     ]
    },
    {
     "data": {
      "text/html": [
       "<h2>wget -O bill-meta-99 https://s3.amazonaws.com/pp-projects-static/congress/bills/99.zip</h2>"
      ],
      "text/plain": [
       "<IPython.core.display.HTML object>"
      ]
     },
     "metadata": {},
     "output_type": "display_data"
    },
    {
     "name": "stdout",
     "output_type": "stream",
     "text": [
      "--2018-10-18 01:25:02--  https://s3.amazonaws.com/pp-projects-static/congress/bills/99.zip\n",
      "Resolving s3.amazonaws.com (s3.amazonaws.com)... 52.216.130.245\n",
      "Connecting to s3.amazonaws.com (s3.amazonaws.com)|52.216.130.245|:443... connected.\n",
      "HTTP request sent, awaiting response... 200 OK\n",
      "Length: 21286953 (20M) [application/x-www-form-urlencoded]\n",
      "Saving to: ‘bill-meta-99’\n",
      "\n",
      "100%[======================================>] 21,286,953  34.5MB/s   in 0.6s   \n",
      "\n",
      "2018-10-18 01:25:03 (34.5 MB/s) - ‘bill-meta-99’ saved [21286953/21286953]\n",
      "\n"
     ]
    },
    {
     "data": {
      "text/html": [
       "<h2>wget -O bill-meta-100 https://s3.amazonaws.com/pp-projects-static/congress/bills/100.zip</h2>"
      ],
      "text/plain": [
       "<IPython.core.display.HTML object>"
      ]
     },
     "metadata": {},
     "output_type": "display_data"
    },
    {
     "name": "stdout",
     "output_type": "stream",
     "text": [
      "--2018-10-18 01:25:03--  https://s3.amazonaws.com/pp-projects-static/congress/bills/100.zip\n",
      "Resolving s3.amazonaws.com (s3.amazonaws.com)... 52.216.165.61\n",
      "Connecting to s3.amazonaws.com (s3.amazonaws.com)|52.216.165.61|:443... connected.\n",
      "HTTP request sent, awaiting response... 200 OK\n",
      "Length: 22538942 (21M) [application/x-www-form-urlencoded]\n",
      "Saving to: ‘bill-meta-100’\n",
      "\n",
      "100%[======================================>] 22,538,942  31.5MB/s   in 0.7s   \n",
      "\n",
      "2018-10-18 01:25:04 (31.5 MB/s) - ‘bill-meta-100’ saved [22538942/22538942]\n",
      "\n"
     ]
    },
    {
     "data": {
      "text/html": [
       "<h2>wget -O bill-meta-101 https://s3.amazonaws.com/pp-projects-static/congress/bills/101.zip</h2>"
      ],
      "text/plain": [
       "<IPython.core.display.HTML object>"
      ]
     },
     "metadata": {},
     "output_type": "display_data"
    },
    {
     "name": "stdout",
     "output_type": "stream",
     "text": [
      "--2018-10-18 01:25:04--  https://s3.amazonaws.com/pp-projects-static/congress/bills/101.zip\n",
      "Resolving s3.amazonaws.com (s3.amazonaws.com)... 52.216.96.229\n",
      "Connecting to s3.amazonaws.com (s3.amazonaws.com)|52.216.96.229|:443... connected.\n",
      "HTTP request sent, awaiting response... 200 OK\n",
      "Length: 23100446 (22M) [application/x-www-form-urlencoded]\n",
      "Saving to: ‘bill-meta-101’\n",
      "\n",
      "100%[======================================>] 23,100,446  34.3MB/s   in 0.6s   \n",
      "\n",
      "2018-10-18 01:25:05 (34.3 MB/s) - ‘bill-meta-101’ saved [23100446/23100446]\n",
      "\n"
     ]
    },
    {
     "data": {
      "text/html": [
       "<h2>wget -O bill-meta-102 https://s3.amazonaws.com/pp-projects-static/congress/bills/102.zip</h2>"
      ],
      "text/plain": [
       "<IPython.core.display.HTML object>"
      ]
     },
     "metadata": {},
     "output_type": "display_data"
    },
    {
     "name": "stdout",
     "output_type": "stream",
     "text": [
      "--2018-10-18 01:25:05--  https://s3.amazonaws.com/pp-projects-static/congress/bills/102.zip\n",
      "Resolving s3.amazonaws.com (s3.amazonaws.com)... 52.216.101.173\n",
      "Connecting to s3.amazonaws.com (s3.amazonaws.com)|52.216.101.173|:443... connected.\n",
      "HTTP request sent, awaiting response... 200 OK\n",
      "Length: 24707866 (24M) [application/x-www-form-urlencoded]\n",
      "Saving to: ‘bill-meta-102’\n",
      "\n",
      "100%[======================================>] 24,707,866  35.9MB/s   in 0.7s   \n",
      "\n",
      "2018-10-18 01:25:06 (35.9 MB/s) - ‘bill-meta-102’ saved [24707866/24707866]\n",
      "\n"
     ]
    },
    {
     "data": {
      "text/html": [
       "<h2>wget -O bill-meta-103 https://s3.amazonaws.com/pp-projects-static/congress/bills/103.zip</h2>"
      ],
      "text/plain": [
       "<IPython.core.display.HTML object>"
      ]
     },
     "metadata": {},
     "output_type": "display_data"
    },
    {
     "name": "stdout",
     "output_type": "stream",
     "text": [
      "--2018-10-18 01:25:06--  https://s3.amazonaws.com/pp-projects-static/congress/bills/103.zip\n",
      "Resolving s3.amazonaws.com (s3.amazonaws.com)... 52.216.96.229\n",
      "Connecting to s3.amazonaws.com (s3.amazonaws.com)|52.216.96.229|:443... connected.\n",
      "HTTP request sent, awaiting response... 200 OK\n",
      "Length: 19245665 (18M) [application/x-www-form-urlencoded]\n",
      "Saving to: ‘bill-meta-103’\n",
      "\n",
      "100%[======================================>] 19,245,665  35.0MB/s   in 0.5s   \n",
      "\n",
      "2018-10-18 01:25:07 (35.0 MB/s) - ‘bill-meta-103’ saved [19245665/19245665]\n",
      "\n"
     ]
    },
    {
     "data": {
      "text/html": [
       "<h2>wget -O bill-meta-104 https://s3.amazonaws.com/pp-projects-static/congress/bills/104.zip</h2>"
      ],
      "text/plain": [
       "<IPython.core.display.HTML object>"
      ]
     },
     "metadata": {},
     "output_type": "display_data"
    },
    {
     "name": "stdout",
     "output_type": "stream",
     "text": [
      "--2018-10-18 01:25:07--  https://s3.amazonaws.com/pp-projects-static/congress/bills/104.zip\n",
      "Resolving s3.amazonaws.com (s3.amazonaws.com)... 52.216.98.205\n",
      "Connecting to s3.amazonaws.com (s3.amazonaws.com)|52.216.98.205|:443... connected.\n",
      "HTTP request sent, awaiting response... 200 OK\n",
      "Length: 17107818 (16M) [application/x-www-form-urlencoded]\n",
      "Saving to: ‘bill-meta-104’\n",
      "\n",
      "100%[======================================>] 17,107,818  33.5MB/s   in 0.5s   \n",
      "\n",
      "2018-10-18 01:25:08 (33.5 MB/s) - ‘bill-meta-104’ saved [17107818/17107818]\n",
      "\n"
     ]
    },
    {
     "data": {
      "text/html": [
       "<h2>wget -O bill-meta-105 https://s3.amazonaws.com/pp-projects-static/congress/bills/105.zip</h2>"
      ],
      "text/plain": [
       "<IPython.core.display.HTML object>"
      ]
     },
     "metadata": {},
     "output_type": "display_data"
    },
    {
     "name": "stdout",
     "output_type": "stream",
     "text": [
      "--2018-10-18 01:25:08--  https://s3.amazonaws.com/pp-projects-static/congress/bills/105.zip\n",
      "Resolving s3.amazonaws.com (s3.amazonaws.com)... 52.216.96.109\n",
      "Connecting to s3.amazonaws.com (s3.amazonaws.com)|52.216.96.109|:443... connected.\n",
      "HTTP request sent, awaiting response... 200 OK\n",
      "Length: 18944917 (18M) [application/x-www-form-urlencoded]\n",
      "Saving to: ‘bill-meta-105’\n",
      "\n",
      "100%[======================================>] 18,944,917  33.9MB/s   in 0.5s   \n",
      "\n",
      "2018-10-18 01:25:08 (33.9 MB/s) - ‘bill-meta-105’ saved [18944917/18944917]\n",
      "\n"
     ]
    },
    {
     "data": {
      "text/html": [
       "<h2>wget -O bill-meta-106 https://s3.amazonaws.com/pp-projects-static/congress/bills/106.zip</h2>"
      ],
      "text/plain": [
       "<IPython.core.display.HTML object>"
      ]
     },
     "metadata": {},
     "output_type": "display_data"
    },
    {
     "name": "stdout",
     "output_type": "stream",
     "text": [
      "--2018-10-18 01:25:09--  https://s3.amazonaws.com/pp-projects-static/congress/bills/106.zip\n",
      "Resolving s3.amazonaws.com (s3.amazonaws.com)... 52.216.165.61\n",
      "Connecting to s3.amazonaws.com (s3.amazonaws.com)|52.216.165.61|:443... connected.\n",
      "HTTP request sent, awaiting response... 200 OK\n",
      "Length: 23077517 (22M) [application/x-www-form-urlencoded]\n",
      "Saving to: ‘bill-meta-106’\n",
      "\n",
      "100%[======================================>] 23,077,517  35.3MB/s   in 0.6s   \n",
      "\n",
      "2018-10-18 01:25:09 (35.3 MB/s) - ‘bill-meta-106’ saved [23077517/23077517]\n",
      "\n"
     ]
    },
    {
     "data": {
      "text/html": [
       "<h2>wget -O bill-meta-107 https://s3.amazonaws.com/pp-projects-static/congress/bills/107.zip</h2>"
      ],
      "text/plain": [
       "<IPython.core.display.HTML object>"
      ]
     },
     "metadata": {},
     "output_type": "display_data"
    },
    {
     "name": "stdout",
     "output_type": "stream",
     "text": [
      "--2018-10-18 01:25:10--  https://s3.amazonaws.com/pp-projects-static/congress/bills/107.zip\n",
      "Resolving s3.amazonaws.com (s3.amazonaws.com)... 54.231.120.66\n",
      "Connecting to s3.amazonaws.com (s3.amazonaws.com)|54.231.120.66|:443... connected.\n",
      "HTTP request sent, awaiting response... 200 OK\n",
      "Length: 20263110 (19M) [application/x-www-form-urlencoded]\n",
      "Saving to: ‘bill-meta-107’\n",
      "\n",
      "100%[======================================>] 20,263,110  32.9MB/s   in 0.6s   \n",
      "\n",
      "2018-10-18 01:25:10 (32.9 MB/s) - ‘bill-meta-107’ saved [20263110/20263110]\n",
      "\n"
     ]
    },
    {
     "data": {
      "text/html": [
       "<h2>wget -O bill-meta-108 https://s3.amazonaws.com/pp-projects-static/congress/bills/108.zip</h2>"
      ],
      "text/plain": [
       "<IPython.core.display.HTML object>"
      ]
     },
     "metadata": {},
     "output_type": "display_data"
    },
    {
     "name": "stdout",
     "output_type": "stream",
     "text": [
      "--2018-10-18 01:25:10--  https://s3.amazonaws.com/pp-projects-static/congress/bills/108.zip\n",
      "Resolving s3.amazonaws.com (s3.amazonaws.com)... 54.231.120.66\n",
      "Connecting to s3.amazonaws.com (s3.amazonaws.com)|54.231.120.66|:443... connected.\n",
      "HTTP request sent, awaiting response... 200 OK\n",
      "Length: 21666572 (21M) [application/x-www-form-urlencoded]\n",
      "Saving to: ‘bill-meta-108’\n",
      "\n",
      "100%[======================================>] 21,666,572  35.3MB/s   in 0.6s   \n",
      "\n",
      "2018-10-18 01:25:11 (35.3 MB/s) - ‘bill-meta-108’ saved [21666572/21666572]\n",
      "\n"
     ]
    },
    {
     "data": {
      "text/html": [
       "<h2>wget -O bill-meta-109 https://s3.amazonaws.com/pp-projects-static/congress/bills/109.zip</h2>"
      ],
      "text/plain": [
       "<IPython.core.display.HTML object>"
      ]
     },
     "metadata": {},
     "output_type": "display_data"
    },
    {
     "name": "stdout",
     "output_type": "stream",
     "text": [
      "--2018-10-18 01:25:11--  https://s3.amazonaws.com/pp-projects-static/congress/bills/109.zip\n",
      "Resolving s3.amazonaws.com (s3.amazonaws.com)... 52.216.130.245\n",
      "Connecting to s3.amazonaws.com (s3.amazonaws.com)|52.216.130.245|:443... connected.\n",
      "HTTP request sent, awaiting response... 200 OK\n",
      "Length: 23994699 (23M) [application/x-www-form-urlencoded]\n",
      "Saving to: ‘bill-meta-109’\n",
      "\n",
      "100%[======================================>] 23,994,699  36.5MB/s   in 0.6s   \n",
      "\n",
      "2018-10-18 01:25:12 (36.5 MB/s) - ‘bill-meta-109’ saved [23994699/23994699]\n",
      "\n"
     ]
    },
    {
     "data": {
      "text/html": [
       "<h2>wget -O bill-meta-110 https://s3.amazonaws.com/pp-projects-static/congress/bills/110.zip</h2>"
      ],
      "text/plain": [
       "<IPython.core.display.HTML object>"
      ]
     },
     "metadata": {},
     "output_type": "display_data"
    },
    {
     "name": "stdout",
     "output_type": "stream",
     "text": [
      "--2018-10-18 01:25:12--  https://s3.amazonaws.com/pp-projects-static/congress/bills/110.zip\n",
      "Resolving s3.amazonaws.com (s3.amazonaws.com)... 54.231.120.66\n",
      "Connecting to s3.amazonaws.com (s3.amazonaws.com)|54.231.120.66|:443... connected.\n",
      "HTTP request sent, awaiting response... 200 OK\n",
      "Length: 26870083 (26M) [application/x-www-form-urlencoded]\n",
      "Saving to: ‘bill-meta-110’\n",
      "\n",
      "100%[======================================>] 26,870,083  37.6MB/s   in 0.7s   \n",
      "\n",
      "2018-10-18 01:25:13 (37.6 MB/s) - ‘bill-meta-110’ saved [26870083/26870083]\n",
      "\n"
     ]
    },
    {
     "data": {
      "text/html": [
       "<h2>wget -O bill-meta-111 https://s3.amazonaws.com/pp-projects-static/congress/bills/111.zip</h2>"
      ],
      "text/plain": [
       "<IPython.core.display.HTML object>"
      ]
     },
     "metadata": {},
     "output_type": "display_data"
    },
    {
     "name": "stdout",
     "output_type": "stream",
     "text": [
      "--2018-10-18 01:25:13--  https://s3.amazonaws.com/pp-projects-static/congress/bills/111.zip\n",
      "Resolving s3.amazonaws.com (s3.amazonaws.com)... 52.216.130.245\n",
      "Connecting to s3.amazonaws.com (s3.amazonaws.com)|52.216.130.245|:443... connected.\n",
      "HTTP request sent, awaiting response... 200 OK\n",
      "Length: 24915898 (24M) [application/x-www-form-urlencoded]\n",
      "Saving to: ‘bill-meta-111’\n",
      "\n",
      "100%[======================================>] 24,915,898  35.8MB/s   in 0.7s   \n",
      "\n",
      "2018-10-18 01:25:14 (35.8 MB/s) - ‘bill-meta-111’ saved [24915898/24915898]\n",
      "\n"
     ]
    },
    {
     "data": {
      "text/html": [
       "<h2>wget -O bill-meta-112 https://s3.amazonaws.com/pp-projects-static/congress/bills/112.zip</h2>"
      ],
      "text/plain": [
       "<IPython.core.display.HTML object>"
      ]
     },
     "metadata": {},
     "output_type": "display_data"
    },
    {
     "name": "stdout",
     "output_type": "stream",
     "text": [
      "--2018-10-18 01:25:14--  https://s3.amazonaws.com/pp-projects-static/congress/bills/112.zip\n",
      "Resolving s3.amazonaws.com (s3.amazonaws.com)... 54.231.120.66\n",
      "Connecting to s3.amazonaws.com (s3.amazonaws.com)|54.231.120.66|:443... connected.\n",
      "HTTP request sent, awaiting response... 200 OK\n",
      "Length: 21290417 (20M) [application/x-www-form-urlencoded]\n",
      "Saving to: ‘bill-meta-112’\n",
      "\n",
      "100%[======================================>] 21,290,417  35.8MB/s   in 0.6s   \n",
      "\n",
      "2018-10-18 01:25:15 (35.8 MB/s) - ‘bill-meta-112’ saved [21290417/21290417]\n",
      "\n"
     ]
    },
    {
     "data": {
      "text/html": [
       "<h2>wget -O bill-meta-113 https://s3.amazonaws.com/pp-projects-static/congress/bills/113.zip</h2>"
      ],
      "text/plain": [
       "<IPython.core.display.HTML object>"
      ]
     },
     "metadata": {},
     "output_type": "display_data"
    },
    {
     "name": "stdout",
     "output_type": "stream",
     "text": [
      "--2018-10-18 01:25:15--  https://s3.amazonaws.com/pp-projects-static/congress/bills/113.zip\n",
      "Resolving s3.amazonaws.com (s3.amazonaws.com)... 54.231.120.66\n",
      "Connecting to s3.amazonaws.com (s3.amazonaws.com)|54.231.120.66|:443... connected.\n",
      "HTTP request sent, awaiting response... 200 OK\n",
      "Length: 121843100 (116M) [application/zip]\n",
      "Saving to: ‘bill-meta-113’\n",
      "\n",
      "100%[======================================>] 121,843,100 43.2MB/s   in 2.7s   \n",
      "\n",
      "2018-10-18 01:25:18 (43.2 MB/s) - ‘bill-meta-113’ saved [121843100/121843100]\n",
      "\n"
     ]
    },
    {
     "data": {
      "text/html": [
       "<h2>wget -O bill-meta-114 https://s3.amazonaws.com/pp-projects-static/congress/bills/114.zip</h2>"
      ],
      "text/plain": [
       "<IPython.core.display.HTML object>"
      ]
     },
     "metadata": {},
     "output_type": "display_data"
    },
    {
     "name": "stdout",
     "output_type": "stream",
     "text": [
      "--2018-10-18 01:25:18--  https://s3.amazonaws.com/pp-projects-static/congress/bills/114.zip\n",
      "Resolving s3.amazonaws.com (s3.amazonaws.com)... 52.216.82.67\n",
      "Connecting to s3.amazonaws.com (s3.amazonaws.com)|52.216.82.67|:443... connected.\n",
      "HTTP request sent, awaiting response... 200 OK\n",
      "Length: 107531232 (103M) [application/zip]\n",
      "Saving to: ‘bill-meta-114’\n",
      "\n",
      "100%[======================================>] 107,531,232 46.5MB/s   in 2.2s   \n",
      "\n",
      "2018-10-18 01:25:21 (46.5 MB/s) - ‘bill-meta-114’ saved [107531232/107531232]\n",
      "\n"
     ]
    },
    {
     "data": {
      "text/html": [
       "<h2>wget -O bill-meta-115 https://s3.amazonaws.com/pp-projects-static/congress/bills/115.zip</h2>"
      ],
      "text/plain": [
       "<IPython.core.display.HTML object>"
      ]
     },
     "metadata": {},
     "output_type": "display_data"
    },
    {
     "name": "stdout",
     "output_type": "stream",
     "text": [
      "--2018-10-18 01:25:21--  https://s3.amazonaws.com/pp-projects-static/congress/bills/115.zip\n",
      "Resolving s3.amazonaws.com (s3.amazonaws.com)... 52.216.21.5\n",
      "Connecting to s3.amazonaws.com (s3.amazonaws.com)|52.216.21.5|:443... connected.\n",
      "HTTP request sent, awaiting response... 200 OK\n",
      "Length: 101732194 (97M) [application/zip]\n",
      "Saving to: ‘bill-meta-115’\n",
      "\n",
      "100%[======================================>] 101,732,194 47.5MB/s   in 2.0s   \n",
      "\n",
      "2018-10-18 01:25:23 (47.5 MB/s) - ‘bill-meta-115’ saved [101732194/101732194]\n",
      "\n"
     ]
    }
   ],
   "source": [
    "for year in range(93, 115+1):\n",
    "    link = f'https://s3.amazonaws.com/pp-projects-static/congress/bills/{year}.zip'\n",
    "    cmd = f'wget -O bill-meta-{year} {link}'\n",
    "    display(HTML(f'<h2>{cmd}</h2>'))\n",
    "    !$cmd"
   ]
  },
  {
   "cell_type": "markdown",
   "metadata": {},
   "source": [
    "### Unzip each metadata file into the main directory and load into a Hive table"
   ]
  },
  {
   "cell_type": "code",
   "execution_count": 14,
   "metadata": {},
   "outputs": [
    {
     "name": "stdout",
     "output_type": "stream",
     "text": [
      "unzip:  cannot find or open bill-metadata, bill-metadata.zip or bill-metadata.ZIP.\n"
     ]
    }
   ],
   "source": [
    "files = os.listdir()\n",
    "\n",
    "for f in files:\n",
    "    cmd = f'unzip -q {f} -d {f}-unzip'\n",
    "    !$cmd"
   ]
  },
  {
   "cell_type": "markdown",
   "metadata": {},
   "source": [
    "Let's see the different types of directory structures:"
   ]
  },
  {
   "cell_type": "code",
   "execution_count": 24,
   "metadata": {},
   "outputs": [
    {
     "name": "stdout",
     "output_type": "stream",
     "text": [
      "bill-meta-111-unzip: bills\n",
      "bill-meta-112-unzip: bills\n",
      "bill-meta-107-unzip: bills\n",
      "bill-meta-100-unzip: bills\n",
      "bill-meta-102-unzip: bills\n",
      "bill-meta-94-unzip: bills\n",
      "bill-meta-93-unzip: bills\n",
      "bill-meta-113-unzip: __MACOSX, congress\n",
      "bill-meta-110-unzip: bills\n",
      "bill-meta-105-unzip: bills\n",
      "bill-meta-108-unzip: bills\n",
      "bill-meta-99-unzip: bills\n",
      "bill-meta-106-unzip: bills\n",
      "bill-meta-95-unzip: bills\n",
      "bill-meta-96-unzip: bills\n",
      "bill-meta-115-unzip: congress\n",
      "bill-meta-109-unzip: bills\n",
      "bill-meta-103-unzip: bills\n",
      "bill-meta-97-unzip: bills\n",
      "bill-meta-104-unzip: bills\n",
      "bill-meta-114-unzip: __MACOSX, congress\n",
      "bill-meta-101-unzip: bills\n",
      "bill-meta-98-unzip: bills\n"
     ]
    }
   ],
   "source": [
    "unzips = list(filter(lambda x: x.endswith('-unzip'), os.listdir()))\n",
    "for d in unzips:\n",
    "    print(f'{d}: ' + ', '.join(os.listdir(d)))"
   ]
  },
  {
   "cell_type": "code",
   "execution_count": 30,
   "metadata": {},
   "outputs": [
    {
     "data": {
      "text/plain": [
       "['hjres', 'hres', 'hconres', 'hr', 'sconres', 's', 'sres', 'sjres']"
      ]
     },
     "execution_count": 30,
     "metadata": {},
     "output_type": "execute_result"
    }
   ],
   "source": [
    "os.listdir('bill-meta-112-unzip/bills')"
   ]
  },
  {
   "cell_type": "code",
   "execution_count": 25,
   "metadata": {},
   "outputs": [
    {
     "data": {
      "text/plain": [
       "['data', '.DS_Store']"
      ]
     },
     "execution_count": 25,
     "metadata": {},
     "output_type": "execute_result"
    }
   ],
   "source": [
    "os.listdir('bill-meta-113-unzip/congress')"
   ]
  },
  {
   "cell_type": "code",
   "execution_count": 26,
   "metadata": {},
   "outputs": [
    {
     "data": {
      "text/plain": [
       "['113', '.DS_Store']"
      ]
     },
     "execution_count": 26,
     "metadata": {},
     "output_type": "execute_result"
    }
   ],
   "source": [
    "os.listdir('bill-meta-113-unzip/congress/data')"
   ]
  },
  {
   "cell_type": "code",
   "execution_count": 27,
   "metadata": {},
   "outputs": [
    {
     "data": {
      "text/plain": [
       "['.DS_Store', 'bills']"
      ]
     },
     "execution_count": 27,
     "metadata": {},
     "output_type": "execute_result"
    }
   ],
   "source": [
    "os.listdir('bill-meta-113-unzip/congress/data/113')"
   ]
  },
  {
   "cell_type": "code",
   "execution_count": 28,
   "metadata": {},
   "outputs": [
    {
     "data": {
      "text/plain": [
       "['hjres',\n",
       " 'hres',\n",
       " 'hconres',\n",
       " 'hr',\n",
       " 'sconres',\n",
       " 's',\n",
       " '.DS_Store',\n",
       " 'sres',\n",
       " 'sjres']"
      ]
     },
     "execution_count": 28,
     "metadata": {},
     "output_type": "execute_result"
    }
   ],
   "source": [
    "os.listdir('bill-meta-113-unzip/congress/data/113/bills')"
   ]
  },
  {
   "cell_type": "markdown",
   "metadata": {},
   "source": [
    "Up to and including the 112th Congress, the only folder is `bills` (containing `hjres`, `hres`, ...etc). For 113th Congress and later, this `bills` folder lives at `congress/data/{congressnum}/bills`. We need to rehome these folders."
   ]
  },
  {
   "cell_type": "code",
   "execution_count": 31,
   "metadata": {},
   "outputs": [],
   "source": [
    "!mkdir -p bills-all"
   ]
  },
  {
   "cell_type": "code",
   "execution_count": 32,
   "metadata": {},
   "outputs": [],
   "source": [
    "for congnum in range(93, 112+1):\n",
    "    cmd = f'mkdir -p bills-all/{congnum}'\n",
    "    !$cmd\n",
    "    cmd = f'mv bill-meta-{congnum}-unzip/bills/* bills-all/{congnum}'\n",
    "    !$cmd"
   ]
  },
  {
   "cell_type": "code",
   "execution_count": 33,
   "metadata": {},
   "outputs": [
    {
     "name": "stdout",
     "output_type": "stream",
     "text": [
      "100  102  104  106  108  110  112  94  96  98\n",
      "101  103  105  107  109  111  93   95  97  99\n"
     ]
    }
   ],
   "source": [
    "!ls bills-all"
   ]
  },
  {
   "cell_type": "code",
   "execution_count": 34,
   "metadata": {},
   "outputs": [
    {
     "name": "stdout",
     "output_type": "stream",
     "text": [
      "hconres  hjres\thr  hres  s  sconres  sjres  sres\n"
     ]
    }
   ],
   "source": [
    "!ls bills-all/100"
   ]
  },
  {
   "cell_type": "code",
   "execution_count": 35,
   "metadata": {},
   "outputs": [],
   "source": [
    "for congnum in range(113, 115+1):\n",
    "    cmd = f'mkdir -p bills-all/{congnum}'\n",
    "    !$cmd\n",
    "    cmd = f'mv bill-meta-{congnum}-unzip/congress/data/{congnum}/bills/* bills-all/{congnum}'\n",
    "    !$cmd"
   ]
  },
  {
   "cell_type": "code",
   "execution_count": 36,
   "metadata": {},
   "outputs": [
    {
     "name": "stdout",
     "output_type": "stream",
     "text": [
      "hconres  hjres\thr  hres  s  sconres  sjres  sres\n"
     ]
    }
   ],
   "source": [
    "!ls bills-all/115"
   ]
  },
  {
   "cell_type": "markdown",
   "metadata": {},
   "source": [
    "We moved each Congress' proceedings into its own folder under the `bills-all` folder. This way we can handle any possible schema changes between years separately for each set of proceedings."
   ]
  },
  {
   "cell_type": "code",
   "execution_count": 38,
   "metadata": {},
   "outputs": [],
   "source": [
    "# clean up\n",
    "os.chdir('/home/matt/etl/bill-metadata')\n",
    "\n",
    "for i in os.listdir():\n",
    "    if i != 'bills-all':\n",
    "        !rm -rf $i"
   ]
  },
  {
   "cell_type": "code",
   "execution_count": 42,
   "metadata": {},
   "outputs": [
    {
     "name": "stdout",
     "output_type": "stream",
     "text": [
      "5172604\t.\n"
     ]
    }
   ],
   "source": [
    "# how much data\n",
    "!du -ks ."
   ]
  },
  {
   "cell_type": "markdown",
   "metadata": {},
   "source": [
    "We have approx. 5GB of metadata"
   ]
  },
  {
   "cell_type": "markdown",
   "metadata": {},
   "source": [
    "This metadata is **very rich**. Some of the things tracked by [FDsys](https://www.gpo.gov/fdsys/) and recorded by ProPublica include:\n",
    "* Bill name, short name(s), sponsor, date and chamber introduced\n",
    "* Co-sponsors and date of cosponsorship\n",
    "* Summary\n",
    "* Actions and amendments\n",
    "* Committees involved\n",
    "* Current status, whether enacted or vetoed"
   ]
  },
  {
   "cell_type": "markdown",
   "metadata": {},
   "source": [
    "As a case study let's look at the first bill introduced in the House during the 115th Congress: the Tax Cuts and Jobs Act."
   ]
  },
  {
   "cell_type": "code",
   "execution_count": 59,
   "metadata": {},
   "outputs": [
    {
     "name": "stdout",
     "output_type": "stream",
     "text": [
      "actions\n",
      "amendments\n",
      "bill_id\n",
      "bill_type\n",
      "by_request\n",
      "committee_reports\n",
      "committees\n",
      "congress\n",
      "cosponsors\n",
      "enacted_as\n",
      "history\n",
      "introduced_at\n",
      "number\n",
      "official_title\n",
      "popular_title\n",
      "related_bills\n",
      "short_title\n",
      "sponsor\n",
      "status\n",
      "status_at\n",
      "subjects\n",
      "subjects_top_term\n",
      "summary\n",
      "titles\n",
      "updated_at\n",
      "url\n",
      "TCJA Sponsor: {'bioguide_id': 'B000755', 'district': '8', 'name': 'Brady, Kevin', 'state': 'TX', 'title': 'Rep', 'type': 'person'}\n"
     ]
    }
   ],
   "source": [
    "with open('bills-all/115/hr/hr1/data.json', 'r') as f:\n",
    "    tcja = json.load(f)\n",
    "\n",
    "for e in tcja:\n",
    "    print(e)\n",
    "\n",
    "print(f'TCJA Sponsor: {tcja[\"sponsor\"]}')"
   ]
  },
  {
   "cell_type": "markdown",
   "metadata": {},
   "source": [
    "To determine whether we need to change the schema and parsing, let's look at the first bill introduced back in the 93rd Congress: The National Health Care Services Reorganization and Financing Act."
   ]
  },
  {
   "cell_type": "code",
   "execution_count": 60,
   "metadata": {},
   "outputs": [
    {
     "name": "stdout",
     "output_type": "stream",
     "text": [
      "actions\n",
      "amendments\n",
      "bill_id\n",
      "bill_type\n",
      "committees\n",
      "congress\n",
      "cosponsors\n",
      "enacted_as\n",
      "history\n",
      "introduced_at\n",
      "number\n",
      "official_title\n",
      "popular_title\n",
      "related_bills\n",
      "short_title\n",
      "sponsor\n",
      "status\n",
      "status_at\n",
      "subjects\n",
      "subjects_top_term\n",
      "summary\n",
      "titles\n",
      "updated_at\n",
      "National Health Care Services Reorganization and Financing Act sponsor: {'district': '2', 'name': 'Ullman, Al', 'state': 'OR', 'thomas_id': '01174', 'title': 'Rep', 'type': 'person'}\n"
     ]
    }
   ],
   "source": [
    "with open('bills-all/93/hr/hr1/data.json', 'r') as f:\n",
    "    hca = json.load(f)\n",
    "    \n",
    "for e in hca:\n",
    "    print(e)\n",
    "\n",
    "print(f'National Health Care Services Reorganization and Financing Act sponsor: {hca[\"sponsor\"]}')"
   ]
  },
  {
   "cell_type": "markdown",
   "metadata": {},
   "source": [
    "These keys mostly overlap, but comparing the two bill objects we can see that person identification (used in the `sponsor` key) switched from the Thomas system to the Bioguide system somewhere between the 93rd and 115th Congresses. We need to analyze the bill JSON files in depth in order to generate a comprehensive schema."
   ]
  },
  {
   "cell_type": "markdown",
   "metadata": {},
   "source": [
    "To start, we need to come up with a high-level list of things we would like to record for each bill, then track the data usability rate for each of these items throughout time. Next, we should also note any changes in record structure for these tracked items, such as the switch from Thomas identifiers to Bioguide identifiers."
   ]
  },
  {
   "cell_type": "code",
   "execution_count": 64,
   "metadata": {},
   "outputs": [
    {
     "data": {
      "text/html": [
       "<h3><code>bill_id</code></h3>"
      ],
      "text/plain": [
       "<IPython.core.display.HTML object>"
      ]
     },
     "metadata": {},
     "output_type": "display_data"
    },
    {
     "name": "stdout",
     "output_type": "stream",
     "text": [
      "93rd:   hr1-93\n",
      "115th:  hr1-115\n"
     ]
    },
    {
     "data": {
      "text/html": [
       "<hr>"
      ],
      "text/plain": [
       "<IPython.core.display.HTML object>"
      ]
     },
     "metadata": {},
     "output_type": "display_data"
    },
    {
     "data": {
      "text/html": [
       "<h3><code>bill_type</code></h3>"
      ],
      "text/plain": [
       "<IPython.core.display.HTML object>"
      ]
     },
     "metadata": {},
     "output_type": "display_data"
    },
    {
     "name": "stdout",
     "output_type": "stream",
     "text": [
      "93rd:   hr\n",
      "115th:  hr\n"
     ]
    },
    {
     "data": {
      "text/html": [
       "<hr>"
      ],
      "text/plain": [
       "<IPython.core.display.HTML object>"
      ]
     },
     "metadata": {},
     "output_type": "display_data"
    },
    {
     "data": {
      "text/html": [
       "<h3><code>congress</code></h3>"
      ],
      "text/plain": [
       "<IPython.core.display.HTML object>"
      ]
     },
     "metadata": {},
     "output_type": "display_data"
    },
    {
     "name": "stdout",
     "output_type": "stream",
     "text": [
      "93rd:   93\n",
      "115th:  115\n"
     ]
    },
    {
     "data": {
      "text/html": [
       "<hr>"
      ],
      "text/plain": [
       "<IPython.core.display.HTML object>"
      ]
     },
     "metadata": {},
     "output_type": "display_data"
    },
    {
     "data": {
      "text/html": [
       "<h3><code>cosponsors</code></h3>"
      ],
      "text/plain": [
       "<IPython.core.display.HTML object>"
      ]
     },
     "metadata": {},
     "output_type": "display_data"
    },
    {
     "name": "stdout",
     "output_type": "stream",
     "text": [
      "93rd:   []\n",
      "115th:  [{'bioguide_id': 'B001293', 'district': '8', 'name': 'Bishop, Mike', 'original_cosponsor': True, 'sponsored_at': '2017-11-02', 'state': 'MI', 'title': 'Rep', 'withdrawn_at': None}, {'bioguide_id': 'B001273', 'district': '6', 'name': 'Black, Diane', 'original_cosponsor': True, 'sponsored_at': '2017-11-02', 'state': 'TN', 'title': 'Rep', 'withdrawn_at': None}, {'bioguide_id': 'B001260', 'district': '16', 'name': 'Buchanan, Vern', 'original_cosponsor': True, 'sponsored_at': '2017-11-02', 'state': 'FL', 'title': 'Rep', 'withdrawn_at': None}, {'bioguide_id': 'C001107', 'district': '26', 'name': 'Curbelo, Carlos', 'original_cosponsor': True, 'sponsored_at': '2017-11-02', 'state': 'FL', 'title': 'Rep', 'withdrawn_at': None}, {'bioguide_id': 'H001065', 'district': '2', 'name': 'Holding, George', 'original_cosponsor': True, 'sponsored_at': '2017-11-02', 'state': 'NC', 'title': 'Rep', 'withdrawn_at': None}, {'bioguide_id': 'J000290', 'district': '2', 'name': 'Jenkins, Lynn', 'original_cosponsor': True, 'sponsored_at': '2017-11-02', 'state': 'KS', 'title': 'Rep', 'withdrawn_at': None}, {'bioguide_id': 'J000174', 'district': '3', 'name': 'Johnson, Sam', 'original_cosponsor': True, 'sponsored_at': '2017-11-02', 'state': 'TX', 'title': 'Rep', 'withdrawn_at': None}, {'bioguide_id': 'K000376', 'district': '3', 'name': 'Kelly, Mike', 'original_cosponsor': True, 'sponsored_at': '2017-11-02', 'state': 'PA', 'title': 'Rep', 'withdrawn_at': None}, {'bioguide_id': 'M001158', 'district': '24', 'name': 'Marchant, Kenny', 'original_cosponsor': True, 'sponsored_at': '2017-11-02', 'state': 'TX', 'title': 'Rep', 'withdrawn_at': None}, {'bioguide_id': 'M001181', 'district': '7', 'name': 'Meehan, Patrick', 'original_cosponsor': True, 'sponsored_at': '2017-11-02', 'state': 'PA', 'title': 'Rep', 'withdrawn_at': None}, {'bioguide_id': 'N000184', 'district': None, 'name': 'Noem, Kristi L.', 'original_cosponsor': True, 'sponsored_at': '2017-11-02', 'state': 'SD', 'title': 'Rep', 'withdrawn_at': None}, {'bioguide_id': 'N000181', 'district': '22', 'name': 'Nunes, Devin', 'original_cosponsor': True, 'sponsored_at': '2017-11-02', 'state': 'CA', 'title': 'Rep', 'withdrawn_at': None}, {'bioguide_id': 'P000594', 'district': '3', 'name': 'Paulsen, Erik', 'original_cosponsor': True, 'sponsored_at': '2017-11-02', 'state': 'MN', 'title': 'Rep', 'withdrawn_at': None}, {'bioguide_id': 'R000585', 'district': '23', 'name': 'Reed, Tom', 'original_cosponsor': True, 'sponsored_at': '2017-11-02', 'state': 'NY', 'title': 'Rep', 'withdrawn_at': None}, {'bioguide_id': 'R000578', 'district': '8', 'name': 'Reichert, David G.', 'original_cosponsor': True, 'sponsored_at': '2017-11-02', 'state': 'WA', 'title': 'Rep', 'withdrawn_at': None}, {'bioguide_id': 'R000586', 'district': '16', 'name': 'Renacci, James B.', 'original_cosponsor': True, 'sponsored_at': '2017-11-02', 'state': 'OH', 'title': 'Rep', 'withdrawn_at': None}, {'bioguide_id': 'R000597', 'district': '7', 'name': 'Rice, Tom', 'original_cosponsor': True, 'sponsored_at': '2017-11-02', 'state': 'SC', 'title': 'Rep', 'withdrawn_at': None}, {'bioguide_id': 'R000580', 'district': '6', 'name': 'Roskam, Peter J.', 'original_cosponsor': True, 'sponsored_at': '2017-11-02', 'state': 'IL', 'title': 'Rep', 'withdrawn_at': None}, {'bioguide_id': 'R000570', 'district': '1', 'name': 'Ryan, Paul D.', 'original_cosponsor': True, 'sponsored_at': '2017-11-02', 'state': 'WI', 'title': 'Rep', 'withdrawn_at': None}, {'bioguide_id': 'S001183', 'district': '6', 'name': 'Schweikert, David', 'original_cosponsor': True, 'sponsored_at': '2017-11-02', 'state': 'AZ', 'title': 'Rep', 'withdrawn_at': None}, {'bioguide_id': 'S001172', 'district': '3', 'name': 'Smith, Adrian', 'original_cosponsor': True, 'sponsored_at': '2017-11-02', 'state': 'NE', 'title': 'Rep', 'withdrawn_at': None}, {'bioguide_id': 'S001195', 'district': '8', 'name': 'Smith, Jason', 'original_cosponsor': True, 'sponsored_at': '2017-11-02', 'state': 'MO', 'title': 'Rep', 'withdrawn_at': None}, {'bioguide_id': 'T000462', 'district': '12', 'name': 'Tiberi, Patrick J.', 'original_cosponsor': True, 'sponsored_at': '2017-11-02', 'state': 'OH', 'title': 'Rep', 'withdrawn_at': None}, {'bioguide_id': 'W000813', 'district': '2', 'name': 'Walorski, Jackie', 'original_cosponsor': True, 'sponsored_at': '2017-11-02', 'state': 'IN', 'title': 'Rep', 'withdrawn_at': None}]\n"
     ]
    },
    {
     "data": {
      "text/html": [
       "<hr>"
      ],
      "text/plain": [
       "<IPython.core.display.HTML object>"
      ]
     },
     "metadata": {},
     "output_type": "display_data"
    },
    {
     "data": {
      "text/html": [
       "<h3><code>enacted_as</code></h3>"
      ],
      "text/plain": [
       "<IPython.core.display.HTML object>"
      ]
     },
     "metadata": {},
     "output_type": "display_data"
    },
    {
     "name": "stdout",
     "output_type": "stream",
     "text": [
      "93rd:   None\n",
      "115th:  {'congress': '115', 'law_type': 'public', 'number': '97'}\n"
     ]
    },
    {
     "data": {
      "text/html": [
       "<hr>"
      ],
      "text/plain": [
       "<IPython.core.display.HTML object>"
      ]
     },
     "metadata": {},
     "output_type": "display_data"
    },
    {
     "data": {
      "text/html": [
       "<h3><code>introduced_at</code></h3>"
      ],
      "text/plain": [
       "<IPython.core.display.HTML object>"
      ]
     },
     "metadata": {},
     "output_type": "display_data"
    },
    {
     "name": "stdout",
     "output_type": "stream",
     "text": [
      "93rd:   1973-01-03\n",
      "115th:  2017-11-02\n"
     ]
    },
    {
     "data": {
      "text/html": [
       "<hr>"
      ],
      "text/plain": [
       "<IPython.core.display.HTML object>"
      ]
     },
     "metadata": {},
     "output_type": "display_data"
    },
    {
     "data": {
      "text/html": [
       "<h3><code>number</code></h3>"
      ],
      "text/plain": [
       "<IPython.core.display.HTML object>"
      ]
     },
     "metadata": {},
     "output_type": "display_data"
    },
    {
     "name": "stdout",
     "output_type": "stream",
     "text": [
      "93rd:   1\n",
      "115th:  1\n"
     ]
    },
    {
     "data": {
      "text/html": [
       "<hr>"
      ],
      "text/plain": [
       "<IPython.core.display.HTML object>"
      ]
     },
     "metadata": {},
     "output_type": "display_data"
    },
    {
     "data": {
      "text/html": [
       "<h3><code>official_title</code></h3>"
      ],
      "text/plain": [
       "<IPython.core.display.HTML object>"
      ]
     },
     "metadata": {},
     "output_type": "display_data"
    },
    {
     "name": "stdout",
     "output_type": "stream",
     "text": [
      "93rd:   A bill to establish a new program of health care delivery and comprehensive health care delivery and comprehensive health care benefits (including catastrophic coverage), to be available to aged persons, and to employed, unemployed, and low-income individuals, at a cost related to their income.\n",
      "115th:  An Act to provide for reconciliation pursuant to titles II and V of the concurrent resolution on the budget for fiscal year 2018.\n"
     ]
    },
    {
     "data": {
      "text/html": [
       "<hr>"
      ],
      "text/plain": [
       "<IPython.core.display.HTML object>"
      ]
     },
     "metadata": {},
     "output_type": "display_data"
    },
    {
     "data": {
      "text/html": [
       "<h3><code>popular_title</code></h3>"
      ],
      "text/plain": [
       "<IPython.core.display.HTML object>"
      ]
     },
     "metadata": {},
     "output_type": "display_data"
    },
    {
     "name": "stdout",
     "output_type": "stream",
     "text": [
      "93rd:   None\n",
      "115th:  None\n"
     ]
    },
    {
     "data": {
      "text/html": [
       "<hr>"
      ],
      "text/plain": [
       "<IPython.core.display.HTML object>"
      ]
     },
     "metadata": {},
     "output_type": "display_data"
    },
    {
     "data": {
      "text/html": [
       "<h3><code>short_title</code></h3>"
      ],
      "text/plain": [
       "<IPython.core.display.HTML object>"
      ]
     },
     "metadata": {},
     "output_type": "display_data"
    },
    {
     "name": "stdout",
     "output_type": "stream",
     "text": [
      "93rd:   National Health Care Services Reorganization and Financing Act\n",
      "115th:  Tax Cuts and Jobs Act\n"
     ]
    },
    {
     "data": {
      "text/html": [
       "<hr>"
      ],
      "text/plain": [
       "<IPython.core.display.HTML object>"
      ]
     },
     "metadata": {},
     "output_type": "display_data"
    },
    {
     "data": {
      "text/html": [
       "<h3><code>sponsor</code></h3>"
      ],
      "text/plain": [
       "<IPython.core.display.HTML object>"
      ]
     },
     "metadata": {},
     "output_type": "display_data"
    },
    {
     "name": "stdout",
     "output_type": "stream",
     "text": [
      "93rd:   {'district': '2', 'name': 'Ullman, Al', 'state': 'OR', 'thomas_id': '01174', 'title': 'Rep', 'type': 'person'}\n",
      "115th:  {'bioguide_id': 'B000755', 'district': '8', 'name': 'Brady, Kevin', 'state': 'TX', 'title': 'Rep', 'type': 'person'}\n"
     ]
    },
    {
     "data": {
      "text/html": [
       "<hr>"
      ],
      "text/plain": [
       "<IPython.core.display.HTML object>"
      ]
     },
     "metadata": {},
     "output_type": "display_data"
    },
    {
     "data": {
      "text/html": [
       "<h3><code>status</code></h3>"
      ],
      "text/plain": [
       "<IPython.core.display.HTML object>"
      ]
     },
     "metadata": {},
     "output_type": "display_data"
    },
    {
     "name": "stdout",
     "output_type": "stream",
     "text": [
      "93rd:   REFERRED\n",
      "115th:  ENACTED:SIGNED\n"
     ]
    },
    {
     "data": {
      "text/html": [
       "<hr>"
      ],
      "text/plain": [
       "<IPython.core.display.HTML object>"
      ]
     },
     "metadata": {},
     "output_type": "display_data"
    },
    {
     "data": {
      "text/html": [
       "<h3><code>subjects</code></h3>"
      ],
      "text/plain": [
       "<IPython.core.display.HTML object>"
      ]
     },
     "metadata": {},
     "output_type": "display_data"
    },
    {
     "name": "stdout",
     "output_type": "stream",
     "text": [
      "93rd:   ['Advisory bodies', 'Comprehensive health care', 'Government operations and politics', 'Health', 'Health insurance', 'Medical care, personnel, and facilities', 'Old age, survivors and disability insurance', 'Social welfare', 'States']\n",
      "115th:  ['Accounting and auditing', 'Administrative law and regulatory procedures', 'Adoption and foster care', 'Agricultural equipment and machinery', 'Alaska', 'Alaska Natives and Hawaiians', 'Alcoholic beverages', 'Alternative and renewable resources', 'American Samoa', 'Arctic and polar regions', 'Art, artists, authorship', 'Assault and harassment offenses', 'Aviation and airports', 'Bank accounts, deposits, capital', 'Business expenses', 'Business investment and capital', 'Capital gains tax', 'Caribbean area', 'Charitable contributions', 'Child care and development', 'Civil actions and liability', 'Commodities markets', 'Corporate finance and management', 'Department of the Treasury', 'Disability and paralysis', 'Economic development', 'Elections, voting, political campaign regulation', 'Electric power generation and transmission', 'Employee benefits and pensions', 'Employee hiring', 'Employee leave', 'Employee performance', 'Employment taxes', 'Energy efficiency and conservation', 'Energy revenues and royalties', 'Financial services and investments', 'Foreign and international corporations', 'Gambling', 'Health care costs and insurance', 'Higher education', 'Historic sites and heritage areas', 'Housing finance and home ownership', 'Income tax credits', 'Income tax deductions', 'Income tax deferral', 'Income tax exclusion', 'Income tax rates', 'Inflation and prices', 'Insurance industry and regulation', 'Intellectual property', 'Interest, dividends, interest rates', 'Life, casualty, property insurance', 'Low- and moderate-income housing', 'Marine and coastal resources, fisheries', 'Members of Congress', 'Military personnel and dependents', 'Motor vehicles', 'Museums, exhibitions, cultural centers', 'Nuclear power', 'Oil and gas', 'Poverty and welfare assistance', 'Prescription drugs', 'Public participation and lobbying', 'Puerto Rico', 'Religion', 'Research and development', 'Residential rehabilitation and home repair', 'Rural conditions and development', 'Sales and excise taxes', 'School athletics', 'Securities', 'Separation, divorce, custody, support', 'Sex offenses', 'Small business', 'Social work, volunteer service, charitable organizations', 'Sports and recreation facilities', 'Strategic materials and reserves', 'Student aid and college costs', 'Tax administration and collection, taxpayers', 'Tax reform and tax simplification', 'Tax treatment of families', 'Tax-exempt organizations', 'Taxation', 'Taxation of foreign income', 'Transfer and inheritance taxes', 'U.S. and foreign investments', 'U.S. territories and protectorates', 'Unemployment', \"Veterans' education, employment, rehabilitation\", \"Veterans' loans, housing, homeless programs\", 'Virgin Islands', 'Wages and earnings', 'Wilderness and natural areas, wildlife refuges, wild rivers, habitats', 'Youth employment and child labor']\n"
     ]
    },
    {
     "data": {
      "text/html": [
       "<hr>"
      ],
      "text/plain": [
       "<IPython.core.display.HTML object>"
      ]
     },
     "metadata": {},
     "output_type": "display_data"
    },
    {
     "data": {
      "text/html": [
       "<h3><code>subjects_top_term</code></h3>"
      ],
      "text/plain": [
       "<IPython.core.display.HTML object>"
      ]
     },
     "metadata": {},
     "output_type": "display_data"
    },
    {
     "name": "stdout",
     "output_type": "stream",
     "text": [
      "93rd:   Health\n",
      "115th:  Taxation\n"
     ]
    },
    {
     "data": {
      "text/html": [
       "<hr>"
      ],
      "text/plain": [
       "<IPython.core.display.HTML object>"
      ]
     },
     "metadata": {},
     "output_type": "display_data"
    },
    {
     "data": {
      "text/html": [
       "<h3><code>summary</code></h3>"
      ],
      "text/plain": [
       "<IPython.core.display.HTML object>"
      ]
     },
     "metadata": {},
     "output_type": "display_data"
    },
    {
     "name": "stdout",
     "output_type": "stream",
     "text": [
      "93rd:   {'as': 'Introduced', 'date': '1973-01-03', 'text': \"National Health Care Services Reorganization and Financing Act - Title I: Reorganization of National Health Services - National Health Care Services Reorganization Act - Establishes the Department of Health which shall be headed by a Secretary of Health appointed by the President, by and with the advice and consent of the Senate. Provides for the appointment by the President, by and with the consent of the Senate, of an Under Secretary who shall act for, and exercise the powers of, the Secretary during the absence or disability of the Secretary. States that the Under Secretary shall perform such functions as the Secretary shall from time to time prescribe. Provides that there shall be in the Department seven Assistant Secretaries, a General Counsel, and a Chief Medical Officer who shall be appointed by the President, by and with the advice and consent of the Senate. Transfers to the Secretary and in specified instances to the Chief Medical Officer all functions of the Secretary of Health, Education and Welfare under laws and provisions of law listed in this Act. Provides that within one hundred and eighty days of the effective date of this title the President may transfer to the Secretary any function not transferred to the Secretary by this title, if the Director of the Office of Management and Budget determines that such function relates primarily to functions transferred by this title to the Secretary, or otherwise relates to health. Redesignates the Department of Health, Education and Welfare as the Department of Education and Welfare. Sets forth provisions concerning the administrative functions of the Department of Health. Requires the Secretary to make an annual report in writing to the President for submission to the Congress on the activities of the Department during the preceding fiscal year. Provides that all orders, determinations, rules, regulations, permits, contracts, certificates, licenses and privileges which have been issued under provisions of law transferred by this title and which are in effect at the time this title takes effect shall continue in effect until modified, terminated, superseded, set aside, or repealed by the Secretary, by any court of competent jurisdiction, or by operation of law. Directs the Secretary to submit to the Congress within two years after the effective date of this title a proposed codification of all laws which contain functions transferred to the Secretary. Makes the Secretary responsible for the planning, administration, operation, coordination, and evaluation of all programs transferred to him under this title in addition to the Health Care Program authorized under this Act. Authorizes the Secretary to prescribe such regulations as he deems necessary for the efficient administration of the Act. Establishes a National Health Services Advisory Council which shall consist of the Secretary and twenty members appointed by the Secretary. Sets forth the terms of office of the members of the Council. Authorizes the Council to: (1) advise the Secretary on matters of general policy in the administration of this title and in the formation of regulations, and (2) study the operation of this title and the activities of State Health Commission, Health Care Corporations, and other providers. Requires the Council to make an annual report to the Secretary for transmittal to the Congress. Authorizes the Secretary to provide financial and technical assistance for the early planning, development, establishment, and initial operation of Health Care Corporations, including incentives for the use of the capitation payment method of health care and for the development and improvement of outpatient care centers. States that the Secretary may provide such assistance by means of grants and contracts. Provides that in making such grants and contracts the Secretary shall take into account existing health care resources and health care delivery systems, the relative need of the States and areas within the States for assistance, and the need for an equitable distribution of such assistance. Authorizes the Secretary to make grants to State Health Commissions to facilitate and expedite the submission of State plans to the Secretary as required by this title. Authorizes to be appropriated for planning grants such sums as may be necessary for each of three fiscal years beginning with the fiscal year in which this Act is enacted. Provides for a Federal payment of 90 percent of the sums expended for the proper and efficient administration of an approved State plan. Decreases such payment over a specified time period to 75 percent of the State expenditures. Sets forth penalties for criminal violations of this Act. Declares that States will be in compliance with this Act if: (1) the State has created, within the executive branch of the State government, a State agency headed by a State Health Commission for carrying out the responsibilities devolving upon the State under this Act; (2) there is established in such agency a State Advisory Council; and (3) there is in effect an approved State plan, submitted by the State Health Commission, for carrying out the State's responsibilities under this title. Provides that a State Health Commission shall be composed of three or five members appointed by the Governor of the State for staggered terms which shall be renewable. States that not more than two members of a three-member commission, nor three-members of a five member commission shall be members of the same political party. Declares that it is the sense of the Congress that members of a State Health Commission should be chosen with a view to their ability to bring to the commission highly qualified, effective, and disinterested policy direction. Provides that the Advisory Council to the State Health Commission shall be appointed by the Governor of the State and consist of persons representative of providers and consumers of health care. States that the Council shall consult with the commission in the development and carrying out of the State plan. Requires the State Health Commission of each participating State to conduct a study and survey with a view to the approval of service areas for applicant Health Care Corporations as a basis for the issuance of certificates of approval by the commission, with the objective of affording to all the people in the State equal and ready access to the full range of comprehensive health care of high quality provided for in this title. Provides that a State plan shall make provision for stimulating and encouraging the organization of Health Care Corporations. Authorizes the Secretary to conduct the functions of a State Health Commission through the Department of Health, Education, and Welfare, when such a Commission has not been established in a State under this Act. Provides that the Secretary shall encourage and assist the States and their State Health Commissions in carrying out cooperatively with other States their respective functions, including the making of agreements between States for that purpose with respect to the establishment, admission, and approval of Health Care Corporations, the establishment of joint health care areas and assignment of such corporations thereto, and the exchange of information. Requires the Secretary to develop and encourage the enactment of model State legislation in the fields covered by this title. Defines a Health Care Corporation as a nonprofit private or governmental corporation which is organized for the purpose of furnishing comprehensive and coordinated personal health services to persons registered with the corporation, furnishing personal health services to other persons to the extent authorized by this title, and engaging in educational, research, and other activities incidental or related to the furnishing of personal health services, and which provides effective and equitable representation, on its governing board, of registrants with the corporation and affiliated institutional and professional providers furnishing services on its behalf. Provides that a Health Care Corporation shall assume responsibility for making available and furnishing to each registrant with the corporation all services for which he has Comprehensive Health Care Benefits coverage and which are medically necessary. Provides that services may be provided through an affiliated provider by contract with the Health Care Corporation. Provides that the Corporation shall as rapidly as practicable develop, by affiliation with existing organizations or otherwise, a system of outpatient care centers throughout the approved service area. Provides that a Health Care Corporation shall assume responsibility for the quality of all services furnished by it either through its own facilities and personnel or by providers affiliated or acting under arrangements with it. Provides that a Corporation shall provide an opportunity to all practitioners in an approved service area to furnish services on its behalf, either as members of its professional staff or as affiliated providers. Provides that a Corporation shall develop and keep current a continuing personal health record for each registrant of the corporation. Provides that the corporation shall establish methods by which registrants may express their views with regard to the policies and operation of the corporation, the health needs of the community, and the need for any modification or expansion of the services furnished by the corporation. Provides that in recruitment and registration a Health Care Corporation shall not discriminate on the ground of race, creed, color, national origin, age, sex, occupation, economic status, or condition of health. Provides that the National Health Services Advisory Council shall conduct a full and complete study and investigation of methods of supplying supplemental capital and other funding for Health Care Corporations and related health care organizations in the United States. States that the Council shall give particular consideration to the development of a program which: (1) establishes and utilizes as its basic source of funds a national trust fund; (2) provides for the distribution of amounts in the fund to State health commissions in a manner reflecting population, per capita income, and health care needs; (3) recognizes the need for adequate planning for health care services and facilities; (4) encourages and facilitates the continuing provision of funds for these purposes from sources other than the trust fund; (5) leaves to each State health commission, under general regulations of the Secretary, the determination of how the funds distributed to the commission are to be allocated; and (6) contains or is subject to such other provisions, conditions, and limitations as may be necessary or appropriate to assure that the study will be effectively carried out. Requires the Council, within one year after the effective date of this Act, to submit to the Secretary, for transmission to the Congress, a full and complete report of its study and investigation. Title II: Financing of National Health Services - National Health Care Services Financing Act - Provides, under title II (Old-Age, Survivors, and Disability Insurance) of the Social Security Act, that every employer shall be required to provide benefits under this Act equivalent to the hospital insurance benefits available under title XVIII (Health Insurance for the Aged) of the Social Security Act, to provide Catastrophic Expense Benefits coverage and to provide Comprehensive Health Care Benefits covered under this Act, to each of his employees and for the members of the family of each such employee. Provides, under title IX of the Social Security Act, that every individual who is receiving benefits under any Federal or State unemployment compensation law shall be entitled to coverage for benefits under this Act equivalent to the hospital insurance benefits available under title XVIII of the Social Security Act and Catastrophic Expense Benefits coverage and Comprehensive Expense Benefits coverage under this Act. Authorizes the Secretary to contract for or to subsidize Comprehensive Health Care Benefits to elderly and medically indigent individuals, provided, in the latter case, that entitlement to coverage contracted for by the Secretary shall be subject to the condition that the individual or family concerned contributes to the carriers annual premium charge for such coverage. Allows a tax deduction, under the Internal Revenue Code, to an individual for all of the expenses paid during the taxable year for Comprehensive Health Care Benefits coverage under this Act. Provides that a State shall not be required to provide Medicaid payments to the extent that individuals otherwise entitled thereto are covered by this Act. Provides that coverage of a registrant for Comprehensive Health Care Benefits shall entitle the registrant, with listed exceptions, to have the carrier pay the approved predetermined charges of the Health Care Corporation for services and items furnished to him. Provides a table of Comprehensive Health Care Benefits to be covered by this Act. Provides that the Secretary shall submit to Congress recommendations for the expansion of benefits after the program under this Act is in operation, giving special consideration to the expansion of benefits for dental and vision services based on the availability of resources. Sets forth the requirements to be met by carriers for participation in Comprehensive Health Care Benefits under this Act. Title III: Effective Dates - Provides that the program under this Act shall be fully in operation on and after the first day of the fifth fiscal year which begins after the date of the enactment of this Act.\"}\n",
      "115th:  {'as': 'Public Law', 'date': '2017-12-23T04:59:58Z', 'text': '(This measure has not been amended since the House agreed to the Senate amendment without amendment on December 20, 2017. The summary of that version is repeated here.)\\n\\nThis bill amends the Internal Revenue Code (IRC) to reduce tax rates and modify policies, credits, and deductions for individuals and businesses. It also establishes an oil and gas leasing program for the Coastal Plain of the Arctic National Wildlife Refuge (ANWR) in Alaska.\\n\\n(Unless otherwise specified, provisions referred to in this summary as temporary or as a suspension of an existing provision apply for taxable years beginning after December 31, 2017, and before January 1, 2026.)\\n\\nTITLE I\\n\\nSubtitle A-- Individual Tax Reform\\n\\nPart I--Tax Rate Reform\\n\\n(Sec. 11001) This section temporarily replaces the existing tax brackets (10%, 15%, 25%, 28%, 33%, 35%, and 39.6%) with new brackets (10%, 12%, 22%, 24%, 32%, 35% , 37%) and specifies the income levels that apply for each bracket.\\n\\nThe bill also: (1) modifies the taxation of the unearned income of children, and (2) requires the Department of the Treasury to promulgate due diligence requirements for paid preparers in determining eligibility for a taxpayer to file as a head of household.\\n\\n(Sec. 11002) This section requires the chained Consumer Price Index to be used to index the brackets for inflation.\\n\\nPart II--Deduction For Qualified Business Income Of Pass-Thru Entities\\n\\n(Sec. 11011) This section temporarily allows an individual taxpayer to deduct 20% of qualified business income (i.e., business income of an individual from a partnership, S corporation, or sole proprietorship which is currently taxed using individual income tax rates), including aggregate qualified Real Estate Investment Trust (REIT) dividends, qualified cooperative dividends, and qualified publicly traded partnership income.\\n\\nThe bill specifies formulas for determining the taxpayer\\'s deduction for qualified business income and for determining the deduction for certain agricultural or horticultural cooperatives.\\n\\nThe deduction applies to taxable income, is not used to calculate adjusted gross income (AGI), and is available to taxpayers who do not itemize deductions. Trusts and estates are eligible for the deduction.\\n\\nThe bill phases in a limitation for the deduction when wages exceed $157,500 ($315,000 in the case of a joint return). The bill also phases in a disallowance of the deduction when taxable income with respect to specified service trades or businesses exceeds the limits. The limits are fully phased in when taxable income exceeds the threshold amounts by $50,000 ($100,000 for joint returns).\\n\\nA \"specified service trade or business\" is any trade or business involving the performance of services in the fields of health, law, consulting, athletics, financial services, brokerage services, or any trade or business where the principal asset of such trade or business is the reputation or skill of one or more of its employees or owners, or which involves the performance of services that consist of investing and investment management trading, or dealing in securities, partnership interests, or commodities. The term excludes engineering and architecture services.\\n\\n(Sec. 11012) This section temporarily prohibits taxpayers other than corporations from claiming excess business losses.\\n\\nAn excess business loss for the taxable year is the excess of aggregate deductions of the taxpayer attributable to trades or businesses of the taxpayer (determined without regard to the limitation of the provision), over the sum of aggregate gross income or gain of the taxpayer plus $250,000 (200% of the amount in the case of a joint return). The threshold amount is indexed for inflation after 2018.\\n\\nIn the case of a partnership or S corporation, the provision applies at the partner or shareholder level. Each partner\\'s distributive share and each S corporation shareholder\\'s pro rata share of items of income, gain, deduction, or loss of the partnership or S corporation are taken into account in applying the limitation under the provision for the taxable year of the partner or S corporation shareholder.\\n\\nLosses prohibited under this section are carried forward and treated as part of the taxpayer\\'s net operating loss carryforward in subsequent taxable years.\\n\\nPart III--Tax Benefits For Families And Individuals\\n\\n(Sec. 11021) This section temporarily increases the standard deduction to $24,000 for married individuals filing a joint return, to $18,000 for head-of-household filers, and to $12,000 for all other taxpayers. The amount of the standard deduction is indexed for inflation after 2018 using the chained CPI.\\n\\n(Under current law, the standard deduction for 2017 is $6,350 for single individuals and married individuals filing separate returns, $9,350 for heads of households, and $12,700 for married individuals filing a joint return and surviving spouses.)\\n\\n(Sec. 11022) This section modifies the child tax credit to temporarily: (1) increase the credit to $2,000 ($1,000 under current law) per qualifying child under the age of 17, and (2) allow a $500 nonrefundable credit for each dependent of the taxpayer who is not a qualifying child under age 17.\\n\\nThe credit is phased out at AGI levels of $400,000 for married taxpayers filing joint returns and $200,000 for individuals.\\n\\nThe refundable portion of the credit is limited to $1,400 per qualifying child. In order to receive the credit, a taxpayer must include a Social Security number for each qualifying child for whom the credit is claimed on the tax return. The requirement does not apply to a non-child dependent for whom the $500 non-refundable credit is claimed.\\n\\n(Sec. 11023) This section modifies the deduction for charitable contributions to temporarily increase from 50% to 60% the income-based percentage limitation for contributions of cash to public charities.\\n\\n(Sec. 11024) This section temporarily increases contribution limitations for ABLE accounts with respect to contributions made by the designated beneficiary of the account. (Tax-favored ABLE [Achieving a Better Life Experience] accounts are designed to enable individuals with disabilities to save for and pay for disability-related expenses.)\\n\\nAfter the limit is reached, the designated beneficiary may contribute an additional amount up to the lesser of: (1) the federal poverty line for a one-person household, or (2) the individual\\'s compensation for the taxable year.\\n\\nThe bill also allows the designated beneficiary of an ABLE account to claim the saver\\'s credit for contributions made to his or her account.\\n\\n(Sec. 11025) This section allows funds from qualified tuition programs (known as 529 plans) to be rolled over to an ABLE account without penalty if the ABLE account is owned by the designated beneficiary of the 529 account or a member of the designated beneficiary\\'s family.\\n\\n(Sec. 11026) This section temporarily allows certain members of the Armed Forces in the Sinai Peninsula of Egypt to receive combat zone tax benefits for performing services that qualify for special pay for duty subject to hostile fire or imminent danger.\\n\\n(Sec. 11027) For 2017 and 2018, this section reduces from 10% to 7.5% the AGI threshold that must be exceeded before a taxpayer is allowed to claim an itemized deduction for medical expenses.\\n\\n(Sec. 11028) This section provides tax incentives for areas in which a major disaster was declared by the President under the Robert T. Stafford Disaster Relief and Emergency Assistance Act during calendar year 2016.\\n\\nFor individuals residing in the 2016 disaster areas, the bill allows: (1) exceptions to the 10% penalty for up to $100,000 in early withdrawals from retirement plans, and (2) personal casualty losses exceeding $500 per casualty to be deducted without regard to whether aggregate net losses exceed 10% of a taxpayer\\'s AGI.\\n\\nPart IV--Education\\n\\n(Sec. 11031) This section temporarily modifies the exclusion of student loan discharges from gross income to exclude from gross income certain discharges on account of the death or total and permanent disability of the student.\\n\\n(Sec. 11032) This section allows funds from 529 accounts to be used for expenses for tuition in connection with enrollment or attendance at an elementary or secondary public, private, or religious school.\\n\\nPart V--Deductions And Exclusions\\n\\n(Sec. 11041) This section: (1) suspends the deduction for personal exemptions, (2) modifies the wage withholding rules, (3) and modifies the requirements that determine who is required to file a tax return.\\n\\n(Sec. 11042) This section temporarily limits individual deductions for certain state and local taxes to $10,000 per year ($5,000 for a married taxpayer filing a separate return). The limit does not apply to taxes paid or accrued in carrying on a trade or business or for expenses for the production of income.\\n\\n(Sec. 11043) This section modifies the deduction for home mortgage interest to: (1) limit the deduction to mortgages for a principal residence, (2) temporarily limit the deduction for debt incurred on or before December 15, 2017, to mortgages of up to $750,000 (currently $1 million), and (3) suspend the deduction for interest paid on home equity loans.\\n\\nFor taxable years beginning after 2025, the deduction applies to mortgages of up to $1 million regardless of when the indebtedness was incurred.\\n\\n(Sec. 11044) This section temporarily modifies the deduction for personal casualty and theft losses. A taxpayer may only claim the deduction for a personal casualty loss if the loss is attributable to a federally declared disaster. The bill includes an exception for certain personal casualty losses that do not exceed personal casualty gains.\\n\\n(Sec. 11045) This section suspends all miscellaneous itemized deductions that are subject to the 2% floor under present law.\\n\\n(Sec. 11046) This section suspends the overall limitation on itemized deductions, which currently applies when AGI exceeds a specified amount.\\n\\n(Sec. 11047) This section suspends the exclusion for qualified bicycle commuting reimbursements.\\n\\n(Sec. 11048) This section suspends the exclusion for qualified moving expense reimbursements, with an exception for members of the Armed Forces on active duty who move pursuant to a military order and incident to a permanent change of station.\\n\\n(Sec. 11049) This section suspends the deduction for moving expenses.\\n\\n(Sec. 11050) This section temporarily modifies a provision that limits the deduction for wagering losses to the extent of the gains from such transactions. The bill specifies that \"losses from wagering transactions\" include otherwise deductible expenses incurred in carrying out a wagering transaction (e.g., expenses for traveling to or from a casino).\\n\\n(Sec. 11051) This section repeals the deduction for alimony or separate maintenance payments from the payor spouse and the corresponding inclusion of the payments in the gross income of the recipient spouse.\\n\\nPart VI--Increase In Estate And Gift Tax Exemption\\n\\n(Sec. 11061) This section doubles the estate and gift tax exemption amount for decedents dying or gifts made after December 31, 2017, and before January 1, 2026, by increasing the basic exclusion amount from $5 million to $10 million. (Under current law, the amount is indexed for inflation occurring after 2011.)\\n\\nPart VII--Extension Of Time Limit For Contesting IRS Levy\\n\\n(Sec. 11071) This section extends from nine months to two years the time limit for contesting an Internal Revenue Service (IRS) levy, including the time periods for: (1) returning the monetary proceeds from the sale of property that has been wrongfully levied upon, and (2) bringing a civil action for a wrongful levy.\\n\\nPart VIII--Individual Mandate\\n\\n(Sec. 11081) This section repeals the penalty for individuals who fail to maintain minimum essential health coverage as required by the Patient Protection and Affordable Care Act (commonly referred to as the individual mandate).\\n\\nSubtitle B--Alternative Minimum Tax\\n\\n(Sec. 12001) This section repeals the corporate alternative minimum tax (AMT).\\n\\n(Sec. 12002) This section modifies the AMT credit for corporations to: (1) allow the AMT credit to offset regular tax liability for any taxable year, and (2) make the credit refundable for any taxable year beginning after 2017 and before 2022 in an amount equal to 50% (100% beginning in 2021) of the excess of the minimum tax credit for the taxable year over the amount of the credit allowable for the year against regular tax liability.\\n\\n(Under current law a corporation subject to the AMT in any year is allowed an AMT credit in any subsequent taxable year to the extent that the taxpayer\\'s regular tax liability exceeds its tentative minimum tax in the subsequent year.)\\n\\n(Sec. 12003) This section temporarily increases both the exemption amount and the exemption amount phaseout thresholds for the individual AMT. The exemption amount is increased to $109,400 for married taxpayers filing a joint return (half this amount for married taxpayers filing a separate return), and $70,300 for all other taxpayers (other than estates and trusts). The phaseout thresholds are increased to $1 million for married taxpayers filing a joint return, and $500,000 for all other taxpayers (other than estates and trusts). The amounts are indexed for inflation after 2018.\\n\\nSubtitle C--Business-related Provisions\\n\\nPart I--Corporate Provisions\\n\\n(Sec. 13001) This section reduces the corporate tax rate from a maximum of 35% under the existing graduated rate structure to a flat 21% rate for tax years beginning after 2017. The bill specifies requirements for taxpayers subject to the normalization method of accounting.\\n\\n(Sec. 13002) With respect to the deduction for corporations that receive dividends from other taxable corporations, the bill reduces the 70% dividends received deduction to 50% and the 80% dividends received deduction to 65% to account for the lower corporate tax rate.\\n\\nPart II--Small Business Reforms\\n\\n(Sec. 13101) This section expands the expensing of certain depreciable business assets that is currently permitted under section 179 of the IRC.\\n\\nThe bill modifies section 179 to:\\n\\n increase the maximum amount a taxpayer may expense per year to $1 million (currently $500,000); increase the phaseout threshold for the cost of section 179 property placed in service during the year to $2.5 million (currently $2 million); index the amounts above and the existing $25,000 limit for sport utility vehicles for inflation; revise the definition of qualified real property eligible for section 179 expensing to include any qualified improvement property and certain improvements to nonresidential real property placed in service after the date such property was first placed in service (roofs; heating, ventilation, and air-conditioning property; fire protection and alarm systems; and security systems); and expand the definition of section 179 property to include certain depreciable tangible personal property used predominantly to furnish lodging or in connection with furnishing lodging. (Sec. 13102) This section modifies the accounting rules for small businesses to:\\n\\n expand the group of taxpayers who qualify for the cash accounting method by increasing the limit for the gross receipts test from $5 million to $25 million (adjusted for inflation after 2018), allow any farming C corporation (or farming partnership with a C corporation partner) that meets the gross receipts test to use the cash method of accounting, exempt taxpayers that meet the gross receipts test from certain requirements to account for inventories, expand the exceptions for small businesses from the uniform capitalization rules to include any producer or reseller that meets the gross receipts test, and expand the exception for small construction contracts from the requirement to use the percentage-of-completion method. Part III--Cost Recovery And Accounting Methods\\n\\nSubpart A--Cost Recovery\\n\\n(Sec. 13201) This section temporarily allows increased expensing of the costs of certain business property.\\n\\nThe bill allows 100% expensing for: (1) certain business property acquired and placed in service after September 27, 2017, and before January 1, 2023 (January 1, 2024 for longer production period property and certain aircraft); and (2) specified plants that bear fruits or nuts and are planted or grafted after September 27, 2017, and before January 1, 2023.\\n\\nThe 100% allowance is phased down by 20% per year calendar year for property placed in service, and specified plants planted or grafted, in taxable years beginning after 2022 (after 2023 for longer production period property and certain aircraft).\\n\\nThe bill also:\\n\\n expands the definition of \"qualified property\" eligible for expensing to include certain film, television, and live theatrical productions; removes the requirement that the original use of qualified property must commence with the taxpayer, subject to certain acquisition requirements and anti-abuse rules; and excludes from the definition of \"qualified property\" the property of certain businesses that are not subject to the limitation on interest expenses. (Sec. 13202) This section increases the depreciation limits that apply to luxury automobiles. It also removes computer or peripheral equipment from the definition of listed property that is subject to additional restrictions and substantiation requirements regarding the expense and business usage of the property.\\n\\n(Sec. 13203) This section modifies the depreciation rules for certain farm property to: (1) shorten the recovery period from seven to five years for any machinery or equipment (other than any grain bin, cotton ginning asset, fence, or other land improvement) used in a farming business, the original use of which commences with the taxpayer and is placed in service after December 31, 2017; and (2) repeal the requirement to use the 150% declining balance method for property used in a farming business.\\n\\n(Sec. 13204) This section modifies the applicable recovery periods for depreciating certain real property.\\n\\nThe bill eliminates the separate definitions of qualified leasehold improvement, qualified restaurant, and qualified retail improvement property and applies the straight line method to qualified improvement property. It also modifies the alternative depreciation system (ADS) recovery period for such property.\\n\\n(Under current law, \"qualified improvement property\" is any improvement to an interior portion of a building which is nonresidential real property if such improvement is placed in service after the date such building was first placed in service. It does not include any improvement for which the expenditure is attributable to: the enlargement of the building, any elevator or escalator, or the internal structural framework of the building.)\\n\\nA real property trade or business electing out of the limitation on the deduction for interest must use the ADS to depreciate nonresidential real property, residential rental property, and qualified improvement property.\\n\\n(Sec. 13205) This section requires a farming business electing out of the limitation on the deduction for interest to use the ADS to depreciate any property with a recovery period of 10 years or more.\\n\\n(Sec. 13206) This section adjusts the amortization rules and schedules for certain research and experimentation expenditures.\\n\\n(Sec. 13207) This section allows expensing of certain costs of replanting lost or damaged citrus plants lost by reason of casualty.\\n\\nSubpart B--Accounting Methods\\n\\n(Sec. 13221) This section revises the rules associated with the timing of the recognition of income.\\n\\nPart IV--Business-Related Exclusions And Deductions\\n\\n(Sec. 13301) This section limits the deduction for business interest to the sum of: (1) business interest income for the year, (2) 30% of the adjusted taxable income of the taxpayer for the taxable year, and (3) the floor plan financing interest of the taxpayer for the taxable year.\\n\\nThe amount of any business interest not allowed as a deduction for any year may be carried forward indefinitely, with the exception of partnerships which are subject to additional carryforward rules specified in the bill.\\n\\n\"Business interest income\" is the amount of interest includible in the gross income of the taxpayer for the taxable year which is properly allocable to a trade or business. It does not include investment income.\\n\\n\"Floor plan financing interest\" is interest paid on debt used to finance the acquisition of motor vehicles held for sale or lease and secured by the inventory so acquired.\\n\\nThe bill includes exceptions for:\\n\\n small businesses that meet the gross receipts test, the trade or business of performing services as an employee, any electing farming business, any electing real property trade or business, and certain regulated public utilities. (Sec. 13302) This section modifies the net operating loss deduction to: (1) limit the deduction to 80% of taxable income with an exception for property and casualty insurance companies, (2) repeal the two-year and other specified carryback provisions, (3) allow an indefinite carryforward of net operating losses, and (4) allow a two-year carryback for certain losses incurred in the trade or business of farming.\\n\\n(Sec. 13303) This section modifies the rule providing for the nonrecognition of gain in the case of like-kind exchanges to limit the application of the rule to real property that is not held primarily for sale.\\n\\n(Sec. 13304) This section modifies the tax treatment of certain expenses for entertainment and fringe benefits.\\n\\nThe bill denies deductions for amounts paid or incurred for:\\n\\n an activity generally considered to be entertainment, amusement or recreation; membership dues for any club organized for business, pleasure, recreation, or other social purposes; a facility or portion thereof used in connection with any of the above items; providing any qualified transportation fringe to employees of the taxpayer; or providing transportation for commuting between the employee\\'s residence and place of employment, except as necessary for ensuring the safety of the employee. Under current law, taxpayers may deduct 50% of the food and beverage expenses associated with operating their trade or business, subject to certain exceptions. The bill temporarily expands the 50% limitation to include expenses of an employer associated with providing food and beverages through an eating facility that meets the requirements for a de minimis fringe.\\n\\n(Sec. 13305) This section repeals the deduction for income attributable to domestic production activities.\\n\\n(Sec. 13306) This section prohibits deductions for trade or business expenses for any amount paid or incurred (whether by suit, agreement, or otherwise) to, or at the direction of, a government or governmental entity in relation to the violation of any law or the investigation or inquiry by such government or entity into the potential violation of any law.\\n\\nThe bill includes exceptions for amounts constituting restitution or paid to come into compliance with law, amounts paid or incurred as a result of certain court orders, and taxes due.\\n\\nThe bill also establishes reporting requirements for government entities with respect to certain fines, penalties, and other amounts.\\n\\n(Sec. 13307) This section prohibits a tax deduction for trade or business expenses paid or incurred for: (1) any settlement or payment related to sexual harassment or sexual abuse if such settlement or payment is subject to a nondisclosure agreement, or (2) attorney\\'s fees related to such a settlement or payment.\\n\\n(Sec. 13308) This section eliminates the deduction for lobbying expenditures to influence the legislation of any local council or similar governing body, including an Indian tribal government.\\n\\n(Sec. 13309) This section requires a three-year holding period (one year under current law) for certain net long-term capital gains with respect to partnership interests held in connection with the performance of investment services. If the holder of an applicable partnership interest is allocated gain from the sale of property held for less than three years, that gain is treated as short-term capital gain and is taxed as ordinary income.\\n\\n(Sec. 13310) This section prohibits cash, gift cards, and other non-tangible personal property from being considered tax deductible employee achievement awards.\\n\\n(Under current law, tangible personal property may be considered a deductible employee achievement award if other specified requirements are met.)\\n\\nThe bill specifies that \"tangible personal property\" does not include: (1) cash, cash equivalents, gift cards, gift coupons, or gift certificates (other than arrangements conferring only the right to select and receive tangible personal property from a limited array of such items pre-selected or pre-approved by the employer); or (2) vacations, meals, lodging, tickets to theater or sporting events, stocks, bonds, other securities, and other similar items.\\n\\n(Sec. 13311) This section eliminates the deduction for living expenses incurred by Members of Congress. (Under current law, the deduction is limited to $3,000 per year.)\\n\\n(Sec. 13312) This section modifies the exclusion from gross income for contributions to the capital of a corporation to specify that a contribution to capital does not include a contribution: (1) in aid of construction or any other contribution as a customer or potential customer, or (2) by any governmental entity or civic group (other than a contribution made by a shareholder as such).\\n\\nThe bill includes an exception for certain contributions made by a governmental entity pursuant to a master development plan.\\n\\n(Sec. 13313) This section repeals a provision that permits the tax-free rollover of certain gains from the sale of publicly traded securities into common stock or a partnership interest in a specialized small business investment company.\\n\\n(Sec. 13314) This section excludes certain patents, inventions, models, designs, secret formulas, or processes created by the taxpayer from the definition of a \\'\\'capital asset.\\'\\'\\n\\nPart V--Business Credits\\n\\n(Sec. 13401) This section modifies the tax credit for clinical testing expenses incurred in testing certain drugs for rare diseases or conditions (commonly referred to as orphan drugs) to reduce the credit rate to 25% (currently 50%) of qualified clinical testing expenses.\\n\\n(Sec. 13402) This section modifies the tax credit for rehabilitation expenditures to repeal the 10% credit for rehabilitated buildings other than a certified historic structure.\\n\\nThe bill retains and modifies the 20% credit for rehabilitation expenditures for certified historic structures. For the five-year period beginning in the year in which a qualified rehabilitated building is placed in service, the credit is equal to the ratable share for each year, which is 20% of the qualified rehabilitation expenditures with respect to the building, as allocated ratably to each year during the period.\\n\\n(Sec. 13403) This section allows employers to claim a general business credit equal to 12.5% of wages paid to employees during any period in which such employees are on family and medical leave if the rate of payment under the program is 50% of the wages normally paid to an employee.\\n\\nThe credit is increased by 0.25% (but not above 25%) for each percentage point by which the rate of payment exceeds 50%. The maximum amount of family and medical leave that may be taken into account with respect to any employee for any taxable year is 12 weeks.\\n\\n(Sec. 13404) This section repeals the authority to issue tax-credit bonds and direct-pay bonds.\\n\\nPart VI--Provisions Related To Specific Entities And Industries\\n\\nSubpart A--Partnership Provisions\\n\\n(Sec. 13501) This section sets forth requirements for the tax treatment of gains or losses of foreign persons from the sale or exchange of interests in partnerships engaged in trade or business within the United States.\\n\\nUnder the bill, gain or loss from the sale or exchange of a partnership interest is effectively connected with a U.S. trade or business to the extent that the transferor would have had effectively connected gain or loss had the partnership sold all of its assets at fair market value as of the date of the sale or exchange.\\n\\nA partner\\'s distributive share of gain or loss on the deemed sale must be determined in the same manner as the partner\\'s distributive share of the non-separately stated taxable income or loss of the partnership.\\n\\nThe bill also sets forth withholding requirements with respect to amounts realized from the sale or exchange of a partnership interest.\\n\\n(Sec. 13502) This section modifies the definition of \"substantial built-in loss\" with respect to the transfer of an interest in partnership. The bill specifies that \"a substantial built-in loss\" also exists if the transferee partner would be allocated a loss of more than $250,000 if the partnership assets were sold for cash equal to their fair market value immediately after such transfer.\\n\\n(Sec. 13503) This section modifies the basis limitation on a partner\\'s distributive share of a partnership loss to require a partner\\'s distributive share of partnership charitable contribution and taxes paid or accrued to foreign countries and U.S. possessions to be taken into account in determining the limitation.\\n\\n(Sec. 13504) This section repeals the rule that provides for a technical termination of partnerships if, within any 12-month period, there is a sale or exchange of 50% or more of the total interest in partnership capital and profits.\\n\\nSubpart B--Insurance Reforms\\n\\n(Sec. 13511) This section repeals the operations loss deduction for life insurance companies and allows the net operating loss deduction under section 172 of the IRC.\\n\\n(Sec. 13512) This section repeals the small life insurance company deduction.\\n\\n(Sec. 13513) This section revises the tax treatment of income or loss resulting from a change in the method of computing life insurance company reserves. The bill eliminates the 10-year period for taking into account the changes and requires the changes to be taken into account as adjustments attributable to a change in the method of accounting.\\n\\n(Sec. 13514) This section repeals the special rule for distributions to shareholders of a stock life insurance company from a pre-1984 policyholders surplus account, which provides that amounts in the account are not taxed unless the amounts are treated as distributed to shareholders or subtracted from the account. The bill requires a life insurance company with such an account to pay taxes on the balance of the account ratably over the first eight taxable years beginning after December 31, 2017.\\n\\n(Sec. 13515) This section modifies the proration rules for property and casualty insurance companies to replace the 15% reduction with a reduction equal to 5.25% divided by the highest corporate tax rate in effect. (Under the top corporate rate of 21% that takes effect in 2018, the proration percentage is 25%.)\\n\\n(Under the proration rules, in calculating the deductible amount of its reserve for losses incurred, a property or casualty insurance company must reduce the amount of the losses incurred by a specified percentage of: (1) the insurer\\'s tax-exempt interest, (2) the deductible portion of dividends received, and (3) the increase for the taxable year in the cash value of life insurance, endowment, or annuity contracts the company owns.)\\n\\n(Sec. 13516) This section repeals the special estimated tax payment rules for insurance companies.\\n\\n(Sec. 13517) This section modifies the rules for computing life insurance tax reserves that are used in determining the taxable income of a life insurance company.\\n\\n(Sec. 13518) This section modifies the life insurance company proration rule for reducing dividends received deductions and reserve deductions with respect to untaxed income. For purposes of the life insurance proration rule, the company\\'s share is 70% and the policyholder\\'s share is 30%.\\n\\n(Sec. 13519) This section modifies the requirements for the capitalization of policy acquisition expenses of insurance companies to extend the amortization period from 120 months to 180 months.\\n\\nUnder current law, policy acquisition expenses are determined as that portion of the insurance company\\'s general deductions for the taxable year that does not exceed a specified percentage of the net premiums for the year on each of three categories of insurance contracts.\\n\\nThe bill increases these percentages from 1.75% to 2.09% for annuity contracts, from 2.05% to 2.45% for group life insurance contracts, and from 7.7% to 9.2% for all other specified insurance contracts.\\n\\n(Sec. 13520) This section establishes reporting requirements for acquisitions of life insurance contracts in a reportable policy sale. It also imposes reporting requirements on the payor in the case of the payment of reportable death benefits.\\n\\nA \"reportable policy sale\" is the acquisition of an interest in a life insurance contract, directly or indirectly, if the acquirer has no substantial family, business, or financial relationship with the insured apart from the acquirer\\'s interest in such life insurance contract.\\n\\n(Sec. 13521) This section sets forth requirements for the determining the basis of a life insurance or annuity contract. The bill specifies that no basis adjustment shall be made for mortality, expense, or other reasonable charges incurred under an annuity or life insurance contract.\\n\\n(Sec. 13522) This section exempts the transfer of a life insurance contract, or any interest therein, in a reportable policy sale from the transfer for valuable consideration rule.\\n\\n(Under current law, the transfer for valuable consideration rule provides that, if a life insurance contract or an interest in a contract is transferred for a valuable consideration, the tax exclusion for amounts received under a life insurance contract due to the death of the insured is limited to the sum of the actual value of the consideration and the premiums and other amounts subsequently paid by the transferee.)\\n\\n(Sec. 13523) This section modifies the reserve discounting rules applicable to property and casualty insurance companies to: (1) modify the interest rate used to discount unpaid losses, (2) modify the computational rules for loss payment pattern, and (3) repeal the election to use a taxpayer\\'s historical loss payment pattern.\\n\\nSubpart C--Banks and Financial Instruments\\n\\n(Sec. 13531) This section limits the deduction for Federal Deposit Insurance Corporation premiums for certain financial institutions with consolidated assets that exceed $10 billion.\\n\\n(Sec. 13532) This section repeals the exclusion from gross income for interest on a bond issued to advance refund another bond.\\n\\nSubpart D--S Corporations\\n\\n(Sec. 13541) This section allows a nonresident alien individual to be a qualifying beneficiary of an electing small business trust (ESBT), which is a type of trust that is permitted to hold shares in an S corporation.\\n\\n(Sec. 13542) This section specifies that the charitable contribution deduction of an ESBT is determined by the rules applicable to individuals rather than the rules applicable to trusts, except that the deductions for costs which are paid or incurred in connection with the administration of the trust and which would not have been incurred if the property were not held in such trust shall be treated as allowable in arriving at adjusted gross income.\\n\\n(Sec. 13543) This section modifies the tax treatment of S corporation conversions to C corporations.\\n\\nPart VII--Employment\\n\\nSubpart A--Compensation\\n\\n(Sec. 13601) This section modifies a provision that limits the deduction for compensation of covered employees of a publicly held corporation to salaries of no more than $1 million per year. The bill: (1) repeals the performance-based compensation and commission exceptions, (2) modifies the definition of \"covered employee,\" and (3) expands the definition of \"publicly held corporation.\"\\n\\nThe bill includes an exception for compensation that is provided pursuant to a written binding contract which was in effect on November 2, 2017, and which was not modified in any material respect on or after such date.\\n\\n(Sec. 13602) This section imposes an excise tax on excess tax-exempt organization executive compensation. The tax is equal to the product of the corporate tax rate (21% under this bill) and the sum of: (1) any remuneration (other than an excess parachute payment) in excess of $1 million paid to a covered employee by an applicable tax-exempt organization for a taxable year, and (2) any excess parachute payment (separation pay), as specified in the bill.\\n\\n(Sec. 13603) This section allows qualified employees to elect to defer, for income tax purposes, income attributable to certain stock transferred to the employee by an employer.\\n\\nEmployees are excluded if they: (1) are a 1% owner, the chief executive officer, or the chief financial officer of the corporation or have been at any time during the 10 preceding calendar years; (2) are a family member of the specified individuals; or (3) is one of the four highest compensated officers of the corporation or has been during any of the 10 preceding taxable years.\\n\\n(Sec. 13604) This section increases from 15% to 20% the excise tax imposed on the value of stock compensation held by insiders of an expatriated corporation.\\n\\nSubpart B--Retirement Plans\\n\\n(Sec. 13611) This section repeals the rule that allows Individual Retirement Arrangement (IRA) contributions to one type of IRA (traditional or Roth) to be recharacterized as a contribution to the other type of IRA.\\n\\n(Sec. 13612) This section increases the limit on accruals that is required for length of service award plans (LOSAPs) for bona fide volunteers to be exempt from treatment as a deferred compensation plan.\\n\\n(Under current law, plans paying solely length of service awards to bona fide volunteers or their beneficiaries on the account of firefighting and prevention services, emergency medical services, and ambulance services performed by the volunteers are not treated as deferred compensation plans if they meet certain requirements. One of the requirements is a limit on the aggregate amount of length of service awards that may accrue with respect to any year of service for any bona fide volunteer.)\\n\\nThe bill modifies the limit on accruals to: (1) increase the limit from $3,000 to $6,000; and(2) provide for a cost-of-living adjustment to the limit after 2017.\\n\\nIn the case of LOSAPs that are defined benefit plans, the limit applies to the actuarial present value of the aggregate amount of length of service awards accruing with respect to any year of service. Actuarial present value is to be calculated using reasonable actuarial assumptions and methods, assuming payment will be made under the most valuable form of payment under the plan with payment commencing at the later of the earliest age at which unreduced benefits are payable under the plan or the participant\\'s age at the time of the calculation.\\n\\n(Sec. 13613) This section extends the period during which a qualified plan loan offset amount may be contributed to an eligible retirement plan as a rollover contribution. A \"qualified plan loan offset amount\" is a plan loan offset amount that is treated as distributed from a qualified retirement plan, a section 403(b) plan or a governmental section 457(b) plan solely by reason of the termination of the plan or the failure to meet the repayment terms of the loan because of the severance from employment of the participant.\\n\\nPart VIII--Exempt Organizations\\n\\n(Sec. 13701) This section imposes a 1.4% excise tax on the net investment income of certain private colleges and universities.\\n\\n(Sec. 13702) This section requires tax-exempt organizations with more than one unrelated trade or business to calculate unrelated business taxable income separately with respect to each trade or business and without regard to a specified deduction that applies for certain unrelated business taxable income.\\n\\n(Sec. 13703) This section includes in unrelated business taxable income of a tax-exempt organization any expenses paid or incurred by the organization for certain fringe benefits for which a deduction is not allowed under section 274 of the IRC, including qualified transportation fringe benefits, a parking facility used in connection with qualified parking, or any on-premises athletic facility.\\n\\n(Sec. 13704) This section modifies the deduction for charitable contributions to prohibit a charitable deduction for college athletic event seating rights.\\n\\n(Sec. 13705) This section modifies the deduction for charitable contributions to repeal the exception to substantiation requirements for certain contributions reported by the donee organization.\\n\\nPart IX--Other Provisions\\n\\nSubpart A--Craft Beverage Modernization and Tax Reform\\n\\n(Sec. 13801) This section excludes the aging periods for beer, wine, and distilled spirits from the production period for purposes of the uniform interest capitalization rules, which allows the producers to deduct interest expenses attributable to a shorter production period. This section does not apply to interest costs paid or accrued after December 31, 2019.\\n\\n(Sec. 13802) This section lowers the excise tax rate on beer to $16 per barrel on the first six million barrels brewed by the brewer or imported by the importer.\\n\\nFor barrels of beer that have been brewed or produced outside of the United States and imported into the United States, the reduced tax rate may be assigned by the brewer to the importer, subject to specified requirements.\\n\\n(Sec. 13803) This section allows the transfer of beer between bonded facilities without payment of tax if specified requirements are met.\\n\\n(Sec. 13804) This section modifies the credit against the excise tax on wine for small domestic for 2018 and 2019 to:\\n\\n make the credit available to all wine producers and importers by removing the 250,000 wine gallon domestic production limitation; establish credit rates of: (1) $1.00 per wine gallon for the first 30,000 wine gallons of wine, plus; (2) 90 cents per wine gallon on the next 100,000 wine gallons of wine, plus; (3) 53.5 cents per wine gallon on the next 620,000 wine gallons of wine; establish adjusted credit rates for hard cider; and make sparkling wine producers and importers eligible for the credit. The bill also allows importers of wine produced outside of the United States to assign the credit to the foreign producer, subject to specified requirements.\\n\\n(Sec. 13805) The section modifies the alcohol-by-volume levels of the first two tiers of the excise tax on wine, by changing 14% to 16%. Under the provision, a wine producer or importer may produce or import still wine that has an alcohol-by-volume level of up to 16% and remain subject to the lowest rate of $1.07 per wine gallon.\\n\\n(Sec. 13806) This section specifies definitions for \"mead\" and \"low alcohol by volume wine\" that are eligible to be taxed at the lowest applicable rate for still wine.\\n\\n(Sec. 13807) This section reduces the excise tax rate for certain distilled spirits in 2018 and 2019 to: $2.70 per proof gallon on the first 100,000 proof gallons, $13.34 for all proof gallons in excess of that amount but below 22,130,000 proof gallons, and $13.50 for amounts thereafter.\\n\\nMembers of the same controlled group may not receive the lower rate on more than 100,000 proof gallons of distilled spirits. Importers of distilled spirits are eligible for the lower rates.\\n\\n(Sec. 13808) This section allows distillers to transfer spirits in approved containers other than bulk containers in bond without payment of tax. This provision applies to distilled spirits transferred in bond after December 31, 2017, and before January 1, 2020.\\n\\nSubpart B--Miscellaneous Provisions\\n\\n(Sec. 13821) This section modifies the tax treatment of Alaska Native Settlement Trusts, to: (1) allow an Alaska Native Corporation to assign certain payments referenced in the Alaska Native Claims Settlement Act to a trust without including the payments in the gross income of the corporation, (2) allow the corporation to elect annually to deduct contributions made to a trust, (3) allow a trust to elect to defer the recognition of gains related to contributions of property other than cash until the sale or exchange of the property, and (4) establish information reporting requirements for deductible contributions to a trust.\\n\\n(Sec. 13822) This section exempts certain payments related to the management of private aircraft from the excise taxes imposed on taxable transportation by air.\\n\\n(Sec. 13823) This section authorizes the designation of opportunity zones in low-income communities and provides various tax incentives for investments in the zones. Taxpayers may temporarily defer the recognition of capital gains that are invested in opportunity zones. Investments in opportunity zones or opportunity funds that are held for at least five years are eligible for capital gains tax reductions or exemptions, depending on how long the investment is held.\\n\\nSubtitle D--International Tax Provisions\\n\\nUnder current law, the earnings of foreign subsidiaries of U.S. multinational corporations are not taxed until the income is repatriated (paid as dividends) into the United States. The corporations are allowed a tax credit against U.S. taxes for taxes paid to foreign jurisdictions. This subtitle establishes a territorial system in which foreign source income is not subject to regular U.S. taxes.\\n\\nPart I--Outbound Transactions\\n\\nSubpart A--Establishment of Participation Exemption System for Taxation of Foreign Income\\n\\n(Sec. 14101) This section establishes a participation exemption system for foreign income. Under the system, the bill allows a 100% deduction for the foreign-source portion of dividends received from specified 10% owned foreign corporations by domestic corporations that are U.S. shareholders of those foreign corporations.\\n\\nA \"specified 10% owned foreign corporation\" is any foreign corporation with respect to which any domestic corporation is a U.S. shareholder. It does not include a passive foreign investment company that is not a controlled foreign corporation (CFC).\\n\\nNo foreign tax credit or deduction is allowed for any taxes paid or accrued with respect to any dividend for which a deduction is allowed under this section.\\n\\nThe bill establishes a one-year holding period requirement for dividends of a domestic corporation to be eligible for a participation dividends received deduction.\\n\\n(Sec. 14102) This section sets forth requirements for the tax treatment of sales or transfers involving specified 10% owned foreign corporations, including (1) sales by U.S. persons of stock, (2) required reductions in the basis of certain foreign stock, and (3) sales by a CFC of a lower-tier CFC, (4) foreign branch loess transferred to specified 10% owned foreign corporations, and (5) the repeal of the active trade or business exception.\\n\\n(Sec. 14103) This section specifies rules for the tax treatment of deferred foreign income upon transition to the participation exemption system of taxation.\\n\\nFor the last taxable year of a deferred foreign income corporation which begins before January 1, 2018, U.S. shareholders of deferred foreign income corporations must include as subpart F income a pro rata share of the accumulated post-1986 deferred foreign income of the corporation.\\n\\nThe bill allows a deduction for a portion of the pro rata share of foreign earnings. The bill also disallows a corresponding portion of the credit for foreign taxes.\\n\\nThe total amount of deductions permitted is the amount necessary to result in tax rates of 15.5% for accumulated post-1986 foreign earnings held in the form of cash or cash equivalents and 8% rate for all other earnings.\\n\\nThe tax may be paid in installments over eight years.\\n\\nThe bill specifies rules for applying this provision to S corporations and real estate investment trusts.\\n\\nSubpart B--Rules Related to Passive and Mobile Income\\n\\nChapter 1--Taxation Of Foreign-Derived Intangible Income And Global Intangible Low-Taxed Income\\n\\n(Sec. 14201) This section requires a U.S. shareholder of any CFC for any taxable year to include in gross income the shareholder\\'s global intangible low-taxed income for the year. The bill specifies a formula and requirements for calculating global intangible low-taxed income.\\n\\n(Sec. 14202) This section allows deductions for domestic corporations for specified portions of the corporation\\'s foreign-derived intangible income and global intangible low-taxed income, using specified formulas and definitions included in the bill.\\n\\nChapter 2--Other Modifications Of Subpart F Provisions\\n\\n(Sec. 14211) This section repeals provisions that treat foreign base company oil related income as category of subpart F income.\\n\\n(Sec. 14212) This section repeals the requirement for a U.S. shareholder in a CFC that invested previously excluded subpart F income in foreign base company shipping operations to include in income a pro rata share of the previously excluded subpart F income when the CFC decreases the investments\\n\\n(Sec. 14213) This section modifies the stock attribution rules for determining status as a CFC. Certain stock of a foreign corporation owned by a foreign person must be attributed to a related U.S. person for purposes of determining whether the related U.S. person is a U.S. shareholder of the foreign corporation.\\n\\n(Sec. 14214) This section expands the definition of U.S. shareholder under subpart F to include any U.S. person who owns 10% or more of the total value of shares of all classes of stock of a foreign corporation.\\n\\n(Sec. 14215) This section eliminates the requirement for a corporation to be controlled for an uninterrupted period of 30 days before subpart F inclusions apply.\\n\\nChapter 3--Prevention Of Base Erosion\\n\\n(Sec. 14221) This section modifies terms and valuation methods that apply to transfers of intangible property. The bill modifies the definition of \"intangible property\" to include: (1) any goodwill, going concern value, or workforce in place (including its composition and terms and conditions [contractual or otherwise] of its employment); or (2) any other item the value or potential value of which is not attributable to tangible property or the services of any individual.\\n\\nThe bill removes a requirement that the item have substantial value independent of the services of an individual to be considered intangible property.\\n\\nThe bill specifies authorities and requirements for Treasury to specify the method to be used to determine the valuation of transfers of intangible property.\\n\\n(Sec. 14222) This section denies a deduction for any disqualified related party amount paid or accrued pursuant to a hybrid transaction or by, or to, a hybrid entity.\\n\\nA \"disqualified related party amount\" is any interest or royalty paid or accrued to a related party to the extent that: (1) the amount is not included in the income of such related party under the tax law of the country of which such related party is a resident for tax purposes or is subject to tax, or (2) the related party is allowed a deduction with respect to such amount under the tax law of such country. The term does include any payment to the extent such payment is included in the gross income of a U.S. shareholder under this bill.\\n\\nA \"hybrid transaction\" is any transaction, series of transactions, agreement, or instrument one or more payments with respect to which are treated as interest or royalties under this bill and which are not so treated for purposes the tax law of the foreign country of which the recipient of such payment is resident for tax purposes or is subject to tax.\\n\\nA \"hybrid entity\" is any entity which is either: (1) treated as fiscally transparent under this bill but not for the purposes of the tax law of the foreign country of which the entity is a resident for tax purposes or is subject to tax, or (2) treated as fiscally transparent for purposes of such tax law but not so treated for purposes of this bill\\n\\n(Sec. 14223) Shareholders who receive dividends from a foreign corporation that first becomes a surrogate corporation after enactment of this bill are ineligible for the reduced rates for qualified dividends.\\n\\nSubpart C--Modifications Related to Foreign Tax Credit System\\n\\n(Sec. 14301) This section repeals the deemed-paid credit with respect to dividends received by a domestic corporation that owns 10% or more of the voting stock of a foreign corporation. The bill allows a deemed-paid credit with respect to any income inclusion under subpart F. The credit is limited to the amount of foreign income taxes properly attributable to the subpart F inclusion.\\n\\n(Sec. 14302) This section requires foreign branch income to be allocated to a specific foreign tax credit basket. Foreign branch income is the business profits of a U.S. person which are attributable to one or more qualified business units in one or more foreign countries.\\n\\n(Sec. 14303) This section requires gains, profits, and income from the sale or exchange of inventory property produced partly in, and partly outside, the United States to be allocated and apportioned between sources within and without the United States solely on the basis of the production activities with respect to the property.\\n\\n(Sec. 14304) This section allows an election to increase the percentage (but not greater than 100%) of domestic taxable income offset by any pre-2018 unused overall domestic loss and recharacterized as foreign source.\\n\\nA \"Pre-2018 unused overall domestic loss\\'\\' is any overall domestic loss which: (1) arises in a qualified taxable year beginning before January 1, 2018, and (2) has not been used under the general rule for the recharacterization of overall domestic loss.\\n\\nPart II--Inbound Transactions\\n\\n(Sec. 14401) This section imposes on each applicable taxpayer for any taxable year a tax equal to the base erosion minimum tax amount for the taxable year and specifies a formula for calculating the tax.\\n\\nAn \"applicable taxpayer\" is a taxpayer who: (1) is a corporation other than a regulated investment company, a real estate investment trust, or an S corporation; (2) has average annual gross receipts of at least $500 million for the three-year period ending with the preceding year; and (3) has a base erosion percentage, as determined using a specified formula, of at least 3% (2% for certain banks and securities dealers).\\n\\nPart III--Other Provisions\\n\\n(Sec. 14501) This section modifies the exception from the passive foreign investment company rules for insurance businesses. The bill replaces the test based on whether a corporation is predominantly engaged in an insurance business with a test based on the corporation\\'s insurance liabilities.\\n\\n(Sec. 14502) This section specifies that all allocations and apportionments of interest expense must be determined using the adjusted bases of assets rather than on the basis of the fair market value of the assets or gross income.\\n\\nTITLE II\\n\\n(Sec. 20001) The Department of the Interior must establish and administer a competitive oil and gas program for the leasing, development, production, and transportation of oil and gas in and from the Coastal Plain of the Arctic National Wildlife Refuge (ANWR) in Alaska.\\n\\nThe bill specifies that the provision in the Alaska National Interest Lands Conservation Act that prohibits the production of oil and gas from ANWR does not apply to the Coastal Plain.\\n\\nInterior must conduct at least two lease sales within 10 years. Each lease sale must contain: (1) at least 400,000 acres, and (2) areas that have the highest potential for the discovery of hydrocarbons.\\n\\nInterior must also: (1) issue any necessary rights-of-way or easements across the Coastal Plain for the exploration, development, production, or transportation associated with the oil and gas program; and (2) authorize up to 2,000 surface acres of federal land on the Coastal Plain to be covered by production and support facilities during the term of the leases under the oil and gas program.\\n\\n(Sec. 20002) This section amends the Gulf of Mexico Energy Security Act of 2006 to temporarily increase the annual limitation on offshore revenue sharing for the states of Alabama, Louisiana, Mississippi, and Texas from $500 million annually for FY2020 and FY2021, to $650 million annually for those two years.\\n\\n (Sec. 20003) The Department of Energy (DOE) must: (1) draw down and sell seven million barrels of crude oil from the Strategic Petroleum Reserve during FY2026-FY2027, (2) deposit the amounts received from the sale in the Treasury, and (3) stop the drawdown or sale of crude oil after $600 million has been deposited in the Treasury.\\n\\nDOE may not drawdown or sell oil under this section in quantity that would limit the authority to direct a drawdown and sale of petroleum products to address a domestic or international energy supply shortage.'}\n"
     ]
    },
    {
     "data": {
      "text/html": [
       "<hr>"
      ],
      "text/plain": [
       "<IPython.core.display.HTML object>"
      ]
     },
     "metadata": {},
     "output_type": "display_data"
    },
    {
     "data": {
      "text/html": [
       "<h3><code>titles</code></h3>"
      ],
      "text/plain": [
       "<IPython.core.display.HTML object>"
      ]
     },
     "metadata": {},
     "output_type": "display_data"
    },
    {
     "name": "stdout",
     "output_type": "stream",
     "text": [
      "93rd:   [{'as': 'introduced', 'title': 'National Health Care Services Reorganization and Financing Act', 'type': 'short'}, {'as': 'introduced', 'title': 'National Health Care Services Financing Act', 'type': 'short'}, {'as': 'introduced', 'title': 'National Health Care Services Reorganization Act', 'type': 'short'}, {'as': 'introduced', 'title': 'A bill to establish a new program of health care delivery and comprehensive health care delivery and comprehensive health care benefits (including catastrophic coverage), to be available to aged persons, and to employed, unemployed, and low-income individuals, at a cost related to their income.', 'type': 'official'}]\n",
      "115th:  [{'as': 'introduced', 'is_for_portion': False, 'title': 'Tax Cuts and Jobs Act', 'type': 'short'}, {'as': 'introduced', 'is_for_portion': False, 'title': 'Tax Cuts and Jobs Act', 'type': 'short'}, {'as': 'reported to house', 'is_for_portion': False, 'title': 'Tax Cuts and Jobs Act', 'type': 'short'}, {'as': 'reported to house', 'is_for_portion': False, 'title': 'Tax Cuts and Jobs Act', 'type': 'short'}, {'as': 'passed house', 'is_for_portion': False, 'title': 'Tax Cuts and Jobs Act', 'type': 'short'}, {'as': 'passed house', 'is_for_portion': False, 'title': 'Tax Cuts and Jobs Act', 'type': 'short'}, {'as': 'passed senate', 'is_for_portion': True, 'title': 'Tax Cuts and Jobs Act', 'type': 'short'}, {'as': 'conference report', 'is_for_portion': True, 'title': 'Tax Cuts and Jobs Act', 'type': 'short'}, {'as': None, 'is_for_portion': False, 'title': 'An Act to provide for reconciliation pursuant to titles II and V of the concurrent resolution on the budget for fiscal year 2018.', 'type': 'display'}, {'as': None, 'is_for_portion': False, 'title': 'An Act to provide for reconciliation pursuant to titles II and V of the concurrent resolution on the budget for fiscal year 2018.', 'type': 'display'}, {'as': 'introduced', 'is_for_portion': False, 'title': 'To provide for reconciliation pursuant to title II of the concurrent resolution on the budget for fiscal year 2018.', 'type': 'official'}, {'as': 'amended by house', 'is_for_portion': False, 'title': 'To provide for reconciliation pursuant to titles II and V of the concurrent resolution on the budget for fiscal year 2018.', 'type': 'official'}, {'as': 'other bill versions', 'is_for_portion': False, 'title': 'An Act to provide for reconciliation pursuant to titles II and V of the concurrent resolution on the budget for fiscal year 2018.', 'type': 'official'}]\n"
     ]
    },
    {
     "data": {
      "text/html": [
       "<hr>"
      ],
      "text/plain": [
       "<IPython.core.display.HTML object>"
      ]
     },
     "metadata": {},
     "output_type": "display_data"
    },
    {
     "data": {
      "text/html": [
       "<h3><code>updated_at</code></h3>"
      ],
      "text/plain": [
       "<IPython.core.display.HTML object>"
      ]
     },
     "metadata": {},
     "output_type": "display_data"
    },
    {
     "name": "stdout",
     "output_type": "stream",
     "text": [
      "93rd:   2013-02-02T18:15:49-05:00\n",
      "115th:  2018-10-04T13:05:28Z\n"
     ]
    },
    {
     "data": {
      "text/html": [
       "<hr>"
      ],
      "text/plain": [
       "<IPython.core.display.HTML object>"
      ]
     },
     "metadata": {},
     "output_type": "display_data"
    }
   ],
   "source": [
    "for attr in ['bill_id', 'bill_type', 'congress', 'cosponsors', 'enacted_as', 'introduced_at', 'number', 'official_title',\n",
    "             'popular_title', 'short_title', 'sponsor', 'status', 'subjects', 'subjects_top_term', 'summary', 'titles', 'updated_at']:\n",
    "    display(HTML(f'<h3><code>{attr}</code></h3>'))\n",
    "    print(f'93rd:   {hca[attr]}')\n",
    "    print(f'115th:  {tcja[attr]}')\n",
    "    display(HTML('<hr>'))"
   ]
  },
  {
   "cell_type": "markdown",
   "metadata": {},
   "source": [
    "These items indicate it would be a good idea to construct three separate tables: `bills`, `sponsors` (to include sponsorship type, whether primary or co-sponsor), and `titles`.\n",
    "The `bills` table should include all information above not specified as an array or object, including:\n",
    "* `bill_id`\n",
    "* `bill_type`\n",
    "* `congress`\n",
    "* `introduced_at`\n",
    "* `number`\n",
    "* `official_title`\n",
    "* `popular_title`\n",
    "* `short_title`\n",
    "* `status`\n",
    "* `subjects_top_term`\n",
    "* `updated_at`"
   ]
  },
  {
   "cell_type": "markdown",
   "metadata": {},
   "source": [
    "The `sponsors` table should include all objects in the `cosponsors` list along with the `sponsor` object for the bill.\n",
    "\n",
    "The `titles` table should include all objects in the `titles` list.\n",
    "\n",
    "It would be appropriate to build an inverted index for the `summary` data in another database system such as Elasticsearch which is better suited for analyzing free text. We won't do this here, but might come back to it later."
   ]
  },
  {
   "cell_type": "markdown",
   "metadata": {},
   "source": [
    "## Schema building"
   ]
  },
  {
   "cell_type": "code",
   "execution_count": 70,
   "metadata": {},
   "outputs": [],
   "source": [
    "bill_cols = ['bill_id', 'bill_type', 'congress', 'introduced_at', 'number', 'official_title', 'popular_title',\n",
    "             'short_title', 'status', 'subjects_top_term', 'updated_at']"
   ]
  },
  {
   "cell_type": "code",
   "execution_count": 143,
   "metadata": {},
   "outputs": [
    {
     "name": "stdout",
     "output_type": "stream",
     "text": [
      "processed 10000 bills (T+1.9s)\n",
      "processed 20000 bills (T+3.2s)\n",
      "processed 30000 bills (T+4.4s)\n",
      "processed 40000 bills (T+6.1s)\n",
      "processed 50000 bills (T+7.9s)\n",
      "processed 60000 bills (T+9.9s)\n",
      "processed 70000 bills (T+11.8s)\n",
      "processed 80000 bills (T+13.6s)\n",
      "processed 90000 bills (T+14.9s)\n",
      "processed 100000 bills (T+16.1s)\n",
      "processed 110000 bills (T+17.3s)\n",
      "processed 120000 bills (T+19.3s)\n",
      "processed 130000 bills (T+21.1s)\n",
      "processed 140000 bills (T+23.1s)\n",
      "processed 150000 bills (T+25.0s)\n",
      "processed 160000 bills (T+26.4s)\n",
      "processed 170000 bills (T+27.7s)\n",
      "processed 180000 bills (T+29.3s)\n",
      "processed 190000 bills (T+31.2s)\n",
      "processed 200000 bills (T+33.1s)\n",
      "processed 210000 bills (T+34.9s)\n",
      "processed 220000 bills (T+36.8s)\n",
      "processed 230000 bills (T+38.6s)\n",
      "processed 240000 bills (T+40.1s)\n",
      "processed 250000 bills (T+41.8s)\n",
      "processed 260000 bills (T+43.5s)\n",
      "processed 270000 bills (T+45.3s)\n",
      "processed 280000 bills (T+47.1s)\n",
      "processed 290000 bills (T+48.8s)\n",
      "processed 300000 bills (T+50.6s)\n",
      "processed 307444 bills (T+52.1s)\n",
      "finished\n"
     ]
    }
   ],
   "source": [
    "os.chdir('/home/matt/etl/bill-metadata/bills-all')\n",
    "bills = []\n",
    "sponsors = []\n",
    "titles = []\n",
    "start = time.time()\n",
    "i = 0\n",
    "\n",
    "\n",
    "for dirpath, dirnames, filenames in os.walk('.'):\n",
    "    for jsonFile in filter(lambda x: x.lower() == 'data.json', filenames):\n",
    "        billFn = osp.join(dirpath, jsonFile)\n",
    "        with open(billFn, 'r') as f:\n",
    "            billJson = json.load(f)\n",
    "            \n",
    "        billInfo = { col: billJson.get(col, '<UNKNOWN>') for col in bill_cols }\n",
    "        billSponsor = { 'bill_id': billJson.get('bill_id', '<UNKNOWN>'),\n",
    "                        'congress': billJson.get('congress', '<UNKNOWN>'),\n",
    "                        'sponsorship': 'sponsor' }\n",
    "        try:\n",
    "            billSponsor.update(billJson.get('sponsor', {'name': '<UNKNOWN>'}))\n",
    "        except:\n",
    "            if billJson['sponsor'] is None:\n",
    "                billSponsor.update({'name': '<NONE>'})\n",
    "            else:\n",
    "                print(f'Bill {billFn} has bad sponsorship information:', file=sys.stderr)\n",
    "                print(f'{billJson[\"sponsor\"]}', file=sys.stderr)\n",
    "                print('--------------------------------------', file=sys.stderr)\n",
    "        \n",
    "        billCosponsors = []\n",
    "        try:\n",
    "            for cs in billJson['cosponsors']:\n",
    "                cosponsor = { 'bill_id': billJson['bill_id'],\n",
    "                              'congress': billJson['congress'],\n",
    "                              'sponsorship': 'cosponsor' }\n",
    "                cosponsor.update(cs)\n",
    "                billCosponsors.append(cosponsor)\n",
    "        except:\n",
    "            pass\n",
    "        \n",
    "        billTitles = []\n",
    "        try:\n",
    "            for bt in billJson['titles']:\n",
    "                title = { 'bill_id': billJson['bill_id'],\n",
    "                          'congress': billJson['congress'] }\n",
    "                title.update(bt)\n",
    "                billTitles.append(title)\n",
    "        except:\n",
    "            pass\n",
    "        \n",
    "        bills.append(billInfo)\n",
    "        sponsors.extend([billSponsor, *billCosponsors])\n",
    "        titles.extend(billTitles)\n",
    "        \n",
    "        i += 1\n",
    "        if i % 10000 == 0:\n",
    "            print(f'processed {i} bills (T+{np.round(time.time() - start, 1)}s)')\n",
    "print(f'processed {i} bills (T+{np.round(time.time() - start, 1)}s)')\n",
    "print('finished')"
   ]
  },
  {
   "cell_type": "markdown",
   "metadata": {},
   "source": [
    "## EDA"
   ]
  },
  {
   "cell_type": "code",
   "execution_count": 144,
   "metadata": {},
   "outputs": [],
   "source": [
    "bills_df = pd.DataFrame.from_records(bills)"
   ]
  },
  {
   "cell_type": "code",
   "execution_count": 145,
   "metadata": {},
   "outputs": [],
   "source": [
    "sponsors_df = pd.DataFrame.from_records(sponsors)"
   ]
  },
  {
   "cell_type": "code",
   "execution_count": 146,
   "metadata": {},
   "outputs": [],
   "source": [
    "titles_df = pd.DataFrame.from_records(titles)"
   ]
  },
  {
   "cell_type": "markdown",
   "metadata": {},
   "source": [
    "## bills_df"
   ]
  },
  {
   "cell_type": "code",
   "execution_count": 147,
   "metadata": {},
   "outputs": [
    {
     "data": {
      "text/html": [
       "<div>\n",
       "<style scoped>\n",
       "    .dataframe tbody tr th:only-of-type {\n",
       "        vertical-align: middle;\n",
       "    }\n",
       "\n",
       "    .dataframe tbody tr th {\n",
       "        vertical-align: top;\n",
       "    }\n",
       "\n",
       "    .dataframe thead th {\n",
       "        text-align: right;\n",
       "    }\n",
       "</style>\n",
       "<table border=\"1\" class=\"dataframe\">\n",
       "  <thead>\n",
       "    <tr style=\"text-align: right;\">\n",
       "      <th></th>\n",
       "      <th>bill_id</th>\n",
       "      <th>bill_type</th>\n",
       "      <th>congress</th>\n",
       "      <th>introduced_at</th>\n",
       "      <th>number</th>\n",
       "      <th>official_title</th>\n",
       "      <th>popular_title</th>\n",
       "      <th>short_title</th>\n",
       "      <th>status</th>\n",
       "      <th>subjects_top_term</th>\n",
       "      <th>updated_at</th>\n",
       "    </tr>\n",
       "  </thead>\n",
       "  <tbody>\n",
       "    <tr>\n",
       "      <th>0</th>\n",
       "      <td>hjres78-107</td>\n",
       "      <td>hjres</td>\n",
       "      <td>107</td>\n",
       "      <td>2001-12-12</td>\n",
       "      <td>78</td>\n",
       "      <td>Making further continuing appropriations for t...</td>\n",
       "      <td>Continuing Appropriation FY2002 (Seventh)</td>\n",
       "      <td>None</td>\n",
       "      <td>ENACTED:SIGNED</td>\n",
       "      <td>Economics and public finance</td>\n",
       "      <td>2013-02-02T20:51:15-05:00</td>\n",
       "    </tr>\n",
       "    <tr>\n",
       "      <th>1</th>\n",
       "      <td>hjres65-107</td>\n",
       "      <td>hjres</td>\n",
       "      <td>107</td>\n",
       "      <td>2001-09-24</td>\n",
       "      <td>65</td>\n",
       "      <td>Making continuing appropriations for the fisca...</td>\n",
       "      <td>Continuing Appropriation FY2002 (First)</td>\n",
       "      <td>None</td>\n",
       "      <td>ENACTED:SIGNED</td>\n",
       "      <td>Economics and public finance</td>\n",
       "      <td>2013-02-02T20:51:14-05:00</td>\n",
       "    </tr>\n",
       "    <tr>\n",
       "      <th>2</th>\n",
       "      <td>hjres58-107</td>\n",
       "      <td>hjres</td>\n",
       "      <td>107</td>\n",
       "      <td>2001-07-25</td>\n",
       "      <td>58</td>\n",
       "      <td>Proposing an amendment to the Constitution of ...</td>\n",
       "      <td>None</td>\n",
       "      <td>None</td>\n",
       "      <td>REFERRED</td>\n",
       "      <td>Congress</td>\n",
       "      <td>2013-02-02T20:51:14-05:00</td>\n",
       "    </tr>\n",
       "    <tr>\n",
       "      <th>3</th>\n",
       "      <td>hjres22-107</td>\n",
       "      <td>hjres</td>\n",
       "      <td>107</td>\n",
       "      <td>2001-02-27</td>\n",
       "      <td>22</td>\n",
       "      <td>Proposing an amendment to the Constitution of ...</td>\n",
       "      <td>None</td>\n",
       "      <td>None</td>\n",
       "      <td>REFERRED</td>\n",
       "      <td>Crime and law enforcement</td>\n",
       "      <td>2013-02-02T20:51:13-05:00</td>\n",
       "    </tr>\n",
       "    <tr>\n",
       "      <th>4</th>\n",
       "      <td>hjres107-107</td>\n",
       "      <td>hjres</td>\n",
       "      <td>107</td>\n",
       "      <td>2002-07-24</td>\n",
       "      <td>107</td>\n",
       "      <td>To commend Sail Boston for its continuing adva...</td>\n",
       "      <td>None</td>\n",
       "      <td>None</td>\n",
       "      <td>REFERRED</td>\n",
       "      <td>Commemorations</td>\n",
       "      <td>2013-02-02T20:51:16-05:00</td>\n",
       "    </tr>\n",
       "  </tbody>\n",
       "</table>\n",
       "</div>"
      ],
      "text/plain": [
       "        bill_id bill_type congress introduced_at number  \\\n",
       "0   hjres78-107     hjres      107    2001-12-12     78   \n",
       "1   hjres65-107     hjres      107    2001-09-24     65   \n",
       "2   hjres58-107     hjres      107    2001-07-25     58   \n",
       "3   hjres22-107     hjres      107    2001-02-27     22   \n",
       "4  hjres107-107     hjres      107    2002-07-24    107   \n",
       "\n",
       "                                      official_title  \\\n",
       "0  Making further continuing appropriations for t...   \n",
       "1  Making continuing appropriations for the fisca...   \n",
       "2  Proposing an amendment to the Constitution of ...   \n",
       "3  Proposing an amendment to the Constitution of ...   \n",
       "4  To commend Sail Boston for its continuing adva...   \n",
       "\n",
       "                               popular_title short_title          status  \\\n",
       "0  Continuing Appropriation FY2002 (Seventh)        None  ENACTED:SIGNED   \n",
       "1    Continuing Appropriation FY2002 (First)        None  ENACTED:SIGNED   \n",
       "2                                       None        None        REFERRED   \n",
       "3                                       None        None        REFERRED   \n",
       "4                                       None        None        REFERRED   \n",
       "\n",
       "              subjects_top_term                 updated_at  \n",
       "0  Economics and public finance  2013-02-02T20:51:15-05:00  \n",
       "1  Economics and public finance  2013-02-02T20:51:14-05:00  \n",
       "2                      Congress  2013-02-02T20:51:14-05:00  \n",
       "3     Crime and law enforcement  2013-02-02T20:51:13-05:00  \n",
       "4                Commemorations  2013-02-02T20:51:16-05:00  "
      ]
     },
     "execution_count": 147,
     "metadata": {},
     "output_type": "execute_result"
    }
   ],
   "source": [
    "bills_df.head(5)"
   ]
  },
  {
   "cell_type": "code",
   "execution_count": 148,
   "metadata": {},
   "outputs": [
    {
     "data": {
      "text/plain": [
       "True"
      ]
     },
     "execution_count": 148,
     "metadata": {},
     "output_type": "execute_result"
    }
   ],
   "source": [
    "len(bills_df) == bills_df['bill_id'].nunique()  # sanity check, verify that each bill has one unique record"
   ]
  },
  {
   "cell_type": "markdown",
   "metadata": {},
   "source": [
    "## sponsors_df"
   ]
  },
  {
   "cell_type": "code",
   "execution_count": 149,
   "metadata": {},
   "outputs": [
    {
     "data": {
      "text/html": [
       "<div>\n",
       "<style scoped>\n",
       "    .dataframe tbody tr th:only-of-type {\n",
       "        vertical-align: middle;\n",
       "    }\n",
       "\n",
       "    .dataframe tbody tr th {\n",
       "        vertical-align: top;\n",
       "    }\n",
       "\n",
       "    .dataframe thead th {\n",
       "        text-align: right;\n",
       "    }\n",
       "</style>\n",
       "<table border=\"1\" class=\"dataframe\">\n",
       "  <thead>\n",
       "    <tr style=\"text-align: right;\">\n",
       "      <th></th>\n",
       "      <th>bill_id</th>\n",
       "      <th>bioguide_id</th>\n",
       "      <th>congress</th>\n",
       "      <th>district</th>\n",
       "      <th>name</th>\n",
       "      <th>original_cosponsor</th>\n",
       "      <th>sponsored_at</th>\n",
       "      <th>sponsorship</th>\n",
       "      <th>state</th>\n",
       "      <th>thomas_id</th>\n",
       "      <th>title</th>\n",
       "      <th>type</th>\n",
       "      <th>withdrawn_at</th>\n",
       "    </tr>\n",
       "  </thead>\n",
       "  <tbody>\n",
       "    <tr>\n",
       "      <th>0</th>\n",
       "      <td>hjres78-107</td>\n",
       "      <td>NaN</td>\n",
       "      <td>107</td>\n",
       "      <td>10</td>\n",
       "      <td>Young, C.W. Bill</td>\n",
       "      <td>NaN</td>\n",
       "      <td>NaN</td>\n",
       "      <td>sponsor</td>\n",
       "      <td>FL</td>\n",
       "      <td>01255</td>\n",
       "      <td>Rep</td>\n",
       "      <td>person</td>\n",
       "      <td>NaN</td>\n",
       "    </tr>\n",
       "    <tr>\n",
       "      <th>1</th>\n",
       "      <td>hjres65-107</td>\n",
       "      <td>NaN</td>\n",
       "      <td>107</td>\n",
       "      <td>10</td>\n",
       "      <td>Young, C.W. Bill</td>\n",
       "      <td>NaN</td>\n",
       "      <td>NaN</td>\n",
       "      <td>sponsor</td>\n",
       "      <td>FL</td>\n",
       "      <td>01255</td>\n",
       "      <td>Rep</td>\n",
       "      <td>person</td>\n",
       "      <td>NaN</td>\n",
       "    </tr>\n",
       "    <tr>\n",
       "      <th>2</th>\n",
       "      <td>hjres58-107</td>\n",
       "      <td>NaN</td>\n",
       "      <td>107</td>\n",
       "      <td>19</td>\n",
       "      <td>Platts, Todd Russell</td>\n",
       "      <td>NaN</td>\n",
       "      <td>NaN</td>\n",
       "      <td>sponsor</td>\n",
       "      <td>PA</td>\n",
       "      <td>01667</td>\n",
       "      <td>Rep</td>\n",
       "      <td>person</td>\n",
       "      <td>NaN</td>\n",
       "    </tr>\n",
       "    <tr>\n",
       "      <th>3</th>\n",
       "      <td>hjres22-107</td>\n",
       "      <td>NaN</td>\n",
       "      <td>107</td>\n",
       "      <td>4</td>\n",
       "      <td>Frank, Barney</td>\n",
       "      <td>NaN</td>\n",
       "      <td>NaN</td>\n",
       "      <td>sponsor</td>\n",
       "      <td>MA</td>\n",
       "      <td>00407</td>\n",
       "      <td>Rep</td>\n",
       "      <td>person</td>\n",
       "      <td>NaN</td>\n",
       "    </tr>\n",
       "    <tr>\n",
       "      <th>4</th>\n",
       "      <td>hjres22-107</td>\n",
       "      <td>NaN</td>\n",
       "      <td>107</td>\n",
       "      <td>9</td>\n",
       "      <td>Kaptur, Marcy</td>\n",
       "      <td>NaN</td>\n",
       "      <td>2001-03-06</td>\n",
       "      <td>cosponsor</td>\n",
       "      <td>OH</td>\n",
       "      <td>00616</td>\n",
       "      <td>Rep</td>\n",
       "      <td>NaN</td>\n",
       "      <td>None</td>\n",
       "    </tr>\n",
       "  </tbody>\n",
       "</table>\n",
       "</div>"
      ],
      "text/plain": [
       "       bill_id bioguide_id congress district                  name  \\\n",
       "0  hjres78-107         NaN      107       10      Young, C.W. Bill   \n",
       "1  hjres65-107         NaN      107       10      Young, C.W. Bill   \n",
       "2  hjres58-107         NaN      107       19  Platts, Todd Russell   \n",
       "3  hjres22-107         NaN      107        4         Frank, Barney   \n",
       "4  hjres22-107         NaN      107        9         Kaptur, Marcy   \n",
       "\n",
       "  original_cosponsor sponsored_at sponsorship state thomas_id title    type  \\\n",
       "0                NaN          NaN     sponsor    FL     01255   Rep  person   \n",
       "1                NaN          NaN     sponsor    FL     01255   Rep  person   \n",
       "2                NaN          NaN     sponsor    PA     01667   Rep  person   \n",
       "3                NaN          NaN     sponsor    MA     00407   Rep  person   \n",
       "4                NaN   2001-03-06   cosponsor    OH     00616   Rep     NaN   \n",
       "\n",
       "  withdrawn_at  \n",
       "0          NaN  \n",
       "1          NaN  \n",
       "2          NaN  \n",
       "3          NaN  \n",
       "4         None  "
      ]
     },
     "execution_count": 149,
     "metadata": {},
     "output_type": "execute_result"
    }
   ],
   "source": [
    "sponsors_df.head(5)"
   ]
  },
  {
   "cell_type": "code",
   "execution_count": 150,
   "metadata": {},
   "outputs": [
    {
     "data": {
      "text/plain": [
       "cosponsor    3273529\n",
       "sponsor       307444\n",
       "Name: sponsorship, dtype: int64"
      ]
     },
     "execution_count": 150,
     "metadata": {},
     "output_type": "execute_result"
    }
   ],
   "source": [
    "sponsors_df['sponsorship'].value_counts()"
   ]
  },
  {
   "cell_type": "markdown",
   "metadata": {},
   "source": [
    "Most prolific bill sponsors?"
   ]
  },
  {
   "cell_type": "code",
   "execution_count": 151,
   "metadata": {},
   "outputs": [
    {
     "data": {
      "text/plain": [
       "Inouye, Daniel K.      1794\n",
       "Hatch, Orrin G.        1452\n",
       "Roe, Robert A.         1391\n",
       "Schumer, Charles E.    1210\n",
       "Kennedy, Edward M.     1200\n",
       "Pepper, Claude         1150\n",
       "Dole, Robert J.        1147\n",
       "Thurmond, Strom        1147\n",
       "Grassley, Chuck        1115\n",
       "Feinstein, Dianne      1081\n",
       "Name: name, dtype: int64"
      ]
     },
     "execution_count": 151,
     "metadata": {},
     "output_type": "execute_result"
    }
   ],
   "source": [
    "sponsors_df[sponsors_df['sponsorship'] == 'sponsor']['name'].value_counts().sort_values(ascending=False)[:10]"
   ]
  },
  {
   "cell_type": "markdown",
   "metadata": {},
   "source": [
    "Least prolific?"
   ]
  },
  {
   "cell_type": "code",
   "execution_count": 152,
   "metadata": {},
   "outputs": [
    {
     "data": {
      "text/plain": [
       "Long, Cathy (Mrs. Gillis)     1\n",
       "Smith, Larkin                 1\n",
       "Mathews, Harlan               1\n",
       "Barkley, Dean M.              1\n",
       "Leach, Claude (Buddy), Jr.    1\n",
       "Majette, Denise L.            1\n",
       "Johnson, Don                  1\n",
       "Albert, Carl                  1\n",
       "Musto,  Raphael               1\n",
       "Goodwin, Carte Patrick        1\n",
       "Name: name, dtype: int64"
      ]
     },
     "execution_count": 152,
     "metadata": {},
     "output_type": "execute_result"
    }
   ],
   "source": [
    "sponsors_df[sponsors_df['sponsorship'] == 'sponsor']['name'].value_counts().sort_values(ascending=False)[-10:]"
   ]
  },
  {
   "cell_type": "markdown",
   "metadata": {},
   "source": [
    "## titles_df"
   ]
  },
  {
   "cell_type": "code",
   "execution_count": 153,
   "metadata": {},
   "outputs": [
    {
     "data": {
      "text/html": [
       "<div>\n",
       "<style scoped>\n",
       "    .dataframe tbody tr th:only-of-type {\n",
       "        vertical-align: middle;\n",
       "    }\n",
       "\n",
       "    .dataframe tbody tr th {\n",
       "        vertical-align: top;\n",
       "    }\n",
       "\n",
       "    .dataframe thead th {\n",
       "        text-align: right;\n",
       "    }\n",
       "</style>\n",
       "<table border=\"1\" class=\"dataframe\">\n",
       "  <thead>\n",
       "    <tr style=\"text-align: right;\">\n",
       "      <th></th>\n",
       "      <th>as</th>\n",
       "      <th>bill_id</th>\n",
       "      <th>congress</th>\n",
       "      <th>is_for_portion</th>\n",
       "      <th>title</th>\n",
       "      <th>type</th>\n",
       "    </tr>\n",
       "  </thead>\n",
       "  <tbody>\n",
       "    <tr>\n",
       "      <th>0</th>\n",
       "      <td>None</td>\n",
       "      <td>hjres78-107</td>\n",
       "      <td>107</td>\n",
       "      <td>NaN</td>\n",
       "      <td>Continuing Appropriation FY2002 (Seventh)</td>\n",
       "      <td>popular</td>\n",
       "    </tr>\n",
       "    <tr>\n",
       "      <th>1</th>\n",
       "      <td>introduced</td>\n",
       "      <td>hjres78-107</td>\n",
       "      <td>107</td>\n",
       "      <td>NaN</td>\n",
       "      <td>Making further continuing appropriations for t...</td>\n",
       "      <td>official</td>\n",
       "    </tr>\n",
       "    <tr>\n",
       "      <th>2</th>\n",
       "      <td>None</td>\n",
       "      <td>hjres65-107</td>\n",
       "      <td>107</td>\n",
       "      <td>NaN</td>\n",
       "      <td>Continuing Appropriation FY2002 (First)</td>\n",
       "      <td>popular</td>\n",
       "    </tr>\n",
       "    <tr>\n",
       "      <th>3</th>\n",
       "      <td>introduced</td>\n",
       "      <td>hjres65-107</td>\n",
       "      <td>107</td>\n",
       "      <td>NaN</td>\n",
       "      <td>Making continuing appropriations for the fisca...</td>\n",
       "      <td>official</td>\n",
       "    </tr>\n",
       "    <tr>\n",
       "      <th>4</th>\n",
       "      <td>introduced</td>\n",
       "      <td>hjres58-107</td>\n",
       "      <td>107</td>\n",
       "      <td>NaN</td>\n",
       "      <td>Proposing an amendment to the Constitution of ...</td>\n",
       "      <td>official</td>\n",
       "    </tr>\n",
       "  </tbody>\n",
       "</table>\n",
       "</div>"
      ],
      "text/plain": [
       "           as      bill_id congress is_for_portion  \\\n",
       "0        None  hjres78-107      107            NaN   \n",
       "1  introduced  hjres78-107      107            NaN   \n",
       "2        None  hjres65-107      107            NaN   \n",
       "3  introduced  hjres65-107      107            NaN   \n",
       "4  introduced  hjres58-107      107            NaN   \n",
       "\n",
       "                                               title      type  \n",
       "0          Continuing Appropriation FY2002 (Seventh)   popular  \n",
       "1  Making further continuing appropriations for t...  official  \n",
       "2            Continuing Appropriation FY2002 (First)   popular  \n",
       "3  Making continuing appropriations for the fisca...  official  \n",
       "4  Proposing an amendment to the Constitution of ...  official  "
      ]
     },
     "execution_count": 153,
     "metadata": {},
     "output_type": "execute_result"
    }
   ],
   "source": [
    "titles_df.head(5)"
   ]
  },
  {
   "cell_type": "markdown",
   "metadata": {},
   "source": [
    "Which bill has the most titles?"
   ]
  },
  {
   "cell_type": "code",
   "execution_count": 157,
   "metadata": {},
   "outputs": [
    {
     "data": {
      "text/plain": [
       "hr6-115       179\n",
       "hr4848-100    133\n",
       "hr1625-115    118\n",
       "hr1105-111     93\n",
       "hr2029-114     83\n",
       "hr1-107        82\n",
       "hr3221-110     81\n",
       "hr5484-99      80\n",
       "hr3355-103     78\n",
       "hr22-114       75\n",
       "Name: bill_id, dtype: int64"
      ]
     },
     "execution_count": 157,
     "metadata": {},
     "output_type": "execute_result"
    }
   ],
   "source": [
    "titles_df['bill_id'].value_counts().sort_values(ascending=False)[:10]"
   ]
  },
  {
   "cell_type": "markdown",
   "metadata": {},
   "source": [
    "What bill is this?"
   ]
  },
  {
   "cell_type": "code",
   "execution_count": 158,
   "metadata": {},
   "outputs": [
    {
     "data": {
      "text/html": [
       "<div>\n",
       "<style scoped>\n",
       "    .dataframe tbody tr th:only-of-type {\n",
       "        vertical-align: middle;\n",
       "    }\n",
       "\n",
       "    .dataframe tbody tr th {\n",
       "        vertical-align: top;\n",
       "    }\n",
       "\n",
       "    .dataframe thead th {\n",
       "        text-align: right;\n",
       "    }\n",
       "</style>\n",
       "<table border=\"1\" class=\"dataframe\">\n",
       "  <thead>\n",
       "    <tr style=\"text-align: right;\">\n",
       "      <th></th>\n",
       "      <th>bill_id</th>\n",
       "      <th>bill_type</th>\n",
       "      <th>congress</th>\n",
       "      <th>introduced_at</th>\n",
       "      <th>number</th>\n",
       "      <th>official_title</th>\n",
       "      <th>popular_title</th>\n",
       "      <th>short_title</th>\n",
       "      <th>status</th>\n",
       "      <th>subjects_top_term</th>\n",
       "      <th>updated_at</th>\n",
       "    </tr>\n",
       "  </thead>\n",
       "  <tbody>\n",
       "    <tr>\n",
       "      <th>51653</th>\n",
       "      <td>hr6-115</td>\n",
       "      <td>hr</td>\n",
       "      <td>115</td>\n",
       "      <td>2018-06-13</td>\n",
       "      <td>6</td>\n",
       "      <td>To provide for opioid use disorder prevention,...</td>\n",
       "      <td>None</td>\n",
       "      <td>Abuse Deterrent Access Act of 2018</td>\n",
       "      <td>PASSED:BILL</td>\n",
       "      <td>Health</td>\n",
       "      <td>2018-10-17T21:42:14Z</td>\n",
       "    </tr>\n",
       "  </tbody>\n",
       "</table>\n",
       "</div>"
      ],
      "text/plain": [
       "       bill_id bill_type congress introduced_at number  \\\n",
       "51653  hr6-115        hr      115    2018-06-13      6   \n",
       "\n",
       "                                          official_title popular_title  \\\n",
       "51653  To provide for opioid use disorder prevention,...          None   \n",
       "\n",
       "                              short_title       status subjects_top_term  \\\n",
       "51653  Abuse Deterrent Access Act of 2018  PASSED:BILL            Health   \n",
       "\n",
       "                 updated_at  \n",
       "51653  2018-10-17T21:42:14Z  "
      ]
     },
     "execution_count": 158,
     "metadata": {},
     "output_type": "execute_result"
    }
   ],
   "source": [
    "bills_df[bills_df['bill_id'] == 'hr6-115']"
   ]
  },
  {
   "cell_type": "markdown",
   "metadata": {},
   "source": [
    "# Store everything in Hive - load DataFrames into tables"
   ]
  },
  {
   "cell_type": "code",
   "execution_count": 165,
   "metadata": {},
   "outputs": [],
   "source": [
    "import pyarrow"
   ]
  },
  {
   "cell_type": "code",
   "execution_count": 168,
   "metadata": {},
   "outputs": [],
   "source": [
    "bills_df['congress'] = bills_df['congress'].astype(int)\n",
    "bills_df['introduced_at'] = pd.to_datetime(bills_df['introduced_at'])\n",
    "bills_df['number'] = bills_df['number'].astype(int)\n",
    "bills_df['updated_at'] = pd.to_datetime(bills_df['updated_at'])"
   ]
  },
  {
   "cell_type": "code",
   "execution_count": 174,
   "metadata": {},
   "outputs": [],
   "source": [
    "sponsors_df['congress'] = sponsors_df['congress'].astype(int)\n",
    "sponsors_df['sponsored_at'] = pd.to_datetime(sponsors_df['sponsored_at'])\n",
    "sponsors_df['withdrawn_at'] = pd.to_datetime(sponsors_df['withdrawn_at'])"
   ]
  },
  {
   "cell_type": "code",
   "execution_count": 175,
   "metadata": {},
   "outputs": [],
   "source": [
    "bills_df.to_parquet('bills.parquet')\n",
    "sponsors_df.to_parquet('sponsors.parquet')\n",
    "titles_df.to_parquet('titles.parquet')"
   ]
  },
  {
   "cell_type": "markdown",
   "metadata": {},
   "source": [
    "Upload parquet files to HDFS"
   ]
  },
  {
   "cell_type": "code",
   "execution_count": 176,
   "metadata": {},
   "outputs": [
    {
     "name": "stdout",
     "output_type": "stream",
     "text": [
      "2018-10-18 05:15:07,424 WARN util.NativeCodeLoader: Unable to load native-hadoop library for your platform... using builtin-java classes where applicable\n",
      "Deleted /staging/bill-metadata/bills\n",
      "2018-10-18 05:15:09,893 WARN util.NativeCodeLoader: Unable to load native-hadoop library for your platform... using builtin-java classes where applicable\n",
      "Deleted /staging/bill-metadata/sponsors\n",
      "2018-10-18 05:15:12,321 WARN util.NativeCodeLoader: Unable to load native-hadoop library for your platform... using builtin-java classes where applicable\n",
      "Deleted /staging/bill-metadata/titles\n",
      "2018-10-18 05:15:14,633 WARN util.NativeCodeLoader: Unable to load native-hadoop library for your platform... using builtin-java classes where applicable\n",
      "2018-10-18 05:15:17,003 WARN util.NativeCodeLoader: Unable to load native-hadoop library for your platform... using builtin-java classes where applicable\n",
      "2018-10-18 05:15:19,374 WARN util.NativeCodeLoader: Unable to load native-hadoop library for your platform... using builtin-java classes where applicable\n",
      "2018-10-18 05:15:21,712 WARN util.NativeCodeLoader: Unable to load native-hadoop library for your platform... using builtin-java classes where applicable\n",
      "2018-10-18 05:15:24,400 WARN util.NativeCodeLoader: Unable to load native-hadoop library for your platform... using builtin-java classes where applicable\n",
      "2018-10-18 05:15:27,461 WARN util.NativeCodeLoader: Unable to load native-hadoop library for your platform... using builtin-java classes where applicable\n"
     ]
    }
   ],
   "source": [
    "!hdfs dfs -rm -r -f /staging/bill-metadata/bills\n",
    "!hdfs dfs -rm -r -f /staging/bill-metadata/sponsors\n",
    "!hdfs dfs -rm -r -f /staging/bill-metadata/titles\n",
    "\n",
    "!hdfs dfs -mkdir -p /staging/bill-metadata/bills\n",
    "!hdfs dfs -mkdir -p /staging/bill-metadata/sponsors\n",
    "!hdfs dfs -mkdir -p /staging/bill-metadata/titles\n",
    "\n",
    "!hdfs dfs -put bills.parquet /staging/bill-metadata/bills/bills.parquet\n",
    "!hdfs dfs -put sponsors.parquet /staging/bill-metadata/sponsors/sponsors.parquet\n",
    "!hdfs dfs -put titles.parquet /staging/bill-metadata/titles/titles.parquet"
   ]
  },
  {
   "cell_type": "markdown",
   "metadata": {},
   "source": [
    "#### Ingest using Spark because I don't want to write DDL and this version of Beeline can't infer schema from parquet"
   ]
  },
  {
   "cell_type": "code",
   "execution_count": 204,
   "metadata": {},
   "outputs": [],
   "source": [
    "import pyspark"
   ]
  },
  {
   "cell_type": "code",
   "execution_count": 206,
   "metadata": {},
   "outputs": [],
   "source": [
    "sc = pyspark.sql.SparkSession.Builder()\\\n",
    "        .master('yarn')\\\n",
    "        .appName('load-bill-metadata')\\\n",
    "        .enableHiveSupport()\\\n",
    "        .getOrCreate()"
   ]
  },
  {
   "cell_type": "code",
   "execution_count": 207,
   "metadata": {},
   "outputs": [],
   "source": [
    "dfLoad = sc.read.parquet('/staging/bill-metadata/bills/bills.parquet')"
   ]
  },
  {
   "cell_type": "code",
   "execution_count": 209,
   "metadata": {},
   "outputs": [
    {
     "data": {
      "text/plain": [
       "DataFrame[]"
      ]
     },
     "execution_count": 209,
     "metadata": {},
     "output_type": "execute_result"
    }
   ],
   "source": [
    "sc.sql('DROP TABLE IF EXISTS pq_pp_bills')"
   ]
  },
  {
   "cell_type": "code",
   "execution_count": 210,
   "metadata": {},
   "outputs": [],
   "source": [
    "dfLoad.write.saveAsTable('pq_pp_bills')"
   ]
  },
  {
   "cell_type": "code",
   "execution_count": 211,
   "metadata": {},
   "outputs": [
    {
     "name": "stdout",
     "output_type": "stream",
     "text": [
      "Connecting to jdbc:hive2://cap1:10000\n",
      "2018-10-18 05:41:01 INFO  Utils:310 - Supplied authorities: cap1:10000\n",
      "2018-10-18 05:41:01 INFO  Utils:397 - Resolved authority: cap1:10000\n",
      "2018-10-18 05:41:01 INFO  HiveConnection:203 - Will try to open client transport with JDBC Uri: jdbc:hive2://cap1:10000\n",
      "Connected to: Spark SQL (version 2.3.2)\n",
      "Driver: Hive JDBC (version 1.2.1.spark2)\n",
      "Transaction isolation: TRANSACTION_REPEATABLE_READ\n",
      "+---------------+------------+-----------+------------------------+---------+------------------------------------------------------------------------------------------------------------------------------------------------------------------------------------------------------------------------------------------------------------------------------+--------------------------------------------+--------------------------------------------+-----------------+----------------------------------------------+------------------------+--------------------+--+\n",
      "|    bill_id    | bill_type  | congress  |     introduced_at      | number  |                                                                                                                                official_title                                                                                                                                |               popular_title                |                short_title                 |     status      |              subjects_top_term               |       updated_at       | __index_level_0__  |\n",
      "+---------------+------------+-----------+------------------------+---------+------------------------------------------------------------------------------------------------------------------------------------------------------------------------------------------------------------------------------------------------------------------------------+--------------------------------------------+--------------------------------------------+-----------------+----------------------------------------------+------------------------+--------------------+--+\n",
      "| hjres78-107   | hjres      | 107       | 2001-12-11 18:00:00.0  | 78      | Making further continuing appropriations for the fiscal year 2002, and for other purposes.                                                                                                                                                                                   | Continuing Appropriation FY2002 (Seventh)  | NULL                                       | ENACTED:SIGNED  | Economics and public finance                 | 2013-02-02 19:51:15.0  | 0                  |\n",
      "| hjres65-107   | hjres      | 107       | 2001-09-23 19:00:00.0  | 65      | Making continuing appropriations for the fiscal year 2002, and for other purposes.                                                                                                                                                                                           | Continuing Appropriation FY2002 (First)    | NULL                                       | ENACTED:SIGNED  | Economics and public finance                 | 2013-02-02 19:51:14.0  | 1                  |\n",
      "| hjres58-107   | hjres      | 107       | 2001-07-24 19:00:00.0  | 58      | Proposing an amendment to the Constitution of the United States to limit the number of consecutive terms that a Member of Congress may serve.                                                                                                                                | NULL                                       | NULL                                       | REFERRED        | Congress                                     | 2013-02-02 19:51:14.0  | 2                  |\n",
      "| hjres22-107   | hjres      | 107       | 2001-02-26 18:00:00.0  | 22      | Proposing an amendment to the Constitution of the United States of America to prohibit the granting of Presidential reprieves and pardons between October 1 of a year in which a Presidential election occurs and January 21 of the year following, and for other purposes.  | NULL                                       | NULL                                       | REFERRED        | Crime and law enforcement                    | 2013-02-02 19:51:13.0  | 3                  |\n",
      "| hjres107-107  | hjres      | 107       | 2002-07-23 19:00:00.0  | 107     | To commend Sail Boston for its continuing advancement of the maritime heritage of nations, its commemoration of the nautical history of the United States, and its promotion, encouragement, and support of young cadets through training.                                   | NULL                                       | NULL                                       | REFERRED        | Commemorations                               | 2013-02-02 19:51:16.0  | 4                  |\n",
      "| hjres70-107   | hjres      | 107       | 2001-10-23 19:00:00.0  | 70      | Making further continuing appropriations for the fiscal year 2002, and for other purposes.                                                                                                                                                                                   | Continuing Appropriation FY2002 (Fourth)   | NULL                                       | ENACTED:SIGNED  | Economics and public finance                 | 2013-02-02 19:51:15.0  | 5                  |\n",
      "| hjres3-107    | hjres      | 107       | 2001-01-02 18:00:00.0  | 3       | Proposing an amendment to the Constitution of the United States to abolish the electoral college and to provide for the direct popular election of the President and Vice President of the United States.                                                                    | NULL                                       | NULL                                       | REFERRED        | Government operations and politics           | 2013-02-02 19:51:13.0  | 6                  |\n",
      "| hjres110-107  | hjres      | 107       | 2002-09-22 19:00:00.0  | 110     | Authorizing the use of United States Armed Forces against Iraq.                                                                                                                                                                                                              | NULL                                       | Liberation of the Iraqi People Resolution  | REFERRED        | International affairs                        | 2013-02-02 19:51:16.0  | 7                  |\n",
      "| hjres32-107   | hjres      | 107       | 2001-03-05 18:00:00.0  | 32      | Proposing an amendment to the Constitution of the United States relating to equality of rights and reproductive rights.                                                                                                                                                      | NULL                                       | NULL                                       | REFERRED        | Civil rights and liberties, minority issues  | 2013-02-02 19:51:13.0  | 8                  |\n",
      "| hjres26-107   | hjres      | 107       | 2001-02-28 18:00:00.0  | 26      | Proposing an amendment to the Constitution of the United States to provide that certain trust funds are outside the budget of the United States.                                                                                                                             | NULL                                       | NULL                                       | REFERRED        | Economics and public finance                 | 2013-02-02 19:51:13.0  | 9                  |\n",
      "+---------------+------------+-----------+------------------------+---------+------------------------------------------------------------------------------------------------------------------------------------------------------------------------------------------------------------------------------------------------------------------------------+--------------------------------------------+--------------------------------------------+-----------------+----------------------------------------------+------------------------+--------------------+--+\n",
      "10 rows selected (1.919 seconds)\n",
      "Beeline version 1.2.1.spark2 by Apache Hive\n"
     ]
    },
    {
     "name": "stdout",
     "output_type": "stream",
     "text": [
      "Closing: 0: jdbc:hive2://cap1:10000\r\n"
     ]
    }
   ],
   "source": [
    "!beeline -u jdbc:hive2://cap1:10000 -n matt -p anything -e 'SELECT * FROM pq_pp_bills LIMIT 10;'"
   ]
  },
  {
   "cell_type": "code",
   "execution_count": 212,
   "metadata": {},
   "outputs": [
    {
     "name": "stdout",
     "output_type": "stream",
     "text": [
      "2018-10-18 05:41:26,347 WARN util.NativeCodeLoader: Unable to load native-hadoop library for your platform... using builtin-java classes where applicable\n",
      "Found 4 items\n",
      "drwxr-xr-x   - matt   supergroup          0 2018-10-13 04:40 /billtext\n",
      "drwxrwxrwx   - matt   supergroup          0 2018-10-18 05:32 /staging\n",
      "drwxrwxrwx   - hadoop supergroup          0 2018-10-07 17:56 /tmp\n",
      "drwxr-xr-x   - matt   supergroup          0 2018-10-07 23:41 /user\n"
     ]
    }
   ],
   "source": [
    "!hdfs dfs -ls /"
   ]
  },
  {
   "cell_type": "code",
   "execution_count": 213,
   "metadata": {},
   "outputs": [
    {
     "name": "stdout",
     "output_type": "stream",
     "text": [
      "2018-10-18 05:41:37,457 WARN util.NativeCodeLoader: Unable to load native-hadoop library for your platform... using builtin-java classes where applicable\n",
      "Found 7 items\n",
      "drwxr-xr-x   - matt supergroup          0 2018-10-07 18:29 /user/hive/warehouse/pq_crp_cands18\n",
      "drwxr-xr-x   - matt supergroup          0 2018-10-07 18:51 /user/hive/warehouse/pq_crp_cmtes18\n",
      "drwxrwxrwx   - matt supergroup          0 2018-10-14 19:29 /user/hive/warehouse/pq_crp_expends18\n",
      "drwxr-xr-x   - matt supergroup          0 2018-10-07 19:50 /user/hive/warehouse/pq_crp_indivs18\n",
      "drwxr-xr-x   - matt supergroup          0 2018-10-07 19:52 /user/hive/warehouse/pq_crp_pac_other18\n",
      "drwxr-xr-x   - matt supergroup          0 2018-10-07 20:10 /user/hive/warehouse/pq_crp_pacs18\n",
      "drwxr-xr-x   - matt supergroup          0 2018-10-18 05:40 /user/hive/warehouse/pq_pp_bills\n"
     ]
    }
   ],
   "source": [
    "!hdfs dfs -ls /user/hive/warehouse"
   ]
  },
  {
   "cell_type": "markdown",
   "metadata": {},
   "source": [
    "Spark is putting our table where it belongs. This is good. What code did Spark run to get our data in the table?"
   ]
  },
  {
   "cell_type": "code",
   "execution_count": 215,
   "metadata": {},
   "outputs": [
    {
     "name": "stdout",
     "output_type": "stream",
     "text": [
      "Connecting to jdbc:hive2://cap1:10000\n",
      "2018-10-18 05:43:22 INFO  Utils:310 - Supplied authorities: cap1:10000\n",
      "2018-10-18 05:43:22 INFO  Utils:397 - Resolved authority: cap1:10000\n",
      "2018-10-18 05:43:22 INFO  HiveConnection:203 - Will try to open client transport with JDBC Uri: jdbc:hive2://cap1:10000\n",
      "Connected to: Spark SQL (version 2.3.2)\n",
      "Driver: Hive JDBC (version 1.2.1.spark2)\n",
      "Transaction isolation: TRANSACTION_REPEATABLE_READ\n",
      "+-------------------------------------------------------------------------------------------------------------------------------------------------------------------------------------------------------------------------------------------------------------------------------------------------------------------------------------------------------------------+--+\n",
      "|                                                                                                                                                                          createtab_stmt                                                                                                                                                                           |\n",
      "+-------------------------------------------------------------------------------------------------------------------------------------------------------------------------------------------------------------------------------------------------------------------------------------------------------------------------------------------------------------------+--+\n",
      "| CREATE TABLE `pq_pp_bills` (`bill_id` STRING, `bill_type` STRING, `congress` BIGINT, `introduced_at` TIMESTAMP, `number` BIGINT, `official_title` STRING, `popular_title` STRING, `short_title` STRING, `status` STRING, `subjects_top_term` STRING, `updated_at` TIMESTAMP, `__index_level_0__` BIGINT)\n",
      "USING parquet\n",
      "OPTIONS (\n",
      "  `serialization.format` '1'\n",
      ")\n",
      "  |\n",
      "+-------------------------------------------------------------------------------------------------------------------------------------------------------------------------------------------------------------------------------------------------------------------------------------------------------------------------------------------------------------------+--+\n",
      "1 row selected (0.168 seconds)\n",
      "Beeline version 1.2.1.spark2 by Apache Hive\n",
      "Closing: 0: jdbc:hive2://cap1:10000\n"
     ]
    }
   ],
   "source": [
    "!beeline -u jdbc:hive2://cap1:10000 -n matt -p anything -e 'show create table pq_pp_bills;'"
   ]
  },
  {
   "cell_type": "markdown",
   "metadata": {},
   "source": [
    "## Repeat for other two tables"
   ]
  },
  {
   "cell_type": "code",
   "execution_count": 217,
   "metadata": {},
   "outputs": [],
   "source": [
    "def load_from_spark(path, table_name):\n",
    "    print(f'Loading parquet data from {path} into table {table_name}...')\n",
    "    df = sc.read.parquet(path)\n",
    "    sc.sql(f'DROP TABLE IF EXISTS {table_name}')\n",
    "    dfLoad.write.saveAsTable(table_name, )\n",
    "    display(HTML(f'<h2>first few rows of {table_name}:</h2>'))\n",
    "    cmd = f'beeline -u jdbc:hive2://cap1:10000 -n matt -p anything -e \"SELECT * FROM {table_name} LIMIT 4;\"'\n",
    "    !$cmd"
   ]
  },
  {
   "cell_type": "code",
   "execution_count": 218,
   "metadata": {},
   "outputs": [
    {
     "name": "stdout",
     "output_type": "stream",
     "text": [
      "Loading parquet data from /staging/bill-metadata/sponsors/sponsors.parquet into table pq_pp_sponsors...\n"
     ]
    },
    {
     "data": {
      "text/html": [
       "<h2>first few rows of pq_pp_sponsors:</h2>"
      ],
      "text/plain": [
       "<IPython.core.display.HTML object>"
      ]
     },
     "metadata": {},
     "output_type": "display_data"
    },
    {
     "name": "stdout",
     "output_type": "stream",
     "text": [
      "Connecting to jdbc:hive2://cap1:10000\n",
      "2018-10-18 05:47:38 INFO  Utils:310 - Supplied authorities: cap1:10000\n",
      "2018-10-18 05:47:38 INFO  Utils:397 - Resolved authority: cap1:10000\n",
      "2018-10-18 05:47:38 INFO  HiveConnection:203 - Will try to open client transport with JDBC Uri: jdbc:hive2://cap1:10000\n",
      "Connected to: Spark SQL (version 2.3.2)\n",
      "Driver: Hive JDBC (version 1.2.1.spark2)\n",
      "Transaction isolation: TRANSACTION_REPEATABLE_READ\n",
      "+--------------+--------------+-----------+-----------+-----------------------+---------------------+---------------+--------------+--------+------------+--------+---------+---------------+--------------------+--+\n",
      "|   bill_id    | bioguide_id  | congress  | district  |         name          | original_cosponsor  | sponsored_at  | sponsorship  | state  | thomas_id  | title  |  type   | withdrawn_at  | __index_level_0__  |\n",
      "+--------------+--------------+-----------+-----------+-----------------------+---------------------+---------------+--------------+--------+------------+--------+---------+---------------+--------------------+--+\n",
      "| hjres78-107  | NULL         | 107       | 10        | Young, C.W. Bill      | NULL                | NULL          | sponsor      | FL     | 01255      | Rep    | person  | NULL          | 0                  |\n",
      "| hjres65-107  | NULL         | 107       | 10        | Young, C.W. Bill      | NULL                | NULL          | sponsor      | FL     | 01255      | Rep    | person  | NULL          | 1                  |\n",
      "| hjres58-107  | NULL         | 107       | 19        | Platts, Todd Russell  | NULL                | NULL          | sponsor      | PA     | 01667      | Rep    | person  | NULL          | 2                  |\n",
      "| hjres22-107  | NULL         | 107       | 4         | Frank, Barney         | NULL                | NULL          | sponsor      | MA     | 00407      | Rep    | person  | NULL          | 3                  |\n",
      "+--------------+--------------+-----------+-----------+-----------------------+---------------------+---------------+--------------+--------+------------+--------+---------+---------------+--------------------+--+\n",
      "4 rows selected (0.486 seconds)\n",
      "Beeline version 1.2.1.spark2 by Apache Hive\n",
      "Closing: 0: jdbc:hive2://cap1:10000\n"
     ]
    }
   ],
   "source": [
    "load_from_spark('/staging/bill-metadata/sponsors/sponsors.parquet', 'pq_pp_sponsors')"
   ]
  },
  {
   "cell_type": "code",
   "execution_count": 219,
   "metadata": {},
   "outputs": [
    {
     "name": "stdout",
     "output_type": "stream",
     "text": [
      "Loading parquet data from /staging/bill-metadata/titles/titles.parquet into table pq_pp_titles...\n"
     ]
    },
    {
     "data": {
      "text/html": [
       "<h2>first few rows of pq_pp_titles:</h2>"
      ],
      "text/plain": [
       "<IPython.core.display.HTML object>"
      ]
     },
     "metadata": {},
     "output_type": "display_data"
    },
    {
     "name": "stdout",
     "output_type": "stream",
     "text": [
      "Connecting to jdbc:hive2://cap1:10000\n",
      "2018-10-18 05:48:05 INFO  Utils:310 - Supplied authorities: cap1:10000\n",
      "2018-10-18 05:48:05 INFO  Utils:397 - Resolved authority: cap1:10000\n",
      "2018-10-18 05:48:06 INFO  HiveConnection:203 - Will try to open client transport with JDBC Uri: jdbc:hive2://cap1:10000\n",
      "Connected to: Spark SQL (version 2.3.2)\n",
      "Driver: Hive JDBC (version 1.2.1.spark2)\n",
      "Transaction isolation: TRANSACTION_REPEATABLE_READ\n",
      "+-------------+--------------+-----------+-----------------+---------------------------------------------------------------------------------------------+-----------+--------------------+--+\n",
      "|     as      |   bill_id    | congress  | is_for_portion  |                                            title                                            |   type    | __index_level_0__  |\n",
      "+-------------+--------------+-----------+-----------------+---------------------------------------------------------------------------------------------+-----------+--------------------+--+\n",
      "| NULL        | hjres78-107  | 107       | NULL            | Continuing Appropriation FY2002 (Seventh)                                                   | popular   | 0                  |\n",
      "| introduced  | hjres78-107  | 107       | NULL            | Making further continuing appropriations for the fiscal year 2002, and for other purposes.  | official  | 1                  |\n",
      "| NULL        | hjres65-107  | 107       | NULL            | Continuing Appropriation FY2002 (First)                                                     | popular   | 2                  |\n",
      "| introduced  | hjres65-107  | 107       | NULL            | Making continuing appropriations for the fiscal year 2002, and for other purposes.          | official  | 3                  |\n",
      "+-------------+--------------+-----------+-----------------+---------------------------------------------------------------------------------------------+-----------+--------------------+--+\n",
      "4 rows selected (0.666 seconds)\n",
      "Beeline version 1.2.1.spark2 by Apache Hive\n",
      "Closing: 0: jdbc:hive2://cap1:10000\n"
     ]
    }
   ],
   "source": [
    "load_from_spark('/staging/bill-metadata/titles/titles.parquet', 'pq_pp_titles')"
   ]
  },
  {
   "cell_type": "markdown",
   "metadata": {},
   "source": [
    "## Clean up"
   ]
  },
  {
   "cell_type": "code",
   "execution_count": 220,
   "metadata": {},
   "outputs": [
    {
     "name": "stdout",
     "output_type": "stream",
     "text": [
      "100  103  106  109  112  115  95  98\t\t derby.log\r\n",
      "101  104  107  110  113  93   96  99\t\t sponsors.parquet\r\n",
      "102  105  108  111  114  94   97  bills.parquet  titles.parquet\r\n"
     ]
    }
   ],
   "source": [
    "!ls"
   ]
  },
  {
   "cell_type": "code",
   "execution_count": 222,
   "metadata": {},
   "outputs": [],
   "source": [
    "os.chdir('..')"
   ]
  },
  {
   "cell_type": "code",
   "execution_count": 223,
   "metadata": {},
   "outputs": [
    {
     "name": "stdout",
     "output_type": "stream",
     "text": [
      "bills-all\r\n"
     ]
    }
   ],
   "source": [
    "!ls"
   ]
  },
  {
   "cell_type": "code",
   "execution_count": null,
   "metadata": {},
   "outputs": [],
   "source": [
    "!rm -rf bills-all"
   ]
  },
  {
   "cell_type": "code",
   "execution_count": null,
   "metadata": {},
   "outputs": [],
   "source": [
    "!hdfs dfs -rm -r -f /staging/bill-metadata"
   ]
  },
  {
   "cell_type": "code",
   "execution_count": null,
   "metadata": {},
   "outputs": [],
   "source": []
  }
 ],
 "metadata": {
  "kernelspec": {
   "display_name": "Python 3",
   "language": "python",
   "name": "python3"
  },
  "language_info": {
   "codemirror_mode": {
    "name": "ipython",
    "version": 3
   },
   "file_extension": ".py",
   "mimetype": "text/x-python",
   "name": "python",
   "nbconvert_exporter": "python",
   "pygments_lexer": "ipython3",
   "version": "3.7.0"
  }
 },
 "nbformat": 4,
 "nbformat_minor": 2
}
