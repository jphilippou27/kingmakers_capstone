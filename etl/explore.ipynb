{
 "cells": [
  {
   "cell_type": "code",
   "execution_count": 1,
   "metadata": {},
   "outputs": [],
   "source": [
    "import pandas as pd\n",
    "import numpy as np\n",
    "import nltk\n",
    "import pyspark\n",
    "import matplotlib.pyplot as plt\n",
    "import os.path as osp\n",
    "import os\n",
    "import shutil\n",
    "\n",
    "%matplotlib notebook"
   ]
  },
  {
   "cell_type": "code",
   "execution_count": 2,
   "metadata": {},
   "outputs": [],
   "source": [
    "sc = pyspark.sql.SparkSession.Builder()\\\n",
    "        .master('yarn')\\\n",
    "        .appName('open-secrets-etl')\\\n",
    "        .config('spark.executor.instances', '2')\\\n",
    "        .config('spark.executor.memory', '3g')\\\n",
    "        .config('spark.executor.cores', '2')\\\n",
    "        .enableHiveSupport()\\\n",
    "        .getOrCreate()"
   ]
  },
  {
   "cell_type": "code",
   "execution_count": 4,
   "metadata": {},
   "outputs": [
    {
     "name": "stdout",
     "output_type": "stream",
     "text": [
      "+--------+--------------------+-----------+\n",
      "|database|           tableName|isTemporary|\n",
      "+--------+--------------------+-----------+\n",
      "| default|        pac_spending|      false|\n",
      "| default|pac_spending_by_type|      false|\n",
      "| default|      pq_crp_cands18|      false|\n",
      "| default|      pq_crp_cmtes18|      false|\n",
      "| default|     pq_crp_indivs18|      false|\n",
      "| default|  pq_crp_pac_other18|      false|\n",
      "| default|       pq_crp_pacs18|      false|\n",
      "+--------+--------------------+-----------+\n",
      "\n"
     ]
    }
   ],
   "source": [
    "sc.sql('SHOW TABLES').show()"
   ]
  },
  {
   "cell_type": "code",
   "execution_count": 5,
   "metadata": {},
   "outputs": [
    {
     "name": "stdout",
     "output_type": "stream",
     "text": [
      "+---------+--------------------+----------+------------+-----------------+------------+---------+\n",
      "|total_amt|            pac_name|direct_ind|contrib_type|        cand_name|candidate_id|   pac_id|\n",
      "+---------+--------------------+----------+------------+-----------------+------------+---------+\n",
      "|6196944.0|Congressional Lea...|         I|         24A|   Jon Ossoff (D)|   N00040675|C00504530|\n",
      "|6015567.0|National Republic...|         I|         24A|   Jon Ossoff (D)|   N00040675|C00075820|\n",
      "|4971326.0|Democratic Congre...|         I|         24A| Karen Handel (R)|   N00035477|C00000935|\n",
      "|4459673.0|Senate Leadership...|         I|         24A|    Roy Moore (R)|   N00041027|C00571703|\n",
      "|3697210.0|   Great America PAC|         I|         24E| Donald Trump (R)|   N00023864|C00608489|\n",
      "|3633469.0|Committee to Defe...|         I|         24E| Donald Trump (R)|   N00023864|C00544767|\n",
      "|3607502.0|  Duty & Country PAC|         I|         24A| Evan Jenkins (R)|   N00035531|C00666388|\n",
      "|3333570.0|Democratic Congre...|         I|         24A| Rocky Chavez (R)|   N00036918|C00000935|\n",
      "|3314584.0|Freedom Partners ...|         I|         24A|Tammy Baldwin (D)|   N00004367|C90016692|\n",
      "|3076352.0|Congressional Lea...|         I|         24A|   Conor Lamb (D)|   N00041870|C00504530|\n",
      "+---------+--------------------+----------+------------+-----------------+------------+---------+\n",
      "\n"
     ]
    }
   ],
   "source": [
    "sc.sql('SELECT * FROM pac_spending_by_type').limit(10).show()"
   ]
  },
  {
   "cell_type": "code",
   "execution_count": 6,
   "metadata": {},
   "outputs": [
    {
     "name": "stdout",
     "output_type": "stream",
     "text": [
      "+-----+-------------------+------------+------------------+---------+--------------------+------+--------+----------+------+------+---------------+-----+-----+---------+----+---------+---------+------+------------------+------------+--------------------+------+\n",
      "|cycle|         fectransid|   contribid|           contrib|  recipid|             orgname|ultorg|realcode|      date|amount|street|           city|state|  zip|recipcode|type|   cmteid|  otherid|gender|         microfilm|  occupation|            employer|source|\n",
      "+-----+-------------------+------------+------------------+---------+--------------------+------+--------+----------+------+------+---------------+-----+-----+---------+----+---------+---------+------+------------------+------------+--------------------+------+\n",
      "| 2018|2103020171461527012|j1002215457 |   SCHULTZ, ANDREW|N00027522|  2 Building Lbj Ltd|      |   Y4000|2017-07-14|  2000|      |        ROWLETT|   TX|75030|       RI| 15 |C00494229|         |     M|201710200200354160|    INVESTOR| 2 BUILDING LBJ LTD.|      |\n",
      "| 2018|2103020171461527415|h30017558621|LANDENWICH, JOSEPH|N00027522|  Kindred Healthcare|      |   H2100|2017-08-25|   625|      |     LOUISVILLE|   KY|40205|       RI| 15J|C00494229|         |     M|                  |    ATTORNEY|  KINDRED HEALTHCARE| PAC  |\n",
      "| 2018|2103020171461527427|Y0000032011L|     BATES, GORDON|N00027522| Bates Capitol Group|      |   K2000|2017-08-29|  1000|      |       PROSPECT|   KY|40059|       RI| 15J|C00494229|         |     M|                  |    ATTORNEY| BATES CAPITOL GROUP| WebCS|\n",
      "| 2018|2103020171461527547|p0004908949@|      ARNOLD, LYNN|N00029016|          Unemployed|      |   Y1000|2017-08-16|    25|      |ROCHESTER HILLS|   MI|48309|       DI| 15E|C00570960|C00401224|     F|201710170200317763|NOT EMPLOYED|                 N/A| Gen  |\n",
      "| 2018|2103020171461527568|j1002221461 |  ASKIN, SEYMOUR R|N00029016|             Retired|      |   X1200|2017-09-13|   400|      |      GREENWICH|   CT|06831|       DI| 15 |C00570960|         |     M|201710170200317770|     RETIRED|                 N/A| Gen  |\n",
      "| 2018|2103020171461527587|h10012035371|   AXELROD, RONALD|N00029016|             Retired|      |   X1200|2017-07-29|    25|      |      CAMBRIDGE|   MA|02138|       DI| 15E|C00570960|C00401224|     M|201710170200317777|     RETIRED|                 N/A| Gen  |\n",
      "| 2018|2103020171461527639|j1002242837 |     BARISH, CRAIG|N00029016|             Retired|      |   X1200|2017-08-30|    25|      |       NEW YORK|   NY|10011|       DI| 15E|C00570960|C00401224|     M|201710170200317794|NOT EMPLOYED|                 N/A| Gen  |\n",
      "| 2018|2103020171461527655|k0001566168 |   BARISH, LUCILLE|N00029016|Private Paychothe...|      |   Y4000|2017-09-16|    10|      |       NEW YORK|   NY|10025|       DI| 15E|C00570960|C00401224|     F|201710170200317799|       OWNER|PRIVATE PAYCHOTHE...|      |\n",
      "| 2018|2103020171461527676|p0001268865 |    BARNEY, ALICIA|N00029016|Los Angeles Unifi...|      |   X3500|2017-09-09|     5|      |    SAN GABRIEL|   CA|91776|       DI| 15 |C00570960|         |     F|201710170200317806|     RETIRED|                 N/A| WebSM|\n",
      "| 2018|2103020171461527855|m0001746231 |      BODINE, ECHO|N00029016|       Self-Employed|      |   G0000|2017-08-29|    50|      |    MINNEAPOLIS|   MN|55419|       DI| 15E|C00570960|C00401224|     F|201710170200317866|      AUTHOR|       SELF-EMPLOYED| Gen  |\n",
      "+-----+-------------------+------------+------------------+---------+--------------------+------+--------+----------+------+------+---------------+-----+-----+---------+----+---------+---------+------+------------------+------------+--------------------+------+\n",
      "\n"
     ]
    }
   ],
   "source": [
    "sc.sql('SELECT * FROM pq_crp_indivs18').limit(10).show()"
   ]
  },
  {
   "cell_type": "code",
   "execution_count": 14,
   "metadata": {},
   "outputs": [
    {
     "name": "stdout",
     "output_type": "stream",
     "text": [
      "+------------+--------+\n",
      "|   contribid|naliases|\n",
      "+------------+--------+\n",
      "|p0004075947@|       9|\n",
      "|U00000034401|       8|\n",
      "|h1001190515 |       6|\n",
      "|i3003641636 |       6|\n",
      "|f90002440251|       6|\n",
      "|n0001438182 |       5|\n",
      "|h10012043821|       5|\n",
      "|Y0000000455L|       5|\n",
      "|h1001478607 |       5|\n",
      "|m0001582924 |       5|\n",
      "+------------+--------+\n",
      "\n"
     ]
    }
   ],
   "source": [
    "sc.sql('SELECT contribid, COUNT(DISTINCT(contrib)) AS naliases FROM pq_crp_indivs18 GROUP BY contribid SORT BY naliases DESC').limit(10).show()"
   ]
  },
  {
   "cell_type": "code",
   "execution_count": 15,
   "metadata": {},
   "outputs": [
    {
     "name": "stdout",
     "output_type": "stream",
     "text": [
      "+-----+-------------------+------------+--------------------+---------+-------+------+--------+----------+------+------+-----------------+-----+-----+---------+----+---------+-------+------+------------------+----------+--------+------+\n",
      "|cycle|         fectransid|   contribid|             contrib|  recipid|orgname|ultorg|realcode|      date|amount|street|             city|state|  zip|recipcode|type|   cmteid|otherid|gender|         microfilm|occupation|employer|source|\n",
      "+-----+-------------------+------------+--------------------+---------+-------+------+--------+----------+------+------+-----------------+-----+-----+---------+----+---------+-------+------+------------------+----------+--------+------+\n",
      "| 2018|4022220181514484332|p0004075947@|    BRINKMAN, AUDREY|N00033842|Retired|      |   J1100|2017-10-23|   105|      |THIEF RIVER FALLS|   MN|56701|       RI| 15 |C00505776|       |     F|201801309090940377|   RETIRED|    NONE| Gen  |\n",
      "| 2018|4022220181514484334|p0004075947@|    BRINKMAN, AUDREY|N00033842|Retired|      |   J1100|2017-12-12|   106|      |THIEF RIVER FALLS|   MN|56701|       RI| 15 |C00505776|       |     F|201801309090940377|   RETIRED|    NONE| Gen  |\n",
      "| 2018|4022220181514567477|p0004075947@|BRINKMAN, AUDREY MRS|C00075820|Retired|      |   X1200|2017-10-19|    35|      |THIEF RIVER FALLS|   MN|56701|       RP| 15 |C00075820|       |     F|201802229095508597|   RETIRED| RETIRED| Gen  |\n",
      "| 2018|4022220181514567478|p0004075947@|BRINKMAN, AUDREY MRS|C00075820|Retired|      |   X1200|2017-10-27|   108|      |THIEF RIVER FALLS|   MN|56701|       RP| 15 |C00075820|       |     F|201802229095508598|   RETIRED| RETIRED| Gen  |\n",
      "| 2018|4022220181514501030|p0004075947@|  BRINKMAN, AUDREY M|N00035440|Retired|      |   J1100|2017-11-27|    50|      |THIEF RIVER FALLS|   MN|56701|       RI| 15 |C00545749|       |     F|201801309090927694|   RETIRED|    NONE| Gen  |\n",
      "| 2018|4022620181515621213|p0004075947@|BRINKMAN, AUDREY MRS|C00075820|Retired|      |   X1200|2017-11-08|    70|      |THIEF RIVER FALLS|   MN|56701|       RP| 15 |C00075820|       |     F|201802229095510373|   RETIRED| RETIRED| Gen  |\n",
      "| 2018|4041020181525740091|p0004075947@|    BRINKMAN, AUDREY|N00033842|Retired|      |   J1100|2018-01-15|   105|      |THIEF RIVER FALLS|   MN|56701|       RI| 15 |C00505776|       |     F|201804099104800551|   RETIRED|    NONE| Gen  |\n",
      "| 2018|4041120181525792894|p0004075947@|BRINKMAN, AUDREY ...|N00004357|Retired|      |   X1200|2018-01-16|   100|      |THIEF RIVER FALLS|   MN|56701|       RI| 15J|C00330894|       |     F|                  |   RETIRED| RETIRED| Gen  |\n",
      "| 2018|4041220181525845397|p0004075947@|  BRINKMAN, AUDREY M|N00035440|Retired|      |   J1100|2018-02-14|    50|      |THIEF RIVER FALLS|   MN|56701|       RI| 15 |C00545749|       |     F|201804129107997630|   RETIRED|    NONE| Gen  |\n",
      "| 2018|4052120181565964322|p0004075947@|BRINKMAN, AUDREY MRS|C00075820|Retired|      |   X1200|2018-03-06|     1|      |THIEF RIVER FALLS|   MN|56701|       RP| 15 |C00075820|       |     F|201805209112150261|   RETIRED| RETIRED| Gen  |\n",
      "+-----+-------------------+------------+--------------------+---------+-------+------+--------+----------+------+------+-----------------+-----+-----+---------+----+---------+-------+------+------------------+----------+--------+------+\n",
      "\n"
     ]
    }
   ],
   "source": [
    "sc.sql(\"SELECT * FROM pq_crp_indivs18 WHERE contribid='p0004075947@'\").limit(10).show()"
   ]
  },
  {
   "cell_type": "code",
   "execution_count": 8,
   "metadata": {},
   "outputs": [],
   "source": [
    "zipCmte = sc.sql('SELECT SUM(amount) AS total_amount, zip, cmteid FROM pq_crp_indivs18 GROUP BY zip, cmteid SORT BY total_amount DESC')"
   ]
  },
  {
   "cell_type": "code",
   "execution_count": 9,
   "metadata": {},
   "outputs": [],
   "source": [
    "zipCmte.registerTempTable('zip_cmte_amt')"
   ]
  },
  {
   "cell_type": "code",
   "execution_count": 11,
   "metadata": {},
   "outputs": [
    {
     "name": "stdout",
     "output_type": "stream",
     "text": [
      "+------------+-----+---------+\n",
      "|total_amount|  zip|   cmteid|\n",
      "+------------+-----+---------+\n",
      "|      734900|65085|C00075820|\n",
      "|      534257|94583|C00035006|\n",
      "|      450073|90274|C00003418|\n",
      "|      215112|20005|C00562777|\n",
      "|      193100|46536|C00075820|\n",
      "|      169077|07043|C00640003|\n",
      "|      167424|77056|C00429662|\n",
      "|      156437|94103|C00401224|\n",
      "|      123750|53217|C00647164|\n",
      "|      122000|10023|C00489799|\n",
      "+------------+-----+---------+\n",
      "\n"
     ]
    }
   ],
   "source": [
    "sc.sql('SELECT * FROM zip_cmte_amt').limit(10).show()"
   ]
  },
  {
   "cell_type": "code",
   "execution_count": 12,
   "metadata": {},
   "outputs": [
    {
     "name": "stdout",
     "output_type": "stream",
     "text": [
      "+-----+-------------------+---------+--------------------+--------------------+----------+-----+-----+--------------------+--------+----------+--------+---------+-----+---------+---------+-------------+-----+------+---+------------------+----+--------+------+\n",
      "|cycle|           fecrecno|  filerid|           donorcmte|    contriblendtrans|      city|state|  zip|           fecoccemp|primcode|      date|  amount|  recipid|party|  otherid|recipcode|recipprimcode|amend|report| pg|         microfilm|type|realcode|source|\n",
      "+-----+-------------------+---------+--------------------+--------------------+----------+-----+-----+--------------------+--------+----------+--------+---------+-----+---------+---------+-------------+-----+------+---+------------------+----+--------+------+\n",
      "| 2018|1010320180036112556|C00637983|   Nardolillo, Bobby|ROBERT A NARDOLLI...|    GREENE|   RI|02827|NARDOLILLO FUNERA...|   Z1100|2017-03-03|  2000.0|N00040819|    R|S8RI00110|       RC|        Z1100|    A|   Q2 |  P|201707200200233820| 16C|   Z1100| PAC  |\n",
      "| 2018|1010320180036112568|C00637983|    Bobby for Senate|LEADERSHIP CONNEC...|  TRUMBULL|   CT|06611|                    |   Z1100|2017-06-26|   280.0|C00499863|     |C00499863|       PI|        J1100|    A|   Q2 |  P|201707200200233825| 24G|   Z1100| PAC  |\n",
      "| 2018|1010320180036112716|C00443218|Wicker Majority Fund|WICKER MAJORITY FUND|   JACKSON|   MS|39205|                    |   Z4100|2017-09-30|  3323.0|N00003280|    R|C00646380|       RI|        Z1100|    A|   Q3 |  G|201710200200357062| 18G|   Z4100| PAC  |\n",
      "| 2018|1010320180036112854|C00443218|2017 Senators Cla...|2017 SENATORS CLA...|ALEXANDRIA|   VA|22314|                    |   Z4100|2017-09-20|  9530.0|N00003280|    R|C00637181|       RI|        Z1100|    A|   Q3 |  P|201710200200357063| 18G|   Z4100| PAC  |\n",
      "| 2018|1010320180036112855|C00443218|National Cotton C...|COMMITEE FOR ADVA...|   MEMPHIS|   TN|38182|                    |   A1100|2017-07-05|  2000.0|N00003280|    R|C00023028|       RI|        Z1100|    A|   Q3 |  P|201710200200357063| 18J|   A1100| PAC  |\n",
      "| 2018|1010320180036112856|C00443218|Property Casualty...|              PCIPAC|   CHICAGO|   IL|60631|                    |   F3400|2017-07-05|  1000.0|N00003280|    R|C00066472|       RI|        Z1100|    A|   Q3 |  P|201710200200357063| 18J|   F3400| PAC  |\n",
      "| 2018|1010320180036112857|C00443218|Liberty Mutual In...|  LIBERTY MUTUAL PAC|    BOSTON|   MA|02116|                    |   F3400|2017-07-05|  1000.0|N00003280|    R|C00171843|       RI|        Z1100|    A|   Q3 |  P|201710200200357064| 18J|   F3400| PAC  |\n",
      "| 2018|1010320180036112858|C00443218|Northrop Grumman ...|ORBITAL ATK INC. PAC| ARLINGTON|   VA|22209|                    |   D2000|2017-07-05|  1500.0|N00003280|    R|C00250209|       RI|        Z1100|    A|   Q3 |  P|201710200200357064| 18J|   D2000| PAC  |\n",
      "| 2018|1010320180036112863|C00443218|Wicker Majority Fund|WICKER MAJORITY FUND|   JACKSON|   MS|39205|                    |   Z4100|2017-09-30|  9709.0|N00003280|    R|C00646380|       RI|        Z1100|    A|   Q3 |  P|201710200200357066| 18G|   Z4100| PAC  |\n",
      "| 2018|1010420180036113536|C00633073|Massachusetts Wis...|TAMMY BALDWIN FOR...|   MADISON|     |     |                    |   Z4200|2017-08-30|326801.0|N00004367|    D|C00326801|       DI|        Z1200|    A|   Q3 |  P|201710100200281568| 24G|   Z4200| PAC  |\n",
      "+-----+-------------------+---------+--------------------+--------------------+----------+-----+-----+--------------------+--------+----------+--------+---------+-----+---------+---------+-------------+-----+------+---+------------------+----+--------+------+\n",
      "\n"
     ]
    }
   ],
   "source": [
    "sc.sql('SELECT * FROM pq_crp_pac_other18').limit(10).show()"
   ]
  },
  {
   "cell_type": "code",
   "execution_count": null,
   "metadata": {},
   "outputs": [],
   "source": []
  }
 ],
 "metadata": {
  "kernelspec": {
   "display_name": "Python 3",
   "language": "python",
   "name": "python3"
  },
  "language_info": {
   "codemirror_mode": {
    "name": "ipython",
    "version": 3
   },
   "file_extension": ".py",
   "mimetype": "text/x-python",
   "name": "python",
   "nbconvert_exporter": "python",
   "pygments_lexer": "ipython3",
   "version": "3.7.0"
  }
 },
 "nbformat": 4,
 "nbformat_minor": 2
}
