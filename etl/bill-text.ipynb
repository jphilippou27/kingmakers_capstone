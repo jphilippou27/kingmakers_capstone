{
 "cells": [
  {
   "cell_type": "code",
   "execution_count": 1,
   "metadata": {},
   "outputs": [],
   "source": [
    "import pandas as pd\n",
    "import numpy as np\n",
    "import nltk\n",
    "import pyspark\n",
    "import matplotlib.pyplot as plt\n",
    "import os.path as osp\n",
    "import os\n",
    "import shutil\n",
    "from IPython.display import display, HTML\n",
    "\n",
    "%matplotlib notebook"
   ]
  },
  {
   "cell_type": "code",
   "execution_count": 2,
   "metadata": {},
   "outputs": [
    {
     "name": "stdout",
     "output_type": "stream",
     "text": [
      "/opt/anaconda3/bin/beeline\n"
     ]
    }
   ],
   "source": [
    "!which beeline"
   ]
  },
  {
   "cell_type": "code",
   "execution_count": 3,
   "metadata": {},
   "outputs": [
    {
     "name": "stdout",
     "output_type": "stream",
     "text": [
      "matt\n"
     ]
    }
   ],
   "source": [
    "!whoami"
   ]
  },
  {
   "cell_type": "code",
   "execution_count": 4,
   "metadata": {},
   "outputs": [
    {
     "name": "stdout",
     "output_type": "stream",
     "text": [
      "/home/matt/etl\n"
     ]
    }
   ],
   "source": [
    "!pwd"
   ]
  },
  {
   "cell_type": "code",
   "execution_count": 5,
   "metadata": {},
   "outputs": [],
   "source": [
    "os.chdir('/home/matt/etl/bill-text/')"
   ]
  },
  {
   "cell_type": "code",
   "execution_count": 6,
   "metadata": {},
   "outputs": [],
   "source": [
    "!ls"
   ]
  },
  {
   "cell_type": "markdown",
   "metadata": {},
   "source": [
    "Ready for Markdown abuse? Here we go!"
   ]
  },
  {
   "cell_type": "code",
   "execution_count": 7,
   "metadata": {},
   "outputs": [
    {
     "data": {
      "text/html": [
       "<h2>wget -O hr-113-1.zip https://www.govinfo.gov/bulkdata/BILLS/113/1/hr/BILLS-113-1-hr.zip</h2>"
      ],
      "text/plain": [
       "<IPython.core.display.HTML object>"
      ]
     },
     "metadata": {},
     "output_type": "display_data"
    },
    {
     "name": "stdout",
     "output_type": "stream",
     "text": [
      "--2018-10-13 03:24:11--  https://www.govinfo.gov/bulkdata/BILLS/113/1/hr/BILLS-113-1-hr.zip\n",
      "Resolving www.govinfo.gov (www.govinfo.gov)... 162.140.14.21\n",
      "Connecting to www.govinfo.gov (www.govinfo.gov)|162.140.14.21|:443... connected.\n",
      "HTTP request sent, awaiting response... 200 OK\n",
      "Syntax error in Set-Cookie: HttpOnly;Secure at position 9.\n",
      "Length: 38787151 (37M) [application/zip]\n",
      "Saving to: ‘hr-113-1.zip’\n",
      "\n",
      "100%[======================================>] 38,787,151  1.89MB/s   in 20s    \n",
      "\n",
      "2018-10-13 03:24:31 (1.89 MB/s) - ‘hr-113-1.zip’ saved [38787151/38787151]\n",
      "\n"
     ]
    },
    {
     "data": {
      "text/html": [
       "<h2>wget -O hr-113-2.zip https://www.govinfo.gov/bulkdata/BILLS/113/2/hr/BILLS-113-2-hr.zip</h2>"
      ],
      "text/plain": [
       "<IPython.core.display.HTML object>"
      ]
     },
     "metadata": {},
     "output_type": "display_data"
    },
    {
     "name": "stdout",
     "output_type": "stream",
     "text": [
      "--2018-10-13 03:24:31--  https://www.govinfo.gov/bulkdata/BILLS/113/2/hr/BILLS-113-2-hr.zip\n",
      "Resolving www.govinfo.gov (www.govinfo.gov)... 162.140.14.21\n",
      "Connecting to www.govinfo.gov (www.govinfo.gov)|162.140.14.21|:443... connected.\n",
      "HTTP request sent, awaiting response... 200 OK\n",
      "Syntax error in Set-Cookie: HttpOnly;Secure at position 9.\n",
      "Length: 31486595 (30M) [application/zip]\n",
      "Saving to: ‘hr-113-2.zip’\n",
      "\n",
      "100%[======================================>] 31,486,595  1.96MB/s   in 15s    \n",
      "\n",
      "2018-10-13 03:24:47 (1.95 MB/s) - ‘hr-113-2.zip’ saved [31486595/31486595]\n",
      "\n"
     ]
    },
    {
     "data": {
      "text/html": [
       "<h2>wget -O hr-114-1.zip https://www.govinfo.gov/bulkdata/BILLS/114/1/hr/BILLS-114-1-hr.zip</h2>"
      ],
      "text/plain": [
       "<IPython.core.display.HTML object>"
      ]
     },
     "metadata": {},
     "output_type": "display_data"
    },
    {
     "name": "stdout",
     "output_type": "stream",
     "text": [
      "--2018-10-13 03:24:47--  https://www.govinfo.gov/bulkdata/BILLS/114/1/hr/BILLS-114-1-hr.zip\n",
      "Resolving www.govinfo.gov (www.govinfo.gov)... 162.140.14.21\n",
      "Connecting to www.govinfo.gov (www.govinfo.gov)|162.140.14.21|:443... connected.\n",
      "HTTP request sent, awaiting response... 200 OK\n",
      "Syntax error in Set-Cookie: HttpOnly;Secure at position 9.\n",
      "Length: 44807667 (43M) [application/zip]\n",
      "Saving to: ‘hr-114-1.zip’\n",
      "\n",
      "100%[======================================>] 44,807,667  1.95MB/s   in 22s    \n",
      "\n",
      "2018-10-13 03:25:10 (1.94 MB/s) - ‘hr-114-1.zip’ saved [44807667/44807667]\n",
      "\n"
     ]
    },
    {
     "data": {
      "text/html": [
       "<h2>wget -O hr-114-2.zip https://www.govinfo.gov/bulkdata/BILLS/114/2/hr/BILLS-114-2-hr.zip</h2>"
      ],
      "text/plain": [
       "<IPython.core.display.HTML object>"
      ]
     },
     "metadata": {},
     "output_type": "display_data"
    },
    {
     "name": "stdout",
     "output_type": "stream",
     "text": [
      "--2018-10-13 03:25:10--  https://www.govinfo.gov/bulkdata/BILLS/114/2/hr/BILLS-114-2-hr.zip\n",
      "Resolving www.govinfo.gov (www.govinfo.gov)... 162.140.14.21\n",
      "Connecting to www.govinfo.gov (www.govinfo.gov)|162.140.14.21|:443... connected.\n",
      "HTTP request sent, awaiting response... 200 OK\n",
      "Syntax error in Set-Cookie: HttpOnly;Secure at position 9.\n",
      "Length: 28801549 (27M) [application/zip]\n",
      "Saving to: ‘hr-114-2.zip’\n",
      "\n",
      "100%[======================================>] 28,801,549  1.89MB/s   in 15s    \n",
      "\n",
      "2018-10-13 03:25:30 (1.87 MB/s) - ‘hr-114-2.zip’ saved [28801549/28801549]\n",
      "\n"
     ]
    },
    {
     "data": {
      "text/html": [
       "<h2>wget -O hr-115-1.zip https://www.govinfo.gov/bulkdata/BILLS/115/1/hr/BILLS-115-1-hr.zip</h2>"
      ],
      "text/plain": [
       "<IPython.core.display.HTML object>"
      ]
     },
     "metadata": {},
     "output_type": "display_data"
    },
    {
     "name": "stdout",
     "output_type": "stream",
     "text": [
      "--2018-10-13 03:25:30--  https://www.govinfo.gov/bulkdata/BILLS/115/1/hr/BILLS-115-1-hr.zip\n",
      "Resolving www.govinfo.gov (www.govinfo.gov)... 162.140.14.21\n",
      "Connecting to www.govinfo.gov (www.govinfo.gov)|162.140.14.21|:443... connected.\n",
      "HTTP request sent, awaiting response... 200 OK\n",
      "Syntax error in Set-Cookie: HttpOnly;Secure at position 9.\n",
      "Length: 47296838 (45M) [application/zip]\n",
      "Saving to: ‘hr-115-1.zip’\n",
      "\n",
      "100%[======================================>] 47,296,838  1.88MB/s   in 24s    \n",
      "\n",
      "2018-10-13 03:26:00 (1.87 MB/s) - ‘hr-115-1.zip’ saved [47296838/47296838]\n",
      "\n"
     ]
    },
    {
     "data": {
      "text/html": [
       "<h2>wget -O hr-115-2.zip https://www.govinfo.gov/bulkdata/BILLS/115/2/hr/BILLS-115-2-hr.zip</h2>"
      ],
      "text/plain": [
       "<IPython.core.display.HTML object>"
      ]
     },
     "metadata": {},
     "output_type": "display_data"
    },
    {
     "name": "stdout",
     "output_type": "stream",
     "text": [
      "--2018-10-13 03:26:00--  https://www.govinfo.gov/bulkdata/BILLS/115/2/hr/BILLS-115-2-hr.zip\n",
      "Resolving www.govinfo.gov (www.govinfo.gov)... 162.140.14.21\n",
      "Connecting to www.govinfo.gov (www.govinfo.gov)|162.140.14.21|:443... connected.\n",
      "HTTP request sent, awaiting response... 200 OK\n",
      "Syntax error in Set-Cookie: HttpOnly;Secure at position 9.\n",
      "Length: 38356141 (37M) [application/zip]\n",
      "Saving to: ‘hr-115-2.zip’\n",
      "\n",
      "100%[======================================>] 38,356,141  1.96MB/s   in 19s    \n",
      "\n",
      "2018-10-13 03:26:19 (1.95 MB/s) - ‘hr-115-2.zip’ saved [38356141/38356141]\n",
      "\n"
     ]
    },
    {
     "data": {
      "text/html": [
       "<h2>wget -O s-113-1.zip https://www.govinfo.gov/bulkdata/BILLS/113/1/s/BILLS-113-1-s.zip</h2>"
      ],
      "text/plain": [
       "<IPython.core.display.HTML object>"
      ]
     },
     "metadata": {},
     "output_type": "display_data"
    },
    {
     "name": "stdout",
     "output_type": "stream",
     "text": [
      "--2018-10-13 03:26:20--  https://www.govinfo.gov/bulkdata/BILLS/113/1/s/BILLS-113-1-s.zip\n",
      "Resolving www.govinfo.gov (www.govinfo.gov)... 162.140.14.21\n",
      "Connecting to www.govinfo.gov (www.govinfo.gov)|162.140.14.21|:443... connected.\n",
      "HTTP request sent, awaiting response... 200 OK\n",
      "Syntax error in Set-Cookie: HttpOnly;Secure at position 9.\n",
      "Length: 23846413 (23M) [application/zip]\n",
      "Saving to: ‘s-113-1.zip’\n",
      "\n",
      "100%[======================================>] 23,846,413  1.97MB/s   in 12s    \n",
      "\n",
      "2018-10-13 03:26:32 (1.95 MB/s) - ‘s-113-1.zip’ saved [23846413/23846413]\n",
      "\n"
     ]
    },
    {
     "data": {
      "text/html": [
       "<h2>wget -O s-113-2.zip https://www.govinfo.gov/bulkdata/BILLS/113/2/s/BILLS-113-2-s.zip</h2>"
      ],
      "text/plain": [
       "<IPython.core.display.HTML object>"
      ]
     },
     "metadata": {},
     "output_type": "display_data"
    },
    {
     "name": "stdout",
     "output_type": "stream",
     "text": [
      "--2018-10-13 03:26:32--  https://www.govinfo.gov/bulkdata/BILLS/113/2/s/BILLS-113-2-s.zip\n",
      "Resolving www.govinfo.gov (www.govinfo.gov)... 162.140.14.21\n",
      "Connecting to www.govinfo.gov (www.govinfo.gov)|162.140.14.21|:443... connected.\n",
      "HTTP request sent, awaiting response... 200 OK\n",
      "Syntax error in Set-Cookie: HttpOnly;Secure at position 9.\n",
      "Length: 15037458 (14M) [application/zip]\n",
      "Saving to: ‘s-113-2.zip’\n",
      "\n",
      "100%[======================================>] 15,037,458  1.95MB/s   in 7.4s   \n",
      "\n",
      "2018-10-13 03:26:45 (1.94 MB/s) - ‘s-113-2.zip’ saved [15037458/15037458]\n",
      "\n"
     ]
    },
    {
     "data": {
      "text/html": [
       "<h2>wget -O s-114-1.zip https://www.govinfo.gov/bulkdata/BILLS/114/1/s/BILLS-114-1-s.zip</h2>"
      ],
      "text/plain": [
       "<IPython.core.display.HTML object>"
      ]
     },
     "metadata": {},
     "output_type": "display_data"
    },
    {
     "name": "stdout",
     "output_type": "stream",
     "text": [
      "--2018-10-13 03:26:45--  https://www.govinfo.gov/bulkdata/BILLS/114/1/s/BILLS-114-1-s.zip\n",
      "Resolving www.govinfo.gov (www.govinfo.gov)... 162.140.14.21\n",
      "Connecting to www.govinfo.gov (www.govinfo.gov)|162.140.14.21|:443... connected.\n",
      "HTTP request sent, awaiting response... 200 OK\n",
      "Syntax error in Set-Cookie: HttpOnly;Secure at position 9.\n",
      "Length: 25017956 (24M) [application/zip]\n",
      "Saving to: ‘s-114-1.zip’\n",
      "\n",
      "100%[======================================>] 25,017,956  1.88MB/s   in 13s    \n",
      "\n",
      "2018-10-13 03:26:58 (1.88 MB/s) - ‘s-114-1.zip’ saved [25017956/25017956]\n",
      "\n"
     ]
    },
    {
     "data": {
      "text/html": [
       "<h2>wget -O s-114-2.zip https://www.govinfo.gov/bulkdata/BILLS/114/2/s/BILLS-114-2-s.zip</h2>"
      ],
      "text/plain": [
       "<IPython.core.display.HTML object>"
      ]
     },
     "metadata": {},
     "output_type": "display_data"
    },
    {
     "name": "stdout",
     "output_type": "stream",
     "text": [
      "--2018-10-13 03:26:58--  https://www.govinfo.gov/bulkdata/BILLS/114/2/s/BILLS-114-2-s.zip\n",
      "Resolving www.govinfo.gov (www.govinfo.gov)... 162.140.14.21\n",
      "Connecting to www.govinfo.gov (www.govinfo.gov)|162.140.14.21|:443... connected.\n",
      "HTTP request sent, awaiting response... 200 OK\n",
      "Syntax error in Set-Cookie: HttpOnly;Secure at position 9.\n",
      "Length: 22414691 (21M) [application/zip]\n",
      "Saving to: ‘s-114-2.zip’\n",
      "\n",
      "100%[======================================>] 22,414,691  1.94MB/s   in 11s    \n",
      "\n",
      "2018-10-13 03:27:10 (1.93 MB/s) - ‘s-114-2.zip’ saved [22414691/22414691]\n",
      "\n"
     ]
    },
    {
     "data": {
      "text/html": [
       "<h2>wget -O s-115-1.zip https://www.govinfo.gov/bulkdata/BILLS/115/1/s/BILLS-115-1-s.zip</h2>"
      ],
      "text/plain": [
       "<IPython.core.display.HTML object>"
      ]
     },
     "metadata": {},
     "output_type": "display_data"
    },
    {
     "name": "stdout",
     "output_type": "stream",
     "text": [
      "--2018-10-13 03:27:10--  https://www.govinfo.gov/bulkdata/BILLS/115/1/s/BILLS-115-1-s.zip\n",
      "Resolving www.govinfo.gov (www.govinfo.gov)... 162.140.14.21\n",
      "Connecting to www.govinfo.gov (www.govinfo.gov)|162.140.14.21|:443... connected.\n",
      "HTTP request sent, awaiting response... 200 OK\n",
      "Syntax error in Set-Cookie: HttpOnly;Secure at position 9.\n",
      "Length: 21222690 (20M) [application/zip]\n",
      "Saving to: ‘s-115-1.zip’\n",
      "\n",
      "100%[======================================>] 21,222,690  1.96MB/s   in 10s    \n",
      "\n",
      "2018-10-13 03:27:21 (1.95 MB/s) - ‘s-115-1.zip’ saved [21222690/21222690]\n",
      "\n"
     ]
    },
    {
     "data": {
      "text/html": [
       "<h2>wget -O s-115-2.zip https://www.govinfo.gov/bulkdata/BILLS/115/2/s/BILLS-115-2-s.zip</h2>"
      ],
      "text/plain": [
       "<IPython.core.display.HTML object>"
      ]
     },
     "metadata": {},
     "output_type": "display_data"
    },
    {
     "name": "stdout",
     "output_type": "stream",
     "text": [
      "--2018-10-13 03:27:21--  https://www.govinfo.gov/bulkdata/BILLS/115/2/s/BILLS-115-2-s.zip\n",
      "Resolving www.govinfo.gov (www.govinfo.gov)... 162.140.14.21\n",
      "Connecting to www.govinfo.gov (www.govinfo.gov)|162.140.14.21|:443... connected.\n",
      "HTTP request sent, awaiting response... 200 OK\n",
      "Syntax error in Set-Cookie: HttpOnly;Secure at position 9.\n",
      "Length: 14420646 (14M) [application/zip]\n",
      "Saving to: ‘s-115-2.zip’\n",
      "\n",
      "100%[======================================>] 14,420,646  1.94MB/s   in 7.1s   \n",
      "\n",
      "2018-10-13 03:27:29 (1.93 MB/s) - ‘s-115-2.zip’ saved [14420646/14420646]\n",
      "\n"
     ]
    }
   ],
   "source": [
    "for house in ['hr', 's']:\n",
    "    for yr in ['113', '114', '115']:\n",
    "        for sess in ['1', '2']:\n",
    "            url = f'https://www.govinfo.gov/bulkdata/BILLS/{yr}/{sess}/{house}/BILLS-{yr}-{sess}-{house}.zip'\n",
    "            cmd = f'wget -O {house}-{yr}-{sess}.zip {url}'\n",
    "            display(HTML(f'<h2>{cmd}</h2>'))\n",
    "            !$cmd"
   ]
  },
  {
   "cell_type": "code",
   "execution_count": 8,
   "metadata": {},
   "outputs": [
    {
     "name": "stdout",
     "output_type": "stream",
     "text": [
      "hr-113-1.zip  hr-114-1.zip  hr-115-1.zip  s-113-1.zip  s-114-1.zip  s-115-1.zip\n",
      "hr-113-2.zip  hr-114-2.zip  hr-115-2.zip  s-113-2.zip  s-114-2.zip  s-115-2.zip\n"
     ]
    }
   ],
   "source": [
    "!ls"
   ]
  },
  {
   "cell_type": "markdown",
   "metadata": {},
   "source": [
    "OK, now unzip these files..."
   ]
  },
  {
   "cell_type": "code",
   "execution_count": 13,
   "metadata": {},
   "outputs": [],
   "source": [
    "files = os.listdir()\n",
    "for f in files:\n",
    "    !unzip -q {f} -d billtexts/"
   ]
  },
  {
   "cell_type": "markdown",
   "metadata": {},
   "source": [
    "## Parse them"
   ]
  },
  {
   "cell_type": "code",
   "execution_count": 54,
   "metadata": {},
   "outputs": [],
   "source": [
    "import re\n",
    "import lxml.etree as ET"
   ]
  },
  {
   "cell_type": "code",
   "execution_count": 79,
   "metadata": {},
   "outputs": [],
   "source": [
    "class Bill(object):\n",
    "    \"\"\"\n",
    "    Parses an XML bill file from Congress.\n",
    "    \"\"\"\n",
    "    \n",
    "    @classmethod\n",
    "    def __init__(self, xml_file):\n",
    "        # Escape ampersands\n",
    "        with open(xml_file, 'r') as f:\n",
    "            conts = f.read()\n",
    "        conts = Bill.xml_clean(conts)\n",
    "        self.congress, self.house, self.billnum, self.extra = self.extract_metainfo(xml_file)\n",
    "        tree = ET.fromstring(conts)\n",
    "        self.official_title = ''.join(tree.xpath('//official-title//text()')).replace('&amp;', '&')\n",
    "        self.text = ' '.join(tree.xpath('//legis-body//text()')).replace('&amp;', '&')\n",
    "    \n",
    "    \n",
    "    @classmethod\n",
    "    def extract_metainfo(self, xml_file):\n",
    "        return re.match(r'.*BILLS-(?P<congress>\\d{2,3})(?P<house>s|hr)(?P<billnum>\\d+)(?P<extra>.*).xml', xml_file).groups()\n",
    "    \n",
    "    @staticmethod\n",
    "    def xml_clean(data):\n",
    "        \"\"\"\n",
    "        Replace ampersands (XML is a broken standard)\n",
    "        \"\"\"\n",
    "        data = re.sub(r'&', r'&amp;', data)\n",
    "        data = re.sub(r'&amp;amp;', r'&amp;', data)\n",
    "        return data"
   ]
  },
  {
   "cell_type": "code",
   "execution_count": 80,
   "metadata": {},
   "outputs": [],
   "source": [
    "import lxml.etree as ET\n",
    "os.makedirs('billtext_processed', exist_ok=True)\n",
    "\n",
    "for i, billFile in enumerate(os.listdir('billtexts')):\n",
    "    bill = Bill(osp.join('billtexts', billFile))\n",
    "    outName = f'{bill.house}-{bill.congress}-{bill.billnum}-{bill.extra}.txt'\n",
    "    if osp.exists(osp.join('billtext_processed', outName)):\n",
    "        raise Exception(f'Bill exists! {outName}')\n",
    "    with open(osp.join('billtext_processed', outName), 'w') as f:\n",
    "        f.write(bill.official_title + '\\n' + bill.text)"
   ]
  },
  {
   "cell_type": "markdown",
   "metadata": {},
   "source": [
    "## Clean up"
   ]
  },
  {
   "cell_type": "code",
   "execution_count": 81,
   "metadata": {},
   "outputs": [
    {
     "name": "stdout",
     "output_type": "stream",
     "text": [
      "billtext_processed  hr-113-2.zip  hr-115-1.zip\ts-113-2.zip  s-115-1.zip\n",
      "billtexts\t    hr-114-1.zip  hr-115-2.zip\ts-114-1.zip  s-115-2.zip\n",
      "hr-113-1.zip\t    hr-114-2.zip  s-113-1.zip\ts-114-2.zip\n"
     ]
    }
   ],
   "source": [
    "!ls"
   ]
  },
  {
   "cell_type": "code",
   "execution_count": 82,
   "metadata": {},
   "outputs": [],
   "source": [
    "!rm -rf *.zip billtexts"
   ]
  },
  {
   "cell_type": "code",
   "execution_count": 83,
   "metadata": {},
   "outputs": [
    {
     "name": "stdout",
     "output_type": "stream",
     "text": [
      "billtext_processed\n"
     ]
    }
   ],
   "source": [
    "!ls"
   ]
  },
  {
   "cell_type": "code",
   "execution_count": 84,
   "metadata": {},
   "outputs": [
    {
     "name": "stdout",
     "output_type": "stream",
     "text": [
      "2018-10-13 04:40:02,936 WARN util.NativeCodeLoader: Unable to load native-hadoop library for your platform... using builtin-java classes where applicable\n",
      "Found 3 items\n",
      "drwxrwxrwx   - matt   supergroup          0 2018-10-07 20:10 /staging\n",
      "drwxrwxrwx   - hadoop supergroup          0 2018-10-07 17:56 /tmp\n",
      "drwxr-xr-x   - matt   supergroup          0 2018-10-07 23:41 /user\n"
     ]
    }
   ],
   "source": [
    "!hdfs dfs -ls /"
   ]
  },
  {
   "cell_type": "code",
   "execution_count": 85,
   "metadata": {},
   "outputs": [
    {
     "name": "stdout",
     "output_type": "stream",
     "text": [
      "2018-10-13 04:40:15,429 WARN util.NativeCodeLoader: Unable to load native-hadoop library for your platform... using builtin-java classes where applicable\n"
     ]
    }
   ],
   "source": [
    "!hdfs dfs -mkdir -p /billtext"
   ]
  },
  {
   "cell_type": "code",
   "execution_count": 86,
   "metadata": {},
   "outputs": [
    {
     "name": "stdout",
     "output_type": "stream",
     "text": [
      "2018-10-13 04:40:35,998 WARN util.NativeCodeLoader: Unable to load native-hadoop library for your platform... using builtin-java classes where applicable\n"
     ]
    }
   ],
   "source": [
    "!hdfs dfs -put billtext_processed /billtext"
   ]
  },
  {
   "cell_type": "code",
   "execution_count": null,
   "metadata": {},
   "outputs": [],
   "source": []
  }
 ],
 "metadata": {
  "kernelspec": {
   "display_name": "Python 3",
   "language": "python",
   "name": "python3"
  },
  "language_info": {
   "codemirror_mode": {
    "name": "ipython",
    "version": 3
   },
   "file_extension": ".py",
   "mimetype": "text/x-python",
   "name": "python",
   "nbconvert_exporter": "python",
   "pygments_lexer": "ipython3",
   "version": "3.7.0"
  }
 },
 "nbformat": 4,
 "nbformat_minor": 2
}
