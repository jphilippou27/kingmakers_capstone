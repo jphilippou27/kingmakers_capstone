{
 "cells": [
  {
   "cell_type": "code",
   "execution_count": 1,
   "metadata": {},
   "outputs": [],
   "source": [
    "import pyspark\n",
    "import pyspark.sql.functions as F\n",
    "import pandas as pd\n",
    "import numpy as np\n",
    "import re\n",
    "import os\n",
    "import os.path as osp\n",
    "import sys"
   ]
  },
  {
   "cell_type": "code",
   "execution_count": 2,
   "metadata": {},
   "outputs": [
    {
     "name": "stdout",
     "output_type": "stream",
     "text": [
      "/home/matt/lsnm/etl\n"
     ]
    }
   ],
   "source": [
    "!pwd"
   ]
  },
  {
   "cell_type": "code",
   "execution_count": 3,
   "metadata": {},
   "outputs": [
    {
     "name": "stdout",
     "output_type": "stream",
     "text": [
      "matt\n"
     ]
    }
   ],
   "source": [
    "!whoami"
   ]
  },
  {
   "cell_type": "code",
   "execution_count": 4,
   "metadata": {},
   "outputs": [],
   "source": [
    "sc = pyspark.sql.SparkSession.Builder()\\\n",
    "        .appName('lsnm-etl')\\\n",
    "        .master('yarn')\\\n",
    "        .config('spark.executor.instances', '1')\\\n",
    "        .config('spark.yarn.executor.memoryOverhead', '3g')\\\n",
    "        .config('spark.executor.memory', '9g')\\\n",
    "        .config('spark.executor.cores', '2')\\\n",
    "        .enableHiveSupport()\\\n",
    "        .getOrCreate()"
   ]
  },
  {
   "cell_type": "code",
   "execution_count": 5,
   "metadata": {},
   "outputs": [],
   "source": [
    "def get_ids(table_name, column_name, entity_type_str, verbose=True):\n",
    "    query = f\"\"\"\n",
    "SELECT DISTINCT({column_name}) AS entity_id,\n",
    "  '{entity_type_str}' AS entity_type,\n",
    "  '{table_name}/{column_name}' AS src_table\n",
    "FROM {table_name}\n",
    "\"\"\"\n",
    "    \n",
    "    if verbose:\n",
    "        print(query)\n",
    "    \n",
    "    return sc.sql(query)"
   ]
  },
  {
   "cell_type": "markdown",
   "metadata": {},
   "source": [
    "# Build list of candidates by aggregating sources"
   ]
  },
  {
   "cell_type": "markdown",
   "metadata": {},
   "source": [
    "#### Candidates from `pq_crp_cands`"
   ]
  },
  {
   "cell_type": "code",
   "execution_count": 6,
   "metadata": {},
   "outputs": [
    {
     "name": "stdout",
     "output_type": "stream",
     "text": [
      "\n",
      "SELECT DISTINCT(cid) AS entity_id,\n",
      "  'cand' AS entity_type,\n",
      "  'pq_crp_cands/cid' AS src_table\n",
      "FROM pq_crp_cands\n",
      "\n"
     ]
    }
   ],
   "source": [
    "distinctCandsCands = get_ids('pq_crp_cands', 'cid', 'cand')"
   ]
  },
  {
   "cell_type": "code",
   "execution_count": 7,
   "metadata": {},
   "outputs": [
    {
     "name": "stdout",
     "output_type": "stream",
     "text": [
      "+-------------------------+\n",
      "|count(DISTINCT entity_id)|\n",
      "+-------------------------+\n",
      "|                    30677|\n",
      "+-------------------------+\n",
      "\n"
     ]
    }
   ],
   "source": [
    "distinctCandsCands.select(F.countDistinct('entity_id')).show()"
   ]
  },
  {
   "cell_type": "code",
   "execution_count": 8,
   "metadata": {},
   "outputs": [
    {
     "name": "stdout",
     "output_type": "stream",
     "text": [
      "+---------+-----------+----------------+\n",
      "|entity_id|entity_type|       src_table|\n",
      "+---------+-----------+----------------+\n",
      "|N00002819|       cand|pq_crp_cands/cid|\n",
      "|N00011981|       cand|pq_crp_cands/cid|\n",
      "|N00012017|       cand|pq_crp_cands/cid|\n",
      "|N00003276|       cand|pq_crp_cands/cid|\n",
      "|N00000837|       cand|pq_crp_cands/cid|\n",
      "|N00002092|       cand|pq_crp_cands/cid|\n",
      "|N00001192|       cand|pq_crp_cands/cid|\n",
      "|N00011875|       cand|pq_crp_cands/cid|\n",
      "|N00000462|       cand|pq_crp_cands/cid|\n",
      "|N00005010|       cand|pq_crp_cands/cid|\n",
      "+---------+-----------+----------------+\n",
      "\n"
     ]
    }
   ],
   "source": [
    "distinctCandsCands.limit(10).show()"
   ]
  },
  {
   "cell_type": "markdown",
   "metadata": {},
   "source": [
    "#### Distinct candidates from `pq_crp_pacs`"
   ]
  },
  {
   "cell_type": "code",
   "execution_count": 25,
   "metadata": {},
   "outputs": [
    {
     "name": "stdout",
     "output_type": "stream",
     "text": [
      "\n",
      "SELECT DISTINCT(cid) AS entity_id,\n",
      "  'cand' AS entity_type,\n",
      "  'pq_crp_pacs/cid' AS src_table\n",
      "FROM pq_crp_pacs\n",
      "\n"
     ]
    }
   ],
   "source": [
    "distinctCandsPacs = get_ids('pq_crp_pacs', 'cid', 'cand').filter(F.substring(F.col('entity_id'), 0, 1) == 'N')"
   ]
  },
  {
   "cell_type": "markdown",
   "metadata": {},
   "source": [
    "#### Distinct candidates from `pq_crp_pac_other`"
   ]
  },
  {
   "cell_type": "code",
   "execution_count": 12,
   "metadata": {},
   "outputs": [
    {
     "name": "stdout",
     "output_type": "stream",
     "text": [
      "\n",
      "SELECT DISTINCT(filerid) AS entity_id,\n",
      "  'cand' AS entity_type,\n",
      "  'pq_crp_pac_other/filerid' AS src_table\n",
      "FROM pq_crp_pac_other\n",
      "\n"
     ]
    }
   ],
   "source": [
    "distinctCandsPacOtherFiler = get_ids('pq_crp_pac_other', 'filerid', 'cand').filter(F.substring(F.col('entity_id'), 0, 1) == 'N')"
   ]
  },
  {
   "cell_type": "code",
   "execution_count": 14,
   "metadata": {},
   "outputs": [
    {
     "name": "stdout",
     "output_type": "stream",
     "text": [
      "\n",
      "SELECT DISTINCT(recipid) AS entity_id,\n",
      "  'cand' AS entity_type,\n",
      "  'pq_crp_pac_other/recipid' AS src_table\n",
      "FROM pq_crp_pac_other\n",
      "\n"
     ]
    }
   ],
   "source": [
    "distinctCandsPacRecip = get_ids('pq_crp_pac_other', 'recipid', 'cand').filter(F.substring(F.col('entity_id'), 0, 1) == 'N')"
   ]
  },
  {
   "cell_type": "code",
   "execution_count": 15,
   "metadata": {},
   "outputs": [
    {
     "name": "stdout",
     "output_type": "stream",
     "text": [
      "\n",
      "SELECT DISTINCT(otherid) AS entity_id,\n",
      "  'cand' AS entity_type,\n",
      "  'pq_crp_pac_other/otherid' AS src_table\n",
      "FROM pq_crp_pac_other\n",
      "\n"
     ]
    }
   ],
   "source": [
    "distinctCandsPacOtherOther = get_ids('pq_crp_pac_other', 'otherid', 'cand').filter(F.substring(F.col('entity_id'), 0, 1) == 'N')"
   ]
  },
  {
   "cell_type": "markdown",
   "metadata": {},
   "source": [
    "#### Distinct candidates from `pq_crp_expends`"
   ]
  },
  {
   "cell_type": "code",
   "execution_count": 33,
   "metadata": {},
   "outputs": [
    {
     "name": "stdout",
     "output_type": "stream",
     "text": [
      "\n",
      "SELECT DISTINCT(crpfilerid) AS entity_id,\n",
      "  'cand' AS entity_type,\n",
      "  'pq_crp_expends/crpfilerid' AS src_table\n",
      "FROM pq_crp_expends\n",
      "\n"
     ]
    }
   ],
   "source": [
    "distinctCandsExpendsFiler = get_ids('pq_crp_expends', 'crpfilerid', 'cand').filter(F.substring(F.col('entity_id'), 0, 1) == 'N')"
   ]
  },
  {
   "cell_type": "code",
   "execution_count": 34,
   "metadata": {},
   "outputs": [
    {
     "name": "stdout",
     "output_type": "stream",
     "text": [
      "\n",
      "SELECT DISTINCT(candid) AS entity_id,\n",
      "  'cand' AS entity_type,\n",
      "  'pq_crp_expends/candid' AS src_table\n",
      "FROM pq_crp_expends\n",
      "\n"
     ]
    }
   ],
   "source": [
    "distinctCandsExpendsCandid = get_ids('pq_crp_expends', 'candid', 'cand').filter(F.substring(F.col('entity_id'), 0, 1) == 'N')"
   ]
  },
  {
   "cell_type": "markdown",
   "metadata": {},
   "source": [
    "#### Distinct candidates from `pq_crp_indivs`"
   ]
  },
  {
   "cell_type": "code",
   "execution_count": 17,
   "metadata": {},
   "outputs": [
    {
     "name": "stdout",
     "output_type": "stream",
     "text": [
      "\n",
      "SELECT DISTINCT(recipid) AS entity_id,\n",
      "  'cand' AS entity_type,\n",
      "  'pq_crp_indivs/recipid' AS src_table\n",
      "FROM pq_crp_indivs\n",
      "\n"
     ]
    }
   ],
   "source": [
    "distinctCandsIndivsRecip = get_ids('pq_crp_indivs', 'recipid', 'cand').filter(F.substring(F.col('entity_id'), 0, 1) == 'N')"
   ]
  },
  {
   "cell_type": "code",
   "execution_count": 18,
   "metadata": {},
   "outputs": [
    {
     "name": "stdout",
     "output_type": "stream",
     "text": [
      "\n",
      "SELECT DISTINCT(cmteid) AS entity_id,\n",
      "  'cand' AS entity_type,\n",
      "  'pq_crp_indivs/cmteid' AS src_table\n",
      "FROM pq_crp_indivs\n",
      "\n"
     ]
    }
   ],
   "source": [
    "distinctCandsIndivsCmte = get_ids('pq_crp_indivs', 'cmteid', 'cand').filter(F.substring(F.col('entity_id'), 0, 1) == 'N')"
   ]
  },
  {
   "cell_type": "markdown",
   "metadata": {},
   "source": [
    "## Unify distinct sources of candidate id"
   ]
  },
  {
   "cell_type": "code",
   "execution_count": 35,
   "metadata": {},
   "outputs": [],
   "source": [
    "distinctCands = distinctCandsCands.unionAll(distinctCandsPacs)\\\n",
    "                                  .unionAll(distinctCandsPacOtherFiler)\\\n",
    "                                  .unionAll(distinctCandsPacRecip)\\\n",
    "                                  .unionAll(distinctCandsPacOtherOther)\\\n",
    "                                  .unionAll(distinctCandsExpendsFiler)\\\n",
    "                                  .unionAll(distinctCandsExpendsCandid)\\\n",
    "                                  .unionAll(distinctCandsIndivsRecip)\\\n",
    "                                  .unionAll(distinctCandsIndivsCmte)\\\n",
    "                                  .dropDuplicates(subset=['entity_id'])"
   ]
  },
  {
   "cell_type": "code",
   "execution_count": 36,
   "metadata": {},
   "outputs": [
    {
     "name": "stdout",
     "output_type": "stream",
     "text": [
      "+--------------------+-----+\n",
      "|           src_table|count|\n",
      "+--------------------+-----+\n",
      "|     pq_crp_pacs/cid|    6|\n",
      "|pq_crp_pac_other/...|    5|\n",
      "|pq_crp_pac_other/...|    1|\n",
      "|    pq_crp_cands/cid|30677|\n",
      "|pq_crp_expends/cr...|    8|\n",
      "|pq_crp_indivs/rec...|    1|\n",
      "+--------------------+-----+\n",
      "\n"
     ]
    }
   ],
   "source": [
    "distinctCands.groupBy('src_table').count().show()"
   ]
  },
  {
   "cell_type": "markdown",
   "metadata": {},
   "source": [
    "It's a good thing that appearances of unique `cid`s not contained in `pq_crp_cands` are quite rare. Only 21/30698 `cid`s appear outside this table."
   ]
  },
  {
   "cell_type": "markdown",
   "metadata": {},
   "source": [
    "# Repeat process for committees"
   ]
  },
  {
   "cell_type": "markdown",
   "metadata": {},
   "source": [
    "#### PACs from `pq_crp_cmtes`"
   ]
  },
  {
   "cell_type": "code",
   "execution_count": 28,
   "metadata": {},
   "outputs": [
    {
     "name": "stdout",
     "output_type": "stream",
     "text": [
      "\n",
      "SELECT DISTINCT(cmteid) AS entity_id,\n",
      "  'cmte' AS entity_type,\n",
      "  'pq_crp_cmtes/cmteid' AS src_table\n",
      "FROM pq_crp_cmtes\n",
      "\n"
     ]
    }
   ],
   "source": [
    "distinctPacCmtes = get_ids('pq_crp_cmtes', 'cmteid', 'cmte')"
   ]
  },
  {
   "cell_type": "code",
   "execution_count": 30,
   "metadata": {},
   "outputs": [
    {
     "name": "stdout",
     "output_type": "stream",
     "text": [
      "+-------------------------+\n",
      "|count(DISTINCT entity_id)|\n",
      "+-------------------------+\n",
      "|                    53312|\n",
      "+-------------------------+\n",
      "\n"
     ]
    }
   ],
   "source": [
    "distinctPacCmtes.select(F.countDistinct('entity_id')).show()"
   ]
  },
  {
   "cell_type": "code",
   "execution_count": 31,
   "metadata": {},
   "outputs": [
    {
     "name": "stdout",
     "output_type": "stream",
     "text": [
      "+---------+-----------+-------------------+\n",
      "|entity_id|entity_type|          src_table|\n",
      "+---------+-----------+-------------------+\n",
      "|C00000729|       cmte|pq_crp_cmtes/cmteid|\n",
      "|C00040220|       cmte|pq_crp_cmtes/cmteid|\n",
      "|C00068452|       cmte|pq_crp_cmtes/cmteid|\n",
      "|C00076992|       cmte|pq_crp_cmtes/cmteid|\n",
      "|C00118414|       cmte|pq_crp_cmtes/cmteid|\n",
      "|C00120469|       cmte|pq_crp_cmtes/cmteid|\n",
      "|C00126284|       cmte|pq_crp_cmtes/cmteid|\n",
      "|C00126581|       cmte|pq_crp_cmtes/cmteid|\n",
      "|C00136853|       cmte|pq_crp_cmtes/cmteid|\n",
      "|C00150995|       cmte|pq_crp_cmtes/cmteid|\n",
      "+---------+-----------+-------------------+\n",
      "\n"
     ]
    }
   ],
   "source": [
    "distinctPacCmtes.limit(10).show()"
   ]
  },
  {
   "cell_type": "code",
   "execution_count": 37,
   "metadata": {},
   "outputs": [
    {
     "name": "stdout",
     "output_type": "stream",
     "text": [
      "\n",
      "SELECT DISTINCT(pacid) AS entity_id,\n",
      "  'cand' AS entity_type,\n",
      "  'pq_crp_pacs/pacid' AS src_table\n",
      "FROM pq_crp_pacs\n",
      "\n",
      "\n",
      "SELECT DISTINCT(filerid) AS entity_id,\n",
      "  'cand' AS entity_type,\n",
      "  'pq_crp_pac_other/filerid' AS src_table\n",
      "FROM pq_crp_pac_other\n",
      "\n",
      "\n",
      "SELECT DISTINCT(recipid) AS entity_id,\n",
      "  'cand' AS entity_type,\n",
      "  'pq_crp_pac_other/recipid' AS src_table\n",
      "FROM pq_crp_pac_other\n",
      "\n",
      "\n",
      "SELECT DISTINCT(otherid) AS entity_id,\n",
      "  'cand' AS entity_type,\n",
      "  'pq_crp_pac_other/otherid' AS src_table\n",
      "FROM pq_crp_pac_other\n",
      "\n",
      "\n",
      "SELECT DISTINCT(crpfilerid) AS entity_id,\n",
      "  'cand' AS entity_type,\n",
      "  'pq_crp_expends/crpfilerid' AS src_table\n",
      "FROM pq_crp_expends\n",
      "\n",
      "\n",
      "SELECT DISTINCT(recipid) AS entity_id,\n",
      "  'cand' AS entity_type,\n",
      "  'pq_crp_indivs/recipid' AS src_table\n",
      "FROM pq_crp_indivs\n",
      "\n",
      "\n",
      "SELECT DISTINCT(cmteid) AS entity_id,\n",
      "  'cand' AS entity_type,\n",
      "  'pq_crp_indivs/cmteid' AS src_table\n",
      "FROM pq_crp_indivs\n",
      "\n"
     ]
    }
   ],
   "source": [
    "distinctPacPacs = get_ids('pq_crp_pacs', 'pacid', 'cand').filter(F.substring(F.col('entity_id'), 0, 1) == 'C')\n",
    "distinctPacPacOtherFiler = get_ids('pq_crp_pac_other', 'filerid', 'cand').filter(F.substring(F.col('entity_id'), 0, 1) == 'C')\n",
    "distinctPacPacOtherRecip = get_ids('pq_crp_pac_other', 'recipid', 'cand').filter(F.substring(F.col('entity_id'), 0, 1) == 'C')\n",
    "distinctPacPacOtherOther = get_ids('pq_crp_pac_other', 'otherid', 'cand').filter(F.substring(F.col('entity_id'), 0, 1) == 'C')\n",
    "distinctPacExpends = get_ids('pq_crp_expends', 'crpfilerid', 'cand').filter(F.substring(F.col('entity_id'), 0, 1) == 'C')\n",
    "distinctPacIndivsRecip = get_ids('pq_crp_indivs', 'recipid', 'cand').filter(F.substring(F.col('entity_id'), 0, 1) == 'C')\n",
    "distinctPacIndivsCmte = get_ids('pq_crp_indivs', 'cmteid', 'cand').filter(F.substring(F.col('entity_id'), 0, 1) == 'C')\n",
    "\n",
    "distinctPacs = distinctPacCmtes.unionAll(distinctPacPacs)\\\n",
    "                                .unionAll(distinctPacPacOtherFiler)\\\n",
    "                                .unionAll(distinctPacPacOtherRecip)\\\n",
    "                                .unionAll(distinctPacPacOtherOther)\\\n",
    "                                .unionAll(distinctPacExpends)\\\n",
    "                                .unionAll(distinctPacIndivsRecip)\\\n",
    "                                .unionAll(distinctPacIndivsCmte)\\\n",
    "                                .dropDuplicates(subset=['entity_id'])"
   ]
  },
  {
   "cell_type": "code",
   "execution_count": 39,
   "metadata": {},
   "outputs": [
    {
     "name": "stdout",
     "output_type": "stream",
     "text": [
      "+--------------------+-----+\n",
      "|           src_table|count|\n",
      "+--------------------+-----+\n",
      "|pq_crp_pac_other/...|   34|\n",
      "|pq_crp_pac_other/...|  127|\n",
      "|pq_crp_indivs/cmteid|    8|\n",
      "|pq_crp_pac_other/...|    3|\n",
      "|   pq_crp_pacs/pacid|    2|\n",
      "| pq_crp_cmtes/cmteid|53312|\n",
      "+--------------------+-----+\n",
      "\n"
     ]
    }
   ],
   "source": [
    "distinctPacs.groupBy('src_table').count().show()"
   ]
  },
  {
   "cell_type": "code",
   "execution_count": 41,
   "metadata": {},
   "outputs": [],
   "source": [
    "pacOtherOrphans = distinctPacs.filter(F.substring(F.col('src_table'), 0, 16) == 'pq_crp_pac_other').toPandas()"
   ]
  },
  {
   "cell_type": "code",
   "execution_count": 45,
   "metadata": {},
   "outputs": [
    {
     "data": {
      "text/html": [
       "<div>\n",
       "<style scoped>\n",
       "    .dataframe tbody tr th:only-of-type {\n",
       "        vertical-align: middle;\n",
       "    }\n",
       "\n",
       "    .dataframe tbody tr th {\n",
       "        vertical-align: top;\n",
       "    }\n",
       "\n",
       "    .dataframe thead th {\n",
       "        text-align: right;\n",
       "    }\n",
       "</style>\n",
       "<table border=\"1\" class=\"dataframe\">\n",
       "  <thead>\n",
       "    <tr style=\"text-align: right;\">\n",
       "      <th></th>\n",
       "      <th>entity_id</th>\n",
       "      <th>entity_type</th>\n",
       "      <th>src_table</th>\n",
       "    </tr>\n",
       "  </thead>\n",
       "  <tbody>\n",
       "    <tr>\n",
       "      <th>0</th>\n",
       "      <td>C00450500</td>\n",
       "      <td>cand</td>\n",
       "      <td>pq_crp_pac_other/otherid</td>\n",
       "    </tr>\n",
       "    <tr>\n",
       "      <th>1</th>\n",
       "      <td>C0034</td>\n",
       "      <td>cand</td>\n",
       "      <td>pq_crp_pac_other/otherid</td>\n",
       "    </tr>\n",
       "    <tr>\n",
       "      <th>2</th>\n",
       "      <td>C00630673</td>\n",
       "      <td>cand</td>\n",
       "      <td>pq_crp_pac_other/otherid</td>\n",
       "    </tr>\n",
       "    <tr>\n",
       "      <th>3</th>\n",
       "      <td>C00584131</td>\n",
       "      <td>cand</td>\n",
       "      <td>pq_crp_pac_other/otherid</td>\n",
       "    </tr>\n",
       "    <tr>\n",
       "      <th>4</th>\n",
       "      <td>C00093005</td>\n",
       "      <td>cand</td>\n",
       "      <td>pq_crp_pac_other/otherid</td>\n",
       "    </tr>\n",
       "  </tbody>\n",
       "</table>\n",
       "</div>"
      ],
      "text/plain": [
       "   entity_id entity_type                 src_table\n",
       "0  C00450500        cand  pq_crp_pac_other/otherid\n",
       "1      C0034        cand  pq_crp_pac_other/otherid\n",
       "2  C00630673        cand  pq_crp_pac_other/otherid\n",
       "3  C00584131        cand  pq_crp_pac_other/otherid\n",
       "4  C00093005        cand  pq_crp_pac_other/otherid"
      ]
     },
     "execution_count": 45,
     "metadata": {},
     "output_type": "execute_result"
    }
   ],
   "source": [
    "pacOtherOrphans.query('src_table == \"pq_crp_pac_other/otherid\"').head(5)"
   ]
  },
  {
   "cell_type": "markdown",
   "metadata": {},
   "source": [
    "So there are a lot of ways for the distinct PACs to be broken - even of those with valid 8-digit PAC codes starting with 'C' (i.e. `C12345678`) many are not contained in the `pq_crp_cmtes` table."
   ]
  },
  {
   "cell_type": "markdown",
   "metadata": {},
   "source": [
    "# Now do corporations and individuals (without a standardized ID)"
   ]
  },
  {
   "cell_type": "markdown",
   "metadata": {},
   "source": [
    "## Start with `pq_crp_expends`"
   ]
  },
  {
   "cell_type": "code",
   "execution_count": 50,
   "metadata": {},
   "outputs": [
    {
     "data": {
      "text/plain": [
       "rec.array([( 0, 'Cycle', 'string', 'Last year (even) of a federal 2-yr election cycle, orig-dtype=Text (4), source=CRP'),\n",
       "           ( 1, 'ID', 'int', 'An auto ID added when dbo_Expenditures is made- acts as a unique identifier. This field cannot be used to match records from one download to the next., orig-dtype=Integer, source=CRP'),\n",
       "           ( 2, 'TransID', 'string', 'A unique record identifier within a given cycle., orig-dtype=Text (20), source=FEC'),\n",
       "           ( 3, 'CRPFilerid', 'string', 'ID of the filing committee, same as Filerid unless it is a candidate committee, in which case it will be the candidates unique id. (Note that a candidate can have more than one committee - this field indicates the exact committee receiving the contribution), orig-dtype=Text (9), source=CRP'),\n",
       "           ( 4, 'Recipcode', 'string', 'A two character code defining the type of recipient. For candidates, the first character is party (D for Democratic, R for Republican, 3 for Independent, Libertarian or third party, U for Unknown.) The second character is W for Winner, L for Loser, I for incumbent, C for Challenger, O for Open Seat, and N for Non-incumbent. N is reserved for candidates that are neither in office nor running during the cycle in question. For party committees, the first character is party and the second character is P. For PACs, the first character is P and for outside spending groups, the first character is O. For both, the second character is B for Business, L for Labor, I for Ideological, O for Other and U for unknown., orig-dtype=Text (2), source=CRP'),\n",
       "           ( 5, 'Pacshort', 'string', 'The standardized name of the filing committee, orig-dtype=Text (50), source=CRP'),\n",
       "           ( 6, 'CRPRecipname', 'string', 'The recipient of the disbursement. This field is standardized when possible, orig-dtype=Text (90), source=CRP'),\n",
       "           ( 7, 'Expcode', 'string', 'The expenditure code assigned by the researcher., orig-dtype=Text (3), source=CRP'),\n",
       "           ( 8, 'Amount', 'double', 'The amount spent. This will be negative for refunds., orig-dtype=Float, source=FEC'),\n",
       "           ( 9, 'Date', 'date', 'The reported date of the expenditure, orig-dtype=mm/dd/yyyy, source=FEC'),\n",
       "           (10, 'City', 'string', 'City of the recipient, orig-dtype=Text (30), source=FEC'),\n",
       "           (11, 'State', 'string', 'State of the recipient, orig-dtype=Text (2), source=FEC'),\n",
       "           (12, 'Zip', 'string', 'Zip of the recipient, orig-dtype=Text (5), source=FEC'),\n",
       "           (13, 'CmteID_EF', 'string', 'Alternate committee ID, orig-dtype=Text (9), source=FEC'),\n",
       "           (14, 'Candid', 'string', 'candidate id, orig-dtype=Text (9), source=FEC'),\n",
       "           (15, 'Type', 'string', 'The transaction type code for the contribution. 15 is a contribution, 15e is an earmarked contribution (made through a group such as Club for Growth or Emilys List), 15j is a contribution through a joint fund raising committee and 22y is a refund. 10 indicates soft or nonfederal money for the 2002 cycle and earlier. For the 2004 cycle and later type 10 indicates Levin funds. Mostly empty, orig-dtype=Text (3), source=FEC'),\n",
       "           (16, 'Descrip', 'string', 'Description of the expenditure, orig-dtype=Text (100), source=FEC'),\n",
       "           (17, 'PG', 'string', 'Indicates whether expenditure is for the primary or general election, plus the year. Can also be S for special elections, R for runoff or O for other. Not always filled in, orig-dtype=Text (5), source=FEC'),\n",
       "           (18, 'ElecOther', 'string', 'Explanation if there is anything other than P or G in previous field, orig-dtype=Text (20), source=FEC'),\n",
       "           (19, 'EntType', 'string', 'A filer-provided code for classifying the recipient. CCM = Candidate Cmte, PTY = Party Cmte, ORG & IND. Since these are applied differently across filing committees, these codes can be helpful in coding but are not reliable, orig-dtype=Text (3), source=FEC'),\n",
       "           (20, 'Source', 'string', 'The source researcher used to assign a certain code to a disbursement. A list can be found in the Expenditures methodology, orig-dtype=Text (5), source=CRP')],\n",
       "          dtype=[('index', '<i8'), ('col_name', 'O'), ('data_type', 'O'), ('comment', 'O')])"
      ]
     },
     "execution_count": 50,
     "metadata": {},
     "output_type": "execute_result"
    }
   ],
   "source": [
    "sc.sql('describe pq_crp_expends').toPandas().to_records()"
   ]
  },
  {
   "cell_type": "code",
   "execution_count": 57,
   "metadata": {},
   "outputs": [],
   "source": [
    "pd.options.display.max_columns = 500"
   ]
  },
  {
   "cell_type": "code",
   "execution_count": 58,
   "metadata": {},
   "outputs": [
    {
     "data": {
      "text/html": [
       "<div>\n",
       "<style scoped>\n",
       "    .dataframe tbody tr th:only-of-type {\n",
       "        vertical-align: middle;\n",
       "    }\n",
       "\n",
       "    .dataframe tbody tr th {\n",
       "        vertical-align: top;\n",
       "    }\n",
       "\n",
       "    .dataframe thead th {\n",
       "        text-align: right;\n",
       "    }\n",
       "</style>\n",
       "<table border=\"1\" class=\"dataframe\">\n",
       "  <thead>\n",
       "    <tr style=\"text-align: right;\">\n",
       "      <th></th>\n",
       "      <th>Cycle</th>\n",
       "      <th>ID</th>\n",
       "      <th>TransID</th>\n",
       "      <th>CRPFilerid</th>\n",
       "      <th>Recipcode</th>\n",
       "      <th>Pacshort</th>\n",
       "      <th>CRPRecipname</th>\n",
       "      <th>Expcode</th>\n",
       "      <th>Amount</th>\n",
       "      <th>Date</th>\n",
       "      <th>City</th>\n",
       "      <th>State</th>\n",
       "      <th>Zip</th>\n",
       "      <th>CmteID_EF</th>\n",
       "      <th>Candid</th>\n",
       "      <th>Type</th>\n",
       "      <th>Descrip</th>\n",
       "      <th>PG</th>\n",
       "      <th>ElecOther</th>\n",
       "      <th>EntType</th>\n",
       "      <th>Source</th>\n",
       "    </tr>\n",
       "  </thead>\n",
       "  <tbody>\n",
       "    <tr>\n",
       "      <th>0</th>\n",
       "      <td>2000</td>\n",
       "      <td>42412</td>\n",
       "      <td>990310-005-38</td>\n",
       "      <td>N00009898</td>\n",
       "      <td>RL</td>\n",
       "      <td>Quayle 2000</td>\n",
       "      <td>Broadbent George P. Mr.</td>\n",
       "      <td></td>\n",
       "      <td>-1000.0</td>\n",
       "      <td>1999-05-04</td>\n",
       "      <td>Indianapolis</td>\n",
       "      <td>IN</td>\n",
       "      <td>46240</td>\n",
       "      <td></td>\n",
       "      <td></td>\n",
       "      <td>15</td>\n",
       "      <td></td>\n",
       "      <td>P</td>\n",
       "      <td></td>\n",
       "      <td>COM</td>\n",
       "      <td></td>\n",
       "    </tr>\n",
       "    <tr>\n",
       "      <th>1</th>\n",
       "      <td>2000</td>\n",
       "      <td>42413</td>\n",
       "      <td>990428-002-23</td>\n",
       "      <td>N00009898</td>\n",
       "      <td>RL</td>\n",
       "      <td>Quayle 2000</td>\n",
       "      <td>Dutton Harold H. Mr.</td>\n",
       "      <td></td>\n",
       "      <td>-120.0</td>\n",
       "      <td>1999-06-23</td>\n",
       "      <td>Bethesda</td>\n",
       "      <td>MD</td>\n",
       "      <td>20817</td>\n",
       "      <td></td>\n",
       "      <td></td>\n",
       "      <td>15</td>\n",
       "      <td></td>\n",
       "      <td>P</td>\n",
       "      <td></td>\n",
       "      <td>COM</td>\n",
       "      <td></td>\n",
       "    </tr>\n",
       "    <tr>\n",
       "      <th>2</th>\n",
       "      <td>2000</td>\n",
       "      <td>42414</td>\n",
       "      <td>990525-034-24</td>\n",
       "      <td>N00009898</td>\n",
       "      <td>RL</td>\n",
       "      <td>Quayle 2000</td>\n",
       "      <td>Dutton Harold H. Mr.</td>\n",
       "      <td></td>\n",
       "      <td>-112.0</td>\n",
       "      <td>1999-06-23</td>\n",
       "      <td>Bethesda</td>\n",
       "      <td>MD</td>\n",
       "      <td>20817</td>\n",
       "      <td></td>\n",
       "      <td></td>\n",
       "      <td>15</td>\n",
       "      <td></td>\n",
       "      <td>P</td>\n",
       "      <td></td>\n",
       "      <td>COM</td>\n",
       "      <td></td>\n",
       "    </tr>\n",
       "    <tr>\n",
       "      <th>3</th>\n",
       "      <td>2000</td>\n",
       "      <td>42415</td>\n",
       "      <td>990525-007-37</td>\n",
       "      <td>N00009898</td>\n",
       "      <td>RL</td>\n",
       "      <td>Quayle 2000</td>\n",
       "      <td>Frye Robert S. Mr.</td>\n",
       "      <td></td>\n",
       "      <td>-150.0</td>\n",
       "      <td>1999-06-21</td>\n",
       "      <td>Tecumseh</td>\n",
       "      <td>MI</td>\n",
       "      <td>49286</td>\n",
       "      <td></td>\n",
       "      <td></td>\n",
       "      <td>15</td>\n",
       "      <td></td>\n",
       "      <td>P</td>\n",
       "      <td></td>\n",
       "      <td>COM</td>\n",
       "      <td></td>\n",
       "    </tr>\n",
       "    <tr>\n",
       "      <th>4</th>\n",
       "      <td>2000</td>\n",
       "      <td>42416</td>\n",
       "      <td>990528-004-38</td>\n",
       "      <td>N00009898</td>\n",
       "      <td>RL</td>\n",
       "      <td>Quayle 2000</td>\n",
       "      <td>Frye Robert S. Mr.</td>\n",
       "      <td></td>\n",
       "      <td>-100.0</td>\n",
       "      <td>1999-06-21</td>\n",
       "      <td>Tecumseh</td>\n",
       "      <td>MI</td>\n",
       "      <td>49286</td>\n",
       "      <td></td>\n",
       "      <td></td>\n",
       "      <td>15</td>\n",
       "      <td></td>\n",
       "      <td>P</td>\n",
       "      <td></td>\n",
       "      <td>COM</td>\n",
       "      <td></td>\n",
       "    </tr>\n",
       "    <tr>\n",
       "      <th>5</th>\n",
       "      <td>2000</td>\n",
       "      <td>42417</td>\n",
       "      <td>990608-011-37</td>\n",
       "      <td>N00009898</td>\n",
       "      <td>RL</td>\n",
       "      <td>Quayle 2000</td>\n",
       "      <td>Frye Robert S. Mr.</td>\n",
       "      <td></td>\n",
       "      <td>-125.0</td>\n",
       "      <td>1999-06-21</td>\n",
       "      <td>Tecumseh</td>\n",
       "      <td>MI</td>\n",
       "      <td>49286</td>\n",
       "      <td></td>\n",
       "      <td></td>\n",
       "      <td>15</td>\n",
       "      <td></td>\n",
       "      <td>P</td>\n",
       "      <td></td>\n",
       "      <td>COM</td>\n",
       "      <td></td>\n",
       "    </tr>\n",
       "    <tr>\n",
       "      <th>6</th>\n",
       "      <td>2000</td>\n",
       "      <td>42418</td>\n",
       "      <td>990603-004-27</td>\n",
       "      <td>N00009898</td>\n",
       "      <td>RL</td>\n",
       "      <td>Quayle 2000</td>\n",
       "      <td>Genuario Louis V. Mr.</td>\n",
       "      <td></td>\n",
       "      <td>-1000.0</td>\n",
       "      <td>1999-06-15</td>\n",
       "      <td>Alexandria</td>\n",
       "      <td>VA</td>\n",
       "      <td>22308</td>\n",
       "      <td></td>\n",
       "      <td></td>\n",
       "      <td>15</td>\n",
       "      <td></td>\n",
       "      <td>P</td>\n",
       "      <td></td>\n",
       "      <td>COM</td>\n",
       "      <td></td>\n",
       "    </tr>\n",
       "    <tr>\n",
       "      <th>7</th>\n",
       "      <td>2000</td>\n",
       "      <td>42419</td>\n",
       "      <td>990310-004-37</td>\n",
       "      <td>N00009898</td>\n",
       "      <td>RL</td>\n",
       "      <td>Quayle 2000</td>\n",
       "      <td>Hofmeister Gary A. Mr.</td>\n",
       "      <td></td>\n",
       "      <td>-100.0</td>\n",
       "      <td>1999-05-04</td>\n",
       "      <td>Indianapolis</td>\n",
       "      <td>IN</td>\n",
       "      <td>46240</td>\n",
       "      <td></td>\n",
       "      <td></td>\n",
       "      <td>15</td>\n",
       "      <td></td>\n",
       "      <td>P</td>\n",
       "      <td></td>\n",
       "      <td>COM</td>\n",
       "      <td></td>\n",
       "    </tr>\n",
       "    <tr>\n",
       "      <th>8</th>\n",
       "      <td>2000</td>\n",
       "      <td>42420</td>\n",
       "      <td>990615-014-35</td>\n",
       "      <td>N00009898</td>\n",
       "      <td>RL</td>\n",
       "      <td>Quayle 2000</td>\n",
       "      <td>McElroy Roberta P. Ms.</td>\n",
       "      <td></td>\n",
       "      <td>-100.0</td>\n",
       "      <td>1999-06-28</td>\n",
       "      <td>Pittsburgh</td>\n",
       "      <td>PA</td>\n",
       "      <td>15214</td>\n",
       "      <td></td>\n",
       "      <td></td>\n",
       "      <td>15</td>\n",
       "      <td></td>\n",
       "      <td>P</td>\n",
       "      <td></td>\n",
       "      <td>COM</td>\n",
       "      <td></td>\n",
       "    </tr>\n",
       "    <tr>\n",
       "      <th>9</th>\n",
       "      <td>2000</td>\n",
       "      <td>42421</td>\n",
       "      <td>990617-004-38</td>\n",
       "      <td>N00009898</td>\n",
       "      <td>RL</td>\n",
       "      <td>Quayle 2000</td>\n",
       "      <td>Pardini Peter Mr.</td>\n",
       "      <td></td>\n",
       "      <td>-50.0</td>\n",
       "      <td>1999-06-23</td>\n",
       "      <td>Daly City</td>\n",
       "      <td>CA</td>\n",
       "      <td>94014</td>\n",
       "      <td></td>\n",
       "      <td></td>\n",
       "      <td>15</td>\n",
       "      <td></td>\n",
       "      <td>P</td>\n",
       "      <td></td>\n",
       "      <td>COM</td>\n",
       "      <td></td>\n",
       "    </tr>\n",
       "  </tbody>\n",
       "</table>\n",
       "</div>"
      ],
      "text/plain": [
       "  Cycle     ID        TransID CRPFilerid Recipcode     Pacshort  \\\n",
       "0  2000  42412  990310-005-38  N00009898        RL  Quayle 2000   \n",
       "1  2000  42413  990428-002-23  N00009898        RL  Quayle 2000   \n",
       "2  2000  42414  990525-034-24  N00009898        RL  Quayle 2000   \n",
       "3  2000  42415  990525-007-37  N00009898        RL  Quayle 2000   \n",
       "4  2000  42416  990528-004-38  N00009898        RL  Quayle 2000   \n",
       "5  2000  42417  990608-011-37  N00009898        RL  Quayle 2000   \n",
       "6  2000  42418  990603-004-27  N00009898        RL  Quayle 2000   \n",
       "7  2000  42419  990310-004-37  N00009898        RL  Quayle 2000   \n",
       "8  2000  42420  990615-014-35  N00009898        RL  Quayle 2000   \n",
       "9  2000  42421  990617-004-38  N00009898        RL  Quayle 2000   \n",
       "\n",
       "              CRPRecipname Expcode  Amount        Date          City State  \\\n",
       "0  Broadbent George P. Mr.         -1000.0  1999-05-04  Indianapolis    IN   \n",
       "1     Dutton Harold H. Mr.          -120.0  1999-06-23      Bethesda    MD   \n",
       "2     Dutton Harold H. Mr.          -112.0  1999-06-23      Bethesda    MD   \n",
       "3       Frye Robert S. Mr.          -150.0  1999-06-21      Tecumseh    MI   \n",
       "4       Frye Robert S. Mr.          -100.0  1999-06-21      Tecumseh    MI   \n",
       "5       Frye Robert S. Mr.          -125.0  1999-06-21      Tecumseh    MI   \n",
       "6    Genuario Louis V. Mr.         -1000.0  1999-06-15    Alexandria    VA   \n",
       "7   Hofmeister Gary A. Mr.          -100.0  1999-05-04  Indianapolis    IN   \n",
       "8   McElroy Roberta P. Ms.          -100.0  1999-06-28    Pittsburgh    PA   \n",
       "9        Pardini Peter Mr.           -50.0  1999-06-23     Daly City    CA   \n",
       "\n",
       "         Zip  CmteID_EF Candid Type Descrip     PG ElecOther EntType Source  \n",
       "0  46240                         15          P                   COM         \n",
       "1  20817                         15          P                   COM         \n",
       "2  20817                         15          P                   COM         \n",
       "3  49286                         15          P                   COM         \n",
       "4  49286                         15          P                   COM         \n",
       "5  49286                         15          P                   COM         \n",
       "6  22308                         15          P                   COM         \n",
       "7  46240                         15          P                   COM         \n",
       "8  15214                         15          P                   COM         \n",
       "9  94014                         15          P                   COM         "
      ]
     },
     "execution_count": 58,
     "metadata": {},
     "output_type": "execute_result"
    }
   ],
   "source": [
    "sc.sql(f\"\"\"\n",
    "select * from pq_crp_expends where `type`='15'\n",
    "\"\"\").limit(10).toPandas()"
   ]
  },
  {
   "cell_type": "code",
   "execution_count": 74,
   "metadata": {},
   "outputs": [
    {
     "name": "stdout",
     "output_type": "stream",
     "text": [
      "\n",
      "SELECT DISTINCT(crprecipname) AS entity_id,\n",
      "  'other' AS entity_type,\n",
      "  'pq_crp_expends/crprecipname' AS src_table\n",
      "FROM pq_crp_expends\n",
      "\n"
     ]
    }
   ],
   "source": [
    "crprecips = get_ids('pq_crp_expends', 'crprecipname', 'other').withColumn('pacshort', F.col('entity_id'))\\\n",
    "                                                              .join(sc.sql('select cmteid, pacshort from pq_crp_cmtes'),\n",
    "                                                                    'pacshort',\n",
    "                                                                    'left_anti')\\\n",
    "                                                              .drop('pacshort')"
   ]
  },
  {
   "cell_type": "code",
   "execution_count": 75,
   "metadata": {},
   "outputs": [
    {
     "name": "stdout",
     "output_type": "stream",
     "text": [
      "+--------------------+-----------+--------------------+\n",
      "|           entity_id|entity_type|           src_table|\n",
      "+--------------------+-----------+--------------------+\n",
      "|      Amoco of Fargo|      other|pq_crp_expends/cr...|\n",
      "|Road King Inn of ...|      other|pq_crp_expends/cr...|\n",
      "|      Koromilas Alec|      other|pq_crp_expends/cr...|\n",
      "|            West End|      other|pq_crp_expends/cr...|\n",
      "|       Sandy Proteau|      other|pq_crp_expends/cr...|\n",
      "|             Walmart|      other|pq_crp_expends/cr...|\n",
      "|   Sharpe Allison L.|      other|pq_crp_expends/cr...|\n",
      "|          Dan Alpren|      other|pq_crp_expends/cr...|\n",
      "|Gadi Nevo Ben-Yehuda|      other|pq_crp_expends/cr...|\n",
      "|Hilton-Newark Gat...|      other|pq_crp_expends/cr...|\n",
      "+--------------------+-----------+--------------------+\n",
      "\n"
     ]
    }
   ],
   "source": [
    "crprecips.limit(10).show()"
   ]
  },
  {
   "cell_type": "markdown",
   "metadata": {},
   "source": [
    "## `pq_crp_contribid`"
   ]
  },
  {
   "cell_type": "markdown",
   "metadata": {},
   "source": [
    "Null vs. not null values in `indivs.contribid`:"
   ]
  },
  {
   "cell_type": "markdown",
   "metadata": {},
   "source": [
    "```\n",
    "select sum(if(or(isnull(contribid),\n",
    "                 length(trim(contribid)) = 0),\n",
    "              1, 0)\n",
    "           ) as total_null_rows,\n",
    "  count(*) as total_rows\n",
    "from pq_crp_indivs;\n",
    "```"
   ]
  },
  {
   "cell_type": "markdown",
   "metadata": {},
   "source": [
    "> ```\n",
    "+------------------+-------------+--+\n",
    "| total_null_rows  | total_rows  |\n",
    "+------------------+-------------+--+\n",
    "| 415461           | 56531200    |\n",
    "+------------------+-------------+--+\n",
    "```"
   ]
  },
  {
   "cell_type": "markdown",
   "metadata": {},
   "source": [
    "```\n",
    "select sum(amount) from pq_crp_indivs where isnull(contribid) or length(trim(contribid)) = 0;\n",
    "```"
   ]
  },
  {
   "cell_type": "markdown",
   "metadata": {},
   "source": [
    "> ```\n",
    "+--------------+--+\n",
    "| sum(amount)  |\n",
    "+--------------+--+\n",
    "| 3039162144   |\n",
    "+--------------+--+\n",
    "```"
   ]
  },
  {
   "cell_type": "markdown",
   "metadata": {},
   "source": [
    "```\n",
    "select sum(amount) from pq_crp_indivs where contribid is not null and length(trim(contribid)) != 0;\n",
    "```"
   ]
  },
  {
   "cell_type": "markdown",
   "metadata": {},
   "source": [
    "> ```\n",
    "+--------------+--+\n",
    "| sum(amount)  |\n",
    "+--------------+--+\n",
    "| 29651883975  |\n",
    "+--------------+--+\n",
    "```"
   ]
  },
  {
   "cell_type": "code",
   "execution_count": 48,
   "metadata": {},
   "outputs": [
    {
     "data": {
      "text/plain": [
       "0.00729561650682206"
      ]
     },
     "execution_count": 48,
     "metadata": {},
     "output_type": "execute_result"
    }
   ],
   "source": [
    "415461 / (415461 + 56531200)"
   ]
  },
  {
   "cell_type": "code",
   "execution_count": 49,
   "metadata": {},
   "outputs": [
    {
     "data": {
      "text/plain": [
       "0.09296619425811652"
      ]
     },
     "execution_count": 49,
     "metadata": {},
     "output_type": "execute_result"
    }
   ],
   "source": [
    "3039162144 / (3039162144 + 29651883975)"
   ]
  },
  {
   "cell_type": "markdown",
   "metadata": {},
   "source": [
    "So 0.7% of all rows in `pq_crp_indivs` table have no unique ID associated to them, representing 9.3% of all spending from this table."
   ]
  },
  {
   "cell_type": "code",
   "execution_count": 83,
   "metadata": {},
   "outputs": [
    {
     "name": "stdout",
     "output_type": "stream",
     "text": [
      "+------------+------+----------+\n",
      "|  contribid2|num_tx|     total|\n",
      "+------------+------+----------+\n",
      "|        null|452301|3430051966|\n",
      "|U00000036521|   578| 200465427|\n",
      "|U0000003216A|   590| 107372808|\n",
      "|U00000003101|   561| 102643106|\n",
      "|U0000000310A|   439|  82516918|\n",
      "|U0000003235 |   810|  78153728|\n",
      "|a0000174632 |   219|  70728398|\n",
      "|U0000004604 |  1491|  69409891|\n",
      "|U00000037041|   400|  67303317|\n",
      "|U00000036901|  1176|  55063388|\n",
      "+------------+------+----------+\n",
      "\n"
     ]
    }
   ],
   "source": [
    "sc.sql(f\"\"\"\n",
    "select \n",
    "  if(or(or(isnull(contribid), length(trim(contribid)) = 0), trim(contribid) = '1'), NULL, contribid) AS contribid2,\n",
    "  count(*) AS num_tx,\n",
    "  sum(amount) as total\n",
    "from pq_crp_indivs\n",
    "group by contribid2\n",
    "order by total desc\n",
    "\"\"\").limit(10).show()"
   ]
  },
  {
   "cell_type": "code",
   "execution_count": 80,
   "metadata": {},
   "outputs": [
    {
     "name": "stdout",
     "output_type": "stream",
     "text": [
      "+-----+-------------------+------------+--------------------+---------+--------------------+------+--------+----------+------+------+---------+-----+-----+---------+----+---------+---------+------+------------------+----------+--------+------+\n",
      "|Cycle|         FECTransID|   ContribID|             Contrib|  RecipID|             Orgname|UltOrg|RealCode|      Date|Amount|Street|     City|State|  Zip|RecipCode|Type|   CmteID|  OtherID|Gender|         Microfilm|Occupation|Employer|Source|\n",
      "+-----+-------------------+------------+--------------------+---------+--------------------+------+--------+----------+------+------+---------+-----+-----+---------+----+---------+---------+------+------------------+----------+--------+------+\n",
      "| 2000|3061920110007388953|           1|        HARRY BROWNE|N00000011|[Candidate Contri...|      |   Z9000|2000-06-27| 10000|      | FRANKLIN|   TN|37069|       3L| 15C|C00357582|P60003043|      |20990168495       |          |        | Rept |\n",
      "| 2000|3061920110007388954|           1|        HARRY BROWNE|N00000011|[Candidate Contri...|      |   Z9000|2000-02-04|  5000|      | FRANKLIN|   TN|37069|       3L| 15C|C00357582|P60003043|      |20990168495       |          |        | Rept |\n",
      "| 2000|3061920110007388955|           1|        HARRY BROWNE|N00000011|[Candidate Contri...|      |   Z9000|2000-03-19|  3500|      | FRANKLIN|   TN|37069|       3L| 15C|C00357582|P60003043|      |20990168495       |          |        | Rept |\n",
      "| 2000|3061920110007388956|           1|        HARRY BROWNE|N00000011|[Candidate Contri...|      |   Z9000|2000-05-27| 10000|      | FRANKLIN|   TN|37069|       3L| 15C|C00357582|P60003043|      |20990168495       |          |        | Rept |\n",
      "| 2000|3061920110007388957|           1|        HARRY BROWNE|N00000011|[Candidate Contri...|      |   Z9000|2000-06-06| 10000|      | FRANKLIN|   TN|37069|       3L| 15C|C00357582|P60003043|      |20990168495       |          |        | Rept |\n",
      "| 2000|3061920110007388958|           1|        HARRY BROWNE|N00000011|[Candidate Contri...|      |   Z9000|2000-06-20|  7500|      | FRANKLIN|   TN|37069|       3L| 15C|C00357582|P60003043|      |20990168495       |          |        | Rept |\n",
      "| 2000|3061920110007388959|           1|        HARRY BROWNE|N00000011|[Candidate Contri...|      |   Z9000|2000-06-20| 10000|      | FRANKLIN|   TN|37069|       3L| 15C|C00357582|P60003043|      |20990168495       |          |        | Rept |\n",
      "| 2000|3061920110007391164|           1|   FRIENDLY SOFTWARE|C60000205|   Friendly Software|      |   C5120|2000-05-05|   500|      |  WANTAGH|   NY|11793|       RP| 10 |C60000205|         |      |20035793371       |          |        | Name |\n",
      "| 2000|3061920110007391165|           1|   FRITTS BERRY FARM|C60000205|   Fritts Berry Farm|      |   A1000|2000-05-15|   300|      |  DEMOTTE|   IN|46310|       RP| 10 |C60000205|         |      |20035793371       |          |        | Name |\n",
      "| 2000|3061920110007391166|           1|FRONTIER TITLE CO...|C60000205|   Frontier Title Co|      |   F4300|2000-05-24|   300|      |FAIRFIELD|   CA|94533|       RP| 10 |C60000205|         |      |20035793371       |          |        | Name |\n",
      "+-----+-------------------+------------+--------------------+---------+--------------------+------+--------+----------+------+------+---------+-----+-----+---------+----+---------+---------+------+------------------+----------+--------+------+\n",
      "\n"
     ]
    }
   ],
   "source": [
    "sc.sql(\"select * from pq_crp_indivs where contribid LIKE '% 1' OR contribid = ' 1' OR contribid = '1' limit 10\").show()"
   ]
  },
  {
   "cell_type": "code",
   "execution_count": 84,
   "metadata": {},
   "outputs": [
    {
     "name": "stdout",
     "output_type": "stream",
     "text": [
      "+-------+--------------------+--------+--------------------+---------+----------+\n",
      "|Catcode|             Catname|Catorder|            Industry|   Sector|SectorLong|\n",
      "+-------+--------------------+--------+--------------------+---------+----------+\n",
      "|  Z9000|Candidate contrib...|     Z07|Candidate Self-fi...|Candidate| Candidate|\n",
      "+-------+--------------------+--------+--------------------+---------+----------+\n",
      "\n"
     ]
    }
   ],
   "source": [
    "sc.sql(\"\"\"\n",
    "SELECT * FROM pq_crp_industry_names WHERE catcode = 'Z9000'\n",
    "\"\"\").show()"
   ]
  },
  {
   "cell_type": "code",
   "execution_count": 96,
   "metadata": {},
   "outputs": [
    {
     "name": "stdout",
     "output_type": "stream",
     "text": [
      "\n",
      "SELECT DISTINCT(contribid) AS entity_id,\n",
      "  'other' AS entity_type,\n",
      "  'pq_crp_indivs/contribid' AS src_table\n",
      "FROM pq_crp_indivs\n",
      "\n"
     ]
    }
   ],
   "source": [
    "crpindivs = get_ids('pq_crp_indivs', 'contribid', 'other').na.drop()\\\n",
    "                                                          .filter(F.length(F.trim(F.col('entity_id'))) > 0)\\\n",
    "                                                          .filter(F.trim(F.col('entity_id')) != '1')"
   ]
  },
  {
   "cell_type": "code",
   "execution_count": 97,
   "metadata": {},
   "outputs": [
    {
     "data": {
      "text/plain": [
       "10047685"
      ]
     },
     "execution_count": 97,
     "metadata": {},
     "output_type": "execute_result"
    }
   ],
   "source": [
    "crpindivs.count()"
   ]
  },
  {
   "cell_type": "code",
   "execution_count": 87,
   "metadata": {},
   "outputs": [
    {
     "name": "stdout",
     "output_type": "stream",
     "text": [
      "+------------+-----------+--------------------+\n",
      "|   entity_id|entity_type|           src_table|\n",
      "+------------+-----------+--------------------+\n",
      "|a0000807085 |      other|pq_crp_indivs/con...|\n",
      "|a0000979770 |      other|pq_crp_indivs/con...|\n",
      "|a0000363265 |      other|pq_crp_indivs/con...|\n",
      "|a00002936451|      other|pq_crp_indivs/con...|\n",
      "|a0000093633A|      other|pq_crp_indivs/con...|\n",
      "|a0000852208 |      other|pq_crp_indivs/con...|\n",
      "|a0001716974 |      other|pq_crp_indivs/con...|\n",
      "|a00000967811|      other|pq_crp_indivs/con...|\n",
      "|b0608437548 |      other|pq_crp_indivs/con...|\n",
      "|a0001160556 |      other|pq_crp_indivs/con...|\n",
      "+------------+-----------+--------------------+\n",
      "only showing top 10 rows\n",
      "\n"
     ]
    }
   ],
   "source": [
    "crpindivs.show(10)"
   ]
  },
  {
   "cell_type": "code",
   "execution_count": 98,
   "metadata": {},
   "outputs": [],
   "source": [
    "distinctOthers = crprecips.unionAll(crpindivs)"
   ]
  },
  {
   "cell_type": "code",
   "execution_count": 99,
   "metadata": {},
   "outputs": [
    {
     "data": {
      "text/plain": [
       "11718180"
      ]
     },
     "execution_count": 99,
     "metadata": {},
     "output_type": "execute_result"
    }
   ],
   "source": [
    "distinctOthers.count()"
   ]
  },
  {
   "cell_type": "markdown",
   "metadata": {},
   "source": [
    "## todo"
   ]
  },
  {
   "cell_type": "markdown",
   "metadata": {},
   "source": [
    "- put distinct candidates, distinct PACs, and distinct others into a central entities table\n",
    "- create linkages table using data that can be resolved to a transaction between two of the entities in the entities table\n",
    "- convert linkages that amount to an independent expenditure against a candidate by a PAC into a contribution to a competitor using the G/P (general/primary) flag"
   ]
  },
  {
   "cell_type": "code",
   "execution_count": null,
   "metadata": {},
   "outputs": [],
   "source": []
  }
 ],
 "metadata": {
  "kernelspec": {
   "display_name": "Python 3",
   "language": "python",
   "name": "python3"
  },
  "language_info": {
   "codemirror_mode": {
    "name": "ipython",
    "version": 3
   },
   "file_extension": ".py",
   "mimetype": "text/x-python",
   "name": "python",
   "nbconvert_exporter": "python",
   "pygments_lexer": "ipython3",
   "version": "3.7.0"
  }
 },
 "nbformat": 4,
 "nbformat_minor": 2
}
